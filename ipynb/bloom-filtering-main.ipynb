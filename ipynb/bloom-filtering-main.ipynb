{
 "cells": [
  {
   "cell_type": "markdown",
   "metadata": {},
   "source": [
    "# Identify the candidate blooming bacteria\n",
    "\n",
    "The goal of this notebook is to identify candidate bacteria which bloom under shipping conditions. We identified cadnidates in two parts: first, we looked for bacteria which grew at room temperature in storage studies. We also looked at shipped American Gut samples and compared them to fresh frozen fecal samples. We used the combined technique because the storage studies were limited by size, while the comparison between studies is noisy.\n",
    "\n",
    "Briefly, this process will involve the following steps:\n",
    "\n",
    "1. Load the datasets (Mayo and Se-Jin storage studies and AG, PGP, UK-Twins and Whole grain feces)\n",
    "2. Calculate the fold change per sOTU in the storage studies\n",
    "3. Calculate the fold change in AG compared to fresh frozen studies (PGP, UK-Twins and Whole grain feces)\n",
    "4. Identify candidate blooming bacteria by combining the fold changes in 2,3\n",
    "5. Plot the scatter of the fold change per sOTU with highlighting the candidate blooming bacteria\n",
    "6. Plot taxonomy plots before and after bloom filtering\n",
    "\n",
    "Let's start by loading the necessary python functions. "
   ]
  },
  {
   "cell_type": "code",
   "execution_count": 1,
   "metadata": {
    "collapsed": false,
    "scrolled": false
   },
   "outputs": [],
   "source": [
    "# plots inside the notebook\n",
    "%matplotlib notebook\n",
    "\n",
    "# load modules used in the analysis\n",
    "import biom\n",
    "import matplotlib as mpl\n",
    "import matplotlib.pyplot as plt\n",
    "import numpy as np\n",
    "import pandas as pd\n",
    "import seaborn as sn\n",
    "import skbio\n",
    "# heatsequer module is available from:\n",
    "# https://github.com/amnona/heatsequer\n",
    "# import heatsequer as hs\n",
    "\n",
    "# set the random seed\n",
    "np.random.seed(2016)"
   ]
  },
  {
   "cell_type": "markdown",
   "metadata": {},
   "source": [
    "Sets up the display to full width of browser"
   ]
  },
  {
   "cell_type": "code",
   "execution_count": 2,
   "metadata": {
    "collapsed": false
   },
   "outputs": [
    {
     "data": {
      "text/html": [
       "<style>.container { width:100% !important; }</style>"
      ],
      "text/plain": [
       "<IPython.core.display.HTML object>"
      ]
     },
     "metadata": {},
     "output_type": "display_data"
    }
   ],
   "source": [
    "# set display to full width\n",
    "from IPython.core.display import display, HTML\n",
    "display(HTML(\"<style>.container { width:100% !important; }</style>\"))"
   ]
  },
  {
   "cell_type": "markdown",
   "metadata": {},
   "source": [
    "# Loading all experimental data"
   ]
  },
  {
   "cell_type": "markdown",
   "metadata": {},
   "source": [
    "## Song fecal stability study\n",
    "Data from:\n",
    "\n",
    "Song, Se Jin, et al. \"Preservation Methods Differ in Fecal Microbiome Stability, Affecting Suitability for Field Studies.\" mSystems 1.3 (2016): e00021-16.\n",
    "\n",
    "This study compares the stability of human and dog fecal samples under a variety of storage conditions.\n",
    "\n",
    "We will only use samples with no preservative stored at ambient temperature for 7, 14 and 28 days (compared to samples sequenced at day 0)"
   ]
  },
  {
   "cell_type": "code",
   "execution_count": 3,
   "metadata": {
    "collapsed": true
   },
   "outputs": [],
   "source": [
    "# Loads the sub otu table\n",
    "song_sotu = biom.load_table('../data/storage.sejin.clean.withtax.biom')\n",
    "# Loads the mapping file.\n",
    "song_map = pd.read_csv('../data/map.storage.sejin.txt', sep='\\t', dtype=str)\n",
    "song_map.set_index('#SampleID', inplace=True)"
   ]
  },
  {
   "cell_type": "markdown",
   "metadata": {},
   "source": [
    "We will filter this study to retain human samples which have at least 1000 sequences per sample, no perservative, and which were stored at ambient temperature."
   ]
  },
  {
   "cell_type": "code",
   "execution_count": 4,
   "metadata": {
    "collapsed": false
   },
   "outputs": [],
   "source": [
    "# Adds the sequencing depth to the mapping file\n",
    "song_map['seq_depth'] = pd.Series(song_sotu.sum(axis='sample'), index=song_sotu.ids('sample'))\n",
    "song_map['seq_depth'].replace(np.nan, 0, inplace=True)\n",
    "# Defines a function to perform the filtering\n",
    "def song_filter(x):\n",
    "    \"\"\"Identifies correct human samples\"\"\"\n",
    "    return ((x['preservative'] == 'None') and \n",
    "            (x['temperature'] == 'amb') and \n",
    "            (x['species'] == 'human') and \n",
    "            (x['seq_depth'] >= 1000))"
   ]
  },
  {
   "cell_type": "code",
   "execution_count": 5,
   "metadata": {
    "collapsed": false
   },
   "outputs": [],
   "source": [
    "song_map_f = song_map.loc[song_map.apply(song_filter, axis=1)]\n",
    "song_sotu_f = song_sotu.filter(song_map_f.index)"
   ]
  },
  {
   "cell_type": "markdown",
   "metadata": {},
   "source": [
    "The sample is filtered to only include perservative-free samples stored at room temperature. These include samples collected at day 0 and immediately sequenced, which we use as a reference. We will only use samples with at least 1000 sequences."
   ]
  },
  {
   "cell_type": "markdown",
   "metadata": {},
   "source": [
    "## Mayo fecal stability study"
   ]
  },
  {
   "cell_type": "markdown",
   "metadata": {},
   "source": [
    "Data from:\n",
    "\n",
    "Sinha, Rashmi, et al. \"Collecting fecal samples for microbiome analyses in epidemiology studies.\" Cancer Epidemiology Biomarkers & Prevention 25.2 (2016): 407-416.\n",
    "\n",
    "This study compares the effect of different storage conditions on human fecal samples."
   ]
  },
  {
   "cell_type": "code",
   "execution_count": 6,
   "metadata": {
    "collapsed": false
   },
   "outputs": [],
   "source": [
    "mayo_sotu = biom.load_table('../data/mayo.new.min10.clean.withtax.biom')\n",
    "mayo_map = pd.read_csv('../data/map.mayo1.txt', sep='\\t', dtype=str)\n",
    "mayo_map.set_index('#SampleID', inplace=True)"
   ]
  },
  {
   "cell_type": "markdown",
   "metadata": {},
   "source": [
    "We will use only samples stored without a perservative. The samples were stored at room temperature for 1, and 4 days and compared to samples frozen at time 0. Again, we will only use samples with at least 1000 sequences."
   ]
  },
  {
   "cell_type": "code",
   "execution_count": 7,
   "metadata": {
    "collapsed": true
   },
   "outputs": [],
   "source": [
    "mayo_map['seq_depth'] = pd.Series(mayo_sotu.sum(axis='sample'), index=mayo_sotu.ids('sample'))\n",
    "mayo_map['seq_depth'].replace(np.nan, 0, inplace=True)\n",
    "\n",
    "def mayo_filter(x):\n",
    "    return ((x['seq_depth'] >= 1000) and (x['TREATMENT'] == 'No Additive'))"
   ]
  },
  {
   "cell_type": "code",
   "execution_count": 8,
   "metadata": {
    "collapsed": false
   },
   "outputs": [],
   "source": [
    "mayo_map_f = mayo_map.loc[mayo_map.apply(mayo_filter, axis=1)]\n",
    "mayo_sout_f = mayo_sotu.filter(mayo_map_f.index)"
   ]
  },
  {
   "cell_type": "markdown",
   "metadata": {},
   "source": [
    "## American Gut\n",
    "\n",
    "The [American Gut Project](<http://www.americangut.org>) is a cross sectional study. Samples were shipped through local post without perservatives. We will use only fecal samples with at least 1000 sequences per sample."
   ]
  },
  {
   "cell_type": "code",
   "execution_count": 9,
   "metadata": {
    "collapsed": true
   },
   "outputs": [],
   "source": [
    "ag_sotu = biom.load_table('../data/ag-6-2016.clean.min100.withtax.biom')\n",
    "ag_map = pd.read_csv('../data/map.ag-6-2016.txt', sep='\\t', dtype=str)\n",
    "ag_map.set_index(\"#SampleID\", inplace=True)"
   ]
  },
  {
   "cell_type": "markdown",
   "metadata": {},
   "source": [
    "We'll filter samples to keep only fecal samples with at least 1000 reads."
   ]
  },
  {
   "cell_type": "code",
   "execution_count": 10,
   "metadata": {
    "collapsed": true
   },
   "outputs": [],
   "source": [
    "ag_map['seq_depth'] = pd.Series(ag_sotu.sum(axis='sample'), index=ag_sotu.ids('sample'))\n",
    "ag_map['seq_depth'].replace(np.nan, 0, inplace=True)\n",
    "\n",
    "def ag_filter(x):\n",
    "    return (x['seq_depth'] >= 1000) & (x['ENV_MATTER'] == 'ENVO:feces')"
   ]
  },
  {
   "cell_type": "code",
   "execution_count": 11,
   "metadata": {
    "collapsed": false
   },
   "outputs": [],
   "source": [
    "ag_map_f = ag_map.loc[ag_map.apply(ag_filter, axis=1)]\n",
    "ag_sotu_f = ag_sotu.filter(ag_map_f.index)"
   ]
  },
  {
   "cell_type": "markdown",
   "metadata": {},
   "source": [
    "## UK twins study\n",
    "Data from:\n",
    "\n",
    "Goodrich, Julia K., et al. \"Human genetics shape the gut microbiome.\" Cell 159.4 (2014): 789-799.\n",
    "\n",
    "This study contains freshly frozen human fecal samples"
   ]
  },
  {
   "cell_type": "code",
   "execution_count": 12,
   "metadata": {
    "collapsed": true
   },
   "outputs": [],
   "source": [
    "twins_sotu = biom.load_table('../data/twins2.clean.min10.withtax.biom')\n",
    "twins_map = pd.read_csv('../data/map.twins2.txt', sep='\\t', dtype=str)\n",
    "twins_map.set_index('#SampleID', inplace=True)"
   ]
  },
  {
   "cell_type": "markdown",
   "metadata": {},
   "source": [
    "We'll only retain samples with at least 1000 sequences."
   ]
  },
  {
   "cell_type": "code",
   "execution_count": 13,
   "metadata": {
    "collapsed": true
   },
   "outputs": [],
   "source": [
    "twins_map['seq_depth'] = pd.Series(twins_sotu.sum(axis='sample'), index=twins_sotu.ids('sample'))\n",
    "twins_map['seq_depth'].replace(np.nan, 0, inplace=True)\n",
    "\n",
    "twins_map_f = twins_map.loc[twins_map['seq_depth'] >= 1000]\n",
    "twins_sotu_f = twins_sotu.filter(twins_map_f.index)"
   ]
  },
  {
   "cell_type": "raw",
   "metadata": {
    "collapsed": false
   },
   "source": [
    "twins=hs.load('../data/twins2.clean.min10.withtax.biom','../data/map.twins2.txt')\n",
    "\n",
    "# keep only high freq. enough bacteria (since it is a large study, remove the sOTUs with less than 50 reads total to make analysis faster).\n",
    "twinsf=hs.clusterbacteria(twins,50)\n",
    "\n",
    "# keep only samples with >1000 reads\n",
    "twins=hs.filterorigreads(twins,1000)"
   ]
  },
  {
   "cell_type": "markdown",
   "metadata": {},
   "source": [
    "## PGP\n",
    "Data from:\n",
    "\n",
    "(unpublished), Qiita study ID [1189](<https://qiita.ucsd.edu/study/description/1189>)\n",
    "\n",
    "Samples were collected from participants in the Personal Genome Project and fresh frozen."
   ]
  },
  {
   "cell_type": "code",
   "execution_count": 14,
   "metadata": {
    "collapsed": false
   },
   "outputs": [],
   "source": [
    "pgp_sotu = biom.load_table('../data/pgp.baylor.clean.withtax.biom')\n",
    "pgp_map = pd.read_csv('../data/map.pgp.txt', sep='\\t', dtype=str, usecols=['#SampleID', 'body_product'])\n",
    "pgp_map.set_index('#SampleID', inplace=True)"
   ]
  },
  {
   "cell_type": "markdown",
   "metadata": {},
   "source": [
    "Samples were collected from the forehead, hands, tongue and stool of participants; we will use only fecal samples with at least 1000 sequences/sample."
   ]
  },
  {
   "cell_type": "code",
   "execution_count": 15,
   "metadata": {
    "collapsed": true
   },
   "outputs": [],
   "source": [
    "pgp_map['seq_depth'] = pd.Series(pgp_sotu.sum(axis='sample'), index=pgp_sotu.ids('sample'))\n",
    "pgp_map['seq_depth'].replace(np.nan, 0, inplace=True)\n",
    "\n",
    "def pgp_filter(x):\n",
    "    return (x['seq_depth'] > 1000) & (x['body_product'] == 'UBERON:feces')"
   ]
  },
  {
   "cell_type": "code",
   "execution_count": 16,
   "metadata": {
    "collapsed": true
   },
   "outputs": [],
   "source": [
    "pgp_map_f = pgp_map.loc[pgp_map.apply(pgp_filter, axis=1)]\n",
    "pgp_sotu_f = pgp_sotu.filter(pgp_map_f.index)"
   ]
  },
  {
   "cell_type": "markdown",
   "metadata": {},
   "source": [
    "## Ercolini whole grain feces\n",
    "Data from:\n",
    "\n",
    "Vitaglione, Paola, et al. \"Whole-grain wheat consumption reduces inflammation in a randomized controlled trial on overweight and obese subjects with unhealthy dietary and lifestyle behaviors: role of polyphenols bound to cereal dietary fiber.\" The American journal of clinical nutrition 101.2 (2015): 251-261.\n",
    "\n",
    "This study contains fecal samples from 80 healthy overweight/obese subjects, part of which undergoing whole grain wheat dietery intervention."
   ]
  },
  {
   "cell_type": "code",
   "execution_count": 17,
   "metadata": {
    "collapsed": true
   },
   "outputs": [],
   "source": [
    "erc_sotu = biom.load_table('../data/ercolini.feces.clean.withtax.biom')\n",
    "erc_map = pd.read_csv('../data/map.ercolini.txt', sep='\\t', dtype=str)\n",
    "erc_map.set_index('#SampleID', inplace=True)"
   ]
  },
  {
   "cell_type": "markdown",
   "metadata": {},
   "source": [
    "We'll filter the study to include only fecal samples with at least 1000 sequences/sample."
   ]
  },
  {
   "cell_type": "code",
   "execution_count": 18,
   "metadata": {
    "collapsed": false
   },
   "outputs": [],
   "source": [
    "erc_map['seq_depth'] = pd.Series(erc_sotu.sum(axis='sample'), erc_sotu.ids(axis='sample'))\n",
    "erc_map['seq_depth'].replace(np.nan, 0, inplace=True)\n",
    "\n",
    "def erc_filter(x):\n",
    "    return (x['seq_depth'] >= 1000) and (x['env_matter'] == 'ENVO:feces')"
   ]
  },
  {
   "cell_type": "code",
   "execution_count": 19,
   "metadata": {
    "collapsed": true
   },
   "outputs": [],
   "source": [
    "erc_map_f = erc_map.loc[erc_map.apply(erc_filter, axis=1)]\n",
    "erc_sotu_f = erc_sotu.filter(erc_map_f.index)"
   ]
  },
  {
   "cell_type": "markdown",
   "metadata": {},
   "source": [
    "# Analysis"
   ]
  },
  {
   "cell_type": "markdown",
   "metadata": {},
   "source": [
    "## Calculate growth for bacteria in storage studies\n",
    "For each sOTU, calculate the mean fold change over all individuals, using a minimal read cutoff of 5 reads/sample to reduce effect of discretization and multinomial sampling of low frequency sOTUs.\n",
    "\n",
    "The fold change is calculated separately for each storage study/timepoint comparing to corresponding day 0 samples."
   ]
  },
  {
   "cell_type": "code",
   "execution_count": null,
   "metadata": {
    "collapsed": true
   },
   "outputs": [],
   "source": [
    "def PlotFoldChangeHist(allvals):\n",
    "    \"\"\"\n",
    "    Plot the fold change histogram for values in allvals\n",
    "    Also print some stats about the outliers and all data\n",
    "    \n",
    "    input:\n",
    "    allvals : list of float\n",
    "        log2 fold change per each sOTU that has enough info\n",
    "    \"\"\"\n",
    "    # print some statistics\n",
    "    print(\"number of outliers (10 fold) %d\" % np.sum(np.abs(allvals)>=np.log2(10)))\n",
    "    print(\"fraction of outliers (10 fold) %f\" % (float(np.sum(np.abs(allvals)>=np.log2(10)))/len(allvals)))\n",
    "    print(\"mean abs log2 fold change %f\" % np.mean(np.abs(allvals)))\n",
    "    print(\"median abs log2 fold change %f\" % np.median(np.abs(allvals)))\n",
    "\n",
    "    # plot the histogram\n",
    "    plt.figure()\n",
    "    plt.hist(allvals,100)\n",
    "    # constant xlim/ylim to enable timepoint comparison\n",
    "    plt.ylim([0,70])\n",
    "    plt.xlim([-12,12])\n",
    "    plt.ylabel('number of otus',fontsize=24)\n",
    "    plt.xlabel('log2(fold change)',fontsize=24)\n",
    "    ax=plt.gca()\n",
    "    ax.tick_params(axis='both', which='major', labelsize=24)\n",
    "    plt.tight_layout()"
   ]
  },
  {
   "cell_type": "code",
   "execution_count": null,
   "metadata": {
    "collapsed": false
   },
   "outputs": [],
   "source": [
    "def teststability(expdat, time0val='1', time1val='2', temp='amb', mincut=5, upres=False, \n",
    "                  time0temp='amb', timefield='time_numeric', tempfield='temp2', \n",
    "                  subjectfield='subject', presfield='preservative'):\n",
    "    \"\"\"\n",
    "    calculate foldchange for all bacteria in storage experiment\n",
    "    \n",
    "    input:\n",
    "    expdat - the experiment\n",
    "    time0val - value for timepoint 0 (i.e. '1')\n",
    "    time1val - value for timepoint 1 (i.e. '2' or '4')\n",
    "    temp - the temperature (i.e. 'amb' or '20C' or 'Heat')\n",
    "    mincut - the minimal number of reads (out of 10k) to round the number of reads to (to remove effect of discretization on small numbers)\n",
    "    upres - False to do on all preservatives, otherwise list of unique preservatives (in order)\n",
    "    time0temp - the temperature for time0 samples (default 'amb')\n",
    "    timefield - name of the field containing the storage time\n",
    "    tempfield - name of the field containing the temperature of storage\n",
    "    subjectfield - name of the field containing the subjectid\n",
    "    presfield - name of the preservative field\n",
    "\n",
    "    output:\n",
    "    fc : dict of float\n",
    "        the log2 fold change per otu (keyed by sequence)\n",
    "    \"\"\"\n",
    "    fc={}\n",
    "\n",
    "    # keep only samples with enough reads (to reduce discretization effect on fold change)\n",
    "    expdat=hs.filterorigreads(expdat,2500)\n",
    "\n",
    "    # keep only samples with the temperature field as requested\n",
    "    if tempfield == '':\n",
    "        expdat0=hs.copyexp(expdat)\n",
    "    else:\n",
    "        expdat0=hs.filtersamples(expdat,tempfield,time0temp,exact=True)\n",
    "        expdat=hs.filtersamples(expdat,tempfield,temp,exact=True)\n",
    "\n",
    "    # get sampleids and preservative to use\n",
    "    ids=hs.getfieldvals(expdat,subjectfield)\n",
    "    uids=list(set(ids))\n",
    "    pres=hs.getfieldvals(expdat,presfield,ounique=True)\n",
    "    if len(pres)>1:\n",
    "        raise RunTimeError('more than 1 preservative!!!')\n",
    "\n",
    "    # init the ratio list\n",
    "    rat=[]\n",
    "    for cid in expdat.sids:\n",
    "        rat.append([])\n",
    "\n",
    "    # filter to get samples from the 2 timepoint\n",
    "    atime0=hs.filtersamples(expdat0,timefield,time0val)\n",
    "    atime1=hs.filtersamples(expdat,timefield,time1val)\n",
    "\n",
    "    # iterate over all individuals\n",
    "    for ididx,cid in enumerate(uids):\n",
    "        # find samples corresponding to this individual in the 2 timepoints\n",
    "        tp1=hs.findsamples(atime1,subjectfield,cid)\n",
    "        tp0=hs.findsamples(atime0,subjectfield,cid)\n",
    "\n",
    "        # if don't have samples from this individual from 1 timepoint, can't calculate ratio\n",
    "        if (len(tp1) == 0) or (len(tp0) == 0):\n",
    "            continue\n",
    "\n",
    "        # if more than 1 samples from each timepoint, calculate the mean for each sOTU\n",
    "        if len(tp0)>1:\n",
    "            time0m=np.mean(atime0.data[:,tp0],1)\n",
    "        else:\n",
    "            time0m=atime0.data[:,tp0[0]]\n",
    "        if len(tp1)>1:\n",
    "            time1m=np.mean(atime1.data[:,tp1],1)\n",
    "        else:\n",
    "            time1m=atime1.data[:,tp1[0]]\n",
    "\n",
    "        # iterate over all sOTUs\n",
    "        for otuidx,cid in enumerate(atime0.sids):\n",
    "            # if number of reads below minimal threshold - convert to minimal threshold (to reduce effect of discretization)\n",
    "            # or skip if below threshold for both samples (too much discretization to get fold change)\n",
    "            if time0m[otuidx]<mincut:\n",
    "                if time1m[otuidx]<mincut:\n",
    "                    continue\n",
    "                else:\n",
    "                    time0m[otuidx]=mincut\n",
    "            if time1m[otuidx]<mincut:\n",
    "                time1m[otuidx]=mincut\n",
    "            \n",
    "            # calculate the fold change ratio for this sOTU and add to fold change list for the sOTU\n",
    "            rat[otuidx].append(float(time1m[otuidx])/time0m[otuidx])\n",
    "\n",
    "\n",
    "    allvals=[]\n",
    "    # iterate over ratios of all sOTUs\n",
    "    for idx,crat in enumerate(rat):\n",
    "        if len(crat)>0:\n",
    "            # calculate the mean log2 foldchange for this sOTU and store details about it\n",
    "            allvals.append(np.log2(np.mean(crat)))\n",
    "            fc[expdat.seqs[idx]]=np.mean(crat)\n",
    "\n",
    "    # plot the histogram\n",
    "    PlotFoldChangeHist(allvals)\n",
    "    return fc"
   ]
  },
  {
   "cell_type": "code",
   "execution_count": null,
   "metadata": {
    "collapsed": false,
    "scrolled": false
   },
   "outputs": [],
   "source": [
    "# mayo 4 days\n",
    "mayo4fc=teststability(mayof,timefield='SAMPLE_VISIT',time0val='Day 0',time1val='Day 4',subjectfield='HOST_SUBJECT_ID',presfield='TREATMENT',tempfield='')"
   ]
  },
  {
   "cell_type": "code",
   "execution_count": null,
   "metadata": {
    "collapsed": true
   },
   "outputs": [],
   "source": [
    "plt.savefig('../results/fig1-hist-mayo-4-0.pdf')"
   ]
  },
  {
   "cell_type": "code",
   "execution_count": null,
   "metadata": {
    "collapsed": false,
    "scrolled": false
   },
   "outputs": [],
   "source": [
    "# mayo 1 day\n",
    "mayo1fc=teststability(mayof,timefield='SAMPLE_VISIT',time0val='Day 0',time1val='Day 1',subjectfield='HOST_SUBJECT_ID',presfield='TREATMENT',tempfield='')"
   ]
  },
  {
   "cell_type": "code",
   "execution_count": null,
   "metadata": {
    "collapsed": true
   },
   "outputs": [],
   "source": [
    "plt.savefig('../results/fig1-hist-mayo-1-0.pdf')"
   ]
  },
  {
   "cell_type": "code",
   "execution_count": null,
   "metadata": {
    "collapsed": false,
    "scrolled": false
   },
   "outputs": [],
   "source": [
    "# se jin 1 week\n",
    "sj7fc=teststability(sjf,time0val='1',time1val='2')"
   ]
  },
  {
   "cell_type": "code",
   "execution_count": null,
   "metadata": {
    "collapsed": true
   },
   "outputs": [],
   "source": [
    "plt.savefig('../results/fig1-hist-sejin-7-0.pdf')"
   ]
  },
  {
   "cell_type": "code",
   "execution_count": null,
   "metadata": {
    "collapsed": false,
    "scrolled": false
   },
   "outputs": [],
   "source": [
    "# se jin 2 weeks\n",
    "sj14fc=teststability(sjf,time0val='1',time1val='3')"
   ]
  },
  {
   "cell_type": "code",
   "execution_count": null,
   "metadata": {
    "collapsed": true
   },
   "outputs": [],
   "source": [
    "plt.savefig('../results/fig1-hist-sejin-14-0.pdf')"
   ]
  },
  {
   "cell_type": "code",
   "execution_count": null,
   "metadata": {
    "collapsed": false,
    "scrolled": false
   },
   "outputs": [],
   "source": [
    "# se jin 4 weeks\n",
    "sj28fc=teststability(sjf,time0val='1',time1val='4')"
   ]
  },
  {
   "cell_type": "code",
   "execution_count": null,
   "metadata": {
    "collapsed": true
   },
   "outputs": [],
   "source": [
    "plt.savefig('../results/fig1-hist-sejin-28-0.pdf')"
   ]
  },
  {
   "cell_type": "markdown",
   "metadata": {},
   "source": [
    "## differential expression\n",
    "look how AG compares to the fresh frozen studies.\n",
    "Join all studies together and find sOTUs sginificantly higher/lower in AG"
   ]
  },
  {
   "cell_type": "code",
   "execution_count": null,
   "metadata": {
    "collapsed": false
   },
   "outputs": [],
   "source": [
    "# join tall the experiments to a single experiment\n",
    "# the source experiment is stored in the field 'origexp'\n",
    "fec=hs.joinexperiments(pgpf,twinsf)\n",
    "fec=hs.joinexperiments(fec,ercf)\n",
    "fec=hs.joinexperiments(fec,agf)"
   ]
  },
  {
   "cell_type": "markdown",
   "metadata": {},
   "source": [
    "find differentially present bacteria in AG compared to all other experiments (joined) using permutation based mean difference (with BH-FDR 0.1)\n",
    "\n",
    "We will identify differentially abundant microbes using a permutation mean difference test.  The test statistic will be conducted as follows\n",
    "\n",
    "$abs(\\bar{x_i} - \\bar{y_i})$\n",
    "\n",
    "where $\\bar{x_i}$ represents the sample mean of sOTU $i$ in group $x$ and  $\\bar{y_i}$ represents the sample mean of sOTU $i$ in group $y$.\n",
    "\n",
    "The pvalue will be determined by repeated shuffling (1000 permutations) of the labels for groups $x$ and $y$ and recalculating this mean based on the new shuffled $x$ and $y$ groups.\n",
    "\n",
    "An additional Benjamini-Hochberg FDR control at 0.1 is added to compensate for mutiple hypothesis testing (since the test is performed on a large number of sOTUs)."
   ]
  },
  {
   "cell_type": "code",
   "execution_count": null,
   "metadata": {
    "collapsed": false
   },
   "outputs": [],
   "source": [
    "diff_ag_other=hs.diffexpfastpermute(fec,'origexp','ag-6-2016.clean.min100.withtax.biom')"
   ]
  },
  {
   "cell_type": "markdown",
   "metadata": {},
   "source": [
    "## Calculate the fold change of american gut compared to all other experiments\n",
    "For each sOTU, comapre the mean in all AG samples to the mean of all samples in a fresh-frozen experiment.\n",
    "\n",
    "Note that since samples are not paired, we can just compare the means.\n",
    "\n",
    "Comparison is calculated separately between AG and each fresh-frozen study (PGP, UK-Twins and Whole grain feces)"
   ]
  },
  {
   "cell_type": "code",
   "execution_count": null,
   "metadata": {
    "collapsed": true
   },
   "outputs": [],
   "source": [
    "def get2expfc(exp1,exp2,minreads=1):\n",
    "    \"\"\"\n",
    "    get the fold change for all bacteria in exp1/exp2\n",
    "    \n",
    "    input:\n",
    "    exp1, exp2 : Experiment\n",
    "        the experiments to comapre the sOTUs between\n",
    "        (for all sOTUs in exp1)\n",
    "    meanreads : float\n",
    "        the minimal value of the mean reads per experiment (to reduce effect discretization)\n",
    "    \n",
    "    output:\n",
    "    outfc : dict {sequence : foldchange}\n",
    "        dict with sequences from exp1 ('ACGT') as keys, values are the mean(exp1)/mean(exp2)\n",
    "    \"\"\"\n",
    "    outfc={}\n",
    "    numnotfound=0\n",
    "    \n",
    "    # copy experiments so we don't change their data\n",
    "    exp1=hs.copyexp(exp1)\n",
    "    exp2=hs.copyexp(exp2)\n",
    "    # iterate over all sequences in exp1\n",
    "    for cseq in exp1.seqs:\n",
    "        dat1=exp1.data[exp1.seqdict[cseq]]\n",
    "        # if below minreads in exp1 - convert to minreads\n",
    "        dat1[dat1<minreads]=minreads\n",
    "        # if not present in exp2, convert it to minreads\n",
    "        if cseq not in exp2.seqdict:\n",
    "            numnotfound+=1\n",
    "            dat2=np.ones(len(exp2.samples))*minreads\n",
    "        else:\n",
    "            dat2=exp2.data[exp2.seqdict[cseq]]\n",
    "        # if below minreads in exp2 - convert to minreads\n",
    "        dat2[dat2<minreads]=minreads\n",
    "        # calculate the mean ratio\n",
    "        fc=np.mean(dat1)/np.mean(dat2)\n",
    "        outfc[cseq]=fc\n",
    "\n",
    "    print('%d sequences not found' % numnotfound)\n",
    "    return outfc"
   ]
  },
  {
   "cell_type": "code",
   "execution_count": null,
   "metadata": {
    "collapsed": false
   },
   "outputs": [],
   "source": [
    "# fold change AG to PGP\n",
    "fcpgp=get2expfc(agf,pgpf)"
   ]
  },
  {
   "cell_type": "code",
   "execution_count": null,
   "metadata": {
    "collapsed": false
   },
   "outputs": [],
   "source": [
    "# fold change AG to UK-Twins\n",
    "fctwins=get2expfc(agf,twinsf)"
   ]
  },
  {
   "cell_type": "code",
   "execution_count": null,
   "metadata": {
    "collapsed": false
   },
   "outputs": [],
   "source": [
    "# fold change AG to Whole grains feces\n",
    "fcerc=get2expfc(agf,ercf)"
   ]
  },
  {
   "cell_type": "markdown",
   "metadata": {},
   "source": [
    "# find the blooming bacteria list\n",
    "intersect the ag-vs-others and the storage studies fold changes:\n",
    "\n",
    "Iterate over all sOTUs which are significantly different between AG and all fresh-frozen samples.\n",
    "\n",
    "For each such sOTU, we calculate two values:\n",
    "1. The maximal growth potential (maximum over all storage studies and days)\n",
    "2. The minimal ratio between AG to each fresh-frozen sample. The minimum is taken in order to reduce the effect of study-study differences (since a blooming bacteria is expected to be higher in AG compared to all fresh-frozen studies)\n",
    "\n",
    "Candidate blooming bacteria are defined as sOTUs that have either:\n",
    "- At least two fold difference in both (1) and (2), or that are not\n",
    "\n",
    "OR\n",
    "- At least two fold difference in (2) and are not present in (1) (since storage studies have a small set of individuals, there may be blooming bacteria that by chance were not present in the storage study samples)\n",
    "\n",
    "OR\n",
    "- At least 50 fold change in (1), so we know they can grow drastically in room temp."
   ]
  },
  {
   "cell_type": "code",
   "execution_count": null,
   "metadata": {
    "collapsed": false
   },
   "outputs": [],
   "source": [
    "# auxillary function to get minimal fold change for ag-fresh study comparison:\n",
    "def GetAGFreshMin(cagfc,fresh_fc,cseq):\n",
    "    \"\"\"\n",
    "    fold change to minimum(current fold change, ratio to fresh study)\n",
    "    if was not present in fresh study, cap fold change to minimum(current fold change,50)\n",
    "\n",
    "    input:\n",
    "    cagfc : float\n",
    "        the current minimal fold change of AG compared to all fresh frozen studies\n",
    "    fresh_fc : dict of {sequence : foldchange}\n",
    "        dict of fold change per sequence in the study (compared to AG)\n",
    "    cseq : str ('ACGT' sequence)\n",
    "        the sequence being analyzed\n",
    "        \n",
    "    output:\n",
    "    cagfc : float\n",
    "        the modified minimal fold change of AG compared to all fresh-frozen studies\n",
    "    \"\"\"\n",
    "    if cseq in fresh_fc:\n",
    "        cagfc=min(cagfc,fresh_fc[cseq])\n",
    "    else:\n",
    "        cagfc=min(cagfc,50)\n",
    "    return cagfc\n",
    "\n",
    "\n",
    "# auxillary function to get maximal fold change for storage studies day 0 comparison:\n",
    "def GetStorageMax(maxfc,store_fc,cseq,readlen=0):\n",
    "    \"\"\"\n",
    "    if we saw the sOTU in supplied storage study, fold change to maximum(current fold change,supplied storage study compared to day 0)\n",
    "    \n",
    "    input:\n",
    "    maxfc : float\n",
    "        the maximal fold change in all storage study/day compared to corresponding day 0\n",
    "    store_fc : dict of {sequence : fold-change}\n",
    "        dict of fold change per sequence in the storage study (compared to day 0)\n",
    "    cseq : str ('ACGT' sequence)\n",
    "        the sequence being analyzed\n",
    "    readlen : int (optional)\n",
    "        0 (default) to use full sequence length, otherwise use only readlen first bases\n",
    "        used in Se-Jin storage study as reads were 124bp long\n",
    "    \n",
    "    output:\n",
    "    maxfc : float\n",
    "        the new maximal fold change in all storage study/day compared to corresponding day 0\n",
    "    \"\"\"\n",
    "    # get the dict sequences read len (since one storage study is only 124bp)\n",
    "#     readlen=len(next(iter(store_fc.keys())))\n",
    "    if readlen>0:\n",
    "        cseq=cseq[:readlen]\n",
    "    if cseq in store_fc:\n",
    "        maxfc=max(maxfc,store_fc[cseq])\n",
    "    return maxfc"
   ]
  },
  {
   "cell_type": "code",
   "execution_count": null,
   "metadata": {
    "collapsed": false,
    "scrolled": false
   },
   "outputs": [],
   "source": [
    "# find the new blooming bacteria list\n",
    "# test the min of the ag vs other experiments (y axis) and the max growth (in storage studies) (x axis)\n",
    "newbloom=[]\n",
    "bloomscores=[]\n",
    "bloomtax=[]\n",
    "\n",
    "# x and y points for all and candidate blooming bacteria for the scatter plot\n",
    "allx=[]\n",
    "ally=[]\n",
    "intx=[]\n",
    "inty=[]\n",
    "intsym=[]\n",
    "\n",
    "# iterate over all sOTUs significantly different between AG to the other experiments\n",
    "for idx,cseq in enumerate(diff_ag_other.seqs):\n",
    "    # if didn't see it at all in AG sequences - skip it\n",
    "    if cseq in agf.seqdict:\n",
    "        # set the minimal fold change to very high number, so will go down with any fold change\n",
    "        cagfc=1000000\n",
    "    else:\n",
    "        continue\n",
    "\n",
    "    # calculate minimal fold change in AG compared to fresh frozen studies\n",
    "    # PGP\n",
    "    cagfc=GetAGFreshMin(cagfc,fcpgp,cseq)\n",
    "    # UK-Twins\n",
    "    cagfc=GetAGFreshMin(cagfc,fctwins,cseq)\n",
    "    # Whole grain feces\n",
    "    cagfc=GetAGFreshMin(cagfc,fcerc,cseq)\n",
    "\n",
    "    # calculate maximal fold change (over days/studies) in storage studies (compare to time 0)\n",
    "    \n",
    "    # init maximal fold change to 0 (so any fold change is bigger)\n",
    "    maxfc=0\n",
    "    # if we saw the sOTU in mayo day 4, fold change to maximum(current fold change,mayo day 4 compared to 0)\n",
    "    maxfc=GetStorageMax(maxfc,mayo1fc,cseq)\n",
    "    maxfc=GetStorageMax(maxfc,mayo4fc,cseq)\n",
    "    maxfc=GetStorageMax(maxfc,sj7fc,cseq,124)\n",
    "    maxfc=GetStorageMax(maxfc,sj14fc,cseq,124)\n",
    "    maxfc=GetStorageMax(maxfc,sj28fc,cseq,124)\n",
    "    \n",
    "    # if we have both fold changes for this sOTU, store it\n",
    "    if maxfc>0 and cagfc>0:\n",
    "        allx.append(maxfc)\n",
    "        ally.append(cagfc)\n",
    "\n",
    "    # test if this bacteria is a candidate blooming bacteria\n",
    "    # the criteria when to call it a bloom is:\n",
    "    # storage fold change>2 and AG fold change>2 or storage fold change>50 or AG fold change>2 and not observed in storage studies\n",
    "    if (maxfc>2 and cagfc>2) or (maxfc>50) or (cagfc>2 and maxfc==0):\n",
    "        print(diff_ag_other.tax[idx])\n",
    "        print('agfc:%f, maxfc:%f' % (cagfc, maxfc))\n",
    "        # add to candidate blooming list\n",
    "        newbloom.append(cseq)\n",
    "        bloomscores.append(maxfc + 0.01*cagfc)\n",
    "        bloomtax.append(diff_ag_other.tax[idx])\n",
    "        intx.append(maxfc)\n",
    "        inty.append(cagfc)\n",
    "\n",
    "print('total %d blooming bacteria' % len(newbloom))"
   ]
  },
  {
   "cell_type": "markdown",
   "metadata": {},
   "source": [
    "# Plot the fold change scatter plot KDE with highlighting the candidate blooming sOTUs\n",
    "since we have a lot of sOTUs, each with max(storage fc) and min(ag-fresh fc), we plot the average densities of all sOTUs.\n",
    "\n",
    "Red circles denote the sOTUs (15) passing the criteria for candidate blooming bacteria. Note that an additional set of 6 candidate blooming bacteria are not shown as they do not appear in the storage studies, and therefore do not have an x coordinate on the plot."
   ]
  },
  {
   "cell_type": "code",
   "execution_count": null,
   "metadata": {
    "collapsed": false
   },
   "outputs": [],
   "source": [
    "plt.figure()\n",
    "ax = plt.axes()\n",
    "sn.kdeplot(np.log2(np.array(allx)),np.log2(np.array(ally)),shade=True, cmap='Greys', ax=ax)\n",
    "plt.scatter(np.log2(np.array(intx)), np.log2(np.array(inty)), s=80, color=sn.color_palette()[2])\n",
    "ax.set_xlim([-2, 10])\n",
    "ax.set_ylim([-5, 6])\n",
    "ax.set_xlabel('max. storage study foldchange (log2)',fontsize=16)\n",
    "ax.set_ylabel('min. AG foldchange (log2)',fontsize=16)\n",
    "ax.tick_params(axis='both', which='major', labelsize=14)\n",
    "plt.tight_layout()"
   ]
  },
  {
   "cell_type": "code",
   "execution_count": null,
   "metadata": {
    "collapsed": true
   },
   "outputs": [],
   "source": [
    "plt.savefig('../results/fig1-blooming-identification-kde.pdf')"
   ]
  },
  {
   "cell_type": "markdown",
   "metadata": {},
   "source": [
    "## Sort the candidate blooming sOTUs by their storage study fold change\n",
    "We want to order the candidate blooming sOTUs so the more likely/larger effect size bloomers are first.\n",
    "\n",
    "We base the sort order on the storage study maximal fold change, as this approximates the potential for blooming, and the max over different storage times shows the growth in the more optimal conditions for each candidate bloomer (whereas the AG-fresh frozen fold change shows the mean blooming). This way, we give higher priority to sOTUs that can distort the most the frequencies (even if in a small number of samples)."
   ]
  },
  {
   "cell_type": "code",
   "execution_count": null,
   "metadata": {
    "collapsed": false
   },
   "outputs": [],
   "source": [
    "# sort the blooming bacteria according to the maximal storage study fold change\n",
    "sv,si=hs.isort(bloomscores,reverse=True)\n",
    "newbloom=hs.reorder(newbloom,si)\n",
    "bloomtax=hs.reorder(bloomtax,si)\n",
    "bloomscores=hs.reorder(bloomscores,si)"
   ]
  },
  {
   "cell_type": "code",
   "execution_count": null,
   "metadata": {
    "collapsed": false
   },
   "outputs": [],
   "source": [
    "# the sorted list of blooming bacteria\n",
    "for idx,ctax in enumerate(bloomtax):\n",
    "    print('%d : %f %s' % (idx,bloomscores[idx],ctax))"
   ]
  },
  {
   "cell_type": "markdown",
   "metadata": {},
   "source": [
    "## save the bloom sequences"
   ]
  },
  {
   "cell_type": "code",
   "execution_count": null,
   "metadata": {
    "collapsed": false
   },
   "outputs": [],
   "source": [
    "hs.saveseqsfasta(agf,newbloom,'../data/newbloom.all.fa')"
   ]
  },
  {
   "cell_type": "code",
   "execution_count": null,
   "metadata": {
    "collapsed": true
   },
   "outputs": [],
   "source": [
    "hs.saveseqsfasta(agf,newbloom[:8],'../data/newbloom.8.fa')"
   ]
  },
  {
   "cell_type": "markdown",
   "metadata": {},
   "source": [
    "# Plot the taxonomy comparison before and after bloom filtering"
   ]
  },
  {
   "cell_type": "markdown",
   "metadata": {},
   "source": [
    "## prepare the joined experiment"
   ]
  },
  {
   "cell_type": "code",
   "execution_count": null,
   "metadata": {
    "collapsed": true
   },
   "outputs": [],
   "source": [
    "# join AG and PGP\n",
    "allf=hs.joinexperiments(agf,pgpf)"
   ]
  },
  {
   "cell_type": "code",
   "execution_count": null,
   "metadata": {
    "collapsed": false
   },
   "outputs": [],
   "source": [
    "# remove the AG mapping fields (to make it faster)\n",
    "hs.filtermapfields(allf,['origexp'],inplace=True)"
   ]
  },
  {
   "cell_type": "code",
   "execution_count": null,
   "metadata": {
    "collapsed": true
   },
   "outputs": [],
   "source": [
    "# join the UK-Twins\n",
    "allf=hs.joinexperiments(allf,twinsf)"
   ]
  },
  {
   "cell_type": "code",
   "execution_count": null,
   "metadata": {
    "collapsed": true
   },
   "outputs": [],
   "source": [
    "# and join the Whole grain feces\n",
    "allf=hs.joinexperiments(allf,ercf)"
   ]
  },
  {
   "cell_type": "code",
   "execution_count": null,
   "metadata": {
    "collapsed": false
   },
   "outputs": [],
   "source": [
    "# remove all mapping fields except 'origexp' (the original study) (to make it faster)\n",
    "hs.filtermapfields(allf,['origexp'],inplace=True)"
   ]
  },
  {
   "cell_type": "markdown",
   "metadata": {},
   "source": [
    "## Plot the pre-filtered taxonomy plot"
   ]
  },
  {
   "cell_type": "code",
   "execution_count": null,
   "metadata": {
    "collapsed": false
   },
   "outputs": [],
   "source": [
    "# collapes the samples to one per study (using mean value for each sOTU)\n",
    "allfpre=hs.filtersimilarsamples(allf,'origexp',method='mean')"
   ]
  },
  {
   "cell_type": "code",
   "execution_count": null,
   "metadata": {
    "collapsed": true
   },
   "outputs": [],
   "source": [
    "# sort by original experiment\n",
    "allfpre=hs.sortsamples(allfpre,'origexp')"
   ]
  },
  {
   "cell_type": "code",
   "execution_count": null,
   "metadata": {
    "collapsed": false
   },
   "outputs": [],
   "source": [
    "hs.getfieldvals(allfpre,'origexp')"
   ]
  },
  {
   "cell_type": "code",
   "execution_count": null,
   "metadata": {
    "collapsed": true
   },
   "outputs": [],
   "source": [
    "# give nices names to the experiment (for the plot)\n",
    "hs.addfield(allfpre,'expname',['AG-pre','EWF-pre','PGP-pre','UKTwins-pre'])"
   ]
  },
  {
   "cell_type": "code",
   "execution_count": null,
   "metadata": {
    "collapsed": true
   },
   "outputs": [],
   "source": [
    "sn.set_style(\"white\")"
   ]
  },
  {
   "cell_type": "code",
   "execution_count": null,
   "metadata": {
    "collapsed": false
   },
   "outputs": [],
   "source": [
    "# plot the taxonomy bar graph (normalized to 100% per study)\n",
    "taxlist=hs.plottaxonomybar(allfpre,sortfield='expname',showlegend=False,showxlabels=True,rotation=0,sumone=True)"
   ]
  },
  {
   "cell_type": "code",
   "execution_count": null,
   "metadata": {
    "collapsed": false
   },
   "outputs": [],
   "source": [
    "plt.savefig('../results/fig2C_taxonomy-4exp-nofiltering.pdf')"
   ]
  },
  {
   "cell_type": "markdown",
   "metadata": {},
   "source": [
    "## plot the post-filtering taxonomy plot"
   ]
  },
  {
   "cell_type": "code",
   "execution_count": null,
   "metadata": {
    "collapsed": true
   },
   "outputs": [],
   "source": [
    "# filter the 8 blooming bacteria\n",
    "allfpost=hs.filterseqs(allf,newbloom[:8],exclude=True)"
   ]
  },
  {
   "cell_type": "code",
   "execution_count": null,
   "metadata": {
    "collapsed": false
   },
   "outputs": [],
   "source": [
    "# collapes the samples to one per study (using mean value for each sOTU)\n",
    "allfpost=hs.filtersimilarsamples(allfpost,'origexp',method='mean')"
   ]
  },
  {
   "cell_type": "code",
   "execution_count": null,
   "metadata": {
    "collapsed": true
   },
   "outputs": [],
   "source": [
    "# sort by original experiment\n",
    "allfpost=hs.sortsamples(allfpost,'origexp')"
   ]
  },
  {
   "cell_type": "code",
   "execution_count": null,
   "metadata": {
    "collapsed": false
   },
   "outputs": [],
   "source": [
    "hs.getfieldvals(allfpost,'origexp')"
   ]
  },
  {
   "cell_type": "code",
   "execution_count": null,
   "metadata": {
    "collapsed": true
   },
   "outputs": [],
   "source": [
    "# give nices names to the experiment (for the plot)\n",
    "hs.addfield(allfpost,'expname',['AG-post','EWF-post','PGP-post','UKTwins-post'])"
   ]
  },
  {
   "cell_type": "code",
   "execution_count": null,
   "metadata": {
    "collapsed": false
   },
   "outputs": [],
   "source": [
    "sn.set_style(\"white\",{'legend.frameon':True})\n",
    "sn.set_context(\"notebook\")"
   ]
  },
  {
   "cell_type": "code",
   "execution_count": null,
   "metadata": {
    "collapsed": false
   },
   "outputs": [],
   "source": [
    "# plot the taxonomy bar graph (normalized to 100% per study). Use same phylum order as previous taxonomy plot\n",
    "hs.plottaxonomybar(allfpost,sortfield='expname',showlegend=False,showxlabels=True,rotation=0,sumone=True,taxorder=taxlist.tax)"
   ]
  },
  {
   "cell_type": "code",
   "execution_count": null,
   "metadata": {
    "collapsed": true
   },
   "outputs": [],
   "source": [
    "plt.savefig('../results/fig2C_taxonomy-4exp-withfiltering-8.pdf')"
   ]
  },
  {
   "cell_type": "markdown",
   "metadata": {},
   "source": [
    "## and for the legend"
   ]
  },
  {
   "cell_type": "code",
   "execution_count": null,
   "metadata": {
    "collapsed": false
   },
   "outputs": [],
   "source": [
    "# plot with legend (we just cut out the legend in the figure)\n",
    "hs.plottaxonomybar(allfpre,sortfield='expname',showlegend=True,showxlabels=True,rotation=0,sumone=True)"
   ]
  },
  {
   "cell_type": "code",
   "execution_count": null,
   "metadata": {
    "collapsed": true
   },
   "outputs": [],
   "source": [
    "plt.savefig('../results/fig2C_taxonomy-4exp-forlegend.pdf')"
   ]
  },
  {
   "cell_type": "markdown",
   "metadata": {
    "collapsed": true
   },
   "source": [
    "In conclusion, we can take advantage of the microbes identified to be blooming in previous studies, combined with comparison between shipped and fresh frozen samples, to identify candidate taxa that bloom in storage conditions in the American Gut project.\n",
    "\n",
    "An advantage of performing such analysis on a sub-OTU level (i.e. the output of the Deblur algorithm), is that we can identify and remove the exact blooming bacterial sequences, whereas using traditional OTU based methods would require removal of the blooming bacteria and all close sequences, which can lead to much higher numbers of bacteria removed.\n",
    "\n",
    "Note that choosing the number of candidate blooming bacteria to remove is a type-1/type-2 balance. Removal of more bacteria will reduce the effect of shipment, at the cost of losing more bacteria for analysis.\n",
    "\n",
    "While all bacteria may change during shipment, it seems only a small number of them exhibit a drastic growth. By removal of as little as the top 8 blooming bacteria, we can greatly reduce the effect of shipment. This leads to a great reduction in the noise within American Gut samples (since not all samples are undergo the same shipment conditions/duration), as well as enable comparison to other, fresh frozen studies.\n"
   ]
  },
  {
   "cell_type": "code",
   "execution_count": null,
   "metadata": {
    "collapsed": true
   },
   "outputs": [],
   "source": []
  }
 ],
 "metadata": {
  "anaconda-cloud": {},
  "kernelspec": {
   "display_name": "Python 2",
   "language": "python",
   "name": "python2"
  },
  "language_info": {
   "codemirror_mode": {
    "name": "ipython",
    "version": 2
   },
   "file_extension": ".py",
   "mimetype": "text/x-python",
   "name": "python",
   "nbconvert_exporter": "python",
   "pygments_lexer": "ipython2",
   "version": "2.7.11"
  }
 },
 "nbformat": 4,
 "nbformat_minor": 0
}
