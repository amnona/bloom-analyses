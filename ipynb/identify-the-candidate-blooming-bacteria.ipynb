{
 "cells": [
  {
   "cell_type": "markdown",
   "metadata": {},
   "source": [
    "# Identify the candidate blooming bacteria\n",
    "\n",
    "The goal of this notebook is to identify candidate bacteria which bloom under shipping conditions. We identified cadnidates in two parts: first, we looked for bacteria which grew at room temperature in storage studies. We also looked at shipped American Gut samples and compared them to fresh frozen fecal samples. We used the combined technique because the storage studies were limited by size, while the comparison between studies is noisy.\n",
    "\n",
    "Briefly, this process will involve the following steps:\n",
    "\n",
    "1. Load the datasets (Mayo and Se-Jin storage studies and AG, PGP, UK-Twins and Whole grain feces)\n",
    "2. Calculate the fold change per sOTU in the storage studies\n",
    "3. Calculate the fold change in AG compared to fresh frozen studies (PGP, UK-Twins and Whole grain feces)\n",
    "4. Identify candidate blooming bacteria by combining the fold changes in 2,3\n",
    "5. Plot the scatter of the fold change per sOTU with highlighting the candidate blooming bacteria\n",
    "6. Plot taxonomy plots before and after bloom filtering\n",
    "\n",
    "Let's start by loading the necessary python functions. "
   ]
  },
  {
   "cell_type": "code",
   "execution_count": 1,
   "metadata": {
    "collapsed": false,
    "scrolled": false
   },
   "outputs": [],
   "source": [
    "import hashlib\n",
    "\n",
    "import matplotlib as mpl\n",
    "mpl.use('Agg')\n",
    "\n",
    "# load modules used in the analysis\n",
    "import biom\n",
    "import matplotlib.pyplot as plt\n",
    "import numpy as np\n",
    "import pandas as pd\n",
    "import seaborn as sn\n",
    "import skbio\n",
    "from skbio.stats.composition import ancom, closure\n",
    "\n",
    "# plots inside the notebook\n",
    "%matplotlib notebook\n",
    "\n",
    "# set the random seed\n",
    "np.random.seed(2016)"
   ]
  },
  {
   "cell_type": "code",
   "execution_count": 63,
   "metadata": {
    "collapsed": true
   },
   "outputs": [],
   "source": [
    "import pandas as pd\n",
    "import numpy as np\n",
    "\n",
    "def exploding_panda(_bt):\n",
    "    \"\"\"BIOM->Pandas dataframe converter\n",
    "\n",
    "    Parameters\n",
    "    ----------\n",
    "    _bt : biom.Table\n",
    "        BIOM table\n",
    "\n",
    "    Returns\n",
    "    -------\n",
    "    pandas.DataFrame\n",
    "        The BIOM table converted into a DataFrame\n",
    "        object.\n",
    "\n",
    "    References\n",
    "    ----------\n",
    "    Based on this answer on SO:\n",
    "    http://stackoverflow.com/a/17819427/379593\n",
    "    \"\"\"\n",
    "    m = _bt.matrix_data\n",
    "    data = [pd.SparseSeries(m[i].toarray().ravel()) for i in np.arange(m.shape[0])]\n",
    "    out = pd.SparseDataFrame(data, index=_bt.ids('observation'),\n",
    "                             columns=_bt.ids('sample'))\n",
    "\n",
    "    return out"
   ]
  },
  {
   "cell_type": "markdown",
   "metadata": {},
   "source": [
    "# Loading all experimental data"
   ]
  },
  {
   "cell_type": "markdown",
   "metadata": {},
   "source": [
    "We'll write a quick function to load the data. We'll load the biom table (`biom_fp`). We'll load the specified metadata columns (`meta_fp` and `keep_columns`). Then, we'll filter the data to include only samples with at least 1000 counts/sample (`depth`) and that fit the filtering criteria (`filters`). Finally, we'll add information about the study and preservation method to make later analysis easier."
   ]
  },
  {
   "cell_type": "code",
   "execution_count": 2,
   "metadata": {
    "collapsed": true
   },
   "outputs": [],
   "source": [
    "def load_studies(biom_fp, meta_fp, name, preservation, keep_columns=None, \n",
    "                 filters={}, depth=1000):\n",
    "    \"\"\"Loads the studies more easily\"\"\"\n",
    "    # Loads the mapping file\n",
    "    if keep_columns == None:\n",
    "        meta = pd.read_csv(meta_fp, sep='\\t', dtype=str)\n",
    "    else:\n",
    "        meta = pd.read_csv(meta_fp, sep='\\t', dtype=str, usecols=keep_columns)\n",
    "    meta.set_index('#SampleID', inplace=True)\n",
    "    \n",
    "    # Loads the biom table\n",
    "    sotu = biom.load_table(biom_fp)\n",
    "\n",
    "    # We'll first filter the table by sequencing depth\n",
    "    sotu = sotu.filter(lambda val, id_, md: val.sum() > depth, axis='sample')\n",
    "    meta = meta.loc[sotu.ids(axis='sample')]\n",
    "    \n",
    "    # Filters the samples\n",
    "    def filter_meta(x):\n",
    "        return np.all([x[k] == v for k, v in filters.items()])\n",
    "    \n",
    "    meta_f = meta.loc[meta.apply(filter_meta, axis=1)].copy()\n",
    "    meta_f['STUDY'] = name\n",
    "    meta_f['PRESERVATION'] = preservation\n",
    "    sotu_f = sotu.filter(meta_f.index)\n",
    "    \n",
    "    return meta_f, sotu_f"
   ]
  },
  {
   "cell_type": "markdown",
   "metadata": {},
   "source": [
    "## Song fecal stability study\n",
    "\n",
    "The Song fecal stability study [[1](#1)] compares the stability of human and dog fecal samples under a variety of storage conditions.\n",
    "\n",
    "We will only use samples with no preservative stored at ambient temperature for 7, 14 and 28 days (compared to samples sequenced at day 0)."
   ]
  },
  {
   "cell_type": "code",
   "execution_count": 3,
   "metadata": {
    "collapsed": false
   },
   "outputs": [],
   "source": [
    "song_meta, song_sotu = load_studies(\n",
    "    biom_fp = '../data/storage.sejin.clean.withtax.biom',\n",
    "    meta_fp = '../data/map.storage.sejin.txt',\n",
    "    name='SONG',\n",
    "    preservation='STORAGE',\n",
    "    keep_columns=['#SampleID', 'preservative', 'temperature', 'temp2', 'species', \n",
    "                  'time_numeric', 'subject'],\n",
    "    filters={'preservative': 'None',\n",
    "             'temperature': 'amb',\n",
    "             'species': 'human'},\n",
    "    )"
   ]
  },
  {
   "cell_type": "markdown",
   "metadata": {},
   "source": [
    "The sample is filtered to only include perservative-free samples stored at room temperature. These include samples collected at day 0 and immediately sequenced, which we use as a reference. We will only use samples with at least 1000 sequences."
   ]
  },
  {
   "cell_type": "markdown",
   "metadata": {},
   "source": [
    "## Mayo fecal stability study"
   ]
  },
  {
   "cell_type": "markdown",
   "metadata": {},
   "source": [
    "The Mayo fecal stability study [[2](#2)] compares the effect of different storage conditions on human fecal samples. Samples were stored at room temperature with or without perservatives. We'll only look at samples without perservative."
   ]
  },
  {
   "cell_type": "code",
   "execution_count": 4,
   "metadata": {
    "collapsed": false
   },
   "outputs": [],
   "source": [
    "mayo_meta, mayo_sotu = load_studies(\n",
    "    biom_fp = '../data/mayo.new.min10.clean.withtax.biom',\n",
    "    meta_fp = '../data/map.mayo1.txt',\n",
    "    name='MAYO_STORAGE',\n",
    "    preservation='STORAGE',\n",
    "    filters={'TREATMENT': 'No Additive'},\n",
    "    )"
   ]
  },
  {
   "cell_type": "markdown",
   "metadata": {},
   "source": [
    "## American Gut\n",
    "\n",
    "The [American Gut Project](<http://www.americangut.org>) is a cross sectional study. Samples were shipped through local post without perservatives. We will use only fecal samples with at least 1000 sequences per sample."
   ]
  },
  {
   "cell_type": "code",
   "execution_count": 8,
   "metadata": {
    "collapsed": false
   },
   "outputs": [],
   "source": [
    "agp_meta, agp_sotu = load_studies(biom_fp='../data/ag.qiita-10317.biom',\n",
    "                                  meta_fp='../data/ag.qiita-10317.txt',\n",
    "                                  name='AGP',\n",
    "                                  preservation='NONE',\n",
    "                                  keep_columns=['BODY_HABITAT', '#SampleID'],\n",
    "                                  filters={'BODY_HABITAT': 'UBERON:feces'}\n",
    "                                  )"
   ]
  },
  {
   "cell_type": "markdown",
   "metadata": {},
   "source": [
    "## UK twins study\n",
    "\n",
    "We'll use data from Goodrich et al [[3](#3)], a fresh frozen study comparing the heritability of the microbiome in monozygotic and dizygotic twins."
   ]
  },
  {
   "cell_type": "code",
   "execution_count": 9,
   "metadata": {
    "collapsed": false
   },
   "outputs": [],
   "source": [
    "twin_meta, twin_sotu = load_studies(biom_fp='../data/twins.qiita-2014.biom',\n",
    "                                meta_fp='../data/twins.qiita-2014.txt',\n",
    "                                name='UK_TWINS',\n",
    "                                preservation='FRESH_FROZEN',\n",
    "                                keep_columns=['env_matter', '#SampleID'],\n",
    "                                filters={'env_matter': 'ENVO:feces'}\n",
    "                                )"
   ]
  },
  {
   "cell_type": "markdown",
   "metadata": {},
   "source": [
    "## PGP\n",
    "\n",
    "(unpublished), Qiita study ID [1189](<https://qiita.ucsd.edu/study/description/1189>)\n",
    "\n",
    "Samples were collected from participants in the Personal Genome Project and fresh frozen. The study has not yet been published, but data is avaliable in [Qiita study 1189](<https://qiita.ucsd.edu/study/description/1189>). The study contains fecal, oral and skin samples. We'll use only the fecal samples.\n"
   ]
  },
  {
   "cell_type": "code",
   "execution_count": 12,
   "metadata": {
    "collapsed": false
   },
   "outputs": [],
   "source": [
    "pgp_meta, pgp_sotu = load_studies(biom_fp='../data/pgp.qiita-1189.biom',\n",
    "                                  meta_fp='../data/pgp.qiita-1189.txt',\n",
    "                                  name='PGP',\n",
    "                                  preservation='FRESH_FROZEN',\n",
    "                                  keep_columns=['#SampleID', 'body_product'],\n",
    "                                  filters={'body_product': 'UBERON:feces'}\n",
    "                                  )"
   ]
  },
  {
   "cell_type": "markdown",
   "metadata": {},
   "source": [
    "## Ercolini whole grain feces\n",
    "\n",
    "This study [[4](#4)] contains fecal samples from 80 healthy overweight/obese subjects, part of which undergoing whole grain wheat dietery intervention."
   ]
  },
  {
   "cell_type": "code",
   "execution_count": 13,
   "metadata": {
    "collapsed": false
   },
   "outputs": [],
   "source": [
    "erc_meta, erc_sotu = load_studies(biom_fp='../data/erc.qiita-1481.biom',\n",
    "                                  meta_fp='../data/erc.qiita-1481.txt',\n",
    "                                  name='ERC',\n",
    "                                  preservation='FRESH_FROZEN',\n",
    "                                  keep_columns=['env_matter', '#SampleID'],\n",
    "                                  filters={'env_matter': 'ENVO:feces'}\n",
    "                                  )"
   ]
  },
  {
   "cell_type": "markdown",
   "metadata": {},
   "source": [
    "# Sequence Lookup\n",
    "\n",
    "To facility future analysis, we'll build a look up reference o"
   ]
  },
  {
   "cell_type": "markdown",
   "metadata": {},
   "source": [
    "# Analysis"
   ]
  },
  {
   "cell_type": "markdown",
   "metadata": {},
   "source": [
    "## Calculate growth for bacteria in storage studies\n",
    "For each sOTU, calculate the mean fold change over all individuals, using a minimal read cutoff of 5 reads/sample to reduce effect of discretization and multinomial sampling of low frequency sOTUs.\n",
    "\n",
    "Let's start by defining the function we'll use to calculate these fold differences. We'll take a map and subOTU table for a storage study. We assume that this study includes multiple samples from the same individual (designated by the `subject` column). We can compare the difference between timepoints (identied as the values of `time0` and `time1` and found in the `time_col`). Additional filters to select the sames, such as the perservative or storage temperature can be specified as well, using `filters`. The minimum sequencing depth for a sample to be considered is set as `seq_depth`, while the minimum number of counts for an OTU to be compared is `min_count`.\n",
    "\n",
    "The function will calculate the mean fold change in sOTUs of interest between the two time points for all OTUs which have at least hte minimum number of counts either before or after storage."
   ]
  },
  {
   "cell_type": "code",
   "execution_count": 14,
   "metadata": {
    "collapsed": true
   },
   "outputs": [],
   "source": [
    "def test_stability(map_, otu_, time_col='time_numeric', time0='1', time1='2', \n",
    "                   subject_col='subject', mincount=5, seq_depth=2500, filters={}):\n",
    "    \"\"\"Calculates the fold change in a sub OTU between timepoints\n",
    "    \n",
    "    Parameters\n",
    "    ----------\n",
    "    map_ : DataFrame\n",
    "        The mapping file for the study. Must contain the columns\n",
    "    \"\"\"\n",
    "    # Filters out samples without at least the minimum number of sequences\n",
    "    \n",
    "    \n",
    "    # Filters out sOTUs without at least 0 sequences/sample\n",
    "    \n",
    "    # Sets up a filter for the mapping file to get the appropriate data.\n",
    "    def stability_filter(x):\n",
    "        return ((x[time_col] in {time0, time1}) &\n",
    "                (np.all([x[c] == v for c, v in filters.items()]))\n",
    "                )\n",
    "    \n",
    "    # Filters the mapping file and otu table\n",
    "    map_ = map_.loc[map_.apply(stability_filter, axis=1)].copy()\n",
    "    otu_ = otu_.filter(map_.index, inplace=False)\n",
    "    otu_ = otu_.filter(lambda val, id_, md: (val.sum() > 0), axis='observation')\n",
    "    \n",
    "    otu_ids = otu_.ids('observation')\n",
    "    ratios = []\n",
    "    subjects = []\n",
    "    # Groups by subject and iterates through the comparison\n",
    "    for hsi, sub_map in map_.groupby(subject_col):\n",
    "        # Gets the list of samples at each time point\n",
    "        id0 = set(sub_map.index[sub_map[time_col] == time0])\n",
    "        id1 = set(sub_map.index[sub_map[time_col] == time1])\n",
    "        \n",
    "        # If there aren't samples for each timepoint, continue\n",
    "        if ((len(id0) == 0) or (len(id1) == 0)):\n",
    "            continue\n",
    "        \n",
    "        # Gets the OTU data\n",
    "        sotus0 = otu_.filter(id0, inplace=False).sum(axis='observation') / len(id0)\n",
    "        sotus1 = otu_.filter(id1, inplace=False).sum(axis='observation') / len(id1)\n",
    "\n",
    "        low = (sotus0 < mincount) & (sotus1 < mincount)\n",
    "\n",
    "        sotus0[sotus0 < mincount] = mincount\n",
    "        sotus1[sotus1 < mincount] = mincount\n",
    "\n",
    "        ratio = sotus1 / sotus0\n",
    "        ratio[low] = np.nan\n",
    "        ratios.append(ratio)\n",
    "        subjects.append(hsi)\n",
    "    \n",
    "    # Gets the list of ratios exlcuding any otu which doesnt meet the filtering criteria\n",
    "    ratios = pd.DataFrame(np.vstack(ratios), index=subjects, columns=otu_ids)\n",
    "    ratios.dropna(1, inplace=True, how='all')\n",
    "\n",
    "    # Calculate the mean fold change and the log fold change\n",
    "    fc = pd.Series(np.nanmean(ratios, 0), index=ratios.columns)\n",
    "    \n",
    "    return fc"
   ]
  },
  {
   "cell_type": "markdown",
   "metadata": {},
   "source": [
    "We'll also generate a pretty histogram plot showing the comparison. This will take the fold change values and return a maplotlib axis with a plot. "
   ]
  },
  {
   "cell_type": "code",
   "execution_count": 15,
   "metadata": {
    "collapsed": true
   },
   "outputs": [],
   "source": [
    "def plot_logfoldchange_histogram(foldchange, fig=None, ax=None):\n",
    "    \"\"\"Makes a pretty histogram of the fold change\"\"\"\n",
    "    if fig is None:\n",
    "        fig = plt.figure()\n",
    "    if ax is None:\n",
    "        ax = plt.axes()\n",
    "    # Constant limits and bins facilitate comparisons\n",
    "    sn.distplot(np.log2(foldchange.dropna()), ax=ax, bins=np.linspace(-12, 12, 120))\n",
    "    ax.set_xlim([-12, 12])\n",
    "    ax.set_ylim([0, 1])\n",
    "    # Sets up axis labels\n",
    "    ax.set_ylabel('Number of OTUs', size=24)\n",
    "    ax.set_xlabel('log$_{2}$(fold change)', size=24)\n",
    "    ax.tick_params(axis='both', which='major', labelsize=24)\n",
    "    plt.tight_layout()\n",
    "    \n",
    "    return fig"
   ]
  },
  {
   "cell_type": "markdown",
   "metadata": {},
   "source": [
    "We'll look at the fold change in the mayo stability study. We'll compare the samples from day 0 to day 1 and day 4."
   ]
  },
  {
   "cell_type": "code",
   "execution_count": 257,
   "metadata": {
    "collapsed": false
   },
   "outputs": [],
   "source": [
    "mayo_fc  = pd.DataFrame(\n",
    "    data=[test_stability(mayo_meta, mayo_sotu, \n",
    "                         time_col='SAMPLE_VISIT', \n",
    "                         subject_col='HOST_SUBJECT_ID',\n",
    "                         time0='Day 0', \n",
    "                         time1 = 'Day %i' % day) for day in [1, 4]],\n",
    "    index=['Day 1', 'Day 4']\n",
    "    ).T"
   ]
  },
  {
   "cell_type": "markdown",
   "metadata": {},
   "source": [
    "Let's also look at the change between day 0 and day 1 in the same study."
   ]
  },
  {
   "cell_type": "raw",
   "metadata": {
    "collapsed": false
   },
   "source": [
    "# mayo 1 days\n",
    "mayo1_fig = plot_logfoldchange_histogram(mayo_fc['Day 1'])\n",
    "mayo1_fig.savefig('../results/fig1-hist-mayo-1-0.pdf')\n",
    "\n",
    "# Let's look at the difference between day 0 and day 4 in samples from the Mayo Stability study.\n",
    "\n",
    "# mayo 4 days\n",
    "mayo4_fig = plot_logfoldchange_histogram(mayo_fc['Day 4'])\n",
    "\n",
    "mayo4_fig.savefig('../results/fig1-hist-mayo-4-0.pdf')"
   ]
  },
  {
   "cell_type": "markdown",
   "metadata": {},
   "source": [
    "We'll also look at the Song stability study, comparing fresh samples to those stored for one, two, and seven weeks."
   ]
  },
  {
   "cell_type": "code",
   "execution_count": 258,
   "metadata": {
    "collapsed": true
   },
   "outputs": [],
   "source": [
    "song_fc  = pd.DataFrame(\n",
    "    data=[test_stability(song_meta, song_sotu, \n",
    "                         time0='1', \n",
    "                         time1 = '%i' % day) for day in [2, 3, 4]],\n",
    "    index=['Week 1', 'Week 2', 'Week 7']\n",
    "    ).T"
   ]
  },
  {
   "cell_type": "raw",
   "metadata": {
    "collapsed": false,
    "scrolled": false
   },
   "source": [
    "sj7fc_fig = plot_logfoldchange_histogram(song_fc['Week 1'])\n",
    "sj7fc_fig.savefig('../results/fig1-hist-sejin-7-0.pdf')\n",
    "\n",
    "sj14fc_fig = plot_logfoldchange_histogram(song_fc['Week 2'])\n",
    "sj14fc_fig.savefig('../results/fig1-hist-sejin-14-0.pdf')\n",
    "\n",
    "# se jin 4 weeks\n",
    "sj28fc_fig = plot_logfoldchange_histogram(song_fc['Week 7'])\n",
    "sj28fc_fig.savefig('../results/fig1-hist-sejin-28-0.pdf')"
   ]
  },
  {
   "cell_type": "markdown",
   "metadata": {},
   "source": [
    "## Differential Expression\n",
    "We'll next look at how American Gut, the shipped study, looks in comparison to the fresh frozen studies.\n",
    "\n",
    "So, we'll join all the cross sectional studies together and find sOTUs which differ significantly.\n",
    "Join all studies together and find sOTUs sginificantly higher/lower in AG"
   ]
  },
  {
   "cell_type": "code",
   "execution_count": null,
   "metadata": {
    "collapsed": true
   },
   "outputs": [],
   "source": [
    "# Combines the metadata\n",
    "fec_meta = pd.concat([pgp_meta[['STUDY', 'PRESERVATION']], \n",
    "                      twin_meta[['STUDY', 'PRESERVATION']], \n",
    "                      agp_meta[['STUDY', 'PRESERVATION']], \n",
    "                      erc_meta[['STUDY', 'PRESERVATION']]])"
   ]
  },
  {
   "cell_type": "code",
   "execution_count": null,
   "metadata": {
    "collapsed": false
   },
   "outputs": [],
   "source": [
    "# Combines the sOTU tables\n",
    "fec_sotu = pgp_sotu.merge(twin_sotu).merge(agp_sotu).merge(erc_sotu)"
   ]
  },
  {
   "cell_type": "markdown",
   "metadata": {},
   "source": [
    "# ------- REMOVE THESE CELLS --------"
   ]
  },
  {
   "cell_type": "code",
   "execution_count": 144,
   "metadata": {
    "collapsed": false
   },
   "outputs": [],
   "source": [
    "keep_ids = np.hstack(\n",
    "    [np.random.choice(fec_meta.loc[fec_meta['STUDY'] == study].index, 25, replace=False)\n",
    "     for study in fec_meta['STUDY'].unique()]\n",
    "    )\n",
    "fec_meta = fec_meta.loc[keep_ids].copy()\n",
    "fec_sotu = fec_sotu.filter(keep_ids, axis='sample')"
   ]
  },
  {
   "cell_type": "markdown",
   "metadata": {},
   "source": [
    "# -------------------------------------------"
   ]
  },
  {
   "cell_type": "markdown",
   "metadata": {},
   "source": [
    "Once we combine the studies, we'll filter out any OTU present in less than "
   ]
  },
  {
   "cell_type": "code",
   "execution_count": 145,
   "metadata": {
    "collapsed": true
   },
   "outputs": [],
   "source": [
    "fec_sotu = fec_sotu.filter(lambda val, id_, md: val.sum() > 50, axis='observation', inplace=False)"
   ]
  },
  {
   "cell_type": "markdown",
   "metadata": {},
   "source": [
    "We'll use ANCOM [[5](#5)] to analyze the differential abundance between the fresh frozen and unpreserved studies, and then use this to calculate a fold change. We'll start by casting our sOTU tables to a dataframe, which will give us some more flexibility for the operations we need to do."
   ]
  },
  {
   "cell_type": "code",
   "execution_count": 185,
   "metadata": {
    "collapsed": true
   },
   "outputs": [],
   "source": [
    "fec_sotu = exploding_panda(fec_sotu).to_dense()"
   ]
  },
  {
   "cell_type": "code",
   "execution_count": 186,
   "metadata": {
    "collapsed": false
   },
   "outputs": [],
   "source": [
    "fec_sotu.reset_index(inplace=True)"
   ]
  },
  {
   "cell_type": "markdown",
   "metadata": {},
   "source": [
    "To make handling the data easier, we'll build an MD5 look up for the sequences, and then adjust the index to account for this."
   ]
  },
  {
   "cell_type": "code",
   "execution_count": 148,
   "metadata": {
    "collapsed": true
   },
   "outputs": [],
   "source": [
    "sequences = fec_sotu_t[['index']].copy()\n",
    "sequences.rename(columns={'index': 'sequence'}, inplace=True)\n",
    "sequences['md5'] = sequences['sequence'].apply(\n",
    "    lambda x: hashlib.md5(x.encode('utf-8')).hexdigest()\n",
    ")\n",
    "assert len(sequences['md5'].unique()) == len(sequences['md5'])"
   ]
  },
  {
   "cell_type": "markdown",
   "metadata": {},
   "source": [
    "Finally, we'll replace the keyname."
   ]
  },
  {
   "cell_type": "code",
   "execution_count": 149,
   "metadata": {
    "collapsed": false
   },
   "outputs": [],
   "source": [
    "md_key = sequences.set_index('sequence').to_dict()\n",
    "fec_sotu_t['index'] = fec_sotu_t['index'].apply(lambda x: md_key['md5'][x])\n",
    "fec_sotu_t.set_index('index', inplace=True)"
   ]
  },
  {
   "cell_type": "code",
   "execution_count": 150,
   "metadata": {
    "collapsed": true
   },
   "outputs": [],
   "source": [
    "fec_sotu_t = fec_sotu_t.T"
   ]
  },
  {
   "cell_type": "markdown",
   "metadata": {},
   "source": [
    "ANCOM calcuates a significant difference in the ratio abundance between sOTUs, which accounts for compositionality in the data using log ratios. The method does not accept zeros, so we're going to add a constant value of 1 to all our counts before we normalize the data."
   ]
  },
  {
   "cell_type": "code",
   "execution_count": 154,
   "metadata": {
    "collapsed": false
   },
   "outputs": [],
   "source": [
    "fec_close = pd.DataFrame(closure(fec_sotu_t.values + 1),\n",
    "                         index=fec_sotu_t.index,\n",
    "                         columns=fec_sotu_t.columns)"
   ]
  },
  {
   "cell_type": "markdown",
   "metadata": {},
   "source": [
    "Finally, let's run ANCOM and calculate the fold change."
   ]
  },
  {
   "cell_type": "code",
   "execution_count": 155,
   "metadata": {
    "collapsed": false
   },
   "outputs": [
    {
     "name": "stderr",
     "output_type": "stream",
     "text": [
      "/Users/jdebelius/miniconda2/envs/bloom/lib/python3.5/site-packages/scipy/stats/stats.py:2976: RuntimeWarning: invalid value encountered in double_scalars\n",
      "  f = msb / msw\n"
     ]
    },
    {
     "name": "stdout",
     "output_type": "stream",
     "text": [
      "CPU times: user 1min 56s, sys: 382 ms, total: 1min 57s\n",
      "Wall time: 1min 57s\n"
     ]
    }
   ],
   "source": [
    "%%time\n",
    "ancom_stats, features = ancom(fec_close, fec_meta['PRESERVATION'], \n",
    "                              multiple_comparisons_correction='holm-bonferroni')"
   ]
  },
  {
   "cell_type": "markdown",
   "metadata": {},
   "source": [
    "## Calculate the fold change of american gut compared to all other experiments\n",
    "For each sOTU, comapre the mean in all AG samples to the mean of all samples in a fresh-frozen experiment. The samples are unpaired, so we can't just compare the means. We'll perform this calculation seperately between each pair of studies.\n",
    "\n",
    "We'll start by getting the pandas dataframes for each study to make the comparisons."
   ]
  },
  {
   "cell_type": "code",
   "execution_count": 157,
   "metadata": {
    "collapsed": false
   },
   "outputs": [],
   "source": [
    "pgp_meta_f = fec_meta.loc[fec_meta['STUDY'] == 'PGP']\n",
    "pgp_sotu_f = fec_sotu_t.loc[pgp_meta_f.index]"
   ]
  },
  {
   "cell_type": "code",
   "execution_count": 158,
   "metadata": {
    "collapsed": true
   },
   "outputs": [],
   "source": [
    "agp_meta_f = fec_meta.loc[fec_meta['STUDY'] == 'AGP']\n",
    "agp_sotu_f = fec_sotu_t.loc[agp_meta_f.index]"
   ]
  },
  {
   "cell_type": "code",
   "execution_count": 159,
   "metadata": {
    "collapsed": false
   },
   "outputs": [],
   "source": [
    "twin_meta_f = fec_meta.loc[fec_meta['STUDY'] == 'UK_TWINS']\n",
    "twin_sotu_f = fec_sotu_t.loc[twin_meta_f.index]"
   ]
  },
  {
   "cell_type": "code",
   "execution_count": 160,
   "metadata": {
    "collapsed": true
   },
   "outputs": [],
   "source": [
    "erc_meta_f = fec_meta.loc[fec_meta['STUDY'] == 'ERC']\n",
    "erc_sotu_f = fec_sotu_t.loc[erc_meta_f.index]"
   ]
  },
  {
   "cell_type": "markdown",
   "metadata": {},
   "source": [
    "Next, let's write a function to calculate the fold change between studies.\n",
    "\n",
    "**Check the mask**"
   ]
  },
  {
   "cell_type": "code",
   "execution_count": 171,
   "metadata": {
    "collapsed": true
   },
   "outputs": [],
   "source": [
    "def calculate_fold_change(sotu1, sotu2, minreads=1):\n",
    "    \"\"\"Calculates the fold change between two datasets\"\"\"\n",
    "    \n",
    "    # The fold change\n",
    "    fc = {}\n",
    "    not_compared = []\n",
    "    \n",
    "    # Replaces values below the threshhold\n",
    "    mask = (sotu1 < minreads) && (sotu2 < minreads)\n",
    "    sotu1[sotu1 < minreads] = minreads\n",
    "    sotu2[sotu2 < minreads] = minreads\n",
    "    \n",
    "    # Calculates the mean ratio\n",
    "    ratio = sotu1.mean(0) / sotu2.mean(0)\n",
    "    ratio[mask] = np.nan\n",
    "    return ratio"
   ]
  },
  {
   "cell_type": "markdown",
   "metadata": {},
   "source": [
    "And, let's calculate the fold change ratio for all combinations."
   ]
  },
  {
   "cell_type": "code",
   "execution_count": 193,
   "metadata": {
    "collapsed": false
   },
   "outputs": [],
   "source": [
    "fold_change = pd.DataFrame([calculate_fold_change(agp_sotu_f, study)\n",
    "                            for study in [pgp_sotu_f, erc_sotu_f, twin_sotu_f]],\n",
    "              index=['agp_pgp', 'agp_erc', 'agp_twins']).T"
   ]
  },
  {
   "cell_type": "code",
   "execution_count": 196,
   "metadata": {
    "collapsed": false
   },
   "outputs": [],
   "source": [
    "min_ag_fc = np.nanmin(fold_change, axis=1)"
   ]
  },
  {
   "cell_type": "markdown",
   "metadata": {},
   "source": [
    "# find the blooming bacteria list\n",
    "intersect the ag-vs-others and the storage studies fold changes:\n",
    "\n",
    "Iterate over all sOTUs which are significantly different between AG and all fresh-frozen samples.\n",
    "\n",
    "For each such sOTU, we calculate two values:\n",
    "1. The maximal growth potential (maximum over all storage studies and days)\n",
    "2. The minimal ratio between AG to each fresh-frozen sample. The minimum is taken in order to reduce the effect of study-study differences (since a blooming bacteria is expected to be higher in AG compared to all fresh-frozen studies)\n",
    "\n",
    "Candidate blooming bacteria are defined as sOTUs that have either:\n",
    "- At least two fold difference in both (1) and (2), or that are not\n",
    "\n",
    "OR\n",
    "- At least two fold difference in (2) and are not present in (1) (since storage studies have a small set of individuals, there may be blooming bacteria that by chance were not present in the storage study samples)\n",
    "\n",
    "OR\n",
    "- At least 50 fold change in (1), so we know they can grow drastically in room temp.\n"
   ]
  },
  {
   "cell_type": "markdown",
   "metadata": {},
   "source": [
    "## Combining the stability studies\n",
    "\n",
    "We're going to find the maximum fold difference for all comparisons based on storage studies.\n",
    "\n",
    "However, since the song study was run on a ***Check the sequencing platform***, it has 125 nucleotide reads instead of the 150 nucelotides found in other studies. To address this, we're going to compare the first 125 nucleotides of each of the sequences in the Mayo fecal stability study to value in the song study, whther the first 125 sequences are unique or not.\n",
    "\n",
    "We'll then build a hash based on the full 150 nucleotides, which will be the id we combine with the other study."
   ]
  },
  {
   "cell_type": "code",
   "execution_count": null,
   "metadata": {
    "collapsed": false
   },
   "outputs": [],
   "source": [
    "mayo_fc.reset_index(inplace=True)\n",
    "mayo_fc.rename(columns={'index': 'sequence'}, inplace=True)\n",
    "mayo_fc['sequence125'] = mayo_fc['sequence'].apply(lambda x: x[:124])\n",
    "mayo_fc.set_index('sequence125', inplace=True)"
   ]
  },
  {
   "cell_type": "code",
   "execution_count": null,
   "metadata": {
    "collapsed": true
   },
   "outputs": [],
   "source": [
    "mayo_fc"
   ]
  },
  {
   "cell_type": "code",
   "execution_count": 253,
   "metadata": {
    "collapsed": false
   },
   "outputs": [
    {
     "name": "stdout",
     "output_type": "stream",
     "text": [
      "Help on function concat in module pandas.tools.merge:\n",
      "\n",
      "concat(objs, axis=0, join='outer', join_axes=None, ignore_index=False, keys=None, levels=None, names=None, verify_integrity=False, copy=True)\n",
      "    Concatenate pandas objects along a particular axis with optional set logic\n",
      "    along the other axes. Can also add a layer of hierarchical indexing on the\n",
      "    concatenation axis, which may be useful if the labels are the same (or\n",
      "    overlapping) on the passed axis number\n",
      "    \n",
      "    Parameters\n",
      "    ----------\n",
      "    objs : a sequence or mapping of Series, DataFrame, or Panel objects\n",
      "        If a dict is passed, the sorted keys will be used as the `keys`\n",
      "        argument, unless it is passed, in which case the values will be\n",
      "        selected (see below). Any None objects will be dropped silently unless\n",
      "        they are all None in which case a ValueError will be raised\n",
      "    axis : {0, 1, ...}, default 0\n",
      "        The axis to concatenate along\n",
      "    join : {'inner', 'outer'}, default 'outer'\n",
      "        How to handle indexes on other axis(es)\n",
      "    join_axes : list of Index objects\n",
      "        Specific indexes to use for the other n - 1 axes instead of performing\n",
      "        inner/outer set logic\n",
      "    ignore_index : boolean, default False\n",
      "        If True, do not use the index values along the concatenation axis. The\n",
      "        resulting axis will be labeled 0, ..., n - 1. This is useful if you are\n",
      "        concatenating objects where the concatenation axis does not have\n",
      "        meaningful indexing information. Note the index values on the other\n",
      "        axes are still respected in the join.\n",
      "    keys : sequence, default None\n",
      "        If multiple levels passed, should contain tuples. Construct\n",
      "        hierarchical index using the passed keys as the outermost level\n",
      "    levels : list of sequences, default None\n",
      "        Specific levels (unique values) to use for constructing a\n",
      "        MultiIndex. Otherwise they will be inferred from the keys\n",
      "    names : list, default None\n",
      "        Names for the levels in the resulting hierarchical index\n",
      "    verify_integrity : boolean, default False\n",
      "        Check whether the new concatenated axis contains duplicates. This can\n",
      "        be very expensive relative to the actual data concatenation\n",
      "    copy : boolean, default True\n",
      "        If False, do not copy data unnecessarily\n",
      "    \n",
      "    Notes\n",
      "    -----\n",
      "    The keys, levels, and names arguments are all optional\n",
      "    \n",
      "    Returns\n",
      "    -------\n",
      "    concatenated : type of objects\n",
      "\n"
     ]
    }
   ],
   "source": [
    "help(pd.concat)"
   ]
  },
  {
   "cell_type": "code",
   "execution_count": 256,
   "metadata": {
    "collapsed": false
   },
   "outputs": [
    {
     "data": {
      "text/html": [
       "<div>\n",
       "<table border=\"1\" class=\"dataframe\">\n",
       "  <thead>\n",
       "    <tr style=\"text-align: right;\">\n",
       "      <th></th>\n",
       "      <th>sequence</th>\n",
       "      <th>sequence</th>\n",
       "      <th>Day 1</th>\n",
       "      <th>Day 4</th>\n",
       "    </tr>\n",
       "    <tr>\n",
       "      <th>sequence125</th>\n",
       "      <th></th>\n",
       "      <th></th>\n",
       "      <th></th>\n",
       "      <th></th>\n",
       "    </tr>\n",
       "  </thead>\n",
       "  <tbody>\n",
       "    <tr>\n",
       "      <th>0.0</th>\n",
       "      <td>0</td>\n",
       "      <td>AACGTAGGGTGCAAGCGTTGTCCGGAATTACTGGGTGTAAAGGGAG...</td>\n",
       "      <td>0.788547</td>\n",
       "      <td>0.623030</td>\n",
       "    </tr>\n",
       "    <tr>\n",
       "      <th>1.0</th>\n",
       "      <td>1</td>\n",
       "      <td>AACGTAGGGTGCAAGCGTTGTCCGGAATTACTGGGTGTAAAGGGAG...</td>\n",
       "      <td>0.925568</td>\n",
       "      <td>0.943039</td>\n",
       "    </tr>\n",
       "    <tr>\n",
       "      <th>2.0</th>\n",
       "      <td>2</td>\n",
       "      <td>AACGTAGGGTGCAAGCGTTGTCCGGAATTACTGGGTGTAAAGGGAG...</td>\n",
       "      <td>0.997222</td>\n",
       "      <td>0.555556</td>\n",
       "    </tr>\n",
       "    <tr>\n",
       "      <th>3.0</th>\n",
       "      <td>3</td>\n",
       "      <td>AACGTAGGGTGCAAGCGTTGTCCGGAATTACTGGGTGTAAAGGGAG...</td>\n",
       "      <td>0.664655</td>\n",
       "      <td>0.668841</td>\n",
       "    </tr>\n",
       "    <tr>\n",
       "      <th>4.0</th>\n",
       "      <td>4</td>\n",
       "      <td>AACGTAGGGTGCAAGCGTTGTCCGGAATTACTGGGTGTAAAGGGAG...</td>\n",
       "      <td>NaN</td>\n",
       "      <td>1.000000</td>\n",
       "    </tr>\n",
       "    <tr>\n",
       "      <th>5.0</th>\n",
       "      <td>5</td>\n",
       "      <td>AACGTAGGGTGCAAGCGTTGTCCGGAATTACTGGGTGTAAAGGGAG...</td>\n",
       "      <td>0.871099</td>\n",
       "      <td>1.612398</td>\n",
       "    </tr>\n",
       "    <tr>\n",
       "      <th>6.0</th>\n",
       "      <td>6</td>\n",
       "      <td>AACGTAGGGTGCAAGCGTTGTCCGGAATTACTGGGTGTAAAGGGAG...</td>\n",
       "      <td>0.890681</td>\n",
       "      <td>0.935593</td>\n",
       "    </tr>\n",
       "    <tr>\n",
       "      <th>7.0</th>\n",
       "      <td>7</td>\n",
       "      <td>AACGTAGGGTGCAAGCGTTGTCCGGAATTACTGGGTGTAAAGGGAG...</td>\n",
       "      <td>1.208592</td>\n",
       "      <td>0.484817</td>\n",
       "    </tr>\n",
       "    <tr>\n",
       "      <th>8.0</th>\n",
       "      <td>8</td>\n",
       "      <td>AACGTAGGGTGCAAGCGTTGTCCGGAATTACTGGGTGTAAAGGGAG...</td>\n",
       "      <td>1.317114</td>\n",
       "      <td>1.703020</td>\n",
       "    </tr>\n",
       "    <tr>\n",
       "      <th>9.0</th>\n",
       "      <td>9</td>\n",
       "      <td>AACGTAGGGTGCAAGCGTTGTCCGGAATTACTGGGTGTAAAGGGAG...</td>\n",
       "      <td>1.600000</td>\n",
       "      <td>2.200000</td>\n",
       "    </tr>\n",
       "    <tr>\n",
       "      <th>10.0</th>\n",
       "      <td>10</td>\n",
       "      <td>AACGTAGGGTGCTAGCGTTGTCCGGAATTACTGGGTGTAAAGGGAG...</td>\n",
       "      <td>1.350658</td>\n",
       "      <td>0.665205</td>\n",
       "    </tr>\n",
       "    <tr>\n",
       "      <th>11.0</th>\n",
       "      <td>11</td>\n",
       "      <td>AACGTAGGTCACAAGCGTTGTCCGGAATTACTGGGCGTAAAGCGCA...</td>\n",
       "      <td>1.000000</td>\n",
       "      <td>1.916667</td>\n",
       "    </tr>\n",
       "    <tr>\n",
       "      <th>12.0</th>\n",
       "      <td>12</td>\n",
       "      <td>AACGTAGGTCACAAGCGTTGTCCGGAATTACTGGGCGTAAAGCGTG...</td>\n",
       "      <td>NaN</td>\n",
       "      <td>1.850000</td>\n",
       "    </tr>\n",
       "    <tr>\n",
       "      <th>13.0</th>\n",
       "      <td>13</td>\n",
       "      <td>AACGTAGGTCACAAGCGTTGTCCGGAATTACTGGGCGTAAAGGGTG...</td>\n",
       "      <td>0.965957</td>\n",
       "      <td>0.792553</td>\n",
       "    </tr>\n",
       "    <tr>\n",
       "      <th>14.0</th>\n",
       "      <td>14</td>\n",
       "      <td>AACGTAGGTCACAAGCGTTGTCCGGAATTACTGGGCGTAAAGGGTG...</td>\n",
       "      <td>NaN</td>\n",
       "      <td>1.150000</td>\n",
       "    </tr>\n",
       "    <tr>\n",
       "      <th>15.0</th>\n",
       "      <td>15</td>\n",
       "      <td>AACGTAGGTCACAAGCGTTGTCCGGAATTACTGGGTGTAAAGGGAG...</td>\n",
       "      <td>0.633221</td>\n",
       "      <td>0.576795</td>\n",
       "    </tr>\n",
       "    <tr>\n",
       "      <th>16.0</th>\n",
       "      <td>16</td>\n",
       "      <td>AACGTAGGTCACAAGCGTTGTCCGGAATTACTGGGTGTAAAGGGAG...</td>\n",
       "      <td>1.093427</td>\n",
       "      <td>1.185997</td>\n",
       "    </tr>\n",
       "    <tr>\n",
       "      <th>17.0</th>\n",
       "      <td>17</td>\n",
       "      <td>AACGTAGGTCACAAGCGTTGTCCGGAATTACTGGGTGTAAAGGGAG...</td>\n",
       "      <td>2.450000</td>\n",
       "      <td>NaN</td>\n",
       "    </tr>\n",
       "    <tr>\n",
       "      <th>18.0</th>\n",
       "      <td>18</td>\n",
       "      <td>AACGTAGGTCACAAGCGTTGTCCGGAATTACTGGGTGTAAAGGGAG...</td>\n",
       "      <td>1.003146</td>\n",
       "      <td>0.877729</td>\n",
       "    </tr>\n",
       "    <tr>\n",
       "      <th>19.0</th>\n",
       "      <td>19</td>\n",
       "      <td>AACGTAGGTCACAAGCGTTGTCCGGAATTACTGGGTGTAAAGGGAG...</td>\n",
       "      <td>0.965852</td>\n",
       "      <td>0.815805</td>\n",
       "    </tr>\n",
       "    <tr>\n",
       "      <th>20.0</th>\n",
       "      <td>20</td>\n",
       "      <td>AACGTAGGTCACAAGCGTTGTCCGGAATTACTGGGTGTAAAGGGAG...</td>\n",
       "      <td>0.935773</td>\n",
       "      <td>0.497238</td>\n",
       "    </tr>\n",
       "    <tr>\n",
       "      <th>21.0</th>\n",
       "      <td>21</td>\n",
       "      <td>AACGTAGGTCACAAGCGTTGTCCGGAATTACTGGGTGTAAAGGGAG...</td>\n",
       "      <td>0.892758</td>\n",
       "      <td>0.698230</td>\n",
       "    </tr>\n",
       "    <tr>\n",
       "      <th>22.0</th>\n",
       "      <td>22</td>\n",
       "      <td>AACGTAGGTCACAAGCGTTGTCCGGAATTACTGGGTGTAAAGGGAG...</td>\n",
       "      <td>0.673077</td>\n",
       "      <td>0.253205</td>\n",
       "    </tr>\n",
       "    <tr>\n",
       "      <th>23.0</th>\n",
       "      <td>23</td>\n",
       "      <td>AACGTAGGTCACAAGCGTTGTCCGGAATTACTGGGTGTAAAGGGAG...</td>\n",
       "      <td>0.941792</td>\n",
       "      <td>0.796853</td>\n",
       "    </tr>\n",
       "    <tr>\n",
       "      <th>24.0</th>\n",
       "      <td>24</td>\n",
       "      <td>AACGTAGGTCACAAGCGTTGTCCGGAATTACTGGGTGTAAAGGGAG...</td>\n",
       "      <td>0.582011</td>\n",
       "      <td>0.198413</td>\n",
       "    </tr>\n",
       "    <tr>\n",
       "      <th>25.0</th>\n",
       "      <td>25</td>\n",
       "      <td>AACGTAGGTCACAAGCGTTGTCCGGAATTACTGGGTGTAAAGGGAG...</td>\n",
       "      <td>1.443662</td>\n",
       "      <td>0.352113</td>\n",
       "    </tr>\n",
       "    <tr>\n",
       "      <th>26.0</th>\n",
       "      <td>26</td>\n",
       "      <td>AACGTAGGTCACAAGCGTTGTCCGGAATTACTGGGTGTAAAGGGAG...</td>\n",
       "      <td>0.742337</td>\n",
       "      <td>0.708377</td>\n",
       "    </tr>\n",
       "    <tr>\n",
       "      <th>27.0</th>\n",
       "      <td>27</td>\n",
       "      <td>AACGTAGGTCACAAGCGTTGTCCGGAATTACTGGGTGTAAAGGGAG...</td>\n",
       "      <td>0.981521</td>\n",
       "      <td>0.858132</td>\n",
       "    </tr>\n",
       "    <tr>\n",
       "      <th>28.0</th>\n",
       "      <td>28</td>\n",
       "      <td>AACGTAGGTCACAAGCGTTGTCCGGAATTACTGGGTGTAAAGGGAG...</td>\n",
       "      <td>4.300000</td>\n",
       "      <td>2.600000</td>\n",
       "    </tr>\n",
       "    <tr>\n",
       "      <th>29.0</th>\n",
       "      <td>29</td>\n",
       "      <td>AACGTAGGTCACAAGCGTTGTCCGGAATTACTGGGTGTAAAGGGAG...</td>\n",
       "      <td>1.000000</td>\n",
       "      <td>NaN</td>\n",
       "    </tr>\n",
       "    <tr>\n",
       "      <th>...</th>\n",
       "      <td>...</td>\n",
       "      <td>...</td>\n",
       "      <td>...</td>\n",
       "      <td>...</td>\n",
       "    </tr>\n",
       "    <tr>\n",
       "      <th>NaN</th>\n",
       "      <td>974</td>\n",
       "      <td>TACGTATGGTGCAAGCGTTATCCGGATTTACTGGGTGTAAAGGGAG...</td>\n",
       "      <td>0.857122</td>\n",
       "      <td>0.660256</td>\n",
       "    </tr>\n",
       "    <tr>\n",
       "      <th>NaN</th>\n",
       "      <td>975</td>\n",
       "      <td>TACGTATGGTGCAAGCGTTATCCGGATTTACTGGGTGTAAAGGGAG...</td>\n",
       "      <td>0.438596</td>\n",
       "      <td>0.438596</td>\n",
       "    </tr>\n",
       "    <tr>\n",
       "      <th>NaN</th>\n",
       "      <td>976</td>\n",
       "      <td>TACGTATGGTGCAAGCGTTATCCGGATTTACTGGGTGTAAAGGGAG...</td>\n",
       "      <td>NaN</td>\n",
       "      <td>1.150000</td>\n",
       "    </tr>\n",
       "    <tr>\n",
       "      <th>NaN</th>\n",
       "      <td>977</td>\n",
       "      <td>TACGTATGGTGCAAGCGTTATCCGGATTTACTGGGTGTAAAGGGAG...</td>\n",
       "      <td>0.881996</td>\n",
       "      <td>0.922286</td>\n",
       "    </tr>\n",
       "    <tr>\n",
       "      <th>NaN</th>\n",
       "      <td>978</td>\n",
       "      <td>TACGTATGGTGCAAGCGTTATCCGGATTTACTGGGTGTAAAGGGAG...</td>\n",
       "      <td>0.781250</td>\n",
       "      <td>0.820312</td>\n",
       "    </tr>\n",
       "    <tr>\n",
       "      <th>NaN</th>\n",
       "      <td>979</td>\n",
       "      <td>TACGTATGGTGCAAGCGTTATCCGGATTTACTGGGTGTAAAGGGAG...</td>\n",
       "      <td>1.260027</td>\n",
       "      <td>0.853659</td>\n",
       "    </tr>\n",
       "    <tr>\n",
       "      <th>NaN</th>\n",
       "      <td>980</td>\n",
       "      <td>TACGTATGGTGCAAGCGTTATCCGGATTTACTGGGTGTAAAGGGAG...</td>\n",
       "      <td>0.937500</td>\n",
       "      <td>0.937500</td>\n",
       "    </tr>\n",
       "    <tr>\n",
       "      <th>NaN</th>\n",
       "      <td>981</td>\n",
       "      <td>TACGTATGGTGCAAGCGTTATCCGGATTTACTGGGTGTAAAGGGAG...</td>\n",
       "      <td>0.732759</td>\n",
       "      <td>1.111207</td>\n",
       "    </tr>\n",
       "    <tr>\n",
       "      <th>NaN</th>\n",
       "      <td>982</td>\n",
       "      <td>TACGTATGGTGCAAGCGTTATCCGGATTTACTGGGTGTAAAGGGAG...</td>\n",
       "      <td>1.192303</td>\n",
       "      <td>0.915295</td>\n",
       "    </tr>\n",
       "    <tr>\n",
       "      <th>NaN</th>\n",
       "      <td>983</td>\n",
       "      <td>TACGTATGGTGCAAGCGTTATCCGGATTTACTGGGTGTAAAGGGAG...</td>\n",
       "      <td>1.081081</td>\n",
       "      <td>0.912162</td>\n",
       "    </tr>\n",
       "    <tr>\n",
       "      <th>NaN</th>\n",
       "      <td>984</td>\n",
       "      <td>TACGTATGGTGCAAGCGTTATCCGGATTTACTGGGTGTAAAGGGAG...</td>\n",
       "      <td>0.875947</td>\n",
       "      <td>0.875947</td>\n",
       "    </tr>\n",
       "    <tr>\n",
       "      <th>NaN</th>\n",
       "      <td>985</td>\n",
       "      <td>TACGTATGGTGCAAGCGTTATCCGGATTTACTGGGTGTAAAGGGAG...</td>\n",
       "      <td>0.829607</td>\n",
       "      <td>0.753344</td>\n",
       "    </tr>\n",
       "    <tr>\n",
       "      <th>NaN</th>\n",
       "      <td>986</td>\n",
       "      <td>TACGTATGGTGCAAGCGTTATCCGGATTTACTGGGTGTAAAGGGAG...</td>\n",
       "      <td>0.835031</td>\n",
       "      <td>0.769332</td>\n",
       "    </tr>\n",
       "    <tr>\n",
       "      <th>NaN</th>\n",
       "      <td>987</td>\n",
       "      <td>TACGTATGGTGCAAGCGTTATCCGGATTTACTGGGTGTAAAGGGAG...</td>\n",
       "      <td>0.825121</td>\n",
       "      <td>0.687624</td>\n",
       "    </tr>\n",
       "    <tr>\n",
       "      <th>NaN</th>\n",
       "      <td>988</td>\n",
       "      <td>TACGTATGGTGCAAGCGTTATCCGGATTTACTGGGTGTAAAGGGAG...</td>\n",
       "      <td>0.961538</td>\n",
       "      <td>0.961538</td>\n",
       "    </tr>\n",
       "    <tr>\n",
       "      <th>NaN</th>\n",
       "      <td>989</td>\n",
       "      <td>TACGTATGGTGCAAGCGTTATCCGGATTTACTGGGTGTAAAGGGAG...</td>\n",
       "      <td>3.200000</td>\n",
       "      <td>2.150000</td>\n",
       "    </tr>\n",
       "    <tr>\n",
       "      <th>NaN</th>\n",
       "      <td>990</td>\n",
       "      <td>TACGTATGGTGCAAGCGTTATCCGGATTTACTGGGTGTAAAGGGAG...</td>\n",
       "      <td>0.871707</td>\n",
       "      <td>0.724117</td>\n",
       "    </tr>\n",
       "    <tr>\n",
       "      <th>NaN</th>\n",
       "      <td>991</td>\n",
       "      <td>TACGTATGGTGCAAGCGTTATCCGGATTTACTGGGTGTAAAGGGCG...</td>\n",
       "      <td>0.978454</td>\n",
       "      <td>0.714031</td>\n",
       "    </tr>\n",
       "    <tr>\n",
       "      <th>NaN</th>\n",
       "      <td>992</td>\n",
       "      <td>TACGTATGGTGCAAGCGTTATCCGGATTTACTGGGTGTAAAGGGTG...</td>\n",
       "      <td>0.761905</td>\n",
       "      <td>1.190476</td>\n",
       "    </tr>\n",
       "    <tr>\n",
       "      <th>NaN</th>\n",
       "      <td>993</td>\n",
       "      <td>TACGTATGGTGCAAGCGTTATCCGGATTTACTGGGTGTAAAGGGTG...</td>\n",
       "      <td>1.084753</td>\n",
       "      <td>0.971690</td>\n",
       "    </tr>\n",
       "    <tr>\n",
       "      <th>NaN</th>\n",
       "      <td>994</td>\n",
       "      <td>TACGTATGGTGCAAGCGTTATCCGGATTTACTGGGTGTAAAGGGTG...</td>\n",
       "      <td>1.096713</td>\n",
       "      <td>0.830663</td>\n",
       "    </tr>\n",
       "    <tr>\n",
       "      <th>NaN</th>\n",
       "      <td>995</td>\n",
       "      <td>TACGTATGGTGCAAGCGTTATCCGGATTTACTGGGTGTAAAGGGTG...</td>\n",
       "      <td>1.310422</td>\n",
       "      <td>0.663840</td>\n",
       "    </tr>\n",
       "    <tr>\n",
       "      <th>NaN</th>\n",
       "      <td>996</td>\n",
       "      <td>TACGTATGGTGCAAGCGTTATCCGGATTTACTGGGTGTAAAGGGTG...</td>\n",
       "      <td>0.417430</td>\n",
       "      <td>0.499346</td>\n",
       "    </tr>\n",
       "    <tr>\n",
       "      <th>NaN</th>\n",
       "      <td>997</td>\n",
       "      <td>TACGTATGTCACGAGCGTTATCCGGATTTATTGGGCGTAAAGCGCG...</td>\n",
       "      <td>2.300000</td>\n",
       "      <td>NaN</td>\n",
       "    </tr>\n",
       "    <tr>\n",
       "      <th>NaN</th>\n",
       "      <td>998</td>\n",
       "      <td>TACGTATGTCGCAAGCGTTATCCGGATTTATTGGGCGTAAAGCGCG...</td>\n",
       "      <td>1.138889</td>\n",
       "      <td>0.555556</td>\n",
       "    </tr>\n",
       "    <tr>\n",
       "      <th>NaN</th>\n",
       "      <td>999</td>\n",
       "      <td>TACGTATGTCGCAAGCGTTATCCGGATTTATTGGGCGTAAAGCGCG...</td>\n",
       "      <td>NaN</td>\n",
       "      <td>4.700000</td>\n",
       "    </tr>\n",
       "    <tr>\n",
       "      <th>NaN</th>\n",
       "      <td>1000</td>\n",
       "      <td>TACGTATGTCGCAAGCGTTATCCGGATTTATTGGGCGTAAAGCGCG...</td>\n",
       "      <td>2.150000</td>\n",
       "      <td>1.250000</td>\n",
       "    </tr>\n",
       "    <tr>\n",
       "      <th>NaN</th>\n",
       "      <td>1001</td>\n",
       "      <td>TACGTATGTCGCAAGCGTTATCCGGATTTATTGGGCGTAAAGCGCG...</td>\n",
       "      <td>0.735294</td>\n",
       "      <td>0.735294</td>\n",
       "    </tr>\n",
       "    <tr>\n",
       "      <th>NaN</th>\n",
       "      <td>1002</td>\n",
       "      <td>TACGTATGTCGCGAGCGTTATCCGGAATTATTGGGCTTAAAGGGCA...</td>\n",
       "      <td>0.925926</td>\n",
       "      <td>0.925926</td>\n",
       "    </tr>\n",
       "    <tr>\n",
       "      <th>NaN</th>\n",
       "      <td>1003</td>\n",
       "      <td>TACGTATGTTCCAAGCGTTATCCGGATTTATTGGGCGTAAAGCGAG...</td>\n",
       "      <td>NaN</td>\n",
       "      <td>3.200000</td>\n",
       "    </tr>\n",
       "  </tbody>\n",
       "</table>\n",
       "<p>1004 rows × 4 columns</p>\n",
       "</div>"
      ],
      "text/plain": [
       "            sequence                                           sequence  \\\n",
       "sequence125                                                               \n",
       " 0.0               0  AACGTAGGGTGCAAGCGTTGTCCGGAATTACTGGGTGTAAAGGGAG...   \n",
       " 1.0               1  AACGTAGGGTGCAAGCGTTGTCCGGAATTACTGGGTGTAAAGGGAG...   \n",
       " 2.0               2  AACGTAGGGTGCAAGCGTTGTCCGGAATTACTGGGTGTAAAGGGAG...   \n",
       " 3.0               3  AACGTAGGGTGCAAGCGTTGTCCGGAATTACTGGGTGTAAAGGGAG...   \n",
       " 4.0               4  AACGTAGGGTGCAAGCGTTGTCCGGAATTACTGGGTGTAAAGGGAG...   \n",
       " 5.0               5  AACGTAGGGTGCAAGCGTTGTCCGGAATTACTGGGTGTAAAGGGAG...   \n",
       " 6.0               6  AACGTAGGGTGCAAGCGTTGTCCGGAATTACTGGGTGTAAAGGGAG...   \n",
       " 7.0               7  AACGTAGGGTGCAAGCGTTGTCCGGAATTACTGGGTGTAAAGGGAG...   \n",
       " 8.0               8  AACGTAGGGTGCAAGCGTTGTCCGGAATTACTGGGTGTAAAGGGAG...   \n",
       " 9.0               9  AACGTAGGGTGCAAGCGTTGTCCGGAATTACTGGGTGTAAAGGGAG...   \n",
       " 10.0             10  AACGTAGGGTGCTAGCGTTGTCCGGAATTACTGGGTGTAAAGGGAG...   \n",
       " 11.0             11  AACGTAGGTCACAAGCGTTGTCCGGAATTACTGGGCGTAAAGCGCA...   \n",
       " 12.0             12  AACGTAGGTCACAAGCGTTGTCCGGAATTACTGGGCGTAAAGCGTG...   \n",
       " 13.0             13  AACGTAGGTCACAAGCGTTGTCCGGAATTACTGGGCGTAAAGGGTG...   \n",
       " 14.0             14  AACGTAGGTCACAAGCGTTGTCCGGAATTACTGGGCGTAAAGGGTG...   \n",
       " 15.0             15  AACGTAGGTCACAAGCGTTGTCCGGAATTACTGGGTGTAAAGGGAG...   \n",
       " 16.0             16  AACGTAGGTCACAAGCGTTGTCCGGAATTACTGGGTGTAAAGGGAG...   \n",
       " 17.0             17  AACGTAGGTCACAAGCGTTGTCCGGAATTACTGGGTGTAAAGGGAG...   \n",
       " 18.0             18  AACGTAGGTCACAAGCGTTGTCCGGAATTACTGGGTGTAAAGGGAG...   \n",
       " 19.0             19  AACGTAGGTCACAAGCGTTGTCCGGAATTACTGGGTGTAAAGGGAG...   \n",
       " 20.0             20  AACGTAGGTCACAAGCGTTGTCCGGAATTACTGGGTGTAAAGGGAG...   \n",
       " 21.0             21  AACGTAGGTCACAAGCGTTGTCCGGAATTACTGGGTGTAAAGGGAG...   \n",
       " 22.0             22  AACGTAGGTCACAAGCGTTGTCCGGAATTACTGGGTGTAAAGGGAG...   \n",
       " 23.0             23  AACGTAGGTCACAAGCGTTGTCCGGAATTACTGGGTGTAAAGGGAG...   \n",
       " 24.0             24  AACGTAGGTCACAAGCGTTGTCCGGAATTACTGGGTGTAAAGGGAG...   \n",
       " 25.0             25  AACGTAGGTCACAAGCGTTGTCCGGAATTACTGGGTGTAAAGGGAG...   \n",
       " 26.0             26  AACGTAGGTCACAAGCGTTGTCCGGAATTACTGGGTGTAAAGGGAG...   \n",
       " 27.0             27  AACGTAGGTCACAAGCGTTGTCCGGAATTACTGGGTGTAAAGGGAG...   \n",
       " 28.0             28  AACGTAGGTCACAAGCGTTGTCCGGAATTACTGGGTGTAAAGGGAG...   \n",
       " 29.0             29  AACGTAGGTCACAAGCGTTGTCCGGAATTACTGGGTGTAAAGGGAG...   \n",
       "...              ...                                                ...   \n",
       "NaN              974  TACGTATGGTGCAAGCGTTATCCGGATTTACTGGGTGTAAAGGGAG...   \n",
       "NaN              975  TACGTATGGTGCAAGCGTTATCCGGATTTACTGGGTGTAAAGGGAG...   \n",
       "NaN              976  TACGTATGGTGCAAGCGTTATCCGGATTTACTGGGTGTAAAGGGAG...   \n",
       "NaN              977  TACGTATGGTGCAAGCGTTATCCGGATTTACTGGGTGTAAAGGGAG...   \n",
       "NaN              978  TACGTATGGTGCAAGCGTTATCCGGATTTACTGGGTGTAAAGGGAG...   \n",
       "NaN              979  TACGTATGGTGCAAGCGTTATCCGGATTTACTGGGTGTAAAGGGAG...   \n",
       "NaN              980  TACGTATGGTGCAAGCGTTATCCGGATTTACTGGGTGTAAAGGGAG...   \n",
       "NaN              981  TACGTATGGTGCAAGCGTTATCCGGATTTACTGGGTGTAAAGGGAG...   \n",
       "NaN              982  TACGTATGGTGCAAGCGTTATCCGGATTTACTGGGTGTAAAGGGAG...   \n",
       "NaN              983  TACGTATGGTGCAAGCGTTATCCGGATTTACTGGGTGTAAAGGGAG...   \n",
       "NaN              984  TACGTATGGTGCAAGCGTTATCCGGATTTACTGGGTGTAAAGGGAG...   \n",
       "NaN              985  TACGTATGGTGCAAGCGTTATCCGGATTTACTGGGTGTAAAGGGAG...   \n",
       "NaN              986  TACGTATGGTGCAAGCGTTATCCGGATTTACTGGGTGTAAAGGGAG...   \n",
       "NaN              987  TACGTATGGTGCAAGCGTTATCCGGATTTACTGGGTGTAAAGGGAG...   \n",
       "NaN              988  TACGTATGGTGCAAGCGTTATCCGGATTTACTGGGTGTAAAGGGAG...   \n",
       "NaN              989  TACGTATGGTGCAAGCGTTATCCGGATTTACTGGGTGTAAAGGGAG...   \n",
       "NaN              990  TACGTATGGTGCAAGCGTTATCCGGATTTACTGGGTGTAAAGGGAG...   \n",
       "NaN              991  TACGTATGGTGCAAGCGTTATCCGGATTTACTGGGTGTAAAGGGCG...   \n",
       "NaN              992  TACGTATGGTGCAAGCGTTATCCGGATTTACTGGGTGTAAAGGGTG...   \n",
       "NaN              993  TACGTATGGTGCAAGCGTTATCCGGATTTACTGGGTGTAAAGGGTG...   \n",
       "NaN              994  TACGTATGGTGCAAGCGTTATCCGGATTTACTGGGTGTAAAGGGTG...   \n",
       "NaN              995  TACGTATGGTGCAAGCGTTATCCGGATTTACTGGGTGTAAAGGGTG...   \n",
       "NaN              996  TACGTATGGTGCAAGCGTTATCCGGATTTACTGGGTGTAAAGGGTG...   \n",
       "NaN              997  TACGTATGTCACGAGCGTTATCCGGATTTATTGGGCGTAAAGCGCG...   \n",
       "NaN              998  TACGTATGTCGCAAGCGTTATCCGGATTTATTGGGCGTAAAGCGCG...   \n",
       "NaN              999  TACGTATGTCGCAAGCGTTATCCGGATTTATTGGGCGTAAAGCGCG...   \n",
       "NaN             1000  TACGTATGTCGCAAGCGTTATCCGGATTTATTGGGCGTAAAGCGCG...   \n",
       "NaN             1001  TACGTATGTCGCAAGCGTTATCCGGATTTATTGGGCGTAAAGCGCG...   \n",
       "NaN             1002  TACGTATGTCGCGAGCGTTATCCGGAATTATTGGGCTTAAAGGGCA...   \n",
       "NaN             1003  TACGTATGTTCCAAGCGTTATCCGGATTTATTGGGCGTAAAGCGAG...   \n",
       "\n",
       "                Day 1     Day 4  \n",
       "sequence125                      \n",
       " 0.0         0.788547  0.623030  \n",
       " 1.0         0.925568  0.943039  \n",
       " 2.0         0.997222  0.555556  \n",
       " 3.0         0.664655  0.668841  \n",
       " 4.0              NaN  1.000000  \n",
       " 5.0         0.871099  1.612398  \n",
       " 6.0         0.890681  0.935593  \n",
       " 7.0         1.208592  0.484817  \n",
       " 8.0         1.317114  1.703020  \n",
       " 9.0         1.600000  2.200000  \n",
       " 10.0        1.350658  0.665205  \n",
       " 11.0        1.000000  1.916667  \n",
       " 12.0             NaN  1.850000  \n",
       " 13.0        0.965957  0.792553  \n",
       " 14.0             NaN  1.150000  \n",
       " 15.0        0.633221  0.576795  \n",
       " 16.0        1.093427  1.185997  \n",
       " 17.0        2.450000       NaN  \n",
       " 18.0        1.003146  0.877729  \n",
       " 19.0        0.965852  0.815805  \n",
       " 20.0        0.935773  0.497238  \n",
       " 21.0        0.892758  0.698230  \n",
       " 22.0        0.673077  0.253205  \n",
       " 23.0        0.941792  0.796853  \n",
       " 24.0        0.582011  0.198413  \n",
       " 25.0        1.443662  0.352113  \n",
       " 26.0        0.742337  0.708377  \n",
       " 27.0        0.981521  0.858132  \n",
       " 28.0        4.300000  2.600000  \n",
       " 29.0        1.000000       NaN  \n",
       "...               ...       ...  \n",
       "NaN          0.857122  0.660256  \n",
       "NaN          0.438596  0.438596  \n",
       "NaN               NaN  1.150000  \n",
       "NaN          0.881996  0.922286  \n",
       "NaN          0.781250  0.820312  \n",
       "NaN          1.260027  0.853659  \n",
       "NaN          0.937500  0.937500  \n",
       "NaN          0.732759  1.111207  \n",
       "NaN          1.192303  0.915295  \n",
       "NaN          1.081081  0.912162  \n",
       "NaN          0.875947  0.875947  \n",
       "NaN          0.829607  0.753344  \n",
       "NaN          0.835031  0.769332  \n",
       "NaN          0.825121  0.687624  \n",
       "NaN          0.961538  0.961538  \n",
       "NaN          3.200000  2.150000  \n",
       "NaN          0.871707  0.724117  \n",
       "NaN          0.978454  0.714031  \n",
       "NaN          0.761905  1.190476  \n",
       "NaN          1.084753  0.971690  \n",
       "NaN          1.096713  0.830663  \n",
       "NaN          1.310422  0.663840  \n",
       "NaN          0.417430  0.499346  \n",
       "NaN          2.300000       NaN  \n",
       "NaN          1.138889  0.555556  \n",
       "NaN               NaN  4.700000  \n",
       "NaN          2.150000  1.250000  \n",
       "NaN          0.735294  0.735294  \n",
       "NaN          0.925926  0.925926  \n",
       "NaN               NaN  3.200000  \n",
       "\n",
       "[1004 rows x 4 columns]"
      ]
     },
     "execution_count": 256,
     "metadata": {},
     "output_type": "execute_result"
    }
   ],
   "source": [
    "mayo_fc"
   ]
  },
  {
   "cell_type": "code",
   "execution_count": 255,
   "metadata": {
    "collapsed": false
   },
   "outputs": [
    {
     "ename": "InvalidIndexError",
     "evalue": "Reindexing only valid with uniquely valued Index objects",
     "output_type": "error",
     "traceback": [
      "\u001b[0;31m---------------------------------------------------------------------------\u001b[0m",
      "\u001b[0;31mInvalidIndexError\u001b[0m                         Traceback (most recent call last)",
      "\u001b[0;32m<ipython-input-255-8ab8cdf752ac>\u001b[0m in \u001b[0;36m<module>\u001b[0;34m()\u001b[0m\n\u001b[0;32m----> 1\u001b[0;31m \u001b[0mstorage_fc\u001b[0m \u001b[0;34m=\u001b[0m \u001b[0mpd\u001b[0m\u001b[0;34m.\u001b[0m\u001b[0mconcat\u001b[0m\u001b[0;34m(\u001b[0m\u001b[0;34m[\u001b[0m\u001b[0mmayo_fc\u001b[0m\u001b[0;34m,\u001b[0m \u001b[0msong_fc\u001b[0m\u001b[0;34m]\u001b[0m\u001b[0;34m,\u001b[0m \u001b[0maxis\u001b[0m\u001b[0;34m=\u001b[0m\u001b[0;36m1\u001b[0m\u001b[0;34m)\u001b[0m\u001b[0;34m\u001b[0m\u001b[0m\n\u001b[0m",
      "\u001b[0;32m/Users/jdebelius/miniconda2/envs/bloom/lib/python3.5/site-packages/pandas/tools/merge.py\u001b[0m in \u001b[0;36mconcat\u001b[0;34m(objs, axis, join, join_axes, ignore_index, keys, levels, names, verify_integrity, copy)\u001b[0m\n\u001b[1;32m   1323\u001b[0m                        \u001b[0mkeys\u001b[0m\u001b[0;34m=\u001b[0m\u001b[0mkeys\u001b[0m\u001b[0;34m,\u001b[0m \u001b[0mlevels\u001b[0m\u001b[0;34m=\u001b[0m\u001b[0mlevels\u001b[0m\u001b[0;34m,\u001b[0m \u001b[0mnames\u001b[0m\u001b[0;34m=\u001b[0m\u001b[0mnames\u001b[0m\u001b[0;34m,\u001b[0m\u001b[0;34m\u001b[0m\u001b[0m\n\u001b[1;32m   1324\u001b[0m                        \u001b[0mverify_integrity\u001b[0m\u001b[0;34m=\u001b[0m\u001b[0mverify_integrity\u001b[0m\u001b[0;34m,\u001b[0m\u001b[0;34m\u001b[0m\u001b[0m\n\u001b[0;32m-> 1325\u001b[0;31m                        copy=copy)\n\u001b[0m\u001b[1;32m   1326\u001b[0m     \u001b[0;32mreturn\u001b[0m \u001b[0mop\u001b[0m\u001b[0;34m.\u001b[0m\u001b[0mget_result\u001b[0m\u001b[0;34m(\u001b[0m\u001b[0;34m)\u001b[0m\u001b[0;34m\u001b[0m\u001b[0m\n\u001b[1;32m   1327\u001b[0m \u001b[0;34m\u001b[0m\u001b[0m\n",
      "\u001b[0;32m/Users/jdebelius/miniconda2/envs/bloom/lib/python3.5/site-packages/pandas/tools/merge.py\u001b[0m in \u001b[0;36m__init__\u001b[0;34m(self, objs, axis, join, join_axes, keys, levels, names, ignore_index, verify_integrity, copy)\u001b[0m\n\u001b[1;32m   1462\u001b[0m         \u001b[0mself\u001b[0m\u001b[0;34m.\u001b[0m\u001b[0mcopy\u001b[0m \u001b[0;34m=\u001b[0m \u001b[0mcopy\u001b[0m\u001b[0;34m\u001b[0m\u001b[0m\n\u001b[1;32m   1463\u001b[0m \u001b[0;34m\u001b[0m\u001b[0m\n\u001b[0;32m-> 1464\u001b[0;31m         \u001b[0mself\u001b[0m\u001b[0;34m.\u001b[0m\u001b[0mnew_axes\u001b[0m \u001b[0;34m=\u001b[0m \u001b[0mself\u001b[0m\u001b[0;34m.\u001b[0m\u001b[0m_get_new_axes\u001b[0m\u001b[0;34m(\u001b[0m\u001b[0;34m)\u001b[0m\u001b[0;34m\u001b[0m\u001b[0m\n\u001b[0m\u001b[1;32m   1465\u001b[0m \u001b[0;34m\u001b[0m\u001b[0m\n\u001b[1;32m   1466\u001b[0m     \u001b[0;32mdef\u001b[0m \u001b[0mget_result\u001b[0m\u001b[0;34m(\u001b[0m\u001b[0mself\u001b[0m\u001b[0;34m)\u001b[0m\u001b[0;34m:\u001b[0m\u001b[0;34m\u001b[0m\u001b[0m\n",
      "\u001b[0;32m/Users/jdebelius/miniconda2/envs/bloom/lib/python3.5/site-packages/pandas/tools/merge.py\u001b[0m in \u001b[0;36m_get_new_axes\u001b[0;34m(self)\u001b[0m\n\u001b[1;32m   1537\u001b[0m                 \u001b[0;32mif\u001b[0m \u001b[0mi\u001b[0m \u001b[0;34m==\u001b[0m \u001b[0mself\u001b[0m\u001b[0;34m.\u001b[0m\u001b[0maxis\u001b[0m\u001b[0;34m:\u001b[0m\u001b[0;34m\u001b[0m\u001b[0m\n\u001b[1;32m   1538\u001b[0m                     \u001b[0;32mcontinue\u001b[0m\u001b[0;34m\u001b[0m\u001b[0m\n\u001b[0;32m-> 1539\u001b[0;31m                 \u001b[0mnew_axes\u001b[0m\u001b[0;34m[\u001b[0m\u001b[0mi\u001b[0m\u001b[0;34m]\u001b[0m \u001b[0;34m=\u001b[0m \u001b[0mself\u001b[0m\u001b[0;34m.\u001b[0m\u001b[0m_get_comb_axis\u001b[0m\u001b[0;34m(\u001b[0m\u001b[0mi\u001b[0m\u001b[0;34m)\u001b[0m\u001b[0;34m\u001b[0m\u001b[0m\n\u001b[0m\u001b[1;32m   1540\u001b[0m         \u001b[0;32melse\u001b[0m\u001b[0;34m:\u001b[0m\u001b[0;34m\u001b[0m\u001b[0m\n\u001b[1;32m   1541\u001b[0m             \u001b[0;32mif\u001b[0m \u001b[0mlen\u001b[0m\u001b[0;34m(\u001b[0m\u001b[0mself\u001b[0m\u001b[0;34m.\u001b[0m\u001b[0mjoin_axes\u001b[0m\u001b[0;34m)\u001b[0m \u001b[0;34m!=\u001b[0m \u001b[0mndim\u001b[0m \u001b[0;34m-\u001b[0m \u001b[0;36m1\u001b[0m\u001b[0;34m:\u001b[0m\u001b[0;34m\u001b[0m\u001b[0m\n",
      "\u001b[0;32m/Users/jdebelius/miniconda2/envs/bloom/lib/python3.5/site-packages/pandas/tools/merge.py\u001b[0m in \u001b[0;36m_get_comb_axis\u001b[0;34m(self, i)\u001b[0m\n\u001b[1;32m   1563\u001b[0m                 \u001b[0;32mraise\u001b[0m \u001b[0mTypeError\u001b[0m\u001b[0;34m(\u001b[0m\u001b[0;34m\"Cannot concatenate list of %s\"\u001b[0m \u001b[0;34m%\u001b[0m \u001b[0mtypes\u001b[0m\u001b[0;34m)\u001b[0m\u001b[0;34m\u001b[0m\u001b[0m\n\u001b[1;32m   1564\u001b[0m \u001b[0;34m\u001b[0m\u001b[0m\n\u001b[0;32m-> 1565\u001b[0;31m         \u001b[0;32mreturn\u001b[0m \u001b[0m_get_combined_index\u001b[0m\u001b[0;34m(\u001b[0m\u001b[0mall_indexes\u001b[0m\u001b[0;34m,\u001b[0m \u001b[0mintersect\u001b[0m\u001b[0;34m=\u001b[0m\u001b[0mself\u001b[0m\u001b[0;34m.\u001b[0m\u001b[0mintersect\u001b[0m\u001b[0;34m)\u001b[0m\u001b[0;34m\u001b[0m\u001b[0m\n\u001b[0m\u001b[1;32m   1566\u001b[0m \u001b[0;34m\u001b[0m\u001b[0m\n\u001b[1;32m   1567\u001b[0m     \u001b[0;32mdef\u001b[0m \u001b[0m_get_concat_axis\u001b[0m\u001b[0;34m(\u001b[0m\u001b[0mself\u001b[0m\u001b[0;34m)\u001b[0m\u001b[0;34m:\u001b[0m\u001b[0;34m\u001b[0m\u001b[0m\n",
      "\u001b[0;32m/Users/jdebelius/miniconda2/envs/bloom/lib/python3.5/site-packages/pandas/indexes/api.py\u001b[0m in \u001b[0;36m_get_combined_index\u001b[0;34m(indexes, intersect)\u001b[0m\n\u001b[1;32m     35\u001b[0m             \u001b[0mindex\u001b[0m \u001b[0;34m=\u001b[0m \u001b[0mindex\u001b[0m\u001b[0;34m.\u001b[0m\u001b[0mintersection\u001b[0m\u001b[0;34m(\u001b[0m\u001b[0mother\u001b[0m\u001b[0;34m)\u001b[0m\u001b[0;34m\u001b[0m\u001b[0m\n\u001b[1;32m     36\u001b[0m         \u001b[0;32mreturn\u001b[0m \u001b[0mindex\u001b[0m\u001b[0;34m\u001b[0m\u001b[0m\n\u001b[0;32m---> 37\u001b[0;31m     \u001b[0munion\u001b[0m \u001b[0;34m=\u001b[0m \u001b[0m_union_indexes\u001b[0m\u001b[0;34m(\u001b[0m\u001b[0mindexes\u001b[0m\u001b[0;34m)\u001b[0m\u001b[0;34m\u001b[0m\u001b[0m\n\u001b[0m\u001b[1;32m     38\u001b[0m     \u001b[0;32mreturn\u001b[0m \u001b[0m_ensure_index\u001b[0m\u001b[0;34m(\u001b[0m\u001b[0munion\u001b[0m\u001b[0;34m)\u001b[0m\u001b[0;34m\u001b[0m\u001b[0m\n\u001b[1;32m     39\u001b[0m \u001b[0;34m\u001b[0m\u001b[0m\n",
      "\u001b[0;32m/Users/jdebelius/miniconda2/envs/bloom/lib/python3.5/site-packages/pandas/indexes/api.py\u001b[0m in \u001b[0;36m_union_indexes\u001b[0;34m(indexes)\u001b[0m\n\u001b[1;32m     69\u001b[0m         \u001b[0;32melse\u001b[0m\u001b[0;34m:\u001b[0m\u001b[0;34m\u001b[0m\u001b[0m\n\u001b[1;32m     70\u001b[0m             \u001b[0;32mfor\u001b[0m \u001b[0mother\u001b[0m \u001b[0;32min\u001b[0m \u001b[0mindexes\u001b[0m\u001b[0;34m[\u001b[0m\u001b[0;36m1\u001b[0m\u001b[0;34m:\u001b[0m\u001b[0;34m]\u001b[0m\u001b[0;34m:\u001b[0m\u001b[0;34m\u001b[0m\u001b[0m\n\u001b[0;32m---> 71\u001b[0;31m                 \u001b[0mresult\u001b[0m \u001b[0;34m=\u001b[0m \u001b[0mresult\u001b[0m\u001b[0;34m.\u001b[0m\u001b[0munion\u001b[0m\u001b[0;34m(\u001b[0m\u001b[0mother\u001b[0m\u001b[0;34m)\u001b[0m\u001b[0;34m\u001b[0m\u001b[0m\n\u001b[0m\u001b[1;32m     72\u001b[0m             \u001b[0;32mreturn\u001b[0m \u001b[0mresult\u001b[0m\u001b[0;34m\u001b[0m\u001b[0m\n\u001b[1;32m     73\u001b[0m     \u001b[0;32melif\u001b[0m \u001b[0mkind\u001b[0m \u001b[0;34m==\u001b[0m \u001b[0;34m'array'\u001b[0m\u001b[0;34m:\u001b[0m\u001b[0;34m\u001b[0m\u001b[0m\n",
      "\u001b[0;32m/Users/jdebelius/miniconda2/envs/bloom/lib/python3.5/site-packages/pandas/indexes/base.py\u001b[0m in \u001b[0;36munion\u001b[0;34m(self, other)\u001b[0m\n\u001b[1;32m   1823\u001b[0m             \u001b[0mthis\u001b[0m \u001b[0;34m=\u001b[0m \u001b[0mself\u001b[0m\u001b[0;34m.\u001b[0m\u001b[0mastype\u001b[0m\u001b[0;34m(\u001b[0m\u001b[0;34m'O'\u001b[0m\u001b[0;34m)\u001b[0m\u001b[0;34m\u001b[0m\u001b[0m\n\u001b[1;32m   1824\u001b[0m             \u001b[0mother\u001b[0m \u001b[0;34m=\u001b[0m \u001b[0mother\u001b[0m\u001b[0;34m.\u001b[0m\u001b[0mastype\u001b[0m\u001b[0;34m(\u001b[0m\u001b[0;34m'O'\u001b[0m\u001b[0;34m)\u001b[0m\u001b[0;34m\u001b[0m\u001b[0m\n\u001b[0;32m-> 1825\u001b[0;31m             \u001b[0;32mreturn\u001b[0m \u001b[0mthis\u001b[0m\u001b[0;34m.\u001b[0m\u001b[0munion\u001b[0m\u001b[0;34m(\u001b[0m\u001b[0mother\u001b[0m\u001b[0;34m)\u001b[0m\u001b[0;34m\u001b[0m\u001b[0m\n\u001b[0m\u001b[1;32m   1826\u001b[0m \u001b[0;34m\u001b[0m\u001b[0m\n\u001b[1;32m   1827\u001b[0m         \u001b[0;32mif\u001b[0m \u001b[0mself\u001b[0m\u001b[0;34m.\u001b[0m\u001b[0mis_monotonic\u001b[0m \u001b[0;32mand\u001b[0m \u001b[0mother\u001b[0m\u001b[0;34m.\u001b[0m\u001b[0mis_monotonic\u001b[0m\u001b[0;34m:\u001b[0m\u001b[0;34m\u001b[0m\u001b[0m\n",
      "\u001b[0;32m/Users/jdebelius/miniconda2/envs/bloom/lib/python3.5/site-packages/pandas/indexes/base.py\u001b[0m in \u001b[0;36munion\u001b[0;34m(self, other)\u001b[0m\n\u001b[1;32m   1836\u001b[0m                 \u001b[0mresult\u001b[0m\u001b[0;34m.\u001b[0m\u001b[0mextend\u001b[0m\u001b[0;34m(\u001b[0m\u001b[0;34m[\u001b[0m\u001b[0mx\u001b[0m \u001b[0;32mfor\u001b[0m \u001b[0mx\u001b[0m \u001b[0;32min\u001b[0m \u001b[0mother\u001b[0m\u001b[0;34m.\u001b[0m\u001b[0m_values\u001b[0m \u001b[0;32mif\u001b[0m \u001b[0mx\u001b[0m \u001b[0;32mnot\u001b[0m \u001b[0;32min\u001b[0m \u001b[0mvalue_set\u001b[0m\u001b[0;34m]\u001b[0m\u001b[0;34m)\u001b[0m\u001b[0;34m\u001b[0m\u001b[0m\n\u001b[1;32m   1837\u001b[0m         \u001b[0;32melse\u001b[0m\u001b[0;34m:\u001b[0m\u001b[0;34m\u001b[0m\u001b[0m\n\u001b[0;32m-> 1838\u001b[0;31m             \u001b[0mindexer\u001b[0m \u001b[0;34m=\u001b[0m \u001b[0mself\u001b[0m\u001b[0;34m.\u001b[0m\u001b[0mget_indexer\u001b[0m\u001b[0;34m(\u001b[0m\u001b[0mother\u001b[0m\u001b[0;34m)\u001b[0m\u001b[0;34m\u001b[0m\u001b[0m\n\u001b[0m\u001b[1;32m   1839\u001b[0m             \u001b[0mindexer\u001b[0m\u001b[0;34m,\u001b[0m \u001b[0;34m=\u001b[0m \u001b[0;34m(\u001b[0m\u001b[0mindexer\u001b[0m \u001b[0;34m==\u001b[0m \u001b[0;34m-\u001b[0m\u001b[0;36m1\u001b[0m\u001b[0;34m)\u001b[0m\u001b[0;34m.\u001b[0m\u001b[0mnonzero\u001b[0m\u001b[0;34m(\u001b[0m\u001b[0;34m)\u001b[0m\u001b[0;34m\u001b[0m\u001b[0m\n\u001b[1;32m   1840\u001b[0m \u001b[0;34m\u001b[0m\u001b[0m\n",
      "\u001b[0;32m/Users/jdebelius/miniconda2/envs/bloom/lib/python3.5/site-packages/pandas/indexes/base.py\u001b[0m in \u001b[0;36mget_indexer\u001b[0;34m(self, target, method, limit, tolerance)\u001b[0m\n\u001b[1;32m   2239\u001b[0m \u001b[0;34m\u001b[0m\u001b[0m\n\u001b[1;32m   2240\u001b[0m         \u001b[0;32mif\u001b[0m \u001b[0;32mnot\u001b[0m \u001b[0mself\u001b[0m\u001b[0;34m.\u001b[0m\u001b[0mis_unique\u001b[0m\u001b[0;34m:\u001b[0m\u001b[0;34m\u001b[0m\u001b[0m\n\u001b[0;32m-> 2241\u001b[0;31m             raise InvalidIndexError('Reindexing only valid with uniquely'\n\u001b[0m\u001b[1;32m   2242\u001b[0m                                     ' valued Index objects')\n\u001b[1;32m   2243\u001b[0m \u001b[0;34m\u001b[0m\u001b[0m\n",
      "\u001b[0;31mInvalidIndexError\u001b[0m: Reindexing only valid with uniquely valued Index objects"
     ]
    }
   ],
   "source": [
    "storage_fc = pd.concat([mayo_fc, song_fc], axis=1)"
   ]
  },
  {
   "cell_type": "code",
   "execution_count": 250,
   "metadata": {
    "collapsed": false
   },
   "outputs": [
    {
     "data": {
      "text/html": [
       "<div>\n",
       "<table border=\"1\" class=\"dataframe\">\n",
       "  <thead>\n",
       "    <tr style=\"text-align: right;\">\n",
       "      <th></th>\n",
       "      <th>Day 1</th>\n",
       "      <th>Day 4</th>\n",
       "      <th>Week 1</th>\n",
       "      <th>Week 2</th>\n",
       "      <th>Week 7</th>\n",
       "      <th>sequence</th>\n",
       "      <th>sequence125</th>\n",
       "    </tr>\n",
       "  </thead>\n",
       "  <tbody>\n",
       "    <tr>\n",
       "      <th>0</th>\n",
       "      <td>0.788547</td>\n",
       "      <td>0.623030</td>\n",
       "      <td>NaN</td>\n",
       "      <td>NaN</td>\n",
       "      <td>NaN</td>\n",
       "      <td>AACGTAGGGTGCAAGCGTTGTCCGGAATTACTGGGTGTAAAGGGAG...</td>\n",
       "      <td>AACGTAGGGTGCAAGCGTTGTCCGGAATTACTGGGTGTAAAGGGAG...</td>\n",
       "    </tr>\n",
       "    <tr>\n",
       "      <th>1</th>\n",
       "      <td>0.925568</td>\n",
       "      <td>0.943039</td>\n",
       "      <td>NaN</td>\n",
       "      <td>NaN</td>\n",
       "      <td>NaN</td>\n",
       "      <td>AACGTAGGGTGCAAGCGTTGTCCGGAATTACTGGGTGTAAAGGGAG...</td>\n",
       "      <td>AACGTAGGGTGCAAGCGTTGTCCGGAATTACTGGGTGTAAAGGGAG...</td>\n",
       "    </tr>\n",
       "    <tr>\n",
       "      <th>2</th>\n",
       "      <td>0.997222</td>\n",
       "      <td>0.555556</td>\n",
       "      <td>NaN</td>\n",
       "      <td>NaN</td>\n",
       "      <td>NaN</td>\n",
       "      <td>AACGTAGGGTGCAAGCGTTGTCCGGAATTACTGGGTGTAAAGGGAG...</td>\n",
       "      <td>AACGTAGGGTGCAAGCGTTGTCCGGAATTACTGGGTGTAAAGGGAG...</td>\n",
       "    </tr>\n",
       "    <tr>\n",
       "      <th>3</th>\n",
       "      <td>0.664655</td>\n",
       "      <td>0.668841</td>\n",
       "      <td>NaN</td>\n",
       "      <td>NaN</td>\n",
       "      <td>NaN</td>\n",
       "      <td>AACGTAGGGTGCAAGCGTTGTCCGGAATTACTGGGTGTAAAGGGAG...</td>\n",
       "      <td>AACGTAGGGTGCAAGCGTTGTCCGGAATTACTGGGTGTAAAGGGAG...</td>\n",
       "    </tr>\n",
       "    <tr>\n",
       "      <th>4</th>\n",
       "      <td>NaN</td>\n",
       "      <td>1.000000</td>\n",
       "      <td>NaN</td>\n",
       "      <td>NaN</td>\n",
       "      <td>NaN</td>\n",
       "      <td>AACGTAGGGTGCAAGCGTTGTCCGGAATTACTGGGTGTAAAGGGAG...</td>\n",
       "      <td>AACGTAGGGTGCAAGCGTTGTCCGGAATTACTGGGTGTAAAGGGAG...</td>\n",
       "    </tr>\n",
       "    <tr>\n",
       "      <th>5</th>\n",
       "      <td>0.871099</td>\n",
       "      <td>1.612398</td>\n",
       "      <td>NaN</td>\n",
       "      <td>NaN</td>\n",
       "      <td>NaN</td>\n",
       "      <td>AACGTAGGGTGCAAGCGTTGTCCGGAATTACTGGGTGTAAAGGGAG...</td>\n",
       "      <td>AACGTAGGGTGCAAGCGTTGTCCGGAATTACTGGGTGTAAAGGGAG...</td>\n",
       "    </tr>\n",
       "    <tr>\n",
       "      <th>6</th>\n",
       "      <td>0.890681</td>\n",
       "      <td>0.935593</td>\n",
       "      <td>NaN</td>\n",
       "      <td>NaN</td>\n",
       "      <td>NaN</td>\n",
       "      <td>AACGTAGGGTGCAAGCGTTGTCCGGAATTACTGGGTGTAAAGGGAG...</td>\n",
       "      <td>AACGTAGGGTGCAAGCGTTGTCCGGAATTACTGGGTGTAAAGGGAG...</td>\n",
       "    </tr>\n",
       "    <tr>\n",
       "      <th>7</th>\n",
       "      <td>1.208592</td>\n",
       "      <td>0.484817</td>\n",
       "      <td>NaN</td>\n",
       "      <td>NaN</td>\n",
       "      <td>NaN</td>\n",
       "      <td>AACGTAGGGTGCAAGCGTTGTCCGGAATTACTGGGTGTAAAGGGAG...</td>\n",
       "      <td>AACGTAGGGTGCAAGCGTTGTCCGGAATTACTGGGTGTAAAGGGAG...</td>\n",
       "    </tr>\n",
       "    <tr>\n",
       "      <th>8</th>\n",
       "      <td>1.317114</td>\n",
       "      <td>1.703020</td>\n",
       "      <td>NaN</td>\n",
       "      <td>NaN</td>\n",
       "      <td>NaN</td>\n",
       "      <td>AACGTAGGGTGCAAGCGTTGTCCGGAATTACTGGGTGTAAAGGGAG...</td>\n",
       "      <td>AACGTAGGGTGCAAGCGTTGTCCGGAATTACTGGGTGTAAAGGGAG...</td>\n",
       "    </tr>\n",
       "    <tr>\n",
       "      <th>9</th>\n",
       "      <td>1.600000</td>\n",
       "      <td>2.200000</td>\n",
       "      <td>NaN</td>\n",
       "      <td>NaN</td>\n",
       "      <td>NaN</td>\n",
       "      <td>AACGTAGGGTGCAAGCGTTGTCCGGAATTACTGGGTGTAAAGGGAG...</td>\n",
       "      <td>AACGTAGGGTGCAAGCGTTGTCCGGAATTACTGGGTGTAAAGGGAG...</td>\n",
       "    </tr>\n",
       "    <tr>\n",
       "      <th>10</th>\n",
       "      <td>1.350658</td>\n",
       "      <td>0.665205</td>\n",
       "      <td>NaN</td>\n",
       "      <td>NaN</td>\n",
       "      <td>NaN</td>\n",
       "      <td>AACGTAGGGTGCTAGCGTTGTCCGGAATTACTGGGTGTAAAGGGAG...</td>\n",
       "      <td>AACGTAGGGTGCTAGCGTTGTCCGGAATTACTGGGTGTAAAGGGAG...</td>\n",
       "    </tr>\n",
       "    <tr>\n",
       "      <th>11</th>\n",
       "      <td>1.000000</td>\n",
       "      <td>1.916667</td>\n",
       "      <td>NaN</td>\n",
       "      <td>NaN</td>\n",
       "      <td>NaN</td>\n",
       "      <td>AACGTAGGTCACAAGCGTTGTCCGGAATTACTGGGCGTAAAGCGCA...</td>\n",
       "      <td>AACGTAGGTCACAAGCGTTGTCCGGAATTACTGGGCGTAAAGCGCA...</td>\n",
       "    </tr>\n",
       "    <tr>\n",
       "      <th>12</th>\n",
       "      <td>NaN</td>\n",
       "      <td>1.850000</td>\n",
       "      <td>NaN</td>\n",
       "      <td>NaN</td>\n",
       "      <td>NaN</td>\n",
       "      <td>AACGTAGGTCACAAGCGTTGTCCGGAATTACTGGGCGTAAAGCGTG...</td>\n",
       "      <td>AACGTAGGTCACAAGCGTTGTCCGGAATTACTGGGCGTAAAGCGTG...</td>\n",
       "    </tr>\n",
       "    <tr>\n",
       "      <th>13</th>\n",
       "      <td>0.965957</td>\n",
       "      <td>0.792553</td>\n",
       "      <td>NaN</td>\n",
       "      <td>NaN</td>\n",
       "      <td>NaN</td>\n",
       "      <td>AACGTAGGTCACAAGCGTTGTCCGGAATTACTGGGCGTAAAGGGTG...</td>\n",
       "      <td>AACGTAGGTCACAAGCGTTGTCCGGAATTACTGGGCGTAAAGGGTG...</td>\n",
       "    </tr>\n",
       "    <tr>\n",
       "      <th>14</th>\n",
       "      <td>NaN</td>\n",
       "      <td>1.150000</td>\n",
       "      <td>NaN</td>\n",
       "      <td>NaN</td>\n",
       "      <td>NaN</td>\n",
       "      <td>AACGTAGGTCACAAGCGTTGTCCGGAATTACTGGGCGTAAAGGGTG...</td>\n",
       "      <td>AACGTAGGTCACAAGCGTTGTCCGGAATTACTGGGCGTAAAGGGTG...</td>\n",
       "    </tr>\n",
       "    <tr>\n",
       "      <th>15</th>\n",
       "      <td>0.633221</td>\n",
       "      <td>0.576795</td>\n",
       "      <td>NaN</td>\n",
       "      <td>NaN</td>\n",
       "      <td>NaN</td>\n",
       "      <td>AACGTAGGTCACAAGCGTTGTCCGGAATTACTGGGTGTAAAGGGAG...</td>\n",
       "      <td>AACGTAGGTCACAAGCGTTGTCCGGAATTACTGGGTGTAAAGGGAG...</td>\n",
       "    </tr>\n",
       "    <tr>\n",
       "      <th>16</th>\n",
       "      <td>1.093427</td>\n",
       "      <td>1.185997</td>\n",
       "      <td>NaN</td>\n",
       "      <td>NaN</td>\n",
       "      <td>NaN</td>\n",
       "      <td>AACGTAGGTCACAAGCGTTGTCCGGAATTACTGGGTGTAAAGGGAG...</td>\n",
       "      <td>AACGTAGGTCACAAGCGTTGTCCGGAATTACTGGGTGTAAAGGGAG...</td>\n",
       "    </tr>\n",
       "    <tr>\n",
       "      <th>17</th>\n",
       "      <td>2.450000</td>\n",
       "      <td>NaN</td>\n",
       "      <td>NaN</td>\n",
       "      <td>NaN</td>\n",
       "      <td>NaN</td>\n",
       "      <td>AACGTAGGTCACAAGCGTTGTCCGGAATTACTGGGTGTAAAGGGAG...</td>\n",
       "      <td>AACGTAGGTCACAAGCGTTGTCCGGAATTACTGGGTGTAAAGGGAG...</td>\n",
       "    </tr>\n",
       "    <tr>\n",
       "      <th>18</th>\n",
       "      <td>1.003146</td>\n",
       "      <td>0.877729</td>\n",
       "      <td>NaN</td>\n",
       "      <td>NaN</td>\n",
       "      <td>NaN</td>\n",
       "      <td>AACGTAGGTCACAAGCGTTGTCCGGAATTACTGGGTGTAAAGGGAG...</td>\n",
       "      <td>AACGTAGGTCACAAGCGTTGTCCGGAATTACTGGGTGTAAAGGGAG...</td>\n",
       "    </tr>\n",
       "    <tr>\n",
       "      <th>19</th>\n",
       "      <td>0.965852</td>\n",
       "      <td>0.815805</td>\n",
       "      <td>NaN</td>\n",
       "      <td>NaN</td>\n",
       "      <td>NaN</td>\n",
       "      <td>AACGTAGGTCACAAGCGTTGTCCGGAATTACTGGGTGTAAAGGGAG...</td>\n",
       "      <td>AACGTAGGTCACAAGCGTTGTCCGGAATTACTGGGTGTAAAGGGAG...</td>\n",
       "    </tr>\n",
       "    <tr>\n",
       "      <th>20</th>\n",
       "      <td>0.935773</td>\n",
       "      <td>0.497238</td>\n",
       "      <td>NaN</td>\n",
       "      <td>NaN</td>\n",
       "      <td>NaN</td>\n",
       "      <td>AACGTAGGTCACAAGCGTTGTCCGGAATTACTGGGTGTAAAGGGAG...</td>\n",
       "      <td>AACGTAGGTCACAAGCGTTGTCCGGAATTACTGGGTGTAAAGGGAG...</td>\n",
       "    </tr>\n",
       "    <tr>\n",
       "      <th>21</th>\n",
       "      <td>0.892758</td>\n",
       "      <td>0.698230</td>\n",
       "      <td>NaN</td>\n",
       "      <td>NaN</td>\n",
       "      <td>NaN</td>\n",
       "      <td>AACGTAGGTCACAAGCGTTGTCCGGAATTACTGGGTGTAAAGGGAG...</td>\n",
       "      <td>AACGTAGGTCACAAGCGTTGTCCGGAATTACTGGGTGTAAAGGGAG...</td>\n",
       "    </tr>\n",
       "    <tr>\n",
       "      <th>22</th>\n",
       "      <td>0.673077</td>\n",
       "      <td>0.253205</td>\n",
       "      <td>NaN</td>\n",
       "      <td>NaN</td>\n",
       "      <td>NaN</td>\n",
       "      <td>AACGTAGGTCACAAGCGTTGTCCGGAATTACTGGGTGTAAAGGGAG...</td>\n",
       "      <td>AACGTAGGTCACAAGCGTTGTCCGGAATTACTGGGTGTAAAGGGAG...</td>\n",
       "    </tr>\n",
       "    <tr>\n",
       "      <th>23</th>\n",
       "      <td>0.941792</td>\n",
       "      <td>0.796853</td>\n",
       "      <td>NaN</td>\n",
       "      <td>NaN</td>\n",
       "      <td>NaN</td>\n",
       "      <td>AACGTAGGTCACAAGCGTTGTCCGGAATTACTGGGTGTAAAGGGAG...</td>\n",
       "      <td>AACGTAGGTCACAAGCGTTGTCCGGAATTACTGGGTGTAAAGGGAG...</td>\n",
       "    </tr>\n",
       "    <tr>\n",
       "      <th>24</th>\n",
       "      <td>0.582011</td>\n",
       "      <td>0.198413</td>\n",
       "      <td>NaN</td>\n",
       "      <td>NaN</td>\n",
       "      <td>NaN</td>\n",
       "      <td>AACGTAGGTCACAAGCGTTGTCCGGAATTACTGGGTGTAAAGGGAG...</td>\n",
       "      <td>AACGTAGGTCACAAGCGTTGTCCGGAATTACTGGGTGTAAAGGGAG...</td>\n",
       "    </tr>\n",
       "    <tr>\n",
       "      <th>25</th>\n",
       "      <td>1.443662</td>\n",
       "      <td>0.352113</td>\n",
       "      <td>NaN</td>\n",
       "      <td>NaN</td>\n",
       "      <td>NaN</td>\n",
       "      <td>AACGTAGGTCACAAGCGTTGTCCGGAATTACTGGGTGTAAAGGGAG...</td>\n",
       "      <td>AACGTAGGTCACAAGCGTTGTCCGGAATTACTGGGTGTAAAGGGAG...</td>\n",
       "    </tr>\n",
       "    <tr>\n",
       "      <th>26</th>\n",
       "      <td>0.742337</td>\n",
       "      <td>0.708377</td>\n",
       "      <td>NaN</td>\n",
       "      <td>NaN</td>\n",
       "      <td>NaN</td>\n",
       "      <td>AACGTAGGTCACAAGCGTTGTCCGGAATTACTGGGTGTAAAGGGAG...</td>\n",
       "      <td>AACGTAGGTCACAAGCGTTGTCCGGAATTACTGGGTGTAAAGGGAG...</td>\n",
       "    </tr>\n",
       "    <tr>\n",
       "      <th>27</th>\n",
       "      <td>0.981521</td>\n",
       "      <td>0.858132</td>\n",
       "      <td>NaN</td>\n",
       "      <td>NaN</td>\n",
       "      <td>NaN</td>\n",
       "      <td>AACGTAGGTCACAAGCGTTGTCCGGAATTACTGGGTGTAAAGGGAG...</td>\n",
       "      <td>AACGTAGGTCACAAGCGTTGTCCGGAATTACTGGGTGTAAAGGGAG...</td>\n",
       "    </tr>\n",
       "    <tr>\n",
       "      <th>28</th>\n",
       "      <td>4.300000</td>\n",
       "      <td>2.600000</td>\n",
       "      <td>NaN</td>\n",
       "      <td>NaN</td>\n",
       "      <td>NaN</td>\n",
       "      <td>AACGTAGGTCACAAGCGTTGTCCGGAATTACTGGGTGTAAAGGGAG...</td>\n",
       "      <td>AACGTAGGTCACAAGCGTTGTCCGGAATTACTGGGTGTAAAGGGAG...</td>\n",
       "    </tr>\n",
       "    <tr>\n",
       "      <th>29</th>\n",
       "      <td>1.000000</td>\n",
       "      <td>NaN</td>\n",
       "      <td>NaN</td>\n",
       "      <td>NaN</td>\n",
       "      <td>NaN</td>\n",
       "      <td>AACGTAGGTCACAAGCGTTGTCCGGAATTACTGGGTGTAAAGGGAG...</td>\n",
       "      <td>AACGTAGGTCACAAGCGTTGTCCGGAATTACTGGGTGTAAAGGGAG...</td>\n",
       "    </tr>\n",
       "    <tr>\n",
       "      <th>...</th>\n",
       "      <td>...</td>\n",
       "      <td>...</td>\n",
       "      <td>...</td>\n",
       "      <td>...</td>\n",
       "      <td>...</td>\n",
       "      <td>...</td>\n",
       "      <td>...</td>\n",
       "    </tr>\n",
       "    <tr>\n",
       "      <th>TACGTATGGTGCAAGCGTTATCCGGATTTACTGGGTGTAAAGGGAGCGTAGACGGCACGGCAAGCCAGATGTGAAAGCCCGGGGCTCAACCCCGGGACTGCATTTGGAACTGCTGAGCTAGAGT</th>\n",
       "      <td>NaN</td>\n",
       "      <td>NaN</td>\n",
       "      <td>1.200000</td>\n",
       "      <td>1.400000</td>\n",
       "      <td>1.000000</td>\n",
       "      <td>NaN</td>\n",
       "      <td>NaN</td>\n",
       "    </tr>\n",
       "    <tr>\n",
       "      <th>TACGTATGGTGCAAGCGTTATCCGGATTTACTGGGTGTAAAGGGAGCGTAGACGGCGCAGCAAGTCTGATGTGAAAGGCAGGGGCTTAACCCCTGGACTGCATTGGAAACTGCTGTGCTTGAGT</th>\n",
       "      <td>NaN</td>\n",
       "      <td>NaN</td>\n",
       "      <td>2.200000</td>\n",
       "      <td>7.800000</td>\n",
       "      <td>5.600000</td>\n",
       "      <td>NaN</td>\n",
       "      <td>NaN</td>\n",
       "    </tr>\n",
       "    <tr>\n",
       "      <th>TACGTATGGTGCAAGCGTTATCCGGATTTACTGGGTGTAAAGGGAGCGTAGACGGCTGTGTAAGTCTGAAGTGAAAACCCGGGGCTCAACCCCGGGACTGCTTTGGAAACTATGCAGCTAGAGT</th>\n",
       "      <td>NaN</td>\n",
       "      <td>NaN</td>\n",
       "      <td>1.000000</td>\n",
       "      <td>NaN</td>\n",
       "      <td>NaN</td>\n",
       "      <td>NaN</td>\n",
       "      <td>NaN</td>\n",
       "    </tr>\n",
       "    <tr>\n",
       "      <th>TACGTATGGTGCAAGCGTTATCCGGATTTACTGGGTGTAAAGGGAGCGTAGACGGCTGTGTAAGTCTGAAGTGAAAGCCCGGGGCTCAACCCCGGGACTGCTTTGGAAACTATGCAGCTAGAGT</th>\n",
       "      <td>NaN</td>\n",
       "      <td>NaN</td>\n",
       "      <td>2.525904</td>\n",
       "      <td>2.405180</td>\n",
       "      <td>2.273164</td>\n",
       "      <td>NaN</td>\n",
       "      <td>NaN</td>\n",
       "    </tr>\n",
       "    <tr>\n",
       "      <th>TACGTATGGTGCAAGCGTTATCCGGATTTACTGGGTGTAAAGGGAGCGTAGACGGTGTGGCAAGTCTGATGTGAAAGGCATGGGCTCAACCTGTGGACTGCATTGGAAACTGTCATACTTGAGT</th>\n",
       "      <td>NaN</td>\n",
       "      <td>NaN</td>\n",
       "      <td>1.216667</td>\n",
       "      <td>5.516667</td>\n",
       "      <td>0.833333</td>\n",
       "      <td>NaN</td>\n",
       "      <td>NaN</td>\n",
       "    </tr>\n",
       "    <tr>\n",
       "      <th>TACGTATGGTGCAAGCGTTATCCGGATTTACTGGGTGTAAAGGGAGCGTAGACGGTTGTGTAAGTCTGATGTGAAAGCCCGGGGCTCAACCCCGGGACTGCATTGGAAACTATGTAACTAGAGT</th>\n",
       "      <td>NaN</td>\n",
       "      <td>NaN</td>\n",
       "      <td>0.849903</td>\n",
       "      <td>1.381092</td>\n",
       "      <td>5.738791</td>\n",
       "      <td>NaN</td>\n",
       "      <td>NaN</td>\n",
       "    </tr>\n",
       "    <tr>\n",
       "      <th>TACGTATGGTGCAAGCGTTATCCGGATTTACTGGGTGTAAAGGGAGCGTAGATGGCATGGCAAGTCTGAAGTGAAAGCCCGGGGCTTAACCCCGGGACTGCTTTGGAAACTGTTAAGCTAGAGT</th>\n",
       "      <td>NaN</td>\n",
       "      <td>NaN</td>\n",
       "      <td>1.800000</td>\n",
       "      <td>NaN</td>\n",
       "      <td>NaN</td>\n",
       "      <td>NaN</td>\n",
       "      <td>NaN</td>\n",
       "    </tr>\n",
       "    <tr>\n",
       "      <th>TACGTATGGTGCAAGCGTTATCCGGATTTACTGGGTGTAAAGGGAGCGTAGGTGGCAAGGCAAGCCAGAAGTGAAAACCCGGGGCTCAACCGCGGGATTGCTTTTGGAACTGTCATGCTAGAGT</th>\n",
       "      <td>NaN</td>\n",
       "      <td>NaN</td>\n",
       "      <td>1.338250</td>\n",
       "      <td>3.999196</td>\n",
       "      <td>3.555116</td>\n",
       "      <td>NaN</td>\n",
       "      <td>NaN</td>\n",
       "    </tr>\n",
       "    <tr>\n",
       "      <th>TACGTATGGTGCAAGCGTTATCCGGATTTACTGGGTGTAAAGGGAGCGTAGGTGGCGAGGCAAGCCAGAAGTGAAAACCCGGGGCTCAACCGCGGGATTGCTTTTGGAACTGTCATGCTAGAGT</th>\n",
       "      <td>NaN</td>\n",
       "      <td>NaN</td>\n",
       "      <td>0.625000</td>\n",
       "      <td>0.625000</td>\n",
       "      <td>0.625000</td>\n",
       "      <td>NaN</td>\n",
       "      <td>NaN</td>\n",
       "    </tr>\n",
       "    <tr>\n",
       "      <th>TACGTATGGTGCAAGCGTTATCCGGATTTACTGGGTGTAAAGGGAGCGTAGGTGGCTGCGCAAGTCAGAAGTGAAAGCCCGGGGCTTAACCTCGGGACTGCTTTTGAAACTGTGTAGCTAGAGT</th>\n",
       "      <td>NaN</td>\n",
       "      <td>NaN</td>\n",
       "      <td>0.560000</td>\n",
       "      <td>1.160000</td>\n",
       "      <td>0.580000</td>\n",
       "      <td>NaN</td>\n",
       "      <td>NaN</td>\n",
       "    </tr>\n",
       "    <tr>\n",
       "      <th>TACGTATGGTGCAAGCGTTATCCGGATTTACTGGGTGTAAAGGGAGCGTAGGTGGCTGTGCAAGTCAGAAGTGAAAGCCCGGGGCTTAACCCCGGGACTGCTTTTGAAACTGTGCGGCTGGAGT</th>\n",
       "      <td>NaN</td>\n",
       "      <td>NaN</td>\n",
       "      <td>1.335083</td>\n",
       "      <td>0.670137</td>\n",
       "      <td>0.289810</td>\n",
       "      <td>NaN</td>\n",
       "      <td>NaN</td>\n",
       "    </tr>\n",
       "    <tr>\n",
       "      <th>TACGTATGGTGCAAGCGTTATCCGGATTTACTGGGTGTAAAGGGAGTGTAGGTGGCCATGCAAGTCAGAAGTGAAAATCCGGGGCTCAACCCCGGAACTGCTTTTGAAACTGTAAGGCTGGAGT</th>\n",
       "      <td>NaN</td>\n",
       "      <td>NaN</td>\n",
       "      <td>1.000000</td>\n",
       "      <td>NaN</td>\n",
       "      <td>NaN</td>\n",
       "      <td>NaN</td>\n",
       "      <td>NaN</td>\n",
       "    </tr>\n",
       "    <tr>\n",
       "      <th>TACGTATGGTGCAAGCGTTATCCGGATTTACTGGGTGTAAAGGGCGCGCAGGCGGGCCGGCAAGTTGGAAGTGAAATCCGGGGGCTTAACCCCCGAACTGCTTTCAAAACTGCTGGTCTTGAGT</th>\n",
       "      <td>NaN</td>\n",
       "      <td>NaN</td>\n",
       "      <td>1.600000</td>\n",
       "      <td>NaN</td>\n",
       "      <td>NaN</td>\n",
       "      <td>NaN</td>\n",
       "      <td>NaN</td>\n",
       "    </tr>\n",
       "    <tr>\n",
       "      <th>TACGTATGGTGCAAGCGTTATCCGGATTTACTGGGTGTAAAGGGCGTGCAGCCGGGTCTGCAAGTCAGATGTGAAATCCATGGGCTCAACCCATGAACTGCATTTGAAACTGTAGATCTTGAGT</th>\n",
       "      <td>NaN</td>\n",
       "      <td>NaN</td>\n",
       "      <td>0.812500</td>\n",
       "      <td>0.812500</td>\n",
       "      <td>0.812500</td>\n",
       "      <td>NaN</td>\n",
       "      <td>NaN</td>\n",
       "    </tr>\n",
       "    <tr>\n",
       "      <th>TACGTATGGTGCAAGCGTTATCCGGATTTACTGGGTGTAAAGGGCGTGTAGGCGGAGATGCAAGTTGGGAGTGAAATCCATGGGCTCAACCCATGAACTGCTTCCAAAACTGTATCCCTTGAGT</th>\n",
       "      <td>NaN</td>\n",
       "      <td>NaN</td>\n",
       "      <td>1.000000</td>\n",
       "      <td>NaN</td>\n",
       "      <td>NaN</td>\n",
       "      <td>NaN</td>\n",
       "      <td>NaN</td>\n",
       "    </tr>\n",
       "    <tr>\n",
       "      <th>TACGTATGGTGCAAGCGTTATCCGGATTTACTGGGTGTAAAGGGTGAGTAGGCGGTCATGCAAGTCATATGTGAAATGTCAGGGCTTAACCTTGGCGCTGCATAAGAAACTGTATGACTAGAGT</th>\n",
       "      <td>NaN</td>\n",
       "      <td>NaN</td>\n",
       "      <td>1.400642</td>\n",
       "      <td>0.808147</td>\n",
       "      <td>0.233565</td>\n",
       "      <td>NaN</td>\n",
       "      <td>NaN</td>\n",
       "    </tr>\n",
       "    <tr>\n",
       "      <th>TACGTATGGTGCAAGCGTTATCCGGATTTACTGGGTGTAAAGGGTGCGTAGGCGGCTTTGCAAGTCAGATGTGAAATCTATGGGCTCAACCCATAGCCTGCATTTGAAACTGCAGAGCTTGAGT</th>\n",
       "      <td>NaN</td>\n",
       "      <td>NaN</td>\n",
       "      <td>4.400000</td>\n",
       "      <td>NaN</td>\n",
       "      <td>NaN</td>\n",
       "      <td>NaN</td>\n",
       "      <td>NaN</td>\n",
       "    </tr>\n",
       "    <tr>\n",
       "      <th>TACGTATGGTGCAAGCGTTATCCGGATTTACTGGGTGTAAAGGGTGCGTAGGTGGCAAGGCAAGTCTGAAGTGAAAATCCGGGGCTCAACCCCGGAACTGCTTTGGAAACTGTTTAGCTAGAGT</th>\n",
       "      <td>NaN</td>\n",
       "      <td>NaN</td>\n",
       "      <td>0.802181</td>\n",
       "      <td>7.725078</td>\n",
       "      <td>23.382593</td>\n",
       "      <td>NaN</td>\n",
       "      <td>NaN</td>\n",
       "    </tr>\n",
       "    <tr>\n",
       "      <th>TACGTATGGTGCAAGCGTTATCCGGATTTACTGGGTGTAAAGGGTGCGTAGGTGGCAAGGCAAGTCTGAAGTGAAAATCCGGGGCTCAACCCCGGAACTGCTTTGGAAACTGTTTAGCTGGAGT</th>\n",
       "      <td>NaN</td>\n",
       "      <td>NaN</td>\n",
       "      <td>0.655701</td>\n",
       "      <td>5.194048</td>\n",
       "      <td>18.133248</td>\n",
       "      <td>NaN</td>\n",
       "      <td>NaN</td>\n",
       "    </tr>\n",
       "    <tr>\n",
       "      <th>TACGTATGGTGCAAGCGTTATCCGGATTTACTGGGTGTAAAGGGTGCGTAGGTGGTATGGCAAGTCAGAAGTGAAAGGCTGGGGCTCAACCCCGGGACTGCTTTTGAAACTGTCAAACTAGAGT</th>\n",
       "      <td>NaN</td>\n",
       "      <td>NaN</td>\n",
       "      <td>2.189394</td>\n",
       "      <td>2.708333</td>\n",
       "      <td>1.412879</td>\n",
       "      <td>NaN</td>\n",
       "      <td>NaN</td>\n",
       "    </tr>\n",
       "    <tr>\n",
       "      <th>TACGTATGGTGCAAGCGTTATCCGGATTTACTGGGTGTAAAGGGTGCGTAGGTGGTGAGACAAGTCTGAAGTGAAAATCCGGGGCTTAACCCCGGAACTGCTTTGGAAACTGCCTGACTAGAGT</th>\n",
       "      <td>NaN</td>\n",
       "      <td>NaN</td>\n",
       "      <td>1.714898</td>\n",
       "      <td>3.093807</td>\n",
       "      <td>4.656866</td>\n",
       "      <td>NaN</td>\n",
       "      <td>NaN</td>\n",
       "    </tr>\n",
       "    <tr>\n",
       "      <th>TACGTATGGTGCGAGCGTTATCCGGATTCATTGGGCGTAAAGCGCGCGTAGGCGGCCTGTTAAGCAAGGTCTTAAATCTTGGGGCTCAACCTCAAGCCGGACTTTGAACTGGCAGGCTCGAGTG</th>\n",
       "      <td>NaN</td>\n",
       "      <td>NaN</td>\n",
       "      <td>2.666667</td>\n",
       "      <td>12.833333</td>\n",
       "      <td>2.166667</td>\n",
       "      <td>NaN</td>\n",
       "      <td>NaN</td>\n",
       "    </tr>\n",
       "    <tr>\n",
       "      <th>TACGTATGGTTCAAGCGTTATCCGGATTTACTGGGTGTAAAGGGTGAGTAGGCGGTTATGCAAGTCATATGTGAAATGTCGGGGCTCAACTCCGGCCTGCATAAGAAACTGTATAACTAGAGTG</th>\n",
       "      <td>NaN</td>\n",
       "      <td>NaN</td>\n",
       "      <td>4.692308</td>\n",
       "      <td>0.384615</td>\n",
       "      <td>0.384615</td>\n",
       "      <td>NaN</td>\n",
       "      <td>NaN</td>\n",
       "    </tr>\n",
       "    <tr>\n",
       "      <th>TACGTATGTCGCAAGCGTTATCCGGATTTATTGGGCGTAAAGCGCGTCTAGGCGGTCTGGTAAGTCTGATGTGGAAATGCGGGGCTCAACTCCGTATTGCGTTGGAAACTGCCAGACTAGAGTA</th>\n",
       "      <td>NaN</td>\n",
       "      <td>NaN</td>\n",
       "      <td>NaN</td>\n",
       "      <td>NaN</td>\n",
       "      <td>1.700000</td>\n",
       "      <td>NaN</td>\n",
       "      <td>NaN</td>\n",
       "    </tr>\n",
       "    <tr>\n",
       "      <th>TACGTATGTCGCAAGCGTTATCCGGATTTATTGGGCGTAAAGCGCGTCTAGGCGGTTTGGTAAGTCTGATGTGAAAATGCGGGGCTCAACTCCGTATTGCGTTGGAAACTGCCAAACTAGAGTA</th>\n",
       "      <td>NaN</td>\n",
       "      <td>NaN</td>\n",
       "      <td>NaN</td>\n",
       "      <td>NaN</td>\n",
       "      <td>2.600000</td>\n",
       "      <td>NaN</td>\n",
       "      <td>NaN</td>\n",
       "    </tr>\n",
       "    <tr>\n",
       "      <th>TACGTATGTCGCAAGCGTTATCCGGATTTATTGGGCGTAAAGCGCGTCTAGGTGGTTTGGTAAGTCTGATGTGAAAATGCGGGGCTCAACTCCGTATTGCGTTGGAAACTGCCTAACTAGAGTA</th>\n",
       "      <td>NaN</td>\n",
       "      <td>NaN</td>\n",
       "      <td>0.172414</td>\n",
       "      <td>0.172414</td>\n",
       "      <td>0.258621</td>\n",
       "      <td>NaN</td>\n",
       "      <td>NaN</td>\n",
       "    </tr>\n",
       "    <tr>\n",
       "      <th>TACGTATGTTCCAAGCGTTATCCGGATTTATTGGGCGTAAAGCGAGCGCAGACGGTTATTTAAGTCTGAAGTGAAAGCCCTCAGCTCAACTGAGGAATGGCTTTGGAAACTGGATGACTTGAGT</th>\n",
       "      <td>NaN</td>\n",
       "      <td>NaN</td>\n",
       "      <td>NaN</td>\n",
       "      <td>NaN</td>\n",
       "      <td>10.000000</td>\n",
       "      <td>NaN</td>\n",
       "      <td>NaN</td>\n",
       "    </tr>\n",
       "    <tr>\n",
       "      <th>TACGTTGCATCCAAGTGTATTAAAAAAGCAAAAAGGGTGTTGAGGCGGAGGAAGAAAAGATAGTTGTAACTTTTTTGTAAAGATAAAATTTAATTAGAAAAAAAGGTGGGCTCGAGGCGAAGGC</th>\n",
       "      <td>NaN</td>\n",
       "      <td>NaN</td>\n",
       "      <td>1.000000</td>\n",
       "      <td>NaN</td>\n",
       "      <td>NaN</td>\n",
       "      <td>NaN</td>\n",
       "      <td>NaN</td>\n",
       "    </tr>\n",
       "    <tr>\n",
       "      <th>TACGTTGCATCCAAGTGTATTAAAAAAGCAAAAAGGGTGTTGAGGCGGAGGAAGAAAAGATAGTTGTAACTTTTTTGTAAAGATAAAATTTAATTAGAAAAAAAGGTGGGCTCGAGGCGAAGGT</th>\n",
       "      <td>NaN</td>\n",
       "      <td>NaN</td>\n",
       "      <td>2.400000</td>\n",
       "      <td>NaN</td>\n",
       "      <td>NaN</td>\n",
       "      <td>NaN</td>\n",
       "      <td>NaN</td>\n",
       "    </tr>\n",
       "    <tr>\n",
       "      <th>TTCCAGCTCCAATAGCGTATATTAACGTTGTTGCAGTTAAAAAGCTCGTAGTTGAAATGAAGGGTAGTTGTGTAATGAATACATTCGTGTATTTTGTTATTCTACTACCCTCCTTCTAAATTCG</th>\n",
       "      <td>NaN</td>\n",
       "      <td>NaN</td>\n",
       "      <td>0.096154</td>\n",
       "      <td>0.096154</td>\n",
       "      <td>0.096154</td>\n",
       "      <td>NaN</td>\n",
       "      <td>NaN</td>\n",
       "    </tr>\n",
       "  </tbody>\n",
       "</table>\n",
       "<p>2177 rows × 7 columns</p>\n",
       "</div>"
      ],
      "text/plain": [
       "                                                       Day 1     Day 4  \\\n",
       "0                                                   0.788547  0.623030   \n",
       "1                                                   0.925568  0.943039   \n",
       "2                                                   0.997222  0.555556   \n",
       "3                                                   0.664655  0.668841   \n",
       "4                                                        NaN  1.000000   \n",
       "5                                                   0.871099  1.612398   \n",
       "6                                                   0.890681  0.935593   \n",
       "7                                                   1.208592  0.484817   \n",
       "8                                                   1.317114  1.703020   \n",
       "9                                                   1.600000  2.200000   \n",
       "10                                                  1.350658  0.665205   \n",
       "11                                                  1.000000  1.916667   \n",
       "12                                                       NaN  1.850000   \n",
       "13                                                  0.965957  0.792553   \n",
       "14                                                       NaN  1.150000   \n",
       "15                                                  0.633221  0.576795   \n",
       "16                                                  1.093427  1.185997   \n",
       "17                                                  2.450000       NaN   \n",
       "18                                                  1.003146  0.877729   \n",
       "19                                                  0.965852  0.815805   \n",
       "20                                                  0.935773  0.497238   \n",
       "21                                                  0.892758  0.698230   \n",
       "22                                                  0.673077  0.253205   \n",
       "23                                                  0.941792  0.796853   \n",
       "24                                                  0.582011  0.198413   \n",
       "25                                                  1.443662  0.352113   \n",
       "26                                                  0.742337  0.708377   \n",
       "27                                                  0.981521  0.858132   \n",
       "28                                                  4.300000  2.600000   \n",
       "29                                                  1.000000       NaN   \n",
       "...                                                      ...       ...   \n",
       "TACGTATGGTGCAAGCGTTATCCGGATTTACTGGGTGTAAAGGGAGC...       NaN       NaN   \n",
       "TACGTATGGTGCAAGCGTTATCCGGATTTACTGGGTGTAAAGGGAGC...       NaN       NaN   \n",
       "TACGTATGGTGCAAGCGTTATCCGGATTTACTGGGTGTAAAGGGAGC...       NaN       NaN   \n",
       "TACGTATGGTGCAAGCGTTATCCGGATTTACTGGGTGTAAAGGGAGC...       NaN       NaN   \n",
       "TACGTATGGTGCAAGCGTTATCCGGATTTACTGGGTGTAAAGGGAGC...       NaN       NaN   \n",
       "TACGTATGGTGCAAGCGTTATCCGGATTTACTGGGTGTAAAGGGAGC...       NaN       NaN   \n",
       "TACGTATGGTGCAAGCGTTATCCGGATTTACTGGGTGTAAAGGGAGC...       NaN       NaN   \n",
       "TACGTATGGTGCAAGCGTTATCCGGATTTACTGGGTGTAAAGGGAGC...       NaN       NaN   \n",
       "TACGTATGGTGCAAGCGTTATCCGGATTTACTGGGTGTAAAGGGAGC...       NaN       NaN   \n",
       "TACGTATGGTGCAAGCGTTATCCGGATTTACTGGGTGTAAAGGGAGC...       NaN       NaN   \n",
       "TACGTATGGTGCAAGCGTTATCCGGATTTACTGGGTGTAAAGGGAGC...       NaN       NaN   \n",
       "TACGTATGGTGCAAGCGTTATCCGGATTTACTGGGTGTAAAGGGAGT...       NaN       NaN   \n",
       "TACGTATGGTGCAAGCGTTATCCGGATTTACTGGGTGTAAAGGGCGC...       NaN       NaN   \n",
       "TACGTATGGTGCAAGCGTTATCCGGATTTACTGGGTGTAAAGGGCGT...       NaN       NaN   \n",
       "TACGTATGGTGCAAGCGTTATCCGGATTTACTGGGTGTAAAGGGCGT...       NaN       NaN   \n",
       "TACGTATGGTGCAAGCGTTATCCGGATTTACTGGGTGTAAAGGGTGA...       NaN       NaN   \n",
       "TACGTATGGTGCAAGCGTTATCCGGATTTACTGGGTGTAAAGGGTGC...       NaN       NaN   \n",
       "TACGTATGGTGCAAGCGTTATCCGGATTTACTGGGTGTAAAGGGTGC...       NaN       NaN   \n",
       "TACGTATGGTGCAAGCGTTATCCGGATTTACTGGGTGTAAAGGGTGC...       NaN       NaN   \n",
       "TACGTATGGTGCAAGCGTTATCCGGATTTACTGGGTGTAAAGGGTGC...       NaN       NaN   \n",
       "TACGTATGGTGCAAGCGTTATCCGGATTTACTGGGTGTAAAGGGTGC...       NaN       NaN   \n",
       "TACGTATGGTGCGAGCGTTATCCGGATTCATTGGGCGTAAAGCGCGC...       NaN       NaN   \n",
       "TACGTATGGTTCAAGCGTTATCCGGATTTACTGGGTGTAAAGGGTGA...       NaN       NaN   \n",
       "TACGTATGTCGCAAGCGTTATCCGGATTTATTGGGCGTAAAGCGCGT...       NaN       NaN   \n",
       "TACGTATGTCGCAAGCGTTATCCGGATTTATTGGGCGTAAAGCGCGT...       NaN       NaN   \n",
       "TACGTATGTCGCAAGCGTTATCCGGATTTATTGGGCGTAAAGCGCGT...       NaN       NaN   \n",
       "TACGTATGTTCCAAGCGTTATCCGGATTTATTGGGCGTAAAGCGAGC...       NaN       NaN   \n",
       "TACGTTGCATCCAAGTGTATTAAAAAAGCAAAAAGGGTGTTGAGGCG...       NaN       NaN   \n",
       "TACGTTGCATCCAAGTGTATTAAAAAAGCAAAAAGGGTGTTGAGGCG...       NaN       NaN   \n",
       "TTCCAGCTCCAATAGCGTATATTAACGTTGTTGCAGTTAAAAAGCTC...       NaN       NaN   \n",
       "\n",
       "                                                      Week 1     Week 2  \\\n",
       "0                                                        NaN        NaN   \n",
       "1                                                        NaN        NaN   \n",
       "2                                                        NaN        NaN   \n",
       "3                                                        NaN        NaN   \n",
       "4                                                        NaN        NaN   \n",
       "5                                                        NaN        NaN   \n",
       "6                                                        NaN        NaN   \n",
       "7                                                        NaN        NaN   \n",
       "8                                                        NaN        NaN   \n",
       "9                                                        NaN        NaN   \n",
       "10                                                       NaN        NaN   \n",
       "11                                                       NaN        NaN   \n",
       "12                                                       NaN        NaN   \n",
       "13                                                       NaN        NaN   \n",
       "14                                                       NaN        NaN   \n",
       "15                                                       NaN        NaN   \n",
       "16                                                       NaN        NaN   \n",
       "17                                                       NaN        NaN   \n",
       "18                                                       NaN        NaN   \n",
       "19                                                       NaN        NaN   \n",
       "20                                                       NaN        NaN   \n",
       "21                                                       NaN        NaN   \n",
       "22                                                       NaN        NaN   \n",
       "23                                                       NaN        NaN   \n",
       "24                                                       NaN        NaN   \n",
       "25                                                       NaN        NaN   \n",
       "26                                                       NaN        NaN   \n",
       "27                                                       NaN        NaN   \n",
       "28                                                       NaN        NaN   \n",
       "29                                                       NaN        NaN   \n",
       "...                                                      ...        ...   \n",
       "TACGTATGGTGCAAGCGTTATCCGGATTTACTGGGTGTAAAGGGAGC...  1.200000   1.400000   \n",
       "TACGTATGGTGCAAGCGTTATCCGGATTTACTGGGTGTAAAGGGAGC...  2.200000   7.800000   \n",
       "TACGTATGGTGCAAGCGTTATCCGGATTTACTGGGTGTAAAGGGAGC...  1.000000        NaN   \n",
       "TACGTATGGTGCAAGCGTTATCCGGATTTACTGGGTGTAAAGGGAGC...  2.525904   2.405180   \n",
       "TACGTATGGTGCAAGCGTTATCCGGATTTACTGGGTGTAAAGGGAGC...  1.216667   5.516667   \n",
       "TACGTATGGTGCAAGCGTTATCCGGATTTACTGGGTGTAAAGGGAGC...  0.849903   1.381092   \n",
       "TACGTATGGTGCAAGCGTTATCCGGATTTACTGGGTGTAAAGGGAGC...  1.800000        NaN   \n",
       "TACGTATGGTGCAAGCGTTATCCGGATTTACTGGGTGTAAAGGGAGC...  1.338250   3.999196   \n",
       "TACGTATGGTGCAAGCGTTATCCGGATTTACTGGGTGTAAAGGGAGC...  0.625000   0.625000   \n",
       "TACGTATGGTGCAAGCGTTATCCGGATTTACTGGGTGTAAAGGGAGC...  0.560000   1.160000   \n",
       "TACGTATGGTGCAAGCGTTATCCGGATTTACTGGGTGTAAAGGGAGC...  1.335083   0.670137   \n",
       "TACGTATGGTGCAAGCGTTATCCGGATTTACTGGGTGTAAAGGGAGT...  1.000000        NaN   \n",
       "TACGTATGGTGCAAGCGTTATCCGGATTTACTGGGTGTAAAGGGCGC...  1.600000        NaN   \n",
       "TACGTATGGTGCAAGCGTTATCCGGATTTACTGGGTGTAAAGGGCGT...  0.812500   0.812500   \n",
       "TACGTATGGTGCAAGCGTTATCCGGATTTACTGGGTGTAAAGGGCGT...  1.000000        NaN   \n",
       "TACGTATGGTGCAAGCGTTATCCGGATTTACTGGGTGTAAAGGGTGA...  1.400642   0.808147   \n",
       "TACGTATGGTGCAAGCGTTATCCGGATTTACTGGGTGTAAAGGGTGC...  4.400000        NaN   \n",
       "TACGTATGGTGCAAGCGTTATCCGGATTTACTGGGTGTAAAGGGTGC...  0.802181   7.725078   \n",
       "TACGTATGGTGCAAGCGTTATCCGGATTTACTGGGTGTAAAGGGTGC...  0.655701   5.194048   \n",
       "TACGTATGGTGCAAGCGTTATCCGGATTTACTGGGTGTAAAGGGTGC...  2.189394   2.708333   \n",
       "TACGTATGGTGCAAGCGTTATCCGGATTTACTGGGTGTAAAGGGTGC...  1.714898   3.093807   \n",
       "TACGTATGGTGCGAGCGTTATCCGGATTCATTGGGCGTAAAGCGCGC...  2.666667  12.833333   \n",
       "TACGTATGGTTCAAGCGTTATCCGGATTTACTGGGTGTAAAGGGTGA...  4.692308   0.384615   \n",
       "TACGTATGTCGCAAGCGTTATCCGGATTTATTGGGCGTAAAGCGCGT...       NaN        NaN   \n",
       "TACGTATGTCGCAAGCGTTATCCGGATTTATTGGGCGTAAAGCGCGT...       NaN        NaN   \n",
       "TACGTATGTCGCAAGCGTTATCCGGATTTATTGGGCGTAAAGCGCGT...  0.172414   0.172414   \n",
       "TACGTATGTTCCAAGCGTTATCCGGATTTATTGGGCGTAAAGCGAGC...       NaN        NaN   \n",
       "TACGTTGCATCCAAGTGTATTAAAAAAGCAAAAAGGGTGTTGAGGCG...  1.000000        NaN   \n",
       "TACGTTGCATCCAAGTGTATTAAAAAAGCAAAAAGGGTGTTGAGGCG...  2.400000        NaN   \n",
       "TTCCAGCTCCAATAGCGTATATTAACGTTGTTGCAGTTAAAAAGCTC...  0.096154   0.096154   \n",
       "\n",
       "                                                       Week 7  \\\n",
       "0                                                         NaN   \n",
       "1                                                         NaN   \n",
       "2                                                         NaN   \n",
       "3                                                         NaN   \n",
       "4                                                         NaN   \n",
       "5                                                         NaN   \n",
       "6                                                         NaN   \n",
       "7                                                         NaN   \n",
       "8                                                         NaN   \n",
       "9                                                         NaN   \n",
       "10                                                        NaN   \n",
       "11                                                        NaN   \n",
       "12                                                        NaN   \n",
       "13                                                        NaN   \n",
       "14                                                        NaN   \n",
       "15                                                        NaN   \n",
       "16                                                        NaN   \n",
       "17                                                        NaN   \n",
       "18                                                        NaN   \n",
       "19                                                        NaN   \n",
       "20                                                        NaN   \n",
       "21                                                        NaN   \n",
       "22                                                        NaN   \n",
       "23                                                        NaN   \n",
       "24                                                        NaN   \n",
       "25                                                        NaN   \n",
       "26                                                        NaN   \n",
       "27                                                        NaN   \n",
       "28                                                        NaN   \n",
       "29                                                        NaN   \n",
       "...                                                       ...   \n",
       "TACGTATGGTGCAAGCGTTATCCGGATTTACTGGGTGTAAAGGGAGC...   1.000000   \n",
       "TACGTATGGTGCAAGCGTTATCCGGATTTACTGGGTGTAAAGGGAGC...   5.600000   \n",
       "TACGTATGGTGCAAGCGTTATCCGGATTTACTGGGTGTAAAGGGAGC...        NaN   \n",
       "TACGTATGGTGCAAGCGTTATCCGGATTTACTGGGTGTAAAGGGAGC...   2.273164   \n",
       "TACGTATGGTGCAAGCGTTATCCGGATTTACTGGGTGTAAAGGGAGC...   0.833333   \n",
       "TACGTATGGTGCAAGCGTTATCCGGATTTACTGGGTGTAAAGGGAGC...   5.738791   \n",
       "TACGTATGGTGCAAGCGTTATCCGGATTTACTGGGTGTAAAGGGAGC...        NaN   \n",
       "TACGTATGGTGCAAGCGTTATCCGGATTTACTGGGTGTAAAGGGAGC...   3.555116   \n",
       "TACGTATGGTGCAAGCGTTATCCGGATTTACTGGGTGTAAAGGGAGC...   0.625000   \n",
       "TACGTATGGTGCAAGCGTTATCCGGATTTACTGGGTGTAAAGGGAGC...   0.580000   \n",
       "TACGTATGGTGCAAGCGTTATCCGGATTTACTGGGTGTAAAGGGAGC...   0.289810   \n",
       "TACGTATGGTGCAAGCGTTATCCGGATTTACTGGGTGTAAAGGGAGT...        NaN   \n",
       "TACGTATGGTGCAAGCGTTATCCGGATTTACTGGGTGTAAAGGGCGC...        NaN   \n",
       "TACGTATGGTGCAAGCGTTATCCGGATTTACTGGGTGTAAAGGGCGT...   0.812500   \n",
       "TACGTATGGTGCAAGCGTTATCCGGATTTACTGGGTGTAAAGGGCGT...        NaN   \n",
       "TACGTATGGTGCAAGCGTTATCCGGATTTACTGGGTGTAAAGGGTGA...   0.233565   \n",
       "TACGTATGGTGCAAGCGTTATCCGGATTTACTGGGTGTAAAGGGTGC...        NaN   \n",
       "TACGTATGGTGCAAGCGTTATCCGGATTTACTGGGTGTAAAGGGTGC...  23.382593   \n",
       "TACGTATGGTGCAAGCGTTATCCGGATTTACTGGGTGTAAAGGGTGC...  18.133248   \n",
       "TACGTATGGTGCAAGCGTTATCCGGATTTACTGGGTGTAAAGGGTGC...   1.412879   \n",
       "TACGTATGGTGCAAGCGTTATCCGGATTTACTGGGTGTAAAGGGTGC...   4.656866   \n",
       "TACGTATGGTGCGAGCGTTATCCGGATTCATTGGGCGTAAAGCGCGC...   2.166667   \n",
       "TACGTATGGTTCAAGCGTTATCCGGATTTACTGGGTGTAAAGGGTGA...   0.384615   \n",
       "TACGTATGTCGCAAGCGTTATCCGGATTTATTGGGCGTAAAGCGCGT...   1.700000   \n",
       "TACGTATGTCGCAAGCGTTATCCGGATTTATTGGGCGTAAAGCGCGT...   2.600000   \n",
       "TACGTATGTCGCAAGCGTTATCCGGATTTATTGGGCGTAAAGCGCGT...   0.258621   \n",
       "TACGTATGTTCCAAGCGTTATCCGGATTTATTGGGCGTAAAGCGAGC...  10.000000   \n",
       "TACGTTGCATCCAAGTGTATTAAAAAAGCAAAAAGGGTGTTGAGGCG...        NaN   \n",
       "TACGTTGCATCCAAGTGTATTAAAAAAGCAAAAAGGGTGTTGAGGCG...        NaN   \n",
       "TTCCAGCTCCAATAGCGTATATTAACGTTGTTGCAGTTAAAAAGCTC...   0.096154   \n",
       "\n",
       "                                                                                             sequence  \\\n",
       "0                                                   AACGTAGGGTGCAAGCGTTGTCCGGAATTACTGGGTGTAAAGGGAG...   \n",
       "1                                                   AACGTAGGGTGCAAGCGTTGTCCGGAATTACTGGGTGTAAAGGGAG...   \n",
       "2                                                   AACGTAGGGTGCAAGCGTTGTCCGGAATTACTGGGTGTAAAGGGAG...   \n",
       "3                                                   AACGTAGGGTGCAAGCGTTGTCCGGAATTACTGGGTGTAAAGGGAG...   \n",
       "4                                                   AACGTAGGGTGCAAGCGTTGTCCGGAATTACTGGGTGTAAAGGGAG...   \n",
       "5                                                   AACGTAGGGTGCAAGCGTTGTCCGGAATTACTGGGTGTAAAGGGAG...   \n",
       "6                                                   AACGTAGGGTGCAAGCGTTGTCCGGAATTACTGGGTGTAAAGGGAG...   \n",
       "7                                                   AACGTAGGGTGCAAGCGTTGTCCGGAATTACTGGGTGTAAAGGGAG...   \n",
       "8                                                   AACGTAGGGTGCAAGCGTTGTCCGGAATTACTGGGTGTAAAGGGAG...   \n",
       "9                                                   AACGTAGGGTGCAAGCGTTGTCCGGAATTACTGGGTGTAAAGGGAG...   \n",
       "10                                                  AACGTAGGGTGCTAGCGTTGTCCGGAATTACTGGGTGTAAAGGGAG...   \n",
       "11                                                  AACGTAGGTCACAAGCGTTGTCCGGAATTACTGGGCGTAAAGCGCA...   \n",
       "12                                                  AACGTAGGTCACAAGCGTTGTCCGGAATTACTGGGCGTAAAGCGTG...   \n",
       "13                                                  AACGTAGGTCACAAGCGTTGTCCGGAATTACTGGGCGTAAAGGGTG...   \n",
       "14                                                  AACGTAGGTCACAAGCGTTGTCCGGAATTACTGGGCGTAAAGGGTG...   \n",
       "15                                                  AACGTAGGTCACAAGCGTTGTCCGGAATTACTGGGTGTAAAGGGAG...   \n",
       "16                                                  AACGTAGGTCACAAGCGTTGTCCGGAATTACTGGGTGTAAAGGGAG...   \n",
       "17                                                  AACGTAGGTCACAAGCGTTGTCCGGAATTACTGGGTGTAAAGGGAG...   \n",
       "18                                                  AACGTAGGTCACAAGCGTTGTCCGGAATTACTGGGTGTAAAGGGAG...   \n",
       "19                                                  AACGTAGGTCACAAGCGTTGTCCGGAATTACTGGGTGTAAAGGGAG...   \n",
       "20                                                  AACGTAGGTCACAAGCGTTGTCCGGAATTACTGGGTGTAAAGGGAG...   \n",
       "21                                                  AACGTAGGTCACAAGCGTTGTCCGGAATTACTGGGTGTAAAGGGAG...   \n",
       "22                                                  AACGTAGGTCACAAGCGTTGTCCGGAATTACTGGGTGTAAAGGGAG...   \n",
       "23                                                  AACGTAGGTCACAAGCGTTGTCCGGAATTACTGGGTGTAAAGGGAG...   \n",
       "24                                                  AACGTAGGTCACAAGCGTTGTCCGGAATTACTGGGTGTAAAGGGAG...   \n",
       "25                                                  AACGTAGGTCACAAGCGTTGTCCGGAATTACTGGGTGTAAAGGGAG...   \n",
       "26                                                  AACGTAGGTCACAAGCGTTGTCCGGAATTACTGGGTGTAAAGGGAG...   \n",
       "27                                                  AACGTAGGTCACAAGCGTTGTCCGGAATTACTGGGTGTAAAGGGAG...   \n",
       "28                                                  AACGTAGGTCACAAGCGTTGTCCGGAATTACTGGGTGTAAAGGGAG...   \n",
       "29                                                  AACGTAGGTCACAAGCGTTGTCCGGAATTACTGGGTGTAAAGGGAG...   \n",
       "...                                                                                               ...   \n",
       "TACGTATGGTGCAAGCGTTATCCGGATTTACTGGGTGTAAAGGGAGC...                                                NaN   \n",
       "TACGTATGGTGCAAGCGTTATCCGGATTTACTGGGTGTAAAGGGAGC...                                                NaN   \n",
       "TACGTATGGTGCAAGCGTTATCCGGATTTACTGGGTGTAAAGGGAGC...                                                NaN   \n",
       "TACGTATGGTGCAAGCGTTATCCGGATTTACTGGGTGTAAAGGGAGC...                                                NaN   \n",
       "TACGTATGGTGCAAGCGTTATCCGGATTTACTGGGTGTAAAGGGAGC...                                                NaN   \n",
       "TACGTATGGTGCAAGCGTTATCCGGATTTACTGGGTGTAAAGGGAGC...                                                NaN   \n",
       "TACGTATGGTGCAAGCGTTATCCGGATTTACTGGGTGTAAAGGGAGC...                                                NaN   \n",
       "TACGTATGGTGCAAGCGTTATCCGGATTTACTGGGTGTAAAGGGAGC...                                                NaN   \n",
       "TACGTATGGTGCAAGCGTTATCCGGATTTACTGGGTGTAAAGGGAGC...                                                NaN   \n",
       "TACGTATGGTGCAAGCGTTATCCGGATTTACTGGGTGTAAAGGGAGC...                                                NaN   \n",
       "TACGTATGGTGCAAGCGTTATCCGGATTTACTGGGTGTAAAGGGAGC...                                                NaN   \n",
       "TACGTATGGTGCAAGCGTTATCCGGATTTACTGGGTGTAAAGGGAGT...                                                NaN   \n",
       "TACGTATGGTGCAAGCGTTATCCGGATTTACTGGGTGTAAAGGGCGC...                                                NaN   \n",
       "TACGTATGGTGCAAGCGTTATCCGGATTTACTGGGTGTAAAGGGCGT...                                                NaN   \n",
       "TACGTATGGTGCAAGCGTTATCCGGATTTACTGGGTGTAAAGGGCGT...                                                NaN   \n",
       "TACGTATGGTGCAAGCGTTATCCGGATTTACTGGGTGTAAAGGGTGA...                                                NaN   \n",
       "TACGTATGGTGCAAGCGTTATCCGGATTTACTGGGTGTAAAGGGTGC...                                                NaN   \n",
       "TACGTATGGTGCAAGCGTTATCCGGATTTACTGGGTGTAAAGGGTGC...                                                NaN   \n",
       "TACGTATGGTGCAAGCGTTATCCGGATTTACTGGGTGTAAAGGGTGC...                                                NaN   \n",
       "TACGTATGGTGCAAGCGTTATCCGGATTTACTGGGTGTAAAGGGTGC...                                                NaN   \n",
       "TACGTATGGTGCAAGCGTTATCCGGATTTACTGGGTGTAAAGGGTGC...                                                NaN   \n",
       "TACGTATGGTGCGAGCGTTATCCGGATTCATTGGGCGTAAAGCGCGC...                                                NaN   \n",
       "TACGTATGGTTCAAGCGTTATCCGGATTTACTGGGTGTAAAGGGTGA...                                                NaN   \n",
       "TACGTATGTCGCAAGCGTTATCCGGATTTATTGGGCGTAAAGCGCGT...                                                NaN   \n",
       "TACGTATGTCGCAAGCGTTATCCGGATTTATTGGGCGTAAAGCGCGT...                                                NaN   \n",
       "TACGTATGTCGCAAGCGTTATCCGGATTTATTGGGCGTAAAGCGCGT...                                                NaN   \n",
       "TACGTATGTTCCAAGCGTTATCCGGATTTATTGGGCGTAAAGCGAGC...                                                NaN   \n",
       "TACGTTGCATCCAAGTGTATTAAAAAAGCAAAAAGGGTGTTGAGGCG...                                                NaN   \n",
       "TACGTTGCATCCAAGTGTATTAAAAAAGCAAAAAGGGTGTTGAGGCG...                                                NaN   \n",
       "TTCCAGCTCCAATAGCGTATATTAACGTTGTTGCAGTTAAAAAGCTC...                                                NaN   \n",
       "\n",
       "                                                                                          sequence125  \n",
       "0                                                   AACGTAGGGTGCAAGCGTTGTCCGGAATTACTGGGTGTAAAGGGAG...  \n",
       "1                                                   AACGTAGGGTGCAAGCGTTGTCCGGAATTACTGGGTGTAAAGGGAG...  \n",
       "2                                                   AACGTAGGGTGCAAGCGTTGTCCGGAATTACTGGGTGTAAAGGGAG...  \n",
       "3                                                   AACGTAGGGTGCAAGCGTTGTCCGGAATTACTGGGTGTAAAGGGAG...  \n",
       "4                                                   AACGTAGGGTGCAAGCGTTGTCCGGAATTACTGGGTGTAAAGGGAG...  \n",
       "5                                                   AACGTAGGGTGCAAGCGTTGTCCGGAATTACTGGGTGTAAAGGGAG...  \n",
       "6                                                   AACGTAGGGTGCAAGCGTTGTCCGGAATTACTGGGTGTAAAGGGAG...  \n",
       "7                                                   AACGTAGGGTGCAAGCGTTGTCCGGAATTACTGGGTGTAAAGGGAG...  \n",
       "8                                                   AACGTAGGGTGCAAGCGTTGTCCGGAATTACTGGGTGTAAAGGGAG...  \n",
       "9                                                   AACGTAGGGTGCAAGCGTTGTCCGGAATTACTGGGTGTAAAGGGAG...  \n",
       "10                                                  AACGTAGGGTGCTAGCGTTGTCCGGAATTACTGGGTGTAAAGGGAG...  \n",
       "11                                                  AACGTAGGTCACAAGCGTTGTCCGGAATTACTGGGCGTAAAGCGCA...  \n",
       "12                                                  AACGTAGGTCACAAGCGTTGTCCGGAATTACTGGGCGTAAAGCGTG...  \n",
       "13                                                  AACGTAGGTCACAAGCGTTGTCCGGAATTACTGGGCGTAAAGGGTG...  \n",
       "14                                                  AACGTAGGTCACAAGCGTTGTCCGGAATTACTGGGCGTAAAGGGTG...  \n",
       "15                                                  AACGTAGGTCACAAGCGTTGTCCGGAATTACTGGGTGTAAAGGGAG...  \n",
       "16                                                  AACGTAGGTCACAAGCGTTGTCCGGAATTACTGGGTGTAAAGGGAG...  \n",
       "17                                                  AACGTAGGTCACAAGCGTTGTCCGGAATTACTGGGTGTAAAGGGAG...  \n",
       "18                                                  AACGTAGGTCACAAGCGTTGTCCGGAATTACTGGGTGTAAAGGGAG...  \n",
       "19                                                  AACGTAGGTCACAAGCGTTGTCCGGAATTACTGGGTGTAAAGGGAG...  \n",
       "20                                                  AACGTAGGTCACAAGCGTTGTCCGGAATTACTGGGTGTAAAGGGAG...  \n",
       "21                                                  AACGTAGGTCACAAGCGTTGTCCGGAATTACTGGGTGTAAAGGGAG...  \n",
       "22                                                  AACGTAGGTCACAAGCGTTGTCCGGAATTACTGGGTGTAAAGGGAG...  \n",
       "23                                                  AACGTAGGTCACAAGCGTTGTCCGGAATTACTGGGTGTAAAGGGAG...  \n",
       "24                                                  AACGTAGGTCACAAGCGTTGTCCGGAATTACTGGGTGTAAAGGGAG...  \n",
       "25                                                  AACGTAGGTCACAAGCGTTGTCCGGAATTACTGGGTGTAAAGGGAG...  \n",
       "26                                                  AACGTAGGTCACAAGCGTTGTCCGGAATTACTGGGTGTAAAGGGAG...  \n",
       "27                                                  AACGTAGGTCACAAGCGTTGTCCGGAATTACTGGGTGTAAAGGGAG...  \n",
       "28                                                  AACGTAGGTCACAAGCGTTGTCCGGAATTACTGGGTGTAAAGGGAG...  \n",
       "29                                                  AACGTAGGTCACAAGCGTTGTCCGGAATTACTGGGTGTAAAGGGAG...  \n",
       "...                                                                                               ...  \n",
       "TACGTATGGTGCAAGCGTTATCCGGATTTACTGGGTGTAAAGGGAGC...                                                NaN  \n",
       "TACGTATGGTGCAAGCGTTATCCGGATTTACTGGGTGTAAAGGGAGC...                                                NaN  \n",
       "TACGTATGGTGCAAGCGTTATCCGGATTTACTGGGTGTAAAGGGAGC...                                                NaN  \n",
       "TACGTATGGTGCAAGCGTTATCCGGATTTACTGGGTGTAAAGGGAGC...                                                NaN  \n",
       "TACGTATGGTGCAAGCGTTATCCGGATTTACTGGGTGTAAAGGGAGC...                                                NaN  \n",
       "TACGTATGGTGCAAGCGTTATCCGGATTTACTGGGTGTAAAGGGAGC...                                                NaN  \n",
       "TACGTATGGTGCAAGCGTTATCCGGATTTACTGGGTGTAAAGGGAGC...                                                NaN  \n",
       "TACGTATGGTGCAAGCGTTATCCGGATTTACTGGGTGTAAAGGGAGC...                                                NaN  \n",
       "TACGTATGGTGCAAGCGTTATCCGGATTTACTGGGTGTAAAGGGAGC...                                                NaN  \n",
       "TACGTATGGTGCAAGCGTTATCCGGATTTACTGGGTGTAAAGGGAGC...                                                NaN  \n",
       "TACGTATGGTGCAAGCGTTATCCGGATTTACTGGGTGTAAAGGGAGC...                                                NaN  \n",
       "TACGTATGGTGCAAGCGTTATCCGGATTTACTGGGTGTAAAGGGAGT...                                                NaN  \n",
       "TACGTATGGTGCAAGCGTTATCCGGATTTACTGGGTGTAAAGGGCGC...                                                NaN  \n",
       "TACGTATGGTGCAAGCGTTATCCGGATTTACTGGGTGTAAAGGGCGT...                                                NaN  \n",
       "TACGTATGGTGCAAGCGTTATCCGGATTTACTGGGTGTAAAGGGCGT...                                                NaN  \n",
       "TACGTATGGTGCAAGCGTTATCCGGATTTACTGGGTGTAAAGGGTGA...                                                NaN  \n",
       "TACGTATGGTGCAAGCGTTATCCGGATTTACTGGGTGTAAAGGGTGC...                                                NaN  \n",
       "TACGTATGGTGCAAGCGTTATCCGGATTTACTGGGTGTAAAGGGTGC...                                                NaN  \n",
       "TACGTATGGTGCAAGCGTTATCCGGATTTACTGGGTGTAAAGGGTGC...                                                NaN  \n",
       "TACGTATGGTGCAAGCGTTATCCGGATTTACTGGGTGTAAAGGGTGC...                                                NaN  \n",
       "TACGTATGGTGCAAGCGTTATCCGGATTTACTGGGTGTAAAGGGTGC...                                                NaN  \n",
       "TACGTATGGTGCGAGCGTTATCCGGATTCATTGGGCGTAAAGCGCGC...                                                NaN  \n",
       "TACGTATGGTTCAAGCGTTATCCGGATTTACTGGGTGTAAAGGGTGA...                                                NaN  \n",
       "TACGTATGTCGCAAGCGTTATCCGGATTTATTGGGCGTAAAGCGCGT...                                                NaN  \n",
       "TACGTATGTCGCAAGCGTTATCCGGATTTATTGGGCGTAAAGCGCGT...                                                NaN  \n",
       "TACGTATGTCGCAAGCGTTATCCGGATTTATTGGGCGTAAAGCGCGT...                                                NaN  \n",
       "TACGTATGTTCCAAGCGTTATCCGGATTTATTGGGCGTAAAGCGAGC...                                                NaN  \n",
       "TACGTTGCATCCAAGTGTATTAAAAAAGCAAAAAGGGTGTTGAGGCG...                                                NaN  \n",
       "TACGTTGCATCCAAGTGTATTAAAAAAGCAAAAAGGGTGTTGAGGCG...                                                NaN  \n",
       "TTCCAGCTCCAATAGCGTATATTAACGTTGTTGCAGTTAAAAAGCTC...                                                NaN  \n",
       "\n",
       "[2177 rows x 7 columns]"
      ]
     },
     "execution_count": 250,
     "metadata": {},
     "output_type": "execute_result"
    }
   ],
   "source": [
    "storage_fc"
   ]
  },
  {
   "cell_type": "code",
   "execution_count": 235,
   "metadata": {
    "collapsed": false
   },
   "outputs": [
    {
     "data": {
      "text/plain": [
       "27"
      ]
     },
     "execution_count": 235,
     "metadata": {},
     "output_type": "execute_result"
    }
   ],
   "source": [
    "len(mayo_seqs) - len(set(mayo_seqs_125))"
   ]
  },
  {
   "cell_type": "code",
   "execution_count": null,
   "metadata": {
    "collapsed": false
   },
   "outputs": [],
   "source": [
    "# auxillary function to get minimal fold change for ag-fresh study comparison:\n",
    "def GetAGFreshMin(cagfc,fresh_fc,cseq):\n",
    "    \"\"\"\n",
    "    fold change to minimum(current fold change, ratio to fresh study)\n",
    "    if was not present in fresh study, cap fold change to minimum(current fold change,50)\n",
    "\n",
    "    input:\n",
    "    cagfc : float\n",
    "        the current minimal fold change of AG compared to all fresh frozen studies\n",
    "    fresh_fc : dict of {sequence : foldchange}\n",
    "        dict of fold change per sequence in the study (compared to AG)\n",
    "    cseq : str ('ACGT' sequence)\n",
    "        the sequence being analyzed\n",
    "        \n",
    "    output:\n",
    "    cagfc : float\n",
    "        the modified minimal fold change of AG compared to all fresh-frozen studies\n",
    "    \"\"\"\n",
    "    if cseq in fresh_fc:\n",
    "        cagfc=min(cagfc,fresh_fc[cseq])\n",
    "    else:\n",
    "        cagfc=min(cagfc,50)\n",
    "    return cagfc\n",
    "\n",
    "\n",
    "# auxillary function to get maximal fold change for storage studies day 0 comparison:\n",
    "def GetStorageMax(maxfc,store_fc,cseq,readlen=0):\n",
    "    \"\"\"\n",
    "    if we saw the sOTU in supplied storage study, fold change to maximum(current fold change,supplied storage study compared to day 0)\n",
    "    \n",
    "    input:\n",
    "    maxfc : float\n",
    "        the maximal fold change in all storage study/day compared to corresponding day 0\n",
    "    store_fc : dict of {sequence : fold-change}\n",
    "        dict of fold change per sequence in the storage study (compared to day 0)\n",
    "    cseq : str ('ACGT' sequence)\n",
    "        the sequence being analyzed\n",
    "    readlen : int (optional)\n",
    "        0 (default) to use full sequence length, otherwise use only readlen first bases\n",
    "        used in Se-Jin storage study as reads were 124bp long\n",
    "    \n",
    "    output:\n",
    "    maxfc : float\n",
    "        the new maximal fold change in all storage study/day compared to corresponding day 0\n",
    "    \"\"\"\n",
    "    # get the dict sequences read len (since one storage study is only 124bp)\n",
    "#     readlen=len(next(iter(store_fc.keys())))\n",
    "    if readlen>0:\n",
    "        cseq=cseq[:readlen]\n",
    "    if cseq in store_fc:\n",
    "        maxfc=max(maxfc,store_fc[cseq])\n",
    "    return maxfc"
   ]
  },
  {
   "cell_type": "code",
   "execution_count": null,
   "metadata": {
    "collapsed": false,
    "scrolled": false
   },
   "outputs": [],
   "source": [
    "# find the new blooming bacteria list\n",
    "# test the min of the ag vs other experiments (y axis) and the max growth (in storage studies) (x axis)\n",
    "newbloom=[]\n",
    "bloomscores=[]\n",
    "bloomtax=[]\n",
    "\n",
    "# x and y points for all and candidate blooming bacteria for the scatter plot\n",
    "allx=[]\n",
    "ally=[]\n",
    "intx=[]\n",
    "inty=[]\n",
    "intsym=[]\n",
    "\n",
    "# iterate over all sOTUs significantly different between AG to the other experiments\n",
    "for idx,cseq in enumerate(diff_ag_other.seqs):\n",
    "    # if didn't see it at all in AG sequences - skip it\n",
    "    if cseq in agf.seqdict:\n",
    "        # set the minimal fold change to very high number, so will go down with any fold change\n",
    "        cagfc=1000000\n",
    "    else:\n",
    "        continue\n",
    "\n",
    "    # calculate minimal fold change in AG compared to fresh frozen studies\n",
    "    # PGP\n",
    "    cagfc=GetAGFreshMin(cagfc,fcpgp,cseq)\n",
    "    # UK-Twins\n",
    "    cagfc=GetAGFreshMin(cagfc,fctwins,cseq)\n",
    "    # Whole grain feces\n",
    "    cagfc=GetAGFreshMin(cagfc,fcerc,cseq)\n",
    "\n",
    "    # calculate maximal fold change (over days/studies) in storage studies (compare to time 0)\n",
    "    \n",
    "    # init maximal fold change to 0 (so any fold change is bigger)\n",
    "    maxfc=0\n",
    "    # if we saw the sOTU in mayo day 4, fold change to maximum(current fold change,mayo day 4 compared to 0)\n",
    "    maxfc=GetStorageMax(maxfc,mayo1fc,cseq)\n",
    "    maxfc=GetStorageMax(maxfc,mayo4fc,cseq)\n",
    "    maxfc=GetStorageMax(maxfc,sj7fc,cseq,124)\n",
    "    maxfc=GetStorageMax(maxfc,sj14fc,cseq,124)\n",
    "    maxfc=GetStorageMax(maxfc,sj28fc,cseq,124)\n",
    "    \n",
    "    # if we have both fold changes for this sOTU, store it\n",
    "    if maxfc>0 and cagfc>0:\n",
    "        allx.append(maxfc)\n",
    "        ally.append(cagfc)\n",
    "\n",
    "    # test if this bacteria is a candidate blooming bacteria\n",
    "    # the criteria when to call it a bloom is:\n",
    "    # storage fold change>2 and AG fold change>2 or storage fold change>50 or AG fold change>2 and not observed in storage studies\n",
    "    if (maxfc>2 and cagfc>2) or (maxfc>50) or (cagfc>2 and maxfc==0):\n",
    "        print(diff_ag_other.tax[idx])\n",
    "        print('agfc:%f, maxfc:%f' % (cagfc, maxfc))\n",
    "        # add to candidate blooming list\n",
    "        newbloom.append(cseq)\n",
    "        bloomscores.append(maxfc + 0.01*cagfc)\n",
    "        bloomtax.append(diff_ag_other.tax[idx])\n",
    "        intx.append(maxfc)\n",
    "        inty.append(cagfc)\n",
    "\n",
    "print('total %d blooming bacteria' % len(newbloom))"
   ]
  },
  {
   "cell_type": "markdown",
   "metadata": {},
   "source": [
    "# Plot the fold change scatter plot KDE with highlighting the candidate blooming sOTUs\n",
    "since we have a lot of sOTUs, each with max(storage fc) and min(ag-fresh fc), we plot the average densities of all sOTUs.\n",
    "\n",
    "Red circles denote the sOTUs (15) passing the criteria for candidate blooming bacteria. Note that an additional set of 6 candidate blooming bacteria are not shown as they do not appear in the storage studies, and therefore do not have an x coordinate on the plot."
   ]
  },
  {
   "cell_type": "code",
   "execution_count": null,
   "metadata": {
    "collapsed": false
   },
   "outputs": [],
   "source": [
    "plt.figure()\n",
    "ax = plt.axes()\n",
    "sn.kdeplot(np.log2(np.array(allx)),np.log2(np.array(ally)),shade=True, cmap='Greys', ax=ax)\n",
    "plt.scatter(np.log2(np.array(intx)), np.log2(np.array(inty)), s=80, color=sn.color_palette()[2])\n",
    "ax.set_xlim([-2, 10])\n",
    "ax.set_ylim([-5, 6])\n",
    "ax.set_xlabel('max. storage study foldchange (log2)',fontsize=16)\n",
    "ax.set_ylabel('min. AG foldchange (log2)',fontsize=16)\n",
    "ax.tick_params(axis='both', which='major', labelsize=14)\n",
    "plt.tight_layout()"
   ]
  },
  {
   "cell_type": "code",
   "execution_count": null,
   "metadata": {
    "collapsed": true
   },
   "outputs": [],
   "source": [
    "plt.savefig('../results/fig1-blooming-identification-kde.pdf')"
   ]
  },
  {
   "cell_type": "markdown",
   "metadata": {},
   "source": [
    "## Sort the candidate blooming sOTUs by their storage study fold change\n",
    "We want to order the candidate blooming sOTUs so the more likely/larger effect size bloomers are first.\n",
    "\n",
    "We base the sort order on the storage study maximal fold change, as this approximates the potential for blooming, and the max over different storage times shows the growth in the more optimal conditions for each candidate bloomer (whereas the AG-fresh frozen fold change shows the mean blooming). This way, we give higher priority to sOTUs that can distort the most the frequencies (even if in a small number of samples)."
   ]
  },
  {
   "cell_type": "code",
   "execution_count": null,
   "metadata": {
    "collapsed": false
   },
   "outputs": [],
   "source": [
    "# sort the blooming bacteria according to the maximal storage study fold change\n",
    "sv,si=hs.isort(bloomscores,reverse=True)\n",
    "newbloom=hs.reorder(newbloom,si)\n",
    "bloomtax=hs.reorder(bloomtax,si)\n",
    "bloomscores=hs.reorder(bloomscores,si)"
   ]
  },
  {
   "cell_type": "code",
   "execution_count": null,
   "metadata": {
    "collapsed": false
   },
   "outputs": [],
   "source": [
    "# the sorted list of blooming bacteria\n",
    "for idx,ctax in enumerate(bloomtax):\n",
    "    print('%d : %f %s' % (idx,bloomscores[idx],ctax))"
   ]
  },
  {
   "cell_type": "markdown",
   "metadata": {},
   "source": [
    "## save the bloom sequences"
   ]
  },
  {
   "cell_type": "code",
   "execution_count": null,
   "metadata": {
    "collapsed": false
   },
   "outputs": [],
   "source": [
    "hs.saveseqsfasta(agf,newbloom,'../data/newbloom.all.fa')"
   ]
  },
  {
   "cell_type": "code",
   "execution_count": null,
   "metadata": {
    "collapsed": true
   },
   "outputs": [],
   "source": [
    "hs.saveseqsfasta(agf,newbloom[:8],'../data/newbloom.8.fa')"
   ]
  },
  {
   "cell_type": "markdown",
   "metadata": {},
   "source": [
    "# Plot the taxonomy comparison before and after bloom filtering"
   ]
  },
  {
   "cell_type": "markdown",
   "metadata": {},
   "source": [
    "## prepare the joined experiment"
   ]
  },
  {
   "cell_type": "code",
   "execution_count": null,
   "metadata": {
    "collapsed": true
   },
   "outputs": [],
   "source": [
    "# join AG and PGP\n",
    "allf=hs.joinexperiments(agf,pgpf)"
   ]
  },
  {
   "cell_type": "code",
   "execution_count": null,
   "metadata": {
    "collapsed": false
   },
   "outputs": [],
   "source": [
    "# remove the AG mapping fields (to make it faster)\n",
    "hs.filtermapfields(allf,['origexp'],inplace=True)"
   ]
  },
  {
   "cell_type": "code",
   "execution_count": null,
   "metadata": {
    "collapsed": true
   },
   "outputs": [],
   "source": [
    "# join the UK-Twins\n",
    "allf=hs.joinexperiments(allf,twinsf)"
   ]
  },
  {
   "cell_type": "code",
   "execution_count": null,
   "metadata": {
    "collapsed": true
   },
   "outputs": [],
   "source": [
    "# and join the Whole grain feces\n",
    "allf=hs.joinexperiments(allf,ercf)"
   ]
  },
  {
   "cell_type": "code",
   "execution_count": null,
   "metadata": {
    "collapsed": false
   },
   "outputs": [],
   "source": [
    "# remove all mapping fields except 'origexp' (the original study) (to make it faster)\n",
    "hs.filtermapfields(allf,['origexp'],inplace=True)"
   ]
  },
  {
   "cell_type": "markdown",
   "metadata": {},
   "source": [
    "## Plot the pre-filtered taxonomy plot"
   ]
  },
  {
   "cell_type": "code",
   "execution_count": null,
   "metadata": {
    "collapsed": false
   },
   "outputs": [],
   "source": [
    "# collapes the samples to one per study (using mean value for each sOTU)\n",
    "allfpre=hs.filtersimilarsamples(allf,'origexp',method='mean')"
   ]
  },
  {
   "cell_type": "code",
   "execution_count": null,
   "metadata": {
    "collapsed": true
   },
   "outputs": [],
   "source": [
    "# sort by original experiment\n",
    "allfpre=hs.sortsamples(allfpre,'origexp')"
   ]
  },
  {
   "cell_type": "code",
   "execution_count": null,
   "metadata": {
    "collapsed": false
   },
   "outputs": [],
   "source": [
    "hs.getfieldvals(allfpre,'origexp')"
   ]
  },
  {
   "cell_type": "code",
   "execution_count": null,
   "metadata": {
    "collapsed": true
   },
   "outputs": [],
   "source": [
    "# give nices names to the experiment (for the plot)\n",
    "hs.addfield(allfpre,'expname',['AG-pre','EWF-pre','PGP-pre','UKTwins-pre'])"
   ]
  },
  {
   "cell_type": "code",
   "execution_count": null,
   "metadata": {
    "collapsed": true
   },
   "outputs": [],
   "source": [
    "sn.set_style(\"white\")"
   ]
  },
  {
   "cell_type": "code",
   "execution_count": null,
   "metadata": {
    "collapsed": false
   },
   "outputs": [],
   "source": [
    "# plot the taxonomy bar graph (normalized to 100% per study)\n",
    "taxlist=hs.plottaxonomybar(allfpre,sortfield='expname',showlegend=False,showxlabels=True,rotation=0,sumone=True)"
   ]
  },
  {
   "cell_type": "code",
   "execution_count": null,
   "metadata": {
    "collapsed": false
   },
   "outputs": [],
   "source": [
    "plt.savefig('../results/fig2C_taxonomy-4exp-nofiltering.pdf')"
   ]
  },
  {
   "cell_type": "markdown",
   "metadata": {},
   "source": [
    "## plot the post-filtering taxonomy plot"
   ]
  },
  {
   "cell_type": "code",
   "execution_count": null,
   "metadata": {
    "collapsed": true
   },
   "outputs": [],
   "source": [
    "# filter the 8 blooming bacteria\n",
    "allfpost=hs.filterseqs(allf,newbloom[:8],exclude=True)"
   ]
  },
  {
   "cell_type": "code",
   "execution_count": null,
   "metadata": {
    "collapsed": false
   },
   "outputs": [],
   "source": [
    "# collapes the samples to one per study (using mean value for each sOTU)\n",
    "allfpost=hs.filtersimilarsamples(allfpost,'origexp',method='mean')"
   ]
  },
  {
   "cell_type": "code",
   "execution_count": null,
   "metadata": {
    "collapsed": true
   },
   "outputs": [],
   "source": [
    "# sort by original experiment\n",
    "allfpost=hs.sortsamples(allfpost,'origexp')"
   ]
  },
  {
   "cell_type": "code",
   "execution_count": null,
   "metadata": {
    "collapsed": false
   },
   "outputs": [],
   "source": [
    "hs.getfieldvals(allfpost,'origexp')"
   ]
  },
  {
   "cell_type": "code",
   "execution_count": null,
   "metadata": {
    "collapsed": true
   },
   "outputs": [],
   "source": [
    "# give nices names to the experiment (for the plot)\n",
    "hs.addfield(allfpost,'expname',['AG-post','EWF-post','PGP-post','UKTwins-post'])"
   ]
  },
  {
   "cell_type": "code",
   "execution_count": null,
   "metadata": {
    "collapsed": false
   },
   "outputs": [],
   "source": [
    "sn.set_style(\"white\",{'legend.frameon':True})\n",
    "sn.set_context(\"notebook\")"
   ]
  },
  {
   "cell_type": "code",
   "execution_count": null,
   "metadata": {
    "collapsed": false
   },
   "outputs": [],
   "source": [
    "# plot the taxonomy bar graph (normalized to 100% per study). Use same phylum order as previous taxonomy plot\n",
    "hs.plottaxonomybar(allfpost,sortfield='expname',showlegend=False,showxlabels=True,rotation=0,sumone=True,taxorder=taxlist.tax)"
   ]
  },
  {
   "cell_type": "code",
   "execution_count": null,
   "metadata": {
    "collapsed": true
   },
   "outputs": [],
   "source": [
    "plt.savefig('../results/fig2C_taxonomy-4exp-withfiltering-8.pdf')"
   ]
  },
  {
   "cell_type": "markdown",
   "metadata": {},
   "source": [
    "## and for the legend"
   ]
  },
  {
   "cell_type": "code",
   "execution_count": null,
   "metadata": {
    "collapsed": false
   },
   "outputs": [],
   "source": [
    "# plot with legend (we just cut out the legend in the figure)\n",
    "hs.plottaxonomybar(allfpre,sortfield='expname',showlegend=True,showxlabels=True,rotation=0,sumone=True)"
   ]
  },
  {
   "cell_type": "code",
   "execution_count": null,
   "metadata": {
    "collapsed": true
   },
   "outputs": [],
   "source": [
    "plt.savefig('../results/fig2C_taxonomy-4exp-forlegend.pdf')"
   ]
  },
  {
   "cell_type": "markdown",
   "metadata": {
    "collapsed": true
   },
   "source": [
    "In conclusion, we can take advantage of the microbes identified to be blooming in previous studies, combined with comparison between shipped and fresh frozen samples, to identify candidate taxa that bloom in storage conditions in the American Gut project.\n",
    "\n",
    "An advantage of performing such analysis on a sub-OTU level (i.e. the output of the Deblur algorithm), is that we can identify and remove the exact blooming bacterial sequences, whereas using traditional OTU based methods would require removal of the blooming bacteria and all close sequences, which can lead to much higher numbers of bacteria removed.\n",
    "\n",
    "Note that choosing the number of candidate blooming bacteria to remove is a type-1/type-2 balance. Removal of more bacteria will reduce the effect of shipment, at the cost of losing more bacteria for analysis.\n",
    "\n",
    "While all bacteria may change during shipment, it seems only a small number of them exhibit a drastic growth. By removal of as little as the top 8 blooming bacteria, we can greatly reduce the effect of shipment. This leads to a great reduction in the noise within American Gut samples (since not all samples are undergo the same shipment conditions/duration), as well as enable comparison to other, fresh frozen studies.\n"
   ]
  },
  {
   "cell_type": "markdown",
   "metadata": {
    "collapsed": true
   },
   "source": [
    "# References\n",
    "<ol><li><a id='1'></a>Song, S.J., Amir, A.; Metcalf, J.L.; Amato, K.R.; Xu, Z.Z.; Humphrey, G.; Knight, R. (2016). \"<a href=\"http://msystems.asm.org/content/1/3/e00021-16\">Preservation Methods Differ in Fecal Microbiome Stability, Affecting Suitability for Field Studies</a>. <em>mSystems</em>. 1: e00021-16\n",
    "</li><li><a id=\"2\"></a>Sinha, R.; Chen, J.; Amir, A,; Vogtmann, E.; Shi, J.; Inman, K.S.; Flores, R.; Sampson, J.; Knight, R.; Chia, N. (2016) \"<a href=\"https://www.ncbi.nlm.nih.gov/pubmed/26604270\">Collecting fecal samples for microbiome analyses in epidemiology studies.</a>\" <em>Cancer Epidemiol Biomarkers Prev</em> 25: 407-416.\n",
    "</li><li><a id=\"3\"></a>Goodrich, J.K.; Waters, J.L.; Poole, A.C.; Sutter, J.L.; Blekhman, R.; Beaumont, M.; Van Treuren, W.; Knight, R.; Bell, J.T.; Spector, T.D.; Clark, A.G.; Ley, R.E. (2014). \"<a href=\"https://www.ncbi.nlm.nih.gov/pubmed/25417156\">Human genetics shape the gut microbiome</a>.\" <em>Cell</em>. 159: 789-799.\n",
    "</li><li><a id=\"4\"></a>Vitaglione, P.; Mennella, I.; Ferracane, R.; Rivellese, A.A.; Giacco, R.; Ercolini, D.; Gibbons, S.; La Storia, A.; Gilbert, J.A.; Jonnalagadda, S.; Thielecke, F.; Galo, M.A.; Scalfi, L.; Fogliano, V. (2015). \"<a href=\"https://www.ncbi.nlm.nih.gov/pubmed/25646321\">Whole-grain wheat consumption reduces inflammation in a randomized controlled trial on overweight and obese subjects with unhealthy dietary and lifestyle behaviors: role of polyphenols bound to cereal dietary fiber</a>.\" <em>Am J Clin Nutr</em> 101: 251-261.\n",
    "</li><li><a id=\"5\"></a>Mandal, S.; Van Treuren, W.; White, R.A.; Eggesbo, M.; Knight, R.; Peddada, S.D (2015) \"<a href=\"https://www.ncbi.nlm.nih.gov/pubmed/26028277\">Analysis of composition of microbiomes: a novel method for studying microbial composition</a>.\" <em>Microb Ecol Health Dis</em> 29:27663.\n",
    "</li></ol>"
   ]
  },
  {
   "cell_type": "code",
   "execution_count": null,
   "metadata": {
    "collapsed": true
   },
   "outputs": [],
   "source": []
  }
 ],
 "metadata": {
  "anaconda-cloud": {},
  "kernelspec": {
   "display_name": "Python [conda env:bloom]",
   "language": "python",
   "name": "conda-env-bloom-py"
  },
  "language_info": {
   "codemirror_mode": {
    "name": "ipython",
    "version": 3
   },
   "file_extension": ".py",
   "mimetype": "text/x-python",
   "name": "python",
   "nbconvert_exporter": "python",
   "pygments_lexer": "ipython3",
   "version": "3.5.2"
  }
 },
 "nbformat": 4,
 "nbformat_minor": 0
}
