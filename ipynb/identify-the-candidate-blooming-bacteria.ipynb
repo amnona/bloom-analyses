{
 "cells": [
  {
   "cell_type": "markdown",
   "metadata": {},
   "source": [
    "# Identify the candidate blooming bacteria\n",
    "\n",
    "The goal of this notebook is to identify candidate bacteria which bloom under shipping conditions. We identified cadnidates in two parts: first, we looked for bacteria which grew at room temperature in storage studies. We also looked at shipped American Gut samples and compared them to fresh frozen fecal samples. We used the combined technique because the storage studies were limited by size, while the comparison between studies is noisy.\n",
    "\n",
    "Briefly, this process will involve the following steps:\n",
    "\n",
    "1. Load the datasets (Mayo and Se-Jin storage studies and AG, PGP, UK-Twins and Whole grain feces)\n",
    "2. Calculate the fold change per sOTU in the storage studies\n",
    "3. Calculate the fold change in AG compared to fresh frozen studies (PGP, UK-Twins and Whole grain feces)\n",
    "4. Identify candidate blooming bacteria by combining the fold changes in 2,3\n",
    "5. Plot the scatter of the fold change per sOTU with highlighting the candidate blooming bacteria\n",
    "6. Plot taxonomy plots before and after bloom filtering\n",
    "\n",
    "Let's start by loading the necessary python functions. "
   ]
  },
  {
   "cell_type": "code",
   "execution_count": 1,
   "metadata": {
    "collapsed": false,
    "scrolled": false
   },
   "outputs": [
    {
     "name": "stderr",
     "output_type": "stream",
     "text": [
      "/Users/jdebelius/miniconda2/envs/bloom/lib/python3.5/site-packages/matplotlib/__init__.py:1350: UserWarning:  This call to matplotlib.use() has no effect\n",
      "because the backend has already been chosen;\n",
      "matplotlib.use() must be called *before* pylab, matplotlib.pyplot,\n",
      "or matplotlib.backends is imported for the first time.\n",
      "\n",
      "  warnings.warn(_use_error_msg)\n"
     ]
    }
   ],
   "source": [
    "import hashlib\n",
    "\n",
    "import matplotlib as mpl\n",
    "mpl.use('Agg')\n",
    "\n",
    "# load modules used in the analysis\n",
    "import biom\n",
    "import matplotlib.pyplot as plt\n",
    "import numpy as np\n",
    "import pandas as pd\n",
    "import seaborn as sn\n",
    "import skbio\n",
    "from skbio.stats.composition import closure\n",
    "\n",
    "from bloom.stats import ancom\n",
    "\n",
    "# plots inside the notebook\n",
    "%matplotlib notebook\n",
    "\n",
    "# set the random seed\n",
    "np.random.seed(2016)"
   ]
  },
  {
   "cell_type": "code",
   "execution_count": 2,
   "metadata": {
    "collapsed": true
   },
   "outputs": [],
   "source": [
    "import pandas as pd\n",
    "import numpy as np\n",
    "\n",
    "def exploding_panda(_bt):\n",
    "    \"\"\"BIOM->Pandas dataframe converter\n",
    "\n",
    "    Parameters\n",
    "    ----------\n",
    "    _bt : biom.Table\n",
    "        BIOM table\n",
    "\n",
    "    Returns\n",
    "    -------\n",
    "    pandas.DataFrame\n",
    "        The BIOM table converted into a DataFrame\n",
    "        object.\n",
    "\n",
    "    References\n",
    "    ----------\n",
    "    Based on this answer on SO:\n",
    "    http://stackoverflow.com/a/17819427/379593\n",
    "    \"\"\"\n",
    "    m = _bt.matrix_data\n",
    "    data = [pd.SparseSeries(m[i].toarray().ravel()) for i in np.arange(m.shape[0])]\n",
    "    out = pd.SparseDataFrame(data, index=_bt.ids('observation'),\n",
    "                             columns=_bt.ids('sample'))\n",
    "\n",
    "    return out"
   ]
  },
  {
   "cell_type": "markdown",
   "metadata": {},
   "source": [
    "# Loading all experimental data"
   ]
  },
  {
   "cell_type": "markdown",
   "metadata": {},
   "source": [
    "We'll write a quick function to load the data. We'll load the biom table (`biom_fp`). We'll load the specified metadata columns (`meta_fp` and `keep_columns`). Then, we'll filter the data to include only samples with at least 1000 counts/sample (`depth`) and that fit the filtering criteria (`filters`). Finally, we'll add information about the study and preservation method to make later analysis easier."
   ]
  },
  {
   "cell_type": "code",
   "execution_count": 3,
   "metadata": {
    "collapsed": true
   },
   "outputs": [],
   "source": [
    "def load_studies(biom_fp, meta_fp, name, preservation, keep_columns=None, \n",
    "                 filters={}, depth=1000):\n",
    "    \"\"\"Loads the studies more easily\"\"\"\n",
    "    # Loads the mapping file\n",
    "    if keep_columns == None:\n",
    "        meta = pd.read_csv(meta_fp, sep='\\t', dtype=str)\n",
    "    else:\n",
    "        meta = pd.read_csv(meta_fp, sep='\\t', dtype=str, usecols=keep_columns)\n",
    "    meta.set_index('#SampleID', inplace=True)\n",
    "    \n",
    "    # Loads the biom table\n",
    "    sotu = biom.load_table(biom_fp)\n",
    "\n",
    "    # We'll first filter the table by sequencing depth\n",
    "    sotu = sotu.filter(lambda val, id_, md: val.sum() > depth, axis='sample')\n",
    "    meta = meta.loc[sotu.ids(axis='sample')]\n",
    "    \n",
    "    # Filters the samples\n",
    "    def filter_meta(x):\n",
    "        return np.all([x[k] == v for k, v in filters.items()])\n",
    "    \n",
    "    meta_f = meta.loc[meta.apply(filter_meta, axis=1)].copy()\n",
    "    meta_f['STUDY'] = name\n",
    "    meta_f['PRESERVATION'] = preservation\n",
    "    sotu_f = sotu.filter(meta_f.index)\n",
    "    \n",
    "    return meta_f, sotu_f"
   ]
  },
  {
   "cell_type": "markdown",
   "metadata": {},
   "source": [
    "## Song fecal stability study\n",
    "\n",
    "The Song fecal stability study [[1](#1)] compares the stability of human and dog fecal samples under a variety of storage conditions.\n",
    "\n",
    "We will only use samples with no preservative stored at ambient temperature for 7, 14 and 28 days (compared to samples sequenced at day 0)."
   ]
  },
  {
   "cell_type": "code",
   "execution_count": 4,
   "metadata": {
    "collapsed": false
   },
   "outputs": [],
   "source": [
    "song_meta, song_sotu = load_studies(\n",
    "    biom_fp = '../data/storage.sejin.clean.withtax.biom',\n",
    "    meta_fp = '../data/map.storage.sejin.txt',\n",
    "    name='SONG',\n",
    "    preservation='STORAGE',\n",
    "    keep_columns=['#SampleID', 'preservative', 'temperature', 'temp2', 'species', \n",
    "                  'time_numeric', 'subject'],\n",
    "    filters={'preservative': 'None',\n",
    "             'temperature': 'amb',\n",
    "             'species': 'human'},\n",
    "    )"
   ]
  },
  {
   "cell_type": "markdown",
   "metadata": {},
   "source": [
    "The sample is filtered to only include perservative-free samples stored at room temperature. These include samples collected at day 0 and immediately sequenced, which we use as a reference. We will only use samples with at least 1000 sequences."
   ]
  },
  {
   "cell_type": "markdown",
   "metadata": {},
   "source": [
    "## Mayo fecal stability study"
   ]
  },
  {
   "cell_type": "markdown",
   "metadata": {},
   "source": [
    "The Mayo fecal stability study [[2](#2)] compares the effect of different storage conditions on human fecal samples. Samples were stored at room temperature with or without perservatives. We'll only look at samples without perservative."
   ]
  },
  {
   "cell_type": "code",
   "execution_count": 5,
   "metadata": {
    "collapsed": false
   },
   "outputs": [],
   "source": [
    "mayo_meta, mayo_sotu = load_studies(\n",
    "    biom_fp = '../data/mayo.new.min10.clean.withtax.biom',\n",
    "    meta_fp = '../data/map.mayo1.txt',\n",
    "    name='MAYO_STORAGE',\n",
    "    preservation='STORAGE',\n",
    "    filters={'TREATMENT': 'No Additive'},\n",
    "    )"
   ]
  },
  {
   "cell_type": "markdown",
   "metadata": {},
   "source": [
    "## American Gut\n",
    "\n",
    "The [American Gut Project](<http://www.americangut.org>) is a cross sectional study. Samples were shipped through local post without perservatives. We will use only fecal samples with at least 1000 sequences per sample."
   ]
  },
  {
   "cell_type": "code",
   "execution_count": 6,
   "metadata": {
    "collapsed": false
   },
   "outputs": [],
   "source": [
    "agp_meta, agp_sotu = load_studies(biom_fp='../data/ag.qiita-10317.biom',\n",
    "                                  meta_fp='../data/ag.qiita-10317.txt',\n",
    "                                  name='AGP',\n",
    "                                  preservation='NONE',\n",
    "                                  keep_columns=['BODY_HABITAT', '#SampleID'],\n",
    "                                  filters={'BODY_HABITAT': 'UBERON:feces'}\n",
    "                                  )"
   ]
  },
  {
   "cell_type": "markdown",
   "metadata": {},
   "source": [
    "## UK twins study\n",
    "\n",
    "We'll use data from Goodrich et al [[3](#3)], a fresh frozen study comparing the heritability of the microbiome in monozygotic and dizygotic twins."
   ]
  },
  {
   "cell_type": "code",
   "execution_count": 7,
   "metadata": {
    "collapsed": false
   },
   "outputs": [],
   "source": [
    "twin_meta, twin_sotu = load_studies(biom_fp='../data/twins.qiita-2014.biom',\n",
    "                                meta_fp='../data/twins.qiita-2014.txt',\n",
    "                                name='UK_TWINS',\n",
    "                                preservation='FRESH_FROZEN',\n",
    "                                keep_columns=['env_matter', '#SampleID'],\n",
    "                                filters={'env_matter': 'ENVO:feces'}\n",
    "                                )"
   ]
  },
  {
   "cell_type": "markdown",
   "metadata": {},
   "source": [
    "## PGP\n",
    "\n",
    "(unpublished), Qiita study ID [1189](<https://qiita.ucsd.edu/study/description/1189>)\n",
    "\n",
    "Samples were collected from participants in the Personal Genome Project and fresh frozen. The study has not yet been published, but data is avaliable in [Qiita study 1189](<https://qiita.ucsd.edu/study/description/1189>). The study contains fecal, oral and skin samples. We'll use only the fecal samples.\n"
   ]
  },
  {
   "cell_type": "code",
   "execution_count": 8,
   "metadata": {
    "collapsed": false
   },
   "outputs": [],
   "source": [
    "pgp_meta, pgp_sotu = load_studies(biom_fp='../data/pgp.qiita-1189.biom',\n",
    "                                  meta_fp='../data/pgp.qiita-1189.txt',\n",
    "                                  name='PGP',\n",
    "                                  preservation='FRESH_FROZEN',\n",
    "                                  keep_columns=['#SampleID', 'body_product'],\n",
    "                                  filters={'body_product': 'UBERON:feces'}\n",
    "                                  )"
   ]
  },
  {
   "cell_type": "markdown",
   "metadata": {},
   "source": [
    "## Ercolini whole grain feces\n",
    "\n",
    "This study [[4](#4)] contains fecal samples from 80 healthy overweight/obese subjects, part of which undergoing whole grain wheat dietery intervention."
   ]
  },
  {
   "cell_type": "code",
   "execution_count": 9,
   "metadata": {
    "collapsed": false
   },
   "outputs": [],
   "source": [
    "erc_meta, erc_sotu = load_studies(biom_fp='../data/erc.qiita-1481.biom',\n",
    "                                  meta_fp='../data/erc.qiita-1481.txt',\n",
    "                                  name='ERC',\n",
    "                                  preservation='FRESH_FROZEN',\n",
    "                                  keep_columns=['env_matter', '#SampleID'],\n",
    "                                  filters={'env_matter': 'ENVO:feces'}\n",
    "                                  )"
   ]
  },
  {
   "cell_type": "markdown",
   "metadata": {},
   "source": [
    "# Analysis"
   ]
  },
  {
   "cell_type": "markdown",
   "metadata": {},
   "source": [
    "## Calculate growth for bacteria in storage studies\n",
    "For each sOTU, calculate the mean fold change over all individuals, using a minimal read cutoff of 5 reads/sample to reduce effect of discretization and multinomial sampling of low frequency sOTUs.\n",
    "\n",
    "Let's start by defining the function we'll use to calculate these fold differences. We'll take a map and subOTU table for a storage study. We assume that this study includes multiple samples from the same individual (designated by the `subject` column). We can compare the difference between timepoints (identied as the values of `time0` and `time1` and found in the `time_col`). Additional filters to select the sames, such as the perservative or storage temperature can be specified as well, using `filters`. The minimum sequencing depth for a sample to be considered is set as `seq_depth`, while the minimum number of counts for an OTU to be compared is `min_count`.\n",
    "\n",
    "The function will calculate the mean fold change in sOTUs of interest between the two time points for all OTUs which have at least hte minimum number of counts either before or after storage."
   ]
  },
  {
   "cell_type": "code",
   "execution_count": 10,
   "metadata": {
    "collapsed": true
   },
   "outputs": [],
   "source": [
    "def test_stability(map_, otu_, time_col='time_numeric', time0='1', time1='2', \n",
    "                   subject_col='subject', mincount=5, seq_depth=2500, filters={}):\n",
    "    \"\"\"Calculates the fold change in a sub OTU between timepoints\n",
    "    \n",
    "    Parameters\n",
    "    ----------\n",
    "    map_ : DataFrame\n",
    "        The mapping file for the study. Must contain the columns\n",
    "    \"\"\"\n",
    "    # Filters out samples without at least the minimum number of sequences\n",
    "    \n",
    "    \n",
    "    # Filters out sOTUs without at least 0 sequences/sample\n",
    "    \n",
    "    # Sets up a filter for the mapping file to get the appropriate data.\n",
    "    def stability_filter(x):\n",
    "        return ((x[time_col] in {time0, time1}) &\n",
    "                (np.all([x[c] == v for c, v in filters.items()]))\n",
    "                )\n",
    "    \n",
    "    # Filters the mapping file and otu table\n",
    "    map_ = map_.loc[map_.apply(stability_filter, axis=1)].copy()\n",
    "    otu_ = otu_.filter(map_.index, inplace=False)\n",
    "    otu_ = otu_.filter(lambda val, id_, md: (val.sum() > 0), axis='observation')\n",
    "    \n",
    "    otu_ids = otu_.ids('observation')\n",
    "    ratios = []\n",
    "    subjects = []\n",
    "    # Groups by subject and iterates through the comparison\n",
    "    for hsi, sub_map in map_.groupby(subject_col):\n",
    "        # Gets the list of samples at each time point\n",
    "        id0 = set(sub_map.index[sub_map[time_col] == time0])\n",
    "        id1 = set(sub_map.index[sub_map[time_col] == time1])\n",
    "        \n",
    "        # If there aren't samples for each timepoint, continue\n",
    "        if ((len(id0) == 0) or (len(id1) == 0)):\n",
    "            continue\n",
    "        \n",
    "        # Gets the OTU data\n",
    "        sotus0 = otu_.filter(id0, inplace=False).sum(axis='observation') / len(id0)\n",
    "        sotus1 = otu_.filter(id1, inplace=False).sum(axis='observation') / len(id1)\n",
    "\n",
    "        low = (sotus0 < mincount) & (sotus1 < mincount)\n",
    "\n",
    "        sotus0[sotus0 < mincount] = mincount\n",
    "        sotus1[sotus1 < mincount] = mincount\n",
    "\n",
    "        ratio = sotus1 / sotus0\n",
    "        ratio[low] = np.nan\n",
    "        ratios.append(ratio)\n",
    "        subjects.append(hsi)\n",
    "    \n",
    "    # Gets the list of ratios exlcuding any otu which doesnt meet the filtering criteria\n",
    "    ratios = pd.DataFrame(np.vstack(ratios), index=subjects, columns=otu_ids)\n",
    "    ratios.dropna(1, inplace=True, how='all')\n",
    "\n",
    "    # Calculate the mean fold change and the log fold change\n",
    "    fc = pd.Series(np.nanmean(ratios, 0), index=ratios.columns)\n",
    "    \n",
    "    return fc"
   ]
  },
  {
   "cell_type": "markdown",
   "metadata": {},
   "source": [
    "We'll also generate a pretty histogram plot showing the comparison. This will take the fold change values and return a maplotlib axis with a plot. "
   ]
  },
  {
   "cell_type": "code",
   "execution_count": 11,
   "metadata": {
    "collapsed": true
   },
   "outputs": [],
   "source": [
    "def plot_logfoldchange_histogram(foldchange, fig=None, ax=None):\n",
    "    \"\"\"Makes a pretty histogram of the fold change\"\"\"\n",
    "    if fig is None:\n",
    "        fig = plt.figure()\n",
    "    if ax is None:\n",
    "        ax = plt.axes()\n",
    "    # Constant limits and bins facilitate comparisons\n",
    "    sn.distplot(np.log2(foldchange.dropna()), ax=ax, bins=np.linspace(-12, 12, 120))\n",
    "    ax.set_xlim([-12, 12])\n",
    "    ax.set_ylim([0, 1])\n",
    "    # Sets up axis labels\n",
    "    ax.set_ylabel('Number of OTUs', size=24)\n",
    "    ax.set_xlabel('log$_{2}$(fold change)', size=24)\n",
    "    ax.tick_params(axis='both', which='major', labelsize=24)\n",
    "    plt.tight_layout()\n",
    "    \n",
    "    return fig"
   ]
  },
  {
   "cell_type": "markdown",
   "metadata": {},
   "source": [
    "We'll look at the fold change in the mayo stability study. We'll compare the samples from day 0 to day 1 and day 4."
   ]
  },
  {
   "cell_type": "code",
   "execution_count": 12,
   "metadata": {
    "collapsed": false
   },
   "outputs": [],
   "source": [
    "mayo_fc  = pd.DataFrame(\n",
    "    data=[test_stability(mayo_meta, mayo_sotu, \n",
    "                         time_col='SAMPLE_VISIT', \n",
    "                         subject_col='HOST_SUBJECT_ID',\n",
    "                         time0='Day 0', \n",
    "                         time1 = 'Day %i' % day) for day in [1, 4]],\n",
    "    index=['Day 1', 'Day 4']\n",
    "    ).T"
   ]
  },
  {
   "cell_type": "markdown",
   "metadata": {},
   "source": [
    "Let's also look at the change between day 0 and day 1 in the same study."
   ]
  },
  {
   "cell_type": "raw",
   "metadata": {
    "collapsed": false
   },
   "source": [
    "# mayo 1 days\n",
    "mayo1_fig = plot_logfoldchange_histogram(mayo_fc['Day 1'])\n",
    "mayo1_fig.savefig('../results/fig1-hist-mayo-1-0.pdf')\n",
    "\n",
    "# Let's look at the difference between day 0 and day 4 in samples from the Mayo Stability study.\n",
    "\n",
    "# mayo 4 days\n",
    "mayo4_fig = plot_logfoldchange_histogram(mayo_fc['Day 4'])\n",
    "\n",
    "mayo4_fig.savefig('../results/fig1-hist-mayo-4-0.pdf')"
   ]
  },
  {
   "cell_type": "markdown",
   "metadata": {},
   "source": [
    "We'll also look at the Song stability study, comparing fresh samples to those stored for one, two, and seven weeks."
   ]
  },
  {
   "cell_type": "code",
   "execution_count": 13,
   "metadata": {
    "collapsed": true
   },
   "outputs": [],
   "source": [
    "song_fc  = pd.DataFrame(\n",
    "    data=[test_stability(song_meta, song_sotu, \n",
    "                         time0='1', \n",
    "                         time1 = '%i' % day) for day in [2, 3, 4]],\n",
    "    index=['Week 1', 'Week 2', 'Week 7']\n",
    "    ).T"
   ]
  },
  {
   "cell_type": "raw",
   "metadata": {
    "collapsed": false,
    "scrolled": false
   },
   "source": [
    "sj7fc_fig = plot_logfoldchange_histogram(song_fc['Week 1'])\n",
    "sj7fc_fig.savefig('../results/fig1-hist-sejin-7-0.pdf')\n",
    "\n",
    "sj14fc_fig = plot_logfoldchange_histogram(song_fc['Week 2'])\n",
    "sj14fc_fig.savefig('../results/fig1-hist-sejin-14-0.pdf')\n",
    "\n",
    "# se jin 4 weeks\n",
    "sj28fc_fig = plot_logfoldchange_histogram(song_fc['Week 7'])\n",
    "sj28fc_fig.savefig('../results/fig1-hist-sejin-28-0.pdf')"
   ]
  },
  {
   "cell_type": "markdown",
   "metadata": {},
   "source": [
    "## Differential Expression\n",
    "We'll next look at how American Gut, the shipped study, looks in comparison to the fresh frozen studies.\n",
    "\n",
    "So, we'll join all the cross sectional studies together and find sOTUs which differ significantly.\n",
    "Join all studies together and find sOTUs sginificantly higher/lower in AG"
   ]
  },
  {
   "cell_type": "code",
   "execution_count": 14,
   "metadata": {
    "collapsed": true
   },
   "outputs": [],
   "source": [
    "# Combines the metadata\n",
    "fec_meta = pd.concat([pgp_meta[['STUDY', 'PRESERVATION']], \n",
    "                      twin_meta[['STUDY', 'PRESERVATION']], \n",
    "                      agp_meta[['STUDY', 'PRESERVATION']], \n",
    "                      erc_meta[['STUDY', 'PRESERVATION']]])"
   ]
  },
  {
   "cell_type": "code",
   "execution_count": 15,
   "metadata": {
    "collapsed": false
   },
   "outputs": [],
   "source": [
    "# Combines the sOTU tables\n",
    "fec_sotu = pgp_sotu.merge(twin_sotu).merge(agp_sotu).merge(erc_sotu)"
   ]
  },
  {
   "cell_type": "markdown",
   "metadata": {},
   "source": [
    "# ------- REMOVE THESE CELLS --------"
   ]
  },
  {
   "cell_type": "code",
   "execution_count": 16,
   "metadata": {
    "collapsed": false
   },
   "outputs": [],
   "source": [
    "keep_ids = np.hstack(\n",
    "    [np.random.choice(fec_meta.loc[fec_meta['STUDY'] == study].index, 25, replace=False)\n",
    "     for study in fec_meta['STUDY'].unique()]\n",
    "    )\n",
    "fec_meta = fec_meta.loc[keep_ids].copy()\n",
    "fec_sotu = fec_sotu.filter(keep_ids, axis='sample')"
   ]
  },
  {
   "cell_type": "markdown",
   "metadata": {},
   "source": [
    "# -------------------------------------------"
   ]
  },
  {
   "cell_type": "markdown",
   "metadata": {},
   "source": [
    "Once we combine the studies, we'll filter out any OTU present in less than "
   ]
  },
  {
   "cell_type": "code",
   "execution_count": 17,
   "metadata": {
    "collapsed": false
   },
   "outputs": [],
   "source": [
    "fec_sotu = fec_sotu.filter(lambda val, id_, md: val.sum() > 50, axis='observation', inplace=False)"
   ]
  },
  {
   "cell_type": "markdown",
   "metadata": {},
   "source": [
    "We'll use ANCOM [[5](#5)] to analyze the differential abundance between the fresh frozen and unpreserved studies, and then use this to calculate a fold change. We'll start by casting our sOTU tables to a dataframe, which will give us some more flexibility for the operations we need to do."
   ]
  },
  {
   "cell_type": "code",
   "execution_count": 18,
   "metadata": {
    "collapsed": false
   },
   "outputs": [],
   "source": [
    "fec_sotu = exploding_panda(fec_sotu).to_dense()"
   ]
  },
  {
   "cell_type": "markdown",
   "metadata": {},
   "source": [
    "To make handling the data easier, we'll build an MD5 look up for the sequences, and then adjust the index to account for this."
   ]
  },
  {
   "cell_type": "code",
   "execution_count": 19,
   "metadata": {
    "collapsed": true
   },
   "outputs": [],
   "source": [
    "def hash_sequence_ids(sequences):\n",
    "    sequences['md5'] = sequences['sequence'].apply(\n",
    "        lambda x: hashlib.md5(x.encode('utf-8')).hexdigest()\n",
    "    )\n",
    "    assert len(sequences['md5'].unique()) == len(sequences['md5'])\n",
    "    \n",
    "    return sequences"
   ]
  },
  {
   "cell_type": "code",
   "execution_count": 20,
   "metadata": {
    "collapsed": false
   },
   "outputs": [],
   "source": [
    "fec_sotu.reset_index(inplace=True)\n",
    "sequences = fec_sotu[['index']].copy()\n",
    "sequences.rename(columns={'index': 'sequence'}, inplace=True)\n",
    "freeze_thaw = hash_sequence_ids(sequences)"
   ]
  },
  {
   "cell_type": "markdown",
   "metadata": {},
   "source": [
    "Finally, we'll replace the keyname."
   ]
  },
  {
   "cell_type": "code",
   "execution_count": 21,
   "metadata": {
    "collapsed": false
   },
   "outputs": [],
   "source": [
    "md_key = freeze_thaw.set_index('sequence').to_dict()"
   ]
  },
  {
   "cell_type": "code",
   "execution_count": 22,
   "metadata": {
    "collapsed": false
   },
   "outputs": [],
   "source": [
    "# fec_sotu['index'] = fec_sotu['index'].apply(lambda x: md_key['md5'][x])\n",
    "fec_sotu.set_index('index', inplace=True)"
   ]
  },
  {
   "cell_type": "code",
   "execution_count": 23,
   "metadata": {
    "collapsed": true
   },
   "outputs": [],
   "source": [
    "fec_sotu = fec_sotu.T"
   ]
  },
  {
   "cell_type": "markdown",
   "metadata": {},
   "source": [
    "ANCOM calcuates a significant difference in the ratio abundance between sOTUs, which accounts for compositionality in the data using log ratios. The method does not accept zeros, so we're going to add a constant value of 1 to all our counts before we normalize the data."
   ]
  },
  {
   "cell_type": "code",
   "execution_count": 24,
   "metadata": {
    "collapsed": false
   },
   "outputs": [],
   "source": [
    "fec_close = pd.DataFrame(closure(fec_sotu.values + 1),\n",
    "                         index=fec_sotu.index,\n",
    "                         columns=fec_sotu.columns)"
   ]
  },
  {
   "cell_type": "markdown",
   "metadata": {},
   "source": [
    "Finally, let's run ANCOM and calculate the fold change."
   ]
  },
  {
   "cell_type": "code",
   "execution_count": 53,
   "metadata": {
    "collapsed": false
   },
   "outputs": [
    {
     "name": "stderr",
     "output_type": "stream",
     "text": [
      "/Users/jdebelius/Repositories/bloom-analyses/bloom/stats/permutation.py:169: RuntimeWarning: invalid value encountered in true_divide\n",
      "  f_stat = (sstrt / dftrt) / (sserr / dferr)\n",
      "/Users/jdebelius/Repositories/bloom-analyses/bloom/stats/permutation.py:171: RuntimeWarning: invalid value encountered in greater_equal\n",
      "  cmps = f_stat[:, 1:].T >= f_stat[:, 0]\n"
     ]
    },
    {
     "name": "stdout",
     "output_type": "stream",
     "text": [
      "CPU times: user 6min 33s, sys: 22.9 s, total: 6min 56s\n",
      "Wall time: 2min 31s\n"
     ]
    }
   ],
   "source": [
    "%%time\n",
    "ancom_stats = ancom(fec_close, \n",
    "                    fec_meta['PRESERVATION'], \n",
    "                    multiple_comparisons_correction='holm-bonferroni',\n",
    "                    significance_test='permutative-anova',\n",
    "                    )"
   ]
  },
  {
   "cell_type": "code",
   "execution_count": 54,
   "metadata": {
    "collapsed": false
   },
   "outputs": [
    {
     "data": {
      "text/html": [
       "<div>\n",
       "<table border=\"1\" class=\"dataframe\">\n",
       "  <thead>\n",
       "    <tr style=\"text-align: right;\">\n",
       "      <th></th>\n",
       "      <th>W</th>\n",
       "      <th>reject</th>\n",
       "    </tr>\n",
       "    <tr>\n",
       "      <th>index</th>\n",
       "      <th></th>\n",
       "      <th></th>\n",
       "    </tr>\n",
       "  </thead>\n",
       "  <tbody>\n",
       "    <tr>\n",
       "      <th>TACGTATGGTGCAAGCGTTATCCGGATTTACTGGGTGTAAAGGGTGCGTAGGTGGTGAGACAAGTCTGAAGTGAAAATCCGGGGCTTAACCCCGGAACTGCTTTGGAAACTGCCTGACTAGAGTACAGGAGAGGTAAGTGGAATTCCTAG</th>\n",
       "      <td>0</td>\n",
       "      <td>False</td>\n",
       "    </tr>\n",
       "    <tr>\n",
       "      <th>TACGTAGGGAGCGAGCGTTATCCGGATTTATTGGGTGTAAAGGGTGCGTAGACGGGAAGTCAAGTTAGTTGTGAAATCCCTCGGCTTAACTGAGGAACTGCAACTAAAACTGATTTTCTTGAGTACTGGAGAGGAAAGTGGAATTCCTAG</th>\n",
       "      <td>0</td>\n",
       "      <td>False</td>\n",
       "    </tr>\n",
       "    <tr>\n",
       "      <th>TACGGAGGATCCGAGCGTTATCCGGATTTATTGGGTTTAAAGGGAGCGTAGGCGGATTATTAAGTCAGTTGTGAAAGTTTGCGGCTCAACCGTAAAATTGCAGTTGATACTGGTAGTCTTGAGTGCAGCAGAGGTAGGCGGAATTCGTGG</th>\n",
       "      <td>0</td>\n",
       "      <td>False</td>\n",
       "    </tr>\n",
       "    <tr>\n",
       "      <th>AACGTAGGTGGCAAGCGTTGTCCGGAATTACTGGGTGTAAAGGGAGCGCAGGCGGAAGGACAAGTTGGAAGTGAAACCCACGGGCTCAACCCGTGAACTGCTTTCAAAACTGTTTTTCTTGAGTGGTGTAGAGGTAGGCGGAATTCCCGG</th>\n",
       "      <td>0</td>\n",
       "      <td>False</td>\n",
       "    </tr>\n",
       "    <tr>\n",
       "      <th>TACGGAAGGTCCAGGCGTTATCCGGATTTATTGGGTTTAAAGGGAGCGCAGGCGGCGGCGTAAGTCAGTTGTGAAATCGTGCGGCTTAACCGTGCAATTGCAGTTGATACTGCGTCGCTTGAGTGCACACAGGGATGTTGGAATTCATGG</th>\n",
       "      <td>0</td>\n",
       "      <td>False</td>\n",
       "    </tr>\n",
       "    <tr>\n",
       "      <th>TACGTAGGGGGCAAGCGTTATCCGGATTTACTGGGTGTAAAGGGTGCGTAGGTGGCAAGGCAAGTCAGATGTGAAAGCCCGGGGCTCAACCCCGGTACTGCATTTGAAACTGTCTAGCTAGAGTGCAGGAGAGGTAAGCGGAATTCCTAG</th>\n",
       "      <td>0</td>\n",
       "      <td>False</td>\n",
       "    </tr>\n",
       "    <tr>\n",
       "      <th>TACGTAGGTGGCAAGCGTTGTCCGGATTTACTGGGTGTAAAGGGCGTGCAGCCGGGTCTGCAAGTCAGATGTGAAATCCATGGGCTCAACCCATGAACTGCATTTGAAACTGTAGATCTTGAGTGTCGGAGGGGCAATCGGAATTCCTAG</th>\n",
       "      <td>0</td>\n",
       "      <td>False</td>\n",
       "    </tr>\n",
       "    <tr>\n",
       "      <th>TACGTAGGTGGCAAGCGTTGTCCGGAATTACTGGGTGTAAAGGGAGCGTAGGCGGGATGCCAAGTCAGCTGTGAAAACTATGGGCTTAACTTGTAGACTGCAGTTGAAACTGGTATTCTTGAGTGAAGTAGAGGTTGGCGGAATTCCGAG</th>\n",
       "      <td>0</td>\n",
       "      <td>False</td>\n",
       "    </tr>\n",
       "    <tr>\n",
       "      <th>TACGGAGGATGCGAGCGTTATCCGGAATTATTGGGTTTAAAGGGTGCGTAGGTTGCAAGGGAAGTCAGGGGTGAAAAGCTATAGCTCAACTATGGTCTTGCCTTTGAAACTCTCTAGCTAGAGTGTACTGGAGGTACGTGGAACGTGTGG</th>\n",
       "      <td>0</td>\n",
       "      <td>False</td>\n",
       "    </tr>\n",
       "    <tr>\n",
       "      <th>TACGTAGGGCGCGAGCGTTGTCCGGAATTATTGGGCGTAAAGAGCTTGTAGGCGGTTTGTCGCGTCTGCTGTGAAAGGCCGGGGCTTAACCCCGTGTATTGCAGTGGGTACGGGCAGACTAGAGTGCAGTAGGGGAGACTGGAATTCCTG</th>\n",
       "      <td>0</td>\n",
       "      <td>False</td>\n",
       "    </tr>\n",
       "    <tr>\n",
       "      <th>TACGTAGGGAGCGAGCGTTATCCGGATTTATTGGGTGTAAAGGGTGCGTAGACGGGAAAATAAGTTAGTTGTGAAATCCCTCGGCTTAACTGAGGAACTGCAACTAAAACTGTTTTTCTTGAGTGCTGGAGAGGAAAGTGGAATTCCTAG</th>\n",
       "      <td>0</td>\n",
       "      <td>False</td>\n",
       "    </tr>\n",
       "    <tr>\n",
       "      <th>TACGTAGGGAGCAAGCGTTATCCGGATTTACTGGGTGTAAAGGGCGTGTAGGCGGGACTGCAAGTCAGATGTGAAAACTATGGGCTCAACTCATAGCCTGCATTTGAAACTGTAGTTCTTGAGTGCTGGAGAGGCAAATGGAACTCCTAG</th>\n",
       "      <td>0</td>\n",
       "      <td>False</td>\n",
       "    </tr>\n",
       "    <tr>\n",
       "      <th>TACGTATGGAGCAAGCGTTATCCGGATTTACTGGGTGTAAAGGGAGTGTAGGTGGCCAGGCAAGTCAGAAGTGAAAGCCCGGGGCTCAACCCCGGGACTGCTTTTGAAACTGCAGGGCTAGAGTGCAGGAGGGGCAAGTGGAATTCCTAG</th>\n",
       "      <td>0</td>\n",
       "      <td>False</td>\n",
       "    </tr>\n",
       "    <tr>\n",
       "      <th>TACGTAGGTGGCGAGCGTTATCCGGAATTATTGGGCGTAAAGAGCGCGCAGGTGGTTGATTAAGTCTGATGTGAAAGCCCACGGCTTAACCGTGGAGGGTCATTGGAAACTGGTCGACTTGAGTGCAGAAGAGGGAAGTGGAATTCCATG</th>\n",
       "      <td>0</td>\n",
       "      <td>False</td>\n",
       "    </tr>\n",
       "    <tr>\n",
       "      <th>TACGTAGGGAGCGAGCGTTGTCCGGAATTACTGGGTGTAAAGGGAGCGTAGGCGGGAAGGCAAGTTGGATGTGAAAACTGTGGGCTTAACCGACAGACTGCATTCAAAACTGTTTTTCTTGAGTGAAGTAGAGGCAAGCGGAATTCCTAG</th>\n",
       "      <td>0</td>\n",
       "      <td>False</td>\n",
       "    </tr>\n",
       "    <tr>\n",
       "      <th>TACGTAGGGTGCGAGCGTTAATCGGAATTACTGGGCGTAAAGCGTGCGCAGGCGGTTGTGTAAGACAGATGTGAAATGCCCGGGCTTAACCTGGGAATTGCATTTGTGACTGCACGGCTAGAGTGTGTCAGAGGGGGGTAGAATTCCACG</th>\n",
       "      <td>0</td>\n",
       "      <td>False</td>\n",
       "    </tr>\n",
       "    <tr>\n",
       "      <th>TACGTAGGTGGCGAGCGTTATCCGGAATTATTGGGCGTAAAGGGTGCGCAGGCGGTTTTTTAAGTTTAAGGTGAAAGCGTGGGGCTTAACCCCATATAGCCTTAGAAACTGAGAGACTAGAGTACAGGAGAGGGCAATGGAATTCCATGT</th>\n",
       "      <td>0</td>\n",
       "      <td>False</td>\n",
       "    </tr>\n",
       "    <tr>\n",
       "      <th>TACGTAGGGGGCGAGCGTTATCCGGATTTATTGGGCGTAAAGCGTGTGTAGGCGGTTTATTAAGTTTAAGATTAAAGCCCGGGGCTTAACTCCGGTAAGTCTTAAAAACTGGTAGACTTGAGTACGGTAGAGGCAAACGGAATTTCTAGT</th>\n",
       "      <td>0</td>\n",
       "      <td>False</td>\n",
       "    </tr>\n",
       "    <tr>\n",
       "      <th>TACGTAGGGTGCGAGCGTTAATCGGAATTACTGGGCGTAAAGGGTGCGCAGGCGGTTGAGTAAGACAGATGTGAAATCCCCAAGCTTAACTCGGGAATGGCATATGTGACTGCTCGACTAGAGTGTGTCAGAGGGAGGTGGAATTCCACG</th>\n",
       "      <td>0</td>\n",
       "      <td>False</td>\n",
       "    </tr>\n",
       "    <tr>\n",
       "      <th>TACGTAGGTGGCAAGCGTTGTCCGGAATTATTGGGCGTAAAGCGCGCGCAGGCGGATCAGTCAGTCTGTCTTAAAAGTTCGGGGCTTAACCCCGTGATGGGATGGAAACTGCTGATCTAGAGTATCGGAGAGGAAAGTGGAATTCCTAGT</th>\n",
       "      <td>0</td>\n",
       "      <td>False</td>\n",
       "    </tr>\n",
       "    <tr>\n",
       "      <th>TACGTAGGGTACAAGCGTTGTCCGGAATTATTGGGCGTAAAGAGCTCGTAGGTGGTTTGTCGCGTCTGCTGTGGAATCGTGCCGCTTAACGGTGCGCGTGCAGTGGGTACGGGCAGACTGGAGTGCAGTAGGGGAGTCTGGAATTCCTGG</th>\n",
       "      <td>0</td>\n",
       "      <td>False</td>\n",
       "    </tr>\n",
       "    <tr>\n",
       "      <th>TACGTAGGGAGCAAGCGTTATCCGGATTTACTGGGTGTAAAGGGCGAGTAGGCGGATTGGCAAGTTGGGAGTGAAATGTCGGGGCTTAACCCCGGAACTGCTTCCAAAACTGTTGATCTTGAGTGATGGAGAGGCAGGCGGAATTCCCAG</th>\n",
       "      <td>0</td>\n",
       "      <td>False</td>\n",
       "    </tr>\n",
       "    <tr>\n",
       "      <th>TACGGAGGGGGCTAGCGTTGTTCGGAATTACTGGGCGTAAAGCGCACGTAGGCGGCTTTGTAAGTCAGAGGTGAAAGCCTGGAGCTCAACTCCAGAACTGCCTTTGAGACTGCATCGCTTGAATCCAGGAGAGGTCAGTGGAATTCCGAG</th>\n",
       "      <td>0</td>\n",
       "      <td>False</td>\n",
       "    </tr>\n",
       "    <tr>\n",
       "      <th>TACGTAGGGGGCAAGCGTTATCCGGAATTATTGGGCGTAAAGAGTACGTAGGTGGTTACCTAAGCACGGGGTATAAGGCAATGGCTCAACCATTGTTTGCCTTGTGAACTGGGCTACTTGAGTGCAGGAGAGGAAAGCGGAATTCCTAGT</th>\n",
       "      <td>0</td>\n",
       "      <td>False</td>\n",
       "    </tr>\n",
       "    <tr>\n",
       "      <th>TACGGAAGGTCCGGGCGTTATCCGGATTTATTGGGTTTAAAGGGAGCGTAGGCCGGAGATTAAGCGTGTTGTGAAATGTAGACGCTCAACGTCTGCACTGCAGCGCGAACTGGTTTCCTTGAGTACGCACAAAGTGGGCGGAATTCGTGG</th>\n",
       "      <td>0</td>\n",
       "      <td>False</td>\n",
       "    </tr>\n",
       "    <tr>\n",
       "      <th>TACGTAGGTGGCAAGCGTTATCCGGATTTACTGGGTGTAAAGGGCGTGTAGGCGGGACTGCAAGTCAGGTGTGAAAACCACGGGCTCAACCTGTGGCCTGCATTTGAAACTGTAGTTCTTGAGTGCTGGAGAGGCAATCGGAATTCCGTG</th>\n",
       "      <td>0</td>\n",
       "      <td>False</td>\n",
       "    </tr>\n",
       "    <tr>\n",
       "      <th>TACGTAGGGAGCAAGCGTTATCCGGATTTACTGGGTGTAAAGGGCGTGTAGGCGGGACAGCAAGTCAGATGTGAAAACTATGGGCTCAACCCATAGCCTGCATTTGAAACTGTTGTTCTTGAGTGCTGGAGAGGCAAATGGAACTCCTAG</th>\n",
       "      <td>0</td>\n",
       "      <td>False</td>\n",
       "    </tr>\n",
       "    <tr>\n",
       "      <th>TACGTAGGGGGCAAGCGTTATCCGGATTTACTGGGTGTAAAGGGAGCGTAGACGGTCAAGCAAGTCAGAAGTGAAAGGCTGGGGCTCAACCCCGGGACTGCTTTTGAAACTGTTTGACTGGAGTGCTGGAGAGGTAAGCGGAATTCCTAG</th>\n",
       "      <td>0</td>\n",
       "      <td>False</td>\n",
       "    </tr>\n",
       "    <tr>\n",
       "      <th>TACGTATGGAGCAAGCGTTATCCGGATTTACTGGGTGTAAAGGGTGCGTAGGTGGCAGTGCAAGTCAGATGTGAAAGGTCGGGGCTCAACCCCGGAGCTGCATTTGAAACTGCTCGGCTAGAGTACAGGAGAGGCAGGCGGAATTCCTAG</th>\n",
       "      <td>0</td>\n",
       "      <td>False</td>\n",
       "    </tr>\n",
       "    <tr>\n",
       "      <th>TACGTAGGTGGCAAGCGTTATCCGGAATTATTGGGCGTAAAGAGGGAGCAGGCGGCAGCAAGGGTCTGTGGTGAAAGACTGAAGCTTAACTTCAGTAAGCCATAGAAACCGGGCAGCTAGAGTGCAGGAGAGGATCGTGGAATTCCATGT</th>\n",
       "      <td>0</td>\n",
       "      <td>False</td>\n",
       "    </tr>\n",
       "    <tr>\n",
       "      <th>...</th>\n",
       "      <td>...</td>\n",
       "      <td>...</td>\n",
       "    </tr>\n",
       "    <tr>\n",
       "      <th>TACAGAGGGTGCAAGCGTTAATCGGAATTACTGGGCGTAAAGCGCACGCAGGCGGTTTGTTAAGTCAGATGTGAAATCCCCGGGCTCAACCTGGGAACTGCATCTGATACTGGCAAGCTTGAGTCTCGTAGAGGGGGGTAGAATTCCAGG</th>\n",
       "      <td>0</td>\n",
       "      <td>False</td>\n",
       "    </tr>\n",
       "    <tr>\n",
       "      <th>AACGTAGGGTGCAAGCGTTGTCCGGAATTACTGGGTGTAAAGGGAGCGCAGGCGGGAAGACAAGTTGGAAGTGAAAACCATGGGCTCAACCCATGAATTGCTTTCAAAACTGTTTTTCTTGAGTAGTGCAGAGGTAGATGGAATTTCCGG</th>\n",
       "      <td>0</td>\n",
       "      <td>False</td>\n",
       "    </tr>\n",
       "    <tr>\n",
       "      <th>TACGTATGGTGCAAGCGTTATCCGGATTTACTGGGTGTAAAGGGTGCGTAGGTGGTATGGCAAGTCAGAAGTGAAAGGCTGGGGCTCAACCTCGGGACTGCTTTTGAAACTGTCAAACTAGAGTACAGGAGAGGAAAGCGGAATTCCTAG</th>\n",
       "      <td>0</td>\n",
       "      <td>False</td>\n",
       "    </tr>\n",
       "    <tr>\n",
       "      <th>TACGGAGGATGCAAGCGTTATCCGGATTTATTGGGTTTAAAGGGTGCGTAGGCGGCACGCCAAGTCAGCGGTGAAATTTCCGGGCTCAACCCGGAATGTGCCGTTGAAACTGGCGAGCTAGAGTACACAAGAGGCAGGCGGAATGCGTGG</th>\n",
       "      <td>0</td>\n",
       "      <td>False</td>\n",
       "    </tr>\n",
       "    <tr>\n",
       "      <th>TACGTAGGTCCCGAGCGTTATCCGGATTTATTGGGCGTAAAGCGAGCGCAGGCGGTTAGATAAGTCTGAAGTTAAAGGCTGTGGCTTAACCATAGTACGCTTTGGAAACTGTTTAACTTGAGTGCAGAAGGGGGGAGTGGAATTCCATGT</th>\n",
       "      <td>0</td>\n",
       "      <td>False</td>\n",
       "    </tr>\n",
       "    <tr>\n",
       "      <th>AACGTAGGTCACAAGCGTTGTCCGGAATTACTGGGTGTAAAGGGAGCGCAGGCGGGAGAATAAGTTGGAAGTGAAATCCATGGGCTCAACCCATGAACTGCTTTCAAAACTGTTTTTCTTGAGTAGTGCAGAGGTAGGCGGAATTCCCGG</th>\n",
       "      <td>0</td>\n",
       "      <td>False</td>\n",
       "    </tr>\n",
       "    <tr>\n",
       "      <th>TACAGAGGGTGCAAGCGTTAATCGGAATTACTGGGCGTAAAGCGCGCGTAGGTGGTTTGTTAAGTTGAATGTGAAATCCCCGGGCTCAACCTGGGAACTGCATCCAAAACTGGTAAGCTAGAGTATGGTAGAGGGTAGTGGAATTTCCTG</th>\n",
       "      <td>0</td>\n",
       "      <td>False</td>\n",
       "    </tr>\n",
       "    <tr>\n",
       "      <th>TACAGAGGGTGCAAGCGTTAATCGGAATTACTGGGCGTAAAGCGCACGCAGGCGGTCTGTTAAGTCAGATGTGAAATCCCCGGGCTCAACCTGGGAACTGCATTTGAAACTGGCAGGCTTGAGTCTTGTAGAGGGGGGTAGAATTCCAGG</th>\n",
       "      <td>0</td>\n",
       "      <td>False</td>\n",
       "    </tr>\n",
       "    <tr>\n",
       "      <th>TACGTAGGTGGCGAGCGTTATCCGGAATGATTGGGCGTAAAGGGTGCGTAGGTGGCAGAACAAGTCTGGAGTAAAAGGTATGGGCTCAACCCGTACTGGCTCTGGAAACTGTTCAGCTAGAGAACAGAAGAGGATGGCGGAACTCCATGT</th>\n",
       "      <td>0</td>\n",
       "      <td>False</td>\n",
       "    </tr>\n",
       "    <tr>\n",
       "      <th>TACGGAGGATGCGAGCGTTATCCGGATTTATTGGGTTTAAAGGGTGCGTAGGCGGGACGGTAAGTCAGCGGTAAAAATGCGGAGCTCAACTCCGTCGAGCCGTTGAAACTGCCGTTCTTGAGTGAGCGAGAAGTATGCGGAATGCGTGGT</th>\n",
       "      <td>0</td>\n",
       "      <td>False</td>\n",
       "    </tr>\n",
       "    <tr>\n",
       "      <th>TACGTAGGTGGCAAGCGTTGTCCGGAATTATTGGGCGTAAAGCGCTCGCAGGCGGTCTTTTAAGTCTGATGTGAAAGCCCACGGCTTAACCGTGGAGGGTCATTGGAAACTGGAGGACTTGAGTACAGAAGAGGAGAGTGGAATTCCACG</th>\n",
       "      <td>0</td>\n",
       "      <td>False</td>\n",
       "    </tr>\n",
       "    <tr>\n",
       "      <th>TACGGAGGGTGCAAGCGTTAATCGGAATTACTGGGCGTAAAGCGCGCGTAGGTGGTTTGTTAAGTTGAATGTGAAATCCCCGGGCTCAACCTGGGAACTGCATCCAAAACTGGCAAGCTAGAGTATGGTAGAGGGTAGTGGAATTTCCTG</th>\n",
       "      <td>0</td>\n",
       "      <td>False</td>\n",
       "    </tr>\n",
       "    <tr>\n",
       "      <th>TACGGAGGATGCGAGCGTTATCCGGATTTATTGGGTTTAAAGGGTGCGCAGGCGGTACGGAAAGTCAGCGGTAAAATTACGGAGCTCAACTCCGCCGAGCCGTTGAAACTTCCGCACTAGAGTGAGCGAGAAGTAAGCGGAATGCGTGGT</th>\n",
       "      <td>0</td>\n",
       "      <td>False</td>\n",
       "    </tr>\n",
       "    <tr>\n",
       "      <th>TACGGAGGATGCGAGCGTTATCCGGATTTATTGGGTTTAAAGGGAGCGCAGACGGGAGATTAAGTCAGTTGTGAAAGTTTGCGGCTCAACCGTAAAATTGCAGTTGATACTGGTTTCCTTGAGTGCAGTTGAGGCAGGCGGGATTCGTGG</th>\n",
       "      <td>0</td>\n",
       "      <td>False</td>\n",
       "    </tr>\n",
       "    <tr>\n",
       "      <th>TACGGAAGGTCCGGGCGTTATCCGGAATCATTGGGTTTAAAGGGAGCGTAGGCCGCATGTCAAGCGTGCTGTGAAATCCCGGGGCTCAACCCCGGAAGCGCAGCGCGAACTGGCGTGCTTGAGTTGCATCGAGGCAGGCGGGATTCGTGG</th>\n",
       "      <td>0</td>\n",
       "      <td>False</td>\n",
       "    </tr>\n",
       "    <tr>\n",
       "      <th>TACGTATGGAGCAAGCGTTATCCGGATTTACTGGGTGTAAAGGGTGCGTAGGTGGCAGTGCAAGTCAGATGTGAAAGGCCGGGGCTCAACCCCGGAGCTGCATTTGAAACTGCTCGGCTAGAGTACAGGAGAGGCAGGCGGGAATTCTAG</th>\n",
       "      <td>0</td>\n",
       "      <td>False</td>\n",
       "    </tr>\n",
       "    <tr>\n",
       "      <th>TACGGAGGATGCGAGCGTTATCCGGATTTATTGGGTTTAAAGGGAGCGCAGACGGGGGATTAAGTCAGTTGTGAAAGTTTGCGGCTCAACCGTAAAATTGCAGTTGATACTGGTTCCCTTGAGTGCAGTTGAGGCAGGCGGGATTCGTGG</th>\n",
       "      <td>0</td>\n",
       "      <td>False</td>\n",
       "    </tr>\n",
       "    <tr>\n",
       "      <th>TACGGAGGATCCGAGCGTTATCCGGATTTATTGGGTTTAAAGGGAGCGTAGATGGATGTTTAAGTCAGTTGTGAAAGTTTGCGGCTCAACCGTAAAATTGCAGTTGATACTGGATATCTTGAGTGCAGTTGAGGCAGGCGGAAATCGTGG</th>\n",
       "      <td>0</td>\n",
       "      <td>False</td>\n",
       "    </tr>\n",
       "    <tr>\n",
       "      <th>TACGTATGGAGCAAGCGTTATCCGGATTTACTGGGTGTAAAGGGTGCGTAGGTGGCAGTGCAAGTCAGATGTGAAAGGCCGGGGCTCAACCCCGGAGCTGCATTTGAAACTGCATAGCTAGAGTACAGGAGAGGCAGGCGGGAATTCTAG</th>\n",
       "      <td>0</td>\n",
       "      <td>False</td>\n",
       "    </tr>\n",
       "    <tr>\n",
       "      <th>TACGGAGGATGCGAGCGTTATCCGGATTTATTGGGTTTAAAGGGAGCGTAGACGGAGGATTAAGTCAGTTGTGAAAGTTTGCGGCTCAACCGTAAAATTGCAGTTGATACTGGTCCCCTTGAGTGCAGTTGAGGCAGGCGGGATTCGTGG</th>\n",
       "      <td>0</td>\n",
       "      <td>False</td>\n",
       "    </tr>\n",
       "    <tr>\n",
       "      <th>TACGTAGGGAGCAAGCGTTGTCCGGATTTACTGGGTGTAAAGGGTGCGTAGGCGGCTTTGCAAGTCAGATGTGAAATCTATGGGCTCAACCCATAAACTGCATTTGAAACTGTAGAGCTTGAGTGAAGTAGAGGCAGGCGGGAATTCCCG</th>\n",
       "      <td>0</td>\n",
       "      <td>False</td>\n",
       "    </tr>\n",
       "    <tr>\n",
       "      <th>TACGTAGGGAGCAAGCGTTGTCCGGATTTACTGGGTGTAAAGGGTGCGTAGGCGGCTTTGCAAGTCAGATGTGAAATCTATGGGCTCAACCCATAAACTGCATTTGAAACTGTAGAGCTTGAGTGAAGTAGAGGCAGGCGGGAATTCCCC</th>\n",
       "      <td>0</td>\n",
       "      <td>False</td>\n",
       "    </tr>\n",
       "    <tr>\n",
       "      <th>TACGGAGGATCCGAGCGTTATCCGGATTTATTGGGTTTAAAGGGAGCGTAGGCGGACGCTTAAGTCAGTTGTGAAAGTTTGCGGCTCAACCGTAAAATTGCAGTTGATACTGGGTGTCTTGAGTACAGTAGAGGCAGGCGGGAATCGTGG</th>\n",
       "      <td>0</td>\n",
       "      <td>False</td>\n",
       "    </tr>\n",
       "    <tr>\n",
       "      <th>TACGGAGGATCCGAGCGTTATCCGGATTTATTGGGTTTAAAGGGAGCGTAGATGGATGTTTAAGTCAGTTGTGAAAGTTTGCGGCTCAACCGTAAAATTGCAGTTGATACTGGATATCTTGAGTGCAGTTGAGGCAGGCGGGATTCGTGG</th>\n",
       "      <td>0</td>\n",
       "      <td>False</td>\n",
       "    </tr>\n",
       "    <tr>\n",
       "      <th>TACGTATGGAGCAAGCGTTATCCGGATTTACTGGGTGTAAAGGGTGCGTAGGTGGCAGTGCAAGTCAGATGTGAAAGGCCGGGGCTCAACCCCGGAGCTGCATTTGAAACTGCTCGGCTAGAGTACAGGAGAGGCAGGCGGGATTTCTAG</th>\n",
       "      <td>0</td>\n",
       "      <td>False</td>\n",
       "    </tr>\n",
       "    <tr>\n",
       "      <th>TACGTATGGAGCAAGCGTTATCCGGATTTACTGGGTGTAAAGGGTGCGTAGGTGGCAGTGCAAGTCAGATGTGAAAGGCCGGGGCTCAACCCCGGAGCTGCATTTGAAACTGCATAGCTAGAGTACAGGAGAGGCAGGCGGAAATCCTAG</th>\n",
       "      <td>0</td>\n",
       "      <td>False</td>\n",
       "    </tr>\n",
       "    <tr>\n",
       "      <th>TACGGAGGATCCGAGCGTTATCCGGATTTATTGGGTTTAAAGGGAGCGTAGGCGGATGCTTAAGTCAGTTGTGAAAGTTTGCGGCTCAACCGTAAAATTGCAGTTGATACTGGGTGTCTTGAGTACAGTAGAGGCAGGCGGGAATCGTGG</th>\n",
       "      <td>0</td>\n",
       "      <td>False</td>\n",
       "    </tr>\n",
       "    <tr>\n",
       "      <th>TACGTATGGAGCAAGCGTTATCCGGATTTACTGGGTGTAAAGGGTGCGTAGGTGGCAGTGCAAGTCAGATGTGAAAGGCCGGGGCTCAACCCCGGAGCTGCATTTGAAACTGCATAGCTAGAGTACAGGAGAGGCAGGCGGGAATCCTAG</th>\n",
       "      <td>0</td>\n",
       "      <td>False</td>\n",
       "    </tr>\n",
       "    <tr>\n",
       "      <th>TACGTATGGAGCAAGCGTTATCCGGATTTACTGGGTGTAAAGGGTGCGTAGGTGGCAGTGCAAGTCAGATGTGAAAGGCCGGGGCTCAACCCCGGAGCTGCATTTGAAACTGCTCGGCTAGAGTACAGGAGAGGCAGGCGGGAATCCTAG</th>\n",
       "      <td>0</td>\n",
       "      <td>False</td>\n",
       "    </tr>\n",
       "    <tr>\n",
       "      <th>TACGGAGGATGCGAGCGTTATCCGGATTTATTGGGTTTAAAGGGAGCGCAGACGGGTCGTTAAGTCAGCTGTGAAAGTTTGGGGCTCAACCTCAAAATTGCAGTTGATACTGGCGTTCTTGAGTGCGGTTGAGGTGTGCGGAATTCGTGG</th>\n",
       "      <td>0</td>\n",
       "      <td>False</td>\n",
       "    </tr>\n",
       "  </tbody>\n",
       "</table>\n",
       "<p>1125 rows × 2 columns</p>\n",
       "</div>"
      ],
      "text/plain": [
       "                                                    W reject\n",
       "index                                                       \n",
       "TACGTATGGTGCAAGCGTTATCCGGATTTACTGGGTGTAAAGGGTGC...  0  False\n",
       "TACGTAGGGAGCGAGCGTTATCCGGATTTATTGGGTGTAAAGGGTGC...  0  False\n",
       "TACGGAGGATCCGAGCGTTATCCGGATTTATTGGGTTTAAAGGGAGC...  0  False\n",
       "AACGTAGGTGGCAAGCGTTGTCCGGAATTACTGGGTGTAAAGGGAGC...  0  False\n",
       "TACGGAAGGTCCAGGCGTTATCCGGATTTATTGGGTTTAAAGGGAGC...  0  False\n",
       "TACGTAGGGGGCAAGCGTTATCCGGATTTACTGGGTGTAAAGGGTGC...  0  False\n",
       "TACGTAGGTGGCAAGCGTTGTCCGGATTTACTGGGTGTAAAGGGCGT...  0  False\n",
       "TACGTAGGTGGCAAGCGTTGTCCGGAATTACTGGGTGTAAAGGGAGC...  0  False\n",
       "TACGGAGGATGCGAGCGTTATCCGGAATTATTGGGTTTAAAGGGTGC...  0  False\n",
       "TACGTAGGGCGCGAGCGTTGTCCGGAATTATTGGGCGTAAAGAGCTT...  0  False\n",
       "TACGTAGGGAGCGAGCGTTATCCGGATTTATTGGGTGTAAAGGGTGC...  0  False\n",
       "TACGTAGGGAGCAAGCGTTATCCGGATTTACTGGGTGTAAAGGGCGT...  0  False\n",
       "TACGTATGGAGCAAGCGTTATCCGGATTTACTGGGTGTAAAGGGAGT...  0  False\n",
       "TACGTAGGTGGCGAGCGTTATCCGGAATTATTGGGCGTAAAGAGCGC...  0  False\n",
       "TACGTAGGGAGCGAGCGTTGTCCGGAATTACTGGGTGTAAAGGGAGC...  0  False\n",
       "TACGTAGGGTGCGAGCGTTAATCGGAATTACTGGGCGTAAAGCGTGC...  0  False\n",
       "TACGTAGGTGGCGAGCGTTATCCGGAATTATTGGGCGTAAAGGGTGC...  0  False\n",
       "TACGTAGGGGGCGAGCGTTATCCGGATTTATTGGGCGTAAAGCGTGT...  0  False\n",
       "TACGTAGGGTGCGAGCGTTAATCGGAATTACTGGGCGTAAAGGGTGC...  0  False\n",
       "TACGTAGGTGGCAAGCGTTGTCCGGAATTATTGGGCGTAAAGCGCGC...  0  False\n",
       "TACGTAGGGTACAAGCGTTGTCCGGAATTATTGGGCGTAAAGAGCTC...  0  False\n",
       "TACGTAGGGAGCAAGCGTTATCCGGATTTACTGGGTGTAAAGGGCGA...  0  False\n",
       "TACGGAGGGGGCTAGCGTTGTTCGGAATTACTGGGCGTAAAGCGCAC...  0  False\n",
       "TACGTAGGGGGCAAGCGTTATCCGGAATTATTGGGCGTAAAGAGTAC...  0  False\n",
       "TACGGAAGGTCCGGGCGTTATCCGGATTTATTGGGTTTAAAGGGAGC...  0  False\n",
       "TACGTAGGTGGCAAGCGTTATCCGGATTTACTGGGTGTAAAGGGCGT...  0  False\n",
       "TACGTAGGGAGCAAGCGTTATCCGGATTTACTGGGTGTAAAGGGCGT...  0  False\n",
       "TACGTAGGGGGCAAGCGTTATCCGGATTTACTGGGTGTAAAGGGAGC...  0  False\n",
       "TACGTATGGAGCAAGCGTTATCCGGATTTACTGGGTGTAAAGGGTGC...  0  False\n",
       "TACGTAGGTGGCAAGCGTTATCCGGAATTATTGGGCGTAAAGAGGGA...  0  False\n",
       "...                                                ..    ...\n",
       "TACAGAGGGTGCAAGCGTTAATCGGAATTACTGGGCGTAAAGCGCAC...  0  False\n",
       "AACGTAGGGTGCAAGCGTTGTCCGGAATTACTGGGTGTAAAGGGAGC...  0  False\n",
       "TACGTATGGTGCAAGCGTTATCCGGATTTACTGGGTGTAAAGGGTGC...  0  False\n",
       "TACGGAGGATGCAAGCGTTATCCGGATTTATTGGGTTTAAAGGGTGC...  0  False\n",
       "TACGTAGGTCCCGAGCGTTATCCGGATTTATTGGGCGTAAAGCGAGC...  0  False\n",
       "AACGTAGGTCACAAGCGTTGTCCGGAATTACTGGGTGTAAAGGGAGC...  0  False\n",
       "TACAGAGGGTGCAAGCGTTAATCGGAATTACTGGGCGTAAAGCGCGC...  0  False\n",
       "TACAGAGGGTGCAAGCGTTAATCGGAATTACTGGGCGTAAAGCGCAC...  0  False\n",
       "TACGTAGGTGGCGAGCGTTATCCGGAATGATTGGGCGTAAAGGGTGC...  0  False\n",
       "TACGGAGGATGCGAGCGTTATCCGGATTTATTGGGTTTAAAGGGTGC...  0  False\n",
       "TACGTAGGTGGCAAGCGTTGTCCGGAATTATTGGGCGTAAAGCGCTC...  0  False\n",
       "TACGGAGGGTGCAAGCGTTAATCGGAATTACTGGGCGTAAAGCGCGC...  0  False\n",
       "TACGGAGGATGCGAGCGTTATCCGGATTTATTGGGTTTAAAGGGTGC...  0  False\n",
       "TACGGAGGATGCGAGCGTTATCCGGATTTATTGGGTTTAAAGGGAGC...  0  False\n",
       "TACGGAAGGTCCGGGCGTTATCCGGAATCATTGGGTTTAAAGGGAGC...  0  False\n",
       "TACGTATGGAGCAAGCGTTATCCGGATTTACTGGGTGTAAAGGGTGC...  0  False\n",
       "TACGGAGGATGCGAGCGTTATCCGGATTTATTGGGTTTAAAGGGAGC...  0  False\n",
       "TACGGAGGATCCGAGCGTTATCCGGATTTATTGGGTTTAAAGGGAGC...  0  False\n",
       "TACGTATGGAGCAAGCGTTATCCGGATTTACTGGGTGTAAAGGGTGC...  0  False\n",
       "TACGGAGGATGCGAGCGTTATCCGGATTTATTGGGTTTAAAGGGAGC...  0  False\n",
       "TACGTAGGGAGCAAGCGTTGTCCGGATTTACTGGGTGTAAAGGGTGC...  0  False\n",
       "TACGTAGGGAGCAAGCGTTGTCCGGATTTACTGGGTGTAAAGGGTGC...  0  False\n",
       "TACGGAGGATCCGAGCGTTATCCGGATTTATTGGGTTTAAAGGGAGC...  0  False\n",
       "TACGGAGGATCCGAGCGTTATCCGGATTTATTGGGTTTAAAGGGAGC...  0  False\n",
       "TACGTATGGAGCAAGCGTTATCCGGATTTACTGGGTGTAAAGGGTGC...  0  False\n",
       "TACGTATGGAGCAAGCGTTATCCGGATTTACTGGGTGTAAAGGGTGC...  0  False\n",
       "TACGGAGGATCCGAGCGTTATCCGGATTTATTGGGTTTAAAGGGAGC...  0  False\n",
       "TACGTATGGAGCAAGCGTTATCCGGATTTACTGGGTGTAAAGGGTGC...  0  False\n",
       "TACGTATGGAGCAAGCGTTATCCGGATTTACTGGGTGTAAAGGGTGC...  0  False\n",
       "TACGGAGGATGCGAGCGTTATCCGGATTTATTGGGTTTAAAGGGAGC...  0  False\n",
       "\n",
       "[1125 rows x 2 columns]"
      ]
     },
     "execution_count": 54,
     "metadata": {},
     "output_type": "execute_result"
    }
   ],
   "source": [
    "ancom_stats"
   ]
  },
  {
   "cell_type": "markdown",
   "metadata": {},
   "source": [
    "## Calculate the fold change of american gut compared to all other experiments\n",
    "For each sOTU, comapre the mean in all AG samples to the mean of all samples in a fresh-frozen experiment. The samples are unpaired, so we can't just compare the means. We'll perform this calculation seperately between each pair of studies.\n",
    "\n",
    "We'll start by getting the pandas dataframes for each study to make the comparisons."
   ]
  },
  {
   "cell_type": "code",
   "execution_count": 28,
   "metadata": {
    "collapsed": false
   },
   "outputs": [],
   "source": [
    "pgp_meta_f = fec_meta.loc[fec_meta['STUDY'] == 'PGP']\n",
    "pgp_sotu_f = fec_sotu.loc[pgp_meta_f.index]"
   ]
  },
  {
   "cell_type": "code",
   "execution_count": 29,
   "metadata": {
    "collapsed": false
   },
   "outputs": [],
   "source": [
    "agp_meta_f = fec_meta.loc[fec_meta['STUDY'] == 'AGP']\n",
    "agp_sotu_f = fec_sotu.loc[agp_meta_f.index]"
   ]
  },
  {
   "cell_type": "code",
   "execution_count": 30,
   "metadata": {
    "collapsed": false
   },
   "outputs": [],
   "source": [
    "twin_meta_f = fec_meta.loc[fec_meta['STUDY'] == 'UK_TWINS']\n",
    "twin_sotu_f = fec_sotu.loc[twin_meta_f.index]"
   ]
  },
  {
   "cell_type": "code",
   "execution_count": 31,
   "metadata": {
    "collapsed": true
   },
   "outputs": [],
   "source": [
    "erc_meta_f = fec_meta.loc[fec_meta['STUDY'] == 'ERC']\n",
    "erc_sotu_f = fec_sotu.loc[erc_meta_f.index]"
   ]
  },
  {
   "cell_type": "markdown",
   "metadata": {},
   "source": [
    "Next, let's write a function to calculate the fold change between studies.\n",
    "\n",
    "**Check the mask**"
   ]
  },
  {
   "cell_type": "code",
   "execution_count": 32,
   "metadata": {
    "collapsed": false
   },
   "outputs": [],
   "source": [
    "def calculate_fold_change(sotu1, sotu2, minreads=1):\n",
    "    \"\"\"Calculates the fold change between two datasets\"\"\"\n",
    "    \n",
    "    # The fold change\n",
    "    fc = {}\n",
    "    not_compared = []\n",
    "    \n",
    "    # Replaces values below the threshhold\n",
    "    sotu1[sotu1 < minreads] = minreads\n",
    "    sotu2[sotu2 < minreads] = minreads\n",
    "    \n",
    "    # Calculates the mean ratio\n",
    "    ratio = sotu1.mean(0) / sotu2.mean(0)\n",
    "    return ratio"
   ]
  },
  {
   "cell_type": "markdown",
   "metadata": {},
   "source": [
    "And, let's calculate the fold change ratio for all combinations."
   ]
  },
  {
   "cell_type": "code",
   "execution_count": 33,
   "metadata": {
    "collapsed": false
   },
   "outputs": [],
   "source": [
    "fold_change = pd.DataFrame([calculate_fold_change(agp_sotu_f, study)\n",
    "                            for study in [pgp_sotu_f, erc_sotu_f, twin_sotu_f]],\n",
    "              index=['agp_pgp', 'agp_erc', 'agp_twins']).T"
   ]
  },
  {
   "cell_type": "code",
   "execution_count": 34,
   "metadata": {
    "collapsed": false
   },
   "outputs": [],
   "source": [
    "min_ag_fc = fold_change.min(axis=1)"
   ]
  },
  {
   "cell_type": "markdown",
   "metadata": {},
   "source": [
    "# find the blooming bacteria list\n",
    "intersect the ag-vs-others and the storage studies fold changes:\n",
    "\n",
    "Iterate over all sOTUs which are significantly different between AG and all fresh-frozen samples.\n",
    "\n",
    "For each such sOTU, we calculate two values:\n",
    "1. The maximal growth potential (maximum over all storage studies and days)\n",
    "2. The minimal ratio between AG to each fresh-frozen sample. The minimum is taken in order to reduce the effect of study-study differences (since a blooming bacteria is expected to be higher in AG compared to all fresh-frozen studies)\n",
    "\n",
    "Candidate blooming bacteria are defined as sOTUs that have either:\n",
    "- At least two fold difference in both (1) and (2), or that are not\n",
    "\n",
    "OR\n",
    "- At least two fold difference in (2) and are not present in (1) (since storage studies have a small set of individuals, there may be blooming bacteria that by chance were not present in the storage study samples)\n",
    "\n",
    "OR\n",
    "- At least 50 fold change in (1), so we know they can grow drastically in room temp.\n"
   ]
  },
  {
   "cell_type": "markdown",
   "metadata": {},
   "source": [
    "## Combining the stability studies\n",
    "\n",
    "We're going to find the maximum fold difference for all comparisons based on storage studies.\n",
    "\n",
    "However, since the song study was run on a ***Check the sequencing platform***, it has 125 nucleotide reads instead of the 150 nucelotides found in other studies. To address this, we're going to compare the first 125 nucleotides of each of the sequences in the Mayo fecal stability study to value in the song study, whther the first 125 sequences are unique or not.\n",
    "\n",
    "We'll then build a hash based on the full 150 nucleotides, which will be the id we combine with the other study."
   ]
  },
  {
   "cell_type": "code",
   "execution_count": 35,
   "metadata": {
    "collapsed": false
   },
   "outputs": [],
   "source": [
    "song_fc.reset_index(inplace=True)\n",
    "song_fc.rename(columns={'index': 'sequence'}, inplace=True)\n",
    "song_fc['sequence125'] = song_fc['sequence'].copy()\n",
    "song_fc.set_index('sequence125', inplace=True)\n",
    "song_fc.rename(columns={'sequence': 'song_sequence'}, inplace=True)"
   ]
  },
  {
   "cell_type": "code",
   "execution_count": 36,
   "metadata": {
    "collapsed": false
   },
   "outputs": [],
   "source": [
    "mayo_fc.reset_index(inplace=True)\n",
    "mayo_fc.rename(columns={'index': 'sequence'}, inplace=True)\n",
    "mayo_fc['sequence125'] = mayo_fc['sequence'].apply(lambda x: x[:124])\n",
    "mayo_fc.set_index('sequence125', inplace=True)\n",
    "mayo_fc.rename(columns={'sequence': 'mayo_sequence'}, inplace=True)"
   ]
  },
  {
   "cell_type": "markdown",
   "metadata": {},
   "source": [
    "Now, we can combine the studies, and then combine the sequences."
   ]
  },
  {
   "cell_type": "code",
   "execution_count": 37,
   "metadata": {
    "collapsed": false
   },
   "outputs": [],
   "source": [
    "storage_fc = song_fc.join(mayo_fc)"
   ]
  },
  {
   "cell_type": "code",
   "execution_count": 38,
   "metadata": {
    "collapsed": false
   },
   "outputs": [],
   "source": [
    "def prioritize_sequences(x):\n",
    "    if pd.isnull(x['mayo_sequence']):\n",
    "        return x['song_sequence']\n",
    "    else:\n",
    "        return x['mayo_sequence']"
   ]
  },
  {
   "cell_type": "code",
   "execution_count": 39,
   "metadata": {
    "collapsed": false
   },
   "outputs": [],
   "source": [
    "lookup_map = storage_fc[['song_sequence', 'mayo_sequence']].copy()\n",
    "lookup_map['sequence'] = lookup_map.apply(prioritize_sequences, axis=1)"
   ]
  },
  {
   "cell_type": "code",
   "execution_count": 40,
   "metadata": {
    "collapsed": false
   },
   "outputs": [],
   "source": [
    "storage_lookup = hash_sequence_ids(lookup_map)\n",
    "storage_fc['md5'] = storage_lookup['md5']\n",
    "storage_fc.set_index('md5', inplace=True)\n",
    "storage_lookup.set_index('md5', inplace=True)"
   ]
  },
  {
   "cell_type": "markdown",
   "metadata": {},
   "source": [
    "Now, we can calculate the fold change between the sequences."
   ]
  },
  {
   "cell_type": "code",
   "execution_count": 41,
   "metadata": {
    "collapsed": false
   },
   "outputs": [],
   "source": [
    "storage_max = storage_fc[['Week 1', 'Week 2', 'Week 7', 'Day 1', 'Day 4']].mean(axis=1)"
   ]
  },
  {
   "cell_type": "code",
   "execution_count": 42,
   "metadata": {
    "collapsed": false
   },
   "outputs": [],
   "source": [
    "extremes = pd.DataFrame([storage_max, min_ag_fc], \n",
    "                        index=['storage', 'freeze_thaw']).T\n",
    "# extremes = extremes.loc[ancom_stats.index[ancom_stats['Reject null hypothesis']]]\n",
    "extremes['score'] = extremes['storage'] + 0.01 * extremes['freeze_thaw']"
   ]
  },
  {
   "cell_type": "code",
   "execution_count": 43,
   "metadata": {
    "collapsed": false
   },
   "outputs": [],
   "source": [
    "def identify_blooms(x):\n",
    "    return (((x['storage'] > 2) & (x['freeze_thaw'] > 2)) | \n",
    "            (x['storage'] > 50) |\n",
    "            ((x['freeze_thaw'] > 2) & (np.isnan(x['storage'])))\n",
    "            )"
   ]
  },
  {
   "cell_type": "code",
   "execution_count": 44,
   "metadata": {
    "collapsed": false
   },
   "outputs": [],
   "source": [
    "blooms = extremes.index[extremes.apply(identify_blooms, axis=1)]"
   ]
  },
  {
   "cell_type": "code",
   "execution_count": 45,
   "metadata": {
    "collapsed": false
   },
   "outputs": [
    {
     "data": {
      "text/plain": [
       "Index(['04195686f2b70585790ec75320de0d6f', '07f3fc2191965d82f9031b119d19cb7f',\n",
       "       '2b1629a873e97e24f482743105fe549c', '41f1c6e4d1e4cc653df22555bfab5796',\n",
       "       '95f0cac7cb67191beab572915835222e',\n",
       "       'AACGTAGGTCACAAGCGTTGTCCGGAATTACTGGGTGTAAAGGGAGCGCAGGCGGGAAGACAAGTTGGAAGTGAAAACCATGGGCTCAACCCATGAATTGCTTTCAAAACTGTTTTTCTTGAGTAGTGCAGAGGTAGATGGAATTCCCGG',\n",
       "       'AACGTAGGTCACAAGCGTTGTCCGGAATTACTGGGTGTAAAGGGAGCGCAGGCGGGAGAATAAGTTGGAAGTGAAATCCATGGGCTCAACCCATGAACTGCTTTCAAAACTGTTTTTCTTGAGTAGTGCAGAGGTAGGCGGAATTCCCGG',\n",
       "       'AACGTAGGTCACAAGCGTTGTCCGGAATTACTGGGTGTAAAGGGAGCGCAGGCGGGCGATCAAGTTGGAAGTGAAATCCATGGGCTCAACCCATGAACTGCTTTCAAAACTGATTGTCTTGAGTAGTGCAGAGGTAGGCGGAATTCCCGG',\n",
       "       'CACGTAAGGTGCGAGCGTTATTCGGAATTATTGGGCGTAAAGGGCACGCAGGCGGCTTTGCAAGCTTGGTGTGAAATCTCAGGGCTCAACCCTGAAACTGCATTGAGAACTGCATGGCTAGAGTTAGTGAGGGGAAACCGGAATTCCAGG',\n",
       "       'TACAGAGGGTGCAAGCGTTAATCGGAATTACTGGGCGTAAAGCGCACGCAGGCGGTCTGTTAAGTCAGATGTGAAATCCCCGGGCTCAACCTGGGAACTGCATTTGAAACTGGCAGGCTTGAGTCTTGTAGAGGGGGGTAGAATTCCAGG',\n",
       "       ...\n",
       "       'TACGTATGGAGCAAGCGTTATCCGGATTCATTGGGCGTAAAGCGCTCGTAGGCGGTCTGTTAGGTCGGTAAGTTAAATCCGGGGGCTCAACCCCCGTCCGCTTCCGATACCGGCAGACTTGAGTTTGGTAGGGGAAGGTGGAATTCCTAG',\n",
       "       'TACGTATGGAGCAAGCGTTATCCGGATTTACTGGGTGTAAAGGGAGCGTAGACGGTTGGGCAAGTCTGATGTGAAAGCCCGGGGCTCAACCCCGGAACTGCATTGGAAACTGTTTGACTAGAGTGCAGGAGAGGTAAGTGGAATTCCTAG',\n",
       "       'TACGTATGGTGCAAGCGTTATCCGGATTTACTGGGTGTAAAGGGAGCGCAGGCGGTGCGGCAAGTCTGATGTGAAAGCCCAGGGCTCAACCCCGGTACTGCATTGGAAACTGTCGTACTAGAGTGTCGGAGGGGTAAGCGGAATTCCTAG',\n",
       "       'TACGTATGGTGCAAGCGTTATCCGGATTTACTGGGTGTAAAGGGAGTGCAGGCGGTGCGGCAAGTCTGATGTGAAAGCCCGGGGCTCAACCCCGGTACTGCATTGGAAACTGTCGTACTAGAGTGTCGGAGGGGTAAGCGGAATTCCTAG',\n",
       "       'TACGTATGGTGCAAGCGTTATCCGGATTTACTGGGTGTAAAGGGTGCGTAGGTGGTATGGCAAGTCAGAAGTGAAAGGCTGGGGCTCAACCTCGGGACTGCTTTTGAAACTGTCAAACTAGAGTACAGGAGAGGAAAGCGGAATTCCTAG',\n",
       "       'TACGTATGTCGCAAGCGTTATCCGGAATTATTGGGCATAAAGGGCATCTAGGCGGCCAGATAAGTCTGGGGTGAAAACTTGCGGCTCAACCGCAAGCCTGCCCTGGAAACTATGTGGCTAGAGTACTGGAGAGGTGGACGGAACTGCACG',\n",
       "       'TACGTATGTCGCGAGCGTTATCCGGAATTATTGGGCATAAAGGGCATCTAGGCGGCCAGATAAGTCCGAGGTGAAAACTGCCGGCTCAACCAGCAGCTTGCCTTGGAAACTACCTGGCTAGAGTATTGGAGAGGTGGACGGAACTACACG',\n",
       "       'd5c92ab7e4e215673b2b39d1201f4c24', 'de550dcfac053f38751aa0ec428e7866',\n",
       "       'ece1af985b63ebccd2833e9b5f0432e3'],\n",
       "      dtype='object', length=138)"
      ]
     },
     "execution_count": 45,
     "metadata": {},
     "output_type": "execute_result"
    }
   ],
   "source": [
    "blooms"
   ]
  },
  {
   "cell_type": "markdown",
   "metadata": {},
   "source": [
    "# Plot the fold change scatter plot KDE with highlighting the candidate blooming sOTUs\n",
    "since we have a lot of sOTUs, each with max(storage fc) and min(ag-fresh fc), we plot the average densities of all sOTUs.\n",
    "\n",
    "Red circles denote the sOTUs (15) passing the criteria for candidate blooming bacteria. Note that an additional set of 6 candidate blooming bacteria are not shown as they do not appear in the storage studies, and therefore do not have an x coordinate on the plot."
   ]
  },
  {
   "cell_type": "code",
   "execution_count": 46,
   "metadata": {
    "collapsed": false
   },
   "outputs": [],
   "source": [
    "clean_extremes = np.log2(extremes).dropna()"
   ]
  },
  {
   "cell_type": "code",
   "execution_count": 47,
   "metadata": {
    "collapsed": false,
    "scrolled": false
   },
   "outputs": [
    {
     "data": {
      "application/javascript": [
       "/* Put everything inside the global mpl namespace */\n",
       "window.mpl = {};\n",
       "\n",
       "mpl.get_websocket_type = function() {\n",
       "    if (typeof(WebSocket) !== 'undefined') {\n",
       "        return WebSocket;\n",
       "    } else if (typeof(MozWebSocket) !== 'undefined') {\n",
       "        return MozWebSocket;\n",
       "    } else {\n",
       "        alert('Your browser does not have WebSocket support.' +\n",
       "              'Please try Chrome, Safari or Firefox ≥ 6. ' +\n",
       "              'Firefox 4 and 5 are also supported but you ' +\n",
       "              'have to enable WebSockets in about:config.');\n",
       "    };\n",
       "}\n",
       "\n",
       "mpl.figure = function(figure_id, websocket, ondownload, parent_element) {\n",
       "    this.id = figure_id;\n",
       "\n",
       "    this.ws = websocket;\n",
       "\n",
       "    this.supports_binary = (this.ws.binaryType != undefined);\n",
       "\n",
       "    if (!this.supports_binary) {\n",
       "        var warnings = document.getElementById(\"mpl-warnings\");\n",
       "        if (warnings) {\n",
       "            warnings.style.display = 'block';\n",
       "            warnings.textContent = (\n",
       "                \"This browser does not support binary websocket messages. \" +\n",
       "                    \"Performance may be slow.\");\n",
       "        }\n",
       "    }\n",
       "\n",
       "    this.imageObj = new Image();\n",
       "\n",
       "    this.context = undefined;\n",
       "    this.message = undefined;\n",
       "    this.canvas = undefined;\n",
       "    this.rubberband_canvas = undefined;\n",
       "    this.rubberband_context = undefined;\n",
       "    this.format_dropdown = undefined;\n",
       "\n",
       "    this.image_mode = 'full';\n",
       "\n",
       "    this.root = $('<div/>');\n",
       "    this._root_extra_style(this.root)\n",
       "    this.root.attr('style', 'display: inline-block');\n",
       "\n",
       "    $(parent_element).append(this.root);\n",
       "\n",
       "    this._init_header(this);\n",
       "    this._init_canvas(this);\n",
       "    this._init_toolbar(this);\n",
       "\n",
       "    var fig = this;\n",
       "\n",
       "    this.waiting = false;\n",
       "\n",
       "    this.ws.onopen =  function () {\n",
       "            fig.send_message(\"supports_binary\", {value: fig.supports_binary});\n",
       "            fig.send_message(\"send_image_mode\", {});\n",
       "            fig.send_message(\"refresh\", {});\n",
       "        }\n",
       "\n",
       "    this.imageObj.onload = function() {\n",
       "            if (fig.image_mode == 'full') {\n",
       "                // Full images could contain transparency (where diff images\n",
       "                // almost always do), so we need to clear the canvas so that\n",
       "                // there is no ghosting.\n",
       "                fig.context.clearRect(0, 0, fig.canvas.width, fig.canvas.height);\n",
       "            }\n",
       "            fig.context.drawImage(fig.imageObj, 0, 0);\n",
       "        };\n",
       "\n",
       "    this.imageObj.onunload = function() {\n",
       "        this.ws.close();\n",
       "    }\n",
       "\n",
       "    this.ws.onmessage = this._make_on_message_function(this);\n",
       "\n",
       "    this.ondownload = ondownload;\n",
       "}\n",
       "\n",
       "mpl.figure.prototype._init_header = function() {\n",
       "    var titlebar = $(\n",
       "        '<div class=\"ui-dialog-titlebar ui-widget-header ui-corner-all ' +\n",
       "        'ui-helper-clearfix\"/>');\n",
       "    var titletext = $(\n",
       "        '<div class=\"ui-dialog-title\" style=\"width: 100%; ' +\n",
       "        'text-align: center; padding: 3px;\"/>');\n",
       "    titlebar.append(titletext)\n",
       "    this.root.append(titlebar);\n",
       "    this.header = titletext[0];\n",
       "}\n",
       "\n",
       "\n",
       "\n",
       "mpl.figure.prototype._canvas_extra_style = function(canvas_div) {\n",
       "\n",
       "}\n",
       "\n",
       "\n",
       "mpl.figure.prototype._root_extra_style = function(canvas_div) {\n",
       "\n",
       "}\n",
       "\n",
       "mpl.figure.prototype._init_canvas = function() {\n",
       "    var fig = this;\n",
       "\n",
       "    var canvas_div = $('<div/>');\n",
       "\n",
       "    canvas_div.attr('style', 'position: relative; clear: both; outline: 0');\n",
       "\n",
       "    function canvas_keyboard_event(event) {\n",
       "        return fig.key_event(event, event['data']);\n",
       "    }\n",
       "\n",
       "    canvas_div.keydown('key_press', canvas_keyboard_event);\n",
       "    canvas_div.keyup('key_release', canvas_keyboard_event);\n",
       "    this.canvas_div = canvas_div\n",
       "    this._canvas_extra_style(canvas_div)\n",
       "    this.root.append(canvas_div);\n",
       "\n",
       "    var canvas = $('<canvas/>');\n",
       "    canvas.addClass('mpl-canvas');\n",
       "    canvas.attr('style', \"left: 0; top: 0; z-index: 0; outline: 0\")\n",
       "\n",
       "    this.canvas = canvas[0];\n",
       "    this.context = canvas[0].getContext(\"2d\");\n",
       "\n",
       "    var rubberband = $('<canvas/>');\n",
       "    rubberband.attr('style', \"position: absolute; left: 0; top: 0; z-index: 1;\")\n",
       "\n",
       "    var pass_mouse_events = true;\n",
       "\n",
       "    canvas_div.resizable({\n",
       "        start: function(event, ui) {\n",
       "            pass_mouse_events = false;\n",
       "        },\n",
       "        resize: function(event, ui) {\n",
       "            fig.request_resize(ui.size.width, ui.size.height);\n",
       "        },\n",
       "        stop: function(event, ui) {\n",
       "            pass_mouse_events = true;\n",
       "            fig.request_resize(ui.size.width, ui.size.height);\n",
       "        },\n",
       "    });\n",
       "\n",
       "    function mouse_event_fn(event) {\n",
       "        if (pass_mouse_events)\n",
       "            return fig.mouse_event(event, event['data']);\n",
       "    }\n",
       "\n",
       "    rubberband.mousedown('button_press', mouse_event_fn);\n",
       "    rubberband.mouseup('button_release', mouse_event_fn);\n",
       "    // Throttle sequential mouse events to 1 every 20ms.\n",
       "    rubberband.mousemove('motion_notify', mouse_event_fn);\n",
       "\n",
       "    rubberband.mouseenter('figure_enter', mouse_event_fn);\n",
       "    rubberband.mouseleave('figure_leave', mouse_event_fn);\n",
       "\n",
       "    canvas_div.on(\"wheel\", function (event) {\n",
       "        event = event.originalEvent;\n",
       "        event['data'] = 'scroll'\n",
       "        if (event.deltaY < 0) {\n",
       "            event.step = 1;\n",
       "        } else {\n",
       "            event.step = -1;\n",
       "        }\n",
       "        mouse_event_fn(event);\n",
       "    });\n",
       "\n",
       "    canvas_div.append(canvas);\n",
       "    canvas_div.append(rubberband);\n",
       "\n",
       "    this.rubberband = rubberband;\n",
       "    this.rubberband_canvas = rubberband[0];\n",
       "    this.rubberband_context = rubberband[0].getContext(\"2d\");\n",
       "    this.rubberband_context.strokeStyle = \"#000000\";\n",
       "\n",
       "    this._resize_canvas = function(width, height) {\n",
       "        // Keep the size of the canvas, canvas container, and rubber band\n",
       "        // canvas in synch.\n",
       "        canvas_div.css('width', width)\n",
       "        canvas_div.css('height', height)\n",
       "\n",
       "        canvas.attr('width', width);\n",
       "        canvas.attr('height', height);\n",
       "\n",
       "        rubberband.attr('width', width);\n",
       "        rubberband.attr('height', height);\n",
       "    }\n",
       "\n",
       "    // Set the figure to an initial 600x600px, this will subsequently be updated\n",
       "    // upon first draw.\n",
       "    this._resize_canvas(600, 600);\n",
       "\n",
       "    // Disable right mouse context menu.\n",
       "    $(this.rubberband_canvas).bind(\"contextmenu\",function(e){\n",
       "        return false;\n",
       "    });\n",
       "\n",
       "    function set_focus () {\n",
       "        canvas.focus();\n",
       "        canvas_div.focus();\n",
       "    }\n",
       "\n",
       "    window.setTimeout(set_focus, 100);\n",
       "}\n",
       "\n",
       "mpl.figure.prototype._init_toolbar = function() {\n",
       "    var fig = this;\n",
       "\n",
       "    var nav_element = $('<div/>')\n",
       "    nav_element.attr('style', 'width: 100%');\n",
       "    this.root.append(nav_element);\n",
       "\n",
       "    // Define a callback function for later on.\n",
       "    function toolbar_event(event) {\n",
       "        return fig.toolbar_button_onclick(event['data']);\n",
       "    }\n",
       "    function toolbar_mouse_event(event) {\n",
       "        return fig.toolbar_button_onmouseover(event['data']);\n",
       "    }\n",
       "\n",
       "    for(var toolbar_ind in mpl.toolbar_items) {\n",
       "        var name = mpl.toolbar_items[toolbar_ind][0];\n",
       "        var tooltip = mpl.toolbar_items[toolbar_ind][1];\n",
       "        var image = mpl.toolbar_items[toolbar_ind][2];\n",
       "        var method_name = mpl.toolbar_items[toolbar_ind][3];\n",
       "\n",
       "        if (!name) {\n",
       "            // put a spacer in here.\n",
       "            continue;\n",
       "        }\n",
       "        var button = $('<button/>');\n",
       "        button.addClass('ui-button ui-widget ui-state-default ui-corner-all ' +\n",
       "                        'ui-button-icon-only');\n",
       "        button.attr('role', 'button');\n",
       "        button.attr('aria-disabled', 'false');\n",
       "        button.click(method_name, toolbar_event);\n",
       "        button.mouseover(tooltip, toolbar_mouse_event);\n",
       "\n",
       "        var icon_img = $('<span/>');\n",
       "        icon_img.addClass('ui-button-icon-primary ui-icon');\n",
       "        icon_img.addClass(image);\n",
       "        icon_img.addClass('ui-corner-all');\n",
       "\n",
       "        var tooltip_span = $('<span/>');\n",
       "        tooltip_span.addClass('ui-button-text');\n",
       "        tooltip_span.html(tooltip);\n",
       "\n",
       "        button.append(icon_img);\n",
       "        button.append(tooltip_span);\n",
       "\n",
       "        nav_element.append(button);\n",
       "    }\n",
       "\n",
       "    var fmt_picker_span = $('<span/>');\n",
       "\n",
       "    var fmt_picker = $('<select/>');\n",
       "    fmt_picker.addClass('mpl-toolbar-option ui-widget ui-widget-content');\n",
       "    fmt_picker_span.append(fmt_picker);\n",
       "    nav_element.append(fmt_picker_span);\n",
       "    this.format_dropdown = fmt_picker[0];\n",
       "\n",
       "    for (var ind in mpl.extensions) {\n",
       "        var fmt = mpl.extensions[ind];\n",
       "        var option = $(\n",
       "            '<option/>', {selected: fmt === mpl.default_extension}).html(fmt);\n",
       "        fmt_picker.append(option)\n",
       "    }\n",
       "\n",
       "    // Add hover states to the ui-buttons\n",
       "    $( \".ui-button\" ).hover(\n",
       "        function() { $(this).addClass(\"ui-state-hover\");},\n",
       "        function() { $(this).removeClass(\"ui-state-hover\");}\n",
       "    );\n",
       "\n",
       "    var status_bar = $('<span class=\"mpl-message\"/>');\n",
       "    nav_element.append(status_bar);\n",
       "    this.message = status_bar[0];\n",
       "}\n",
       "\n",
       "mpl.figure.prototype.request_resize = function(x_pixels, y_pixels) {\n",
       "    // Request matplotlib to resize the figure. Matplotlib will then trigger a resize in the client,\n",
       "    // which will in turn request a refresh of the image.\n",
       "    this.send_message('resize', {'width': x_pixels, 'height': y_pixels});\n",
       "}\n",
       "\n",
       "mpl.figure.prototype.send_message = function(type, properties) {\n",
       "    properties['type'] = type;\n",
       "    properties['figure_id'] = this.id;\n",
       "    this.ws.send(JSON.stringify(properties));\n",
       "}\n",
       "\n",
       "mpl.figure.prototype.send_draw_message = function() {\n",
       "    if (!this.waiting) {\n",
       "        this.waiting = true;\n",
       "        this.ws.send(JSON.stringify({type: \"draw\", figure_id: this.id}));\n",
       "    }\n",
       "}\n",
       "\n",
       "\n",
       "mpl.figure.prototype.handle_save = function(fig, msg) {\n",
       "    var format_dropdown = fig.format_dropdown;\n",
       "    var format = format_dropdown.options[format_dropdown.selectedIndex].value;\n",
       "    fig.ondownload(fig, format);\n",
       "}\n",
       "\n",
       "\n",
       "mpl.figure.prototype.handle_resize = function(fig, msg) {\n",
       "    var size = msg['size'];\n",
       "    if (size[0] != fig.canvas.width || size[1] != fig.canvas.height) {\n",
       "        fig._resize_canvas(size[0], size[1]);\n",
       "        fig.send_message(\"refresh\", {});\n",
       "    };\n",
       "}\n",
       "\n",
       "mpl.figure.prototype.handle_rubberband = function(fig, msg) {\n",
       "    var x0 = msg['x0'];\n",
       "    var y0 = fig.canvas.height - msg['y0'];\n",
       "    var x1 = msg['x1'];\n",
       "    var y1 = fig.canvas.height - msg['y1'];\n",
       "    x0 = Math.floor(x0) + 0.5;\n",
       "    y0 = Math.floor(y0) + 0.5;\n",
       "    x1 = Math.floor(x1) + 0.5;\n",
       "    y1 = Math.floor(y1) + 0.5;\n",
       "    var min_x = Math.min(x0, x1);\n",
       "    var min_y = Math.min(y0, y1);\n",
       "    var width = Math.abs(x1 - x0);\n",
       "    var height = Math.abs(y1 - y0);\n",
       "\n",
       "    fig.rubberband_context.clearRect(\n",
       "        0, 0, fig.canvas.width, fig.canvas.height);\n",
       "\n",
       "    fig.rubberband_context.strokeRect(min_x, min_y, width, height);\n",
       "}\n",
       "\n",
       "mpl.figure.prototype.handle_figure_label = function(fig, msg) {\n",
       "    // Updates the figure title.\n",
       "    fig.header.textContent = msg['label'];\n",
       "}\n",
       "\n",
       "mpl.figure.prototype.handle_cursor = function(fig, msg) {\n",
       "    var cursor = msg['cursor'];\n",
       "    switch(cursor)\n",
       "    {\n",
       "    case 0:\n",
       "        cursor = 'pointer';\n",
       "        break;\n",
       "    case 1:\n",
       "        cursor = 'default';\n",
       "        break;\n",
       "    case 2:\n",
       "        cursor = 'crosshair';\n",
       "        break;\n",
       "    case 3:\n",
       "        cursor = 'move';\n",
       "        break;\n",
       "    }\n",
       "    fig.rubberband_canvas.style.cursor = cursor;\n",
       "}\n",
       "\n",
       "mpl.figure.prototype.handle_message = function(fig, msg) {\n",
       "    fig.message.textContent = msg['message'];\n",
       "}\n",
       "\n",
       "mpl.figure.prototype.handle_draw = function(fig, msg) {\n",
       "    // Request the server to send over a new figure.\n",
       "    fig.send_draw_message();\n",
       "}\n",
       "\n",
       "mpl.figure.prototype.handle_image_mode = function(fig, msg) {\n",
       "    fig.image_mode = msg['mode'];\n",
       "}\n",
       "\n",
       "mpl.figure.prototype.updated_canvas_event = function() {\n",
       "    // Called whenever the canvas gets updated.\n",
       "    this.send_message(\"ack\", {});\n",
       "}\n",
       "\n",
       "// A function to construct a web socket function for onmessage handling.\n",
       "// Called in the figure constructor.\n",
       "mpl.figure.prototype._make_on_message_function = function(fig) {\n",
       "    return function socket_on_message(evt) {\n",
       "        if (evt.data instanceof Blob) {\n",
       "            /* FIXME: We get \"Resource interpreted as Image but\n",
       "             * transferred with MIME type text/plain:\" errors on\n",
       "             * Chrome.  But how to set the MIME type?  It doesn't seem\n",
       "             * to be part of the websocket stream */\n",
       "            evt.data.type = \"image/png\";\n",
       "\n",
       "            /* Free the memory for the previous frames */\n",
       "            if (fig.imageObj.src) {\n",
       "                (window.URL || window.webkitURL).revokeObjectURL(\n",
       "                    fig.imageObj.src);\n",
       "            }\n",
       "\n",
       "            fig.imageObj.src = (window.URL || window.webkitURL).createObjectURL(\n",
       "                evt.data);\n",
       "            fig.updated_canvas_event();\n",
       "            fig.waiting = false;\n",
       "            return;\n",
       "        }\n",
       "        else if (typeof evt.data === 'string' && evt.data.slice(0, 21) == \"data:image/png;base64\") {\n",
       "            fig.imageObj.src = evt.data;\n",
       "            fig.updated_canvas_event();\n",
       "            fig.waiting = false;\n",
       "            return;\n",
       "        }\n",
       "\n",
       "        var msg = JSON.parse(evt.data);\n",
       "        var msg_type = msg['type'];\n",
       "\n",
       "        // Call the  \"handle_{type}\" callback, which takes\n",
       "        // the figure and JSON message as its only arguments.\n",
       "        try {\n",
       "            var callback = fig[\"handle_\" + msg_type];\n",
       "        } catch (e) {\n",
       "            console.log(\"No handler for the '\" + msg_type + \"' message type: \", msg);\n",
       "            return;\n",
       "        }\n",
       "\n",
       "        if (callback) {\n",
       "            try {\n",
       "                // console.log(\"Handling '\" + msg_type + \"' message: \", msg);\n",
       "                callback(fig, msg);\n",
       "            } catch (e) {\n",
       "                console.log(\"Exception inside the 'handler_\" + msg_type + \"' callback:\", e, e.stack, msg);\n",
       "            }\n",
       "        }\n",
       "    };\n",
       "}\n",
       "\n",
       "// from http://stackoverflow.com/questions/1114465/getting-mouse-location-in-canvas\n",
       "mpl.findpos = function(e) {\n",
       "    //this section is from http://www.quirksmode.org/js/events_properties.html\n",
       "    var targ;\n",
       "    if (!e)\n",
       "        e = window.event;\n",
       "    if (e.target)\n",
       "        targ = e.target;\n",
       "    else if (e.srcElement)\n",
       "        targ = e.srcElement;\n",
       "    if (targ.nodeType == 3) // defeat Safari bug\n",
       "        targ = targ.parentNode;\n",
       "\n",
       "    // jQuery normalizes the pageX and pageY\n",
       "    // pageX,Y are the mouse positions relative to the document\n",
       "    // offset() returns the position of the element relative to the document\n",
       "    var x = e.pageX - $(targ).offset().left;\n",
       "    var y = e.pageY - $(targ).offset().top;\n",
       "\n",
       "    return {\"x\": x, \"y\": y};\n",
       "};\n",
       "\n",
       "/*\n",
       " * return a copy of an object with only non-object keys\n",
       " * we need this to avoid circular references\n",
       " * http://stackoverflow.com/a/24161582/3208463\n",
       " */\n",
       "function simpleKeys (original) {\n",
       "  return Object.keys(original).reduce(function (obj, key) {\n",
       "    if (typeof original[key] !== 'object')\n",
       "        obj[key] = original[key]\n",
       "    return obj;\n",
       "  }, {});\n",
       "}\n",
       "\n",
       "mpl.figure.prototype.mouse_event = function(event, name) {\n",
       "    var canvas_pos = mpl.findpos(event)\n",
       "\n",
       "    if (name === 'button_press')\n",
       "    {\n",
       "        this.canvas.focus();\n",
       "        this.canvas_div.focus();\n",
       "    }\n",
       "\n",
       "    var x = canvas_pos.x;\n",
       "    var y = canvas_pos.y;\n",
       "\n",
       "    this.send_message(name, {x: x, y: y, button: event.button,\n",
       "                             step: event.step,\n",
       "                             guiEvent: simpleKeys(event)});\n",
       "\n",
       "    /* This prevents the web browser from automatically changing to\n",
       "     * the text insertion cursor when the button is pressed.  We want\n",
       "     * to control all of the cursor setting manually through the\n",
       "     * 'cursor' event from matplotlib */\n",
       "    event.preventDefault();\n",
       "    return false;\n",
       "}\n",
       "\n",
       "mpl.figure.prototype._key_event_extra = function(event, name) {\n",
       "    // Handle any extra behaviour associated with a key event\n",
       "}\n",
       "\n",
       "mpl.figure.prototype.key_event = function(event, name) {\n",
       "\n",
       "    // Prevent repeat events\n",
       "    if (name == 'key_press')\n",
       "    {\n",
       "        if (event.which === this._key)\n",
       "            return;\n",
       "        else\n",
       "            this._key = event.which;\n",
       "    }\n",
       "    if (name == 'key_release')\n",
       "        this._key = null;\n",
       "\n",
       "    var value = '';\n",
       "    if (event.ctrlKey && event.which != 17)\n",
       "        value += \"ctrl+\";\n",
       "    if (event.altKey && event.which != 18)\n",
       "        value += \"alt+\";\n",
       "    if (event.shiftKey && event.which != 16)\n",
       "        value += \"shift+\";\n",
       "\n",
       "    value += 'k';\n",
       "    value += event.which.toString();\n",
       "\n",
       "    this._key_event_extra(event, name);\n",
       "\n",
       "    this.send_message(name, {key: value,\n",
       "                             guiEvent: simpleKeys(event)});\n",
       "    return false;\n",
       "}\n",
       "\n",
       "mpl.figure.prototype.toolbar_button_onclick = function(name) {\n",
       "    if (name == 'download') {\n",
       "        this.handle_save(this, null);\n",
       "    } else {\n",
       "        this.send_message(\"toolbar_button\", {name: name});\n",
       "    }\n",
       "};\n",
       "\n",
       "mpl.figure.prototype.toolbar_button_onmouseover = function(tooltip) {\n",
       "    this.message.textContent = tooltip;\n",
       "};\n",
       "mpl.toolbar_items = [[\"Home\", \"Reset original view\", \"fa fa-home icon-home\", \"home\"], [\"Back\", \"Back to  previous view\", \"fa fa-arrow-left icon-arrow-left\", \"back\"], [\"Forward\", \"Forward to next view\", \"fa fa-arrow-right icon-arrow-right\", \"forward\"], [\"\", \"\", \"\", \"\"], [\"Pan\", \"Pan axes with left mouse, zoom with right\", \"fa fa-arrows icon-move\", \"pan\"], [\"Zoom\", \"Zoom to rectangle\", \"fa fa-square-o icon-check-empty\", \"zoom\"], [\"\", \"\", \"\", \"\"], [\"Download\", \"Download plot\", \"fa fa-floppy-o icon-save\", \"download\"]];\n",
       "\n",
       "mpl.extensions = [\"eps\", \"pdf\", \"png\", \"ps\", \"raw\", \"svg\"];\n",
       "\n",
       "mpl.default_extension = \"png\";var comm_websocket_adapter = function(comm) {\n",
       "    // Create a \"websocket\"-like object which calls the given IPython comm\n",
       "    // object with the appropriate methods. Currently this is a non binary\n",
       "    // socket, so there is still some room for performance tuning.\n",
       "    var ws = {};\n",
       "\n",
       "    ws.close = function() {\n",
       "        comm.close()\n",
       "    };\n",
       "    ws.send = function(m) {\n",
       "        //console.log('sending', m);\n",
       "        comm.send(m);\n",
       "    };\n",
       "    // Register the callback with on_msg.\n",
       "    comm.on_msg(function(msg) {\n",
       "        //console.log('receiving', msg['content']['data'], msg);\n",
       "        // Pass the mpl event to the overriden (by mpl) onmessage function.\n",
       "        ws.onmessage(msg['content']['data'])\n",
       "    });\n",
       "    return ws;\n",
       "}\n",
       "\n",
       "mpl.mpl_figure_comm = function(comm, msg) {\n",
       "    // This is the function which gets called when the mpl process\n",
       "    // starts-up an IPython Comm through the \"matplotlib\" channel.\n",
       "\n",
       "    var id = msg.content.data.id;\n",
       "    // Get hold of the div created by the display call when the Comm\n",
       "    // socket was opened in Python.\n",
       "    var element = $(\"#\" + id);\n",
       "    var ws_proxy = comm_websocket_adapter(comm)\n",
       "\n",
       "    function ondownload(figure, format) {\n",
       "        window.open(figure.imageObj.src);\n",
       "    }\n",
       "\n",
       "    var fig = new mpl.figure(id, ws_proxy,\n",
       "                           ondownload,\n",
       "                           element.get(0));\n",
       "\n",
       "    // Call onopen now - mpl needs it, as it is assuming we've passed it a real\n",
       "    // web socket which is closed, not our websocket->open comm proxy.\n",
       "    ws_proxy.onopen();\n",
       "\n",
       "    fig.parent_element = element.get(0);\n",
       "    fig.cell_info = mpl.find_output_cell(\"<div id='\" + id + \"'></div>\");\n",
       "    if (!fig.cell_info) {\n",
       "        console.error(\"Failed to find cell for figure\", id, fig);\n",
       "        return;\n",
       "    }\n",
       "\n",
       "    var output_index = fig.cell_info[2]\n",
       "    var cell = fig.cell_info[0];\n",
       "\n",
       "};\n",
       "\n",
       "mpl.figure.prototype.handle_close = function(fig, msg) {\n",
       "    fig.root.unbind('remove')\n",
       "\n",
       "    // Update the output cell to use the data from the current canvas.\n",
       "    fig.push_to_output();\n",
       "    var dataURL = fig.canvas.toDataURL();\n",
       "    // Re-enable the keyboard manager in IPython - without this line, in FF,\n",
       "    // the notebook keyboard shortcuts fail.\n",
       "    IPython.keyboard_manager.enable()\n",
       "    $(fig.parent_element).html('<img src=\"' + dataURL + '\">');\n",
       "    fig.close_ws(fig, msg);\n",
       "}\n",
       "\n",
       "mpl.figure.prototype.close_ws = function(fig, msg){\n",
       "    fig.send_message('closing', msg);\n",
       "    // fig.ws.close()\n",
       "}\n",
       "\n",
       "mpl.figure.prototype.push_to_output = function(remove_interactive) {\n",
       "    // Turn the data on the canvas into data in the output cell.\n",
       "    var dataURL = this.canvas.toDataURL();\n",
       "    this.cell_info[1]['text/html'] = '<img src=\"' + dataURL + '\">';\n",
       "}\n",
       "\n",
       "mpl.figure.prototype.updated_canvas_event = function() {\n",
       "    // Tell IPython that the notebook contents must change.\n",
       "    IPython.notebook.set_dirty(true);\n",
       "    this.send_message(\"ack\", {});\n",
       "    var fig = this;\n",
       "    // Wait a second, then push the new image to the DOM so\n",
       "    // that it is saved nicely (might be nice to debounce this).\n",
       "    setTimeout(function () { fig.push_to_output() }, 1000);\n",
       "}\n",
       "\n",
       "mpl.figure.prototype._init_toolbar = function() {\n",
       "    var fig = this;\n",
       "\n",
       "    var nav_element = $('<div/>')\n",
       "    nav_element.attr('style', 'width: 100%');\n",
       "    this.root.append(nav_element);\n",
       "\n",
       "    // Define a callback function for later on.\n",
       "    function toolbar_event(event) {\n",
       "        return fig.toolbar_button_onclick(event['data']);\n",
       "    }\n",
       "    function toolbar_mouse_event(event) {\n",
       "        return fig.toolbar_button_onmouseover(event['data']);\n",
       "    }\n",
       "\n",
       "    for(var toolbar_ind in mpl.toolbar_items){\n",
       "        var name = mpl.toolbar_items[toolbar_ind][0];\n",
       "        var tooltip = mpl.toolbar_items[toolbar_ind][1];\n",
       "        var image = mpl.toolbar_items[toolbar_ind][2];\n",
       "        var method_name = mpl.toolbar_items[toolbar_ind][3];\n",
       "\n",
       "        if (!name) { continue; };\n",
       "\n",
       "        var button = $('<button class=\"btn btn-default\" href=\"#\" title=\"' + name + '\"><i class=\"fa ' + image + ' fa-lg\"></i></button>');\n",
       "        button.click(method_name, toolbar_event);\n",
       "        button.mouseover(tooltip, toolbar_mouse_event);\n",
       "        nav_element.append(button);\n",
       "    }\n",
       "\n",
       "    // Add the status bar.\n",
       "    var status_bar = $('<span class=\"mpl-message\" style=\"text-align:right; float: right;\"/>');\n",
       "    nav_element.append(status_bar);\n",
       "    this.message = status_bar[0];\n",
       "\n",
       "    // Add the close button to the window.\n",
       "    var buttongrp = $('<div class=\"btn-group inline pull-right\"></div>');\n",
       "    var button = $('<button class=\"btn btn-mini btn-primary\" href=\"#\" title=\"Stop Interaction\"><i class=\"fa fa-power-off icon-remove icon-large\"></i></button>');\n",
       "    button.click(function (evt) { fig.handle_close(fig, {}); } );\n",
       "    button.mouseover('Stop Interaction', toolbar_mouse_event);\n",
       "    buttongrp.append(button);\n",
       "    var titlebar = this.root.find($('.ui-dialog-titlebar'));\n",
       "    titlebar.prepend(buttongrp);\n",
       "}\n",
       "\n",
       "mpl.figure.prototype._root_extra_style = function(el){\n",
       "    var fig = this\n",
       "    el.on(\"remove\", function(){\n",
       "\tfig.close_ws(fig, {});\n",
       "    });\n",
       "}\n",
       "\n",
       "mpl.figure.prototype._canvas_extra_style = function(el){\n",
       "    // this is important to make the div 'focusable\n",
       "    el.attr('tabindex', 0)\n",
       "    // reach out to IPython and tell the keyboard manager to turn it's self\n",
       "    // off when our div gets focus\n",
       "\n",
       "    // location in version 3\n",
       "    if (IPython.notebook.keyboard_manager) {\n",
       "        IPython.notebook.keyboard_manager.register_events(el);\n",
       "    }\n",
       "    else {\n",
       "        // location in version 2\n",
       "        IPython.keyboard_manager.register_events(el);\n",
       "    }\n",
       "\n",
       "}\n",
       "\n",
       "mpl.figure.prototype._key_event_extra = function(event, name) {\n",
       "    var manager = IPython.notebook.keyboard_manager;\n",
       "    if (!manager)\n",
       "        manager = IPython.keyboard_manager;\n",
       "\n",
       "    // Check for shift+enter\n",
       "    if (event.shiftKey && event.which == 13) {\n",
       "        this.canvas_div.blur();\n",
       "        event.shiftKey = false;\n",
       "        // Send a \"J\" for go to next cell\n",
       "        event.which = 74;\n",
       "        event.keyCode = 74;\n",
       "        manager.command_mode();\n",
       "        manager.handle_keydown(event);\n",
       "    }\n",
       "}\n",
       "\n",
       "mpl.figure.prototype.handle_save = function(fig, msg) {\n",
       "    fig.ondownload(fig, null);\n",
       "}\n",
       "\n",
       "\n",
       "mpl.find_output_cell = function(html_output) {\n",
       "    // Return the cell and output element which can be found *uniquely* in the notebook.\n",
       "    // Note - this is a bit hacky, but it is done because the \"notebook_saving.Notebook\"\n",
       "    // IPython event is triggered only after the cells have been serialised, which for\n",
       "    // our purposes (turning an active figure into a static one), is too late.\n",
       "    var cells = IPython.notebook.get_cells();\n",
       "    var ncells = cells.length;\n",
       "    for (var i=0; i<ncells; i++) {\n",
       "        var cell = cells[i];\n",
       "        if (cell.cell_type === 'code'){\n",
       "            for (var j=0; j<cell.output_area.outputs.length; j++) {\n",
       "                var data = cell.output_area.outputs[j];\n",
       "                if (data.data) {\n",
       "                    // IPython >= 3 moved mimebundle to data attribute of output\n",
       "                    data = data.data;\n",
       "                }\n",
       "                if (data['text/html'] == html_output) {\n",
       "                    return [cell, data, j];\n",
       "                }\n",
       "            }\n",
       "        }\n",
       "    }\n",
       "}\n",
       "\n",
       "// Register the function which deals with the matplotlib target/channel.\n",
       "// The kernel may be null if the page has been refreshed.\n",
       "if (IPython.notebook.kernel != null) {\n",
       "    IPython.notebook.kernel.comm_manager.register_target('matplotlib', mpl.mpl_figure_comm);\n",
       "}\n"
      ],
      "text/plain": [
       "<IPython.core.display.Javascript object>"
      ]
     },
     "metadata": {},
     "output_type": "display_data"
    },
    {
     "data": {
      "text/html": [
       "<img src=\"data:image/png;base64,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\">"
      ],
      "text/plain": [
       "<IPython.core.display.HTML object>"
      ]
     },
     "metadata": {},
     "output_type": "display_data"
    },
    {
     "ename": "ValueError",
     "evalue": "`dataset` input should have multiple elements.",
     "output_type": "error",
     "traceback": [
      "\u001b[0;31m---------------------------------------------------------------------------\u001b[0m",
      "\u001b[0;31mValueError\u001b[0m                                Traceback (most recent call last)",
      "\u001b[0;32m<ipython-input-47-1f1129652c3d>\u001b[0m in \u001b[0;36m<module>\u001b[0;34m()\u001b[0m\n\u001b[1;32m      5\u001b[0m            \u001b[0mshade\u001b[0m\u001b[0;34m=\u001b[0m\u001b[0;32mTrue\u001b[0m\u001b[0;34m,\u001b[0m\u001b[0;34m\u001b[0m\u001b[0m\n\u001b[1;32m      6\u001b[0m            \u001b[0mcmap\u001b[0m\u001b[0;34m=\u001b[0m\u001b[0;34m'Greys'\u001b[0m\u001b[0;34m,\u001b[0m\u001b[0;34m\u001b[0m\u001b[0m\n\u001b[0;32m----> 7\u001b[0;31m            ax=ax)\n\u001b[0m\u001b[1;32m      8\u001b[0m ax.scatter(clean_extremes.loc[blooms, 'storage'],\n\u001b[1;32m      9\u001b[0m            \u001b[0mclean_extremes\u001b[0m\u001b[0;34m.\u001b[0m\u001b[0mloc\u001b[0m\u001b[0;34m[\u001b[0m\u001b[0mblooms\u001b[0m\u001b[0;34m,\u001b[0m \u001b[0;34m'freeze_thaw'\u001b[0m\u001b[0;34m]\u001b[0m\u001b[0;34m,\u001b[0m\u001b[0;34m\u001b[0m\u001b[0m\n",
      "\u001b[0;32m/Users/jdebelius/miniconda2/envs/bloom/lib/python3.5/site-packages/seaborn/distributions.py\u001b[0m in \u001b[0;36mkdeplot\u001b[0;34m(data, data2, shade, vertical, kernel, bw, gridsize, cut, clip, legend, cumulative, shade_lowest, ax, **kwargs)\u001b[0m\n\u001b[1;32m    598\u001b[0m         ax = _bivariate_kdeplot(x, y, shade, shade_lowest,\n\u001b[1;32m    599\u001b[0m                                 \u001b[0mkernel\u001b[0m\u001b[0;34m,\u001b[0m \u001b[0mbw\u001b[0m\u001b[0;34m,\u001b[0m \u001b[0mgridsize\u001b[0m\u001b[0;34m,\u001b[0m \u001b[0mcut\u001b[0m\u001b[0;34m,\u001b[0m \u001b[0mclip\u001b[0m\u001b[0;34m,\u001b[0m \u001b[0mlegend\u001b[0m\u001b[0;34m,\u001b[0m\u001b[0;34m\u001b[0m\u001b[0m\n\u001b[0;32m--> 600\u001b[0;31m                                 ax, **kwargs)\n\u001b[0m\u001b[1;32m    601\u001b[0m     \u001b[0;32melse\u001b[0m\u001b[0;34m:\u001b[0m\u001b[0;34m\u001b[0m\u001b[0m\n\u001b[1;32m    602\u001b[0m         ax = _univariate_kdeplot(data, shade, vertical, kernel, bw,\n",
      "\u001b[0;32m/Users/jdebelius/miniconda2/envs/bloom/lib/python3.5/site-packages/seaborn/distributions.py\u001b[0m in \u001b[0;36m_bivariate_kdeplot\u001b[0;34m(x, y, filled, fill_lowest, kernel, bw, gridsize, cut, clip, axlabel, ax, **kwargs)\u001b[0m\n\u001b[1;32m    366\u001b[0m         \u001b[0mxx\u001b[0m\u001b[0;34m,\u001b[0m \u001b[0myy\u001b[0m\u001b[0;34m,\u001b[0m \u001b[0mz\u001b[0m \u001b[0;34m=\u001b[0m \u001b[0m_statsmodels_bivariate_kde\u001b[0m\u001b[0;34m(\u001b[0m\u001b[0mx\u001b[0m\u001b[0;34m,\u001b[0m \u001b[0my\u001b[0m\u001b[0;34m,\u001b[0m \u001b[0mbw\u001b[0m\u001b[0;34m,\u001b[0m \u001b[0mgridsize\u001b[0m\u001b[0;34m,\u001b[0m \u001b[0mcut\u001b[0m\u001b[0;34m,\u001b[0m \u001b[0mclip\u001b[0m\u001b[0;34m)\u001b[0m\u001b[0;34m\u001b[0m\u001b[0m\n\u001b[1;32m    367\u001b[0m     \u001b[0;32melse\u001b[0m\u001b[0;34m:\u001b[0m\u001b[0;34m\u001b[0m\u001b[0m\n\u001b[0;32m--> 368\u001b[0;31m         \u001b[0mxx\u001b[0m\u001b[0;34m,\u001b[0m \u001b[0myy\u001b[0m\u001b[0;34m,\u001b[0m \u001b[0mz\u001b[0m \u001b[0;34m=\u001b[0m \u001b[0m_scipy_bivariate_kde\u001b[0m\u001b[0;34m(\u001b[0m\u001b[0mx\u001b[0m\u001b[0;34m,\u001b[0m \u001b[0my\u001b[0m\u001b[0;34m,\u001b[0m \u001b[0mbw\u001b[0m\u001b[0;34m,\u001b[0m \u001b[0mgridsize\u001b[0m\u001b[0;34m,\u001b[0m \u001b[0mcut\u001b[0m\u001b[0;34m,\u001b[0m \u001b[0mclip\u001b[0m\u001b[0;34m)\u001b[0m\u001b[0;34m\u001b[0m\u001b[0m\n\u001b[0m\u001b[1;32m    369\u001b[0m \u001b[0;34m\u001b[0m\u001b[0m\n\u001b[1;32m    370\u001b[0m     \u001b[0;31m# Plot the contours\u001b[0m\u001b[0;34m\u001b[0m\u001b[0;34m\u001b[0m\u001b[0m\n",
      "\u001b[0;32m/Users/jdebelius/miniconda2/envs/bloom/lib/python3.5/site-packages/seaborn/distributions.py\u001b[0m in \u001b[0;36m_scipy_bivariate_kde\u001b[0;34m(x, y, bw, gridsize, cut, clip)\u001b[0m\n\u001b[1;32m    421\u001b[0m     \u001b[0;34m\"\"\"Compute a bivariate kde using scipy.\"\"\"\u001b[0m\u001b[0;34m\u001b[0m\u001b[0m\n\u001b[1;32m    422\u001b[0m     \u001b[0mdata\u001b[0m \u001b[0;34m=\u001b[0m \u001b[0mnp\u001b[0m\u001b[0;34m.\u001b[0m\u001b[0mc_\u001b[0m\u001b[0;34m[\u001b[0m\u001b[0mx\u001b[0m\u001b[0;34m,\u001b[0m \u001b[0my\u001b[0m\u001b[0;34m]\u001b[0m\u001b[0;34m\u001b[0m\u001b[0m\n\u001b[0;32m--> 423\u001b[0;31m     \u001b[0mkde\u001b[0m \u001b[0;34m=\u001b[0m \u001b[0mstats\u001b[0m\u001b[0;34m.\u001b[0m\u001b[0mgaussian_kde\u001b[0m\u001b[0;34m(\u001b[0m\u001b[0mdata\u001b[0m\u001b[0;34m.\u001b[0m\u001b[0mT\u001b[0m\u001b[0;34m)\u001b[0m\u001b[0;34m\u001b[0m\u001b[0m\n\u001b[0m\u001b[1;32m    424\u001b[0m     \u001b[0mdata_std\u001b[0m \u001b[0;34m=\u001b[0m \u001b[0mdata\u001b[0m\u001b[0;34m.\u001b[0m\u001b[0mstd\u001b[0m\u001b[0;34m(\u001b[0m\u001b[0maxis\u001b[0m\u001b[0;34m=\u001b[0m\u001b[0;36m0\u001b[0m\u001b[0;34m,\u001b[0m \u001b[0mddof\u001b[0m\u001b[0;34m=\u001b[0m\u001b[0;36m1\u001b[0m\u001b[0;34m)\u001b[0m\u001b[0;34m\u001b[0m\u001b[0m\n\u001b[1;32m    425\u001b[0m     \u001b[0;32mif\u001b[0m \u001b[0misinstance\u001b[0m\u001b[0;34m(\u001b[0m\u001b[0mbw\u001b[0m\u001b[0;34m,\u001b[0m \u001b[0mstring_types\u001b[0m\u001b[0;34m)\u001b[0m\u001b[0;34m:\u001b[0m\u001b[0;34m\u001b[0m\u001b[0m\n",
      "\u001b[0;32m/Users/jdebelius/miniconda2/envs/bloom/lib/python3.5/site-packages/scipy/stats/kde.py\u001b[0m in \u001b[0;36m__init__\u001b[0;34m(self, dataset, bw_method)\u001b[0m\n\u001b[1;32m    166\u001b[0m         \u001b[0mself\u001b[0m\u001b[0;34m.\u001b[0m\u001b[0mdataset\u001b[0m \u001b[0;34m=\u001b[0m \u001b[0matleast_2d\u001b[0m\u001b[0;34m(\u001b[0m\u001b[0mdataset\u001b[0m\u001b[0;34m)\u001b[0m\u001b[0;34m\u001b[0m\u001b[0m\n\u001b[1;32m    167\u001b[0m         \u001b[0;32mif\u001b[0m \u001b[0;32mnot\u001b[0m \u001b[0mself\u001b[0m\u001b[0;34m.\u001b[0m\u001b[0mdataset\u001b[0m\u001b[0;34m.\u001b[0m\u001b[0msize\u001b[0m \u001b[0;34m>\u001b[0m \u001b[0;36m1\u001b[0m\u001b[0;34m:\u001b[0m\u001b[0;34m\u001b[0m\u001b[0m\n\u001b[0;32m--> 168\u001b[0;31m             \u001b[0;32mraise\u001b[0m \u001b[0mValueError\u001b[0m\u001b[0;34m(\u001b[0m\u001b[0;34m\"`dataset` input should have multiple elements.\"\u001b[0m\u001b[0;34m)\u001b[0m\u001b[0;34m\u001b[0m\u001b[0m\n\u001b[0m\u001b[1;32m    169\u001b[0m \u001b[0;34m\u001b[0m\u001b[0m\n\u001b[1;32m    170\u001b[0m         \u001b[0mself\u001b[0m\u001b[0;34m.\u001b[0m\u001b[0md\u001b[0m\u001b[0;34m,\u001b[0m \u001b[0mself\u001b[0m\u001b[0;34m.\u001b[0m\u001b[0mn\u001b[0m \u001b[0;34m=\u001b[0m \u001b[0mself\u001b[0m\u001b[0;34m.\u001b[0m\u001b[0mdataset\u001b[0m\u001b[0;34m.\u001b[0m\u001b[0mshape\u001b[0m\u001b[0;34m\u001b[0m\u001b[0m\n",
      "\u001b[0;31mValueError\u001b[0m: `dataset` input should have multiple elements."
     ]
    }
   ],
   "source": [
    "ax = plt.axes()\n",
    "fig = ax.figure\n",
    "sn.kdeplot(clean_extremes['storage'],\n",
    "           clean_extremes['freeze_thaw'],\n",
    "           shade=True,\n",
    "           cmap='Greys',\n",
    "           ax=ax)\n",
    "ax.scatter(clean_extremes.loc[blooms, 'storage'],\n",
    "           clean_extremes.loc[blooms, 'freeze_thaw'],\n",
    "           s=80, color=sn.color_palette()[2])\n",
    "# ax.set_xlim([-2, 10])\n",
    "# ax.set_ylim([-5, 6])\n",
    "ax.set_xlabel('max. storage study foldchange (log2)',fontsize=16)\n",
    "ax.set_ylabel('min. AG foldchange (log2)',fontsize=16)\n",
    "ax.tick_params(axis='both', which='major', labelsize=14)\n",
    "plt.tight_layout()"
   ]
  },
  {
   "cell_type": "code",
   "execution_count": 178,
   "metadata": {
    "collapsed": true
   },
   "outputs": [],
   "source": [
    "plt.savefig('../results/fig1-blooming-identification-kde.pdf')"
   ]
  },
  {
   "cell_type": "markdown",
   "metadata": {},
   "source": [
    "## Sort the candidate blooming sOTUs by their storage study fold change\n",
    "We want to order the candidate blooming sOTUs so the more likely/larger effect size bloomers are first.\n",
    "\n",
    "We base the sort order on the storage study maximal fold change, as this approximates the potential for blooming, and the max over different storage times shows the growth in the more optimal conditions for each candidate bloomer (whereas the AG-fresh frozen fold change shows the mean blooming). This way, we give higher priority to sOTUs that can distort the most the frequencies (even if in a small number of samples)."
   ]
  },
  {
   "cell_type": "code",
   "execution_count": null,
   "metadata": {
    "collapsed": false
   },
   "outputs": [],
   "source": [
    "# sort the blooming bacteria according to the maximal storage study fold change\n",
    "sv,si=hs.isort(bloomscores,reverse=True)\n",
    "newbloom=hs.reorder(newbloom,si)\n",
    "bloomtax=hs.reorder(bloomtax,si)\n",
    "bloomscores=hs.reorder(bloomscores,si)"
   ]
  },
  {
   "cell_type": "code",
   "execution_count": null,
   "metadata": {
    "collapsed": false
   },
   "outputs": [],
   "source": [
    "# the sorted list of blooming bacteria\n",
    "for idx,ctax in enumerate(bloomtax):\n",
    "    print('%d : %f %s' % (idx,bloomscores[idx],ctax))"
   ]
  },
  {
   "cell_type": "markdown",
   "metadata": {},
   "source": [
    "## save the bloom sequences"
   ]
  },
  {
   "cell_type": "code",
   "execution_count": null,
   "metadata": {
    "collapsed": false
   },
   "outputs": [],
   "source": [
    "hs.saveseqsfasta(agf,newbloom,'../data/newbloom.all.fa')"
   ]
  },
  {
   "cell_type": "code",
   "execution_count": null,
   "metadata": {
    "collapsed": true
   },
   "outputs": [],
   "source": [
    "hs.saveseqsfasta(agf,newbloom[:8],'../data/newbloom.8.fa')"
   ]
  },
  {
   "cell_type": "markdown",
   "metadata": {},
   "source": [
    "# Plot the taxonomy comparison before and after bloom filtering"
   ]
  },
  {
   "cell_type": "markdown",
   "metadata": {},
   "source": [
    "## prepare the joined experiment"
   ]
  },
  {
   "cell_type": "code",
   "execution_count": null,
   "metadata": {
    "collapsed": true
   },
   "outputs": [],
   "source": [
    "# join AG and PGP\n",
    "allf=hs.joinexperiments(agf,pgpf)"
   ]
  },
  {
   "cell_type": "code",
   "execution_count": null,
   "metadata": {
    "collapsed": false
   },
   "outputs": [],
   "source": [
    "# remove the AG mapping fields (to make it faster)\n",
    "hs.filtermapfields(allf,['origexp'],inplace=True)"
   ]
  },
  {
   "cell_type": "code",
   "execution_count": null,
   "metadata": {
    "collapsed": true
   },
   "outputs": [],
   "source": [
    "# join the UK-Twins\n",
    "allf=hs.joinexperiments(allf,twinsf)"
   ]
  },
  {
   "cell_type": "code",
   "execution_count": null,
   "metadata": {
    "collapsed": true
   },
   "outputs": [],
   "source": [
    "# and join the Whole grain feces\n",
    "allf=hs.joinexperiments(allf,ercf)"
   ]
  },
  {
   "cell_type": "code",
   "execution_count": null,
   "metadata": {
    "collapsed": false
   },
   "outputs": [],
   "source": [
    "# remove all mapping fields except 'origexp' (the original study) (to make it faster)\n",
    "hs.filtermapfields(allf,['origexp'],inplace=True)"
   ]
  },
  {
   "cell_type": "markdown",
   "metadata": {},
   "source": [
    "## Plot the pre-filtered taxonomy plot"
   ]
  },
  {
   "cell_type": "code",
   "execution_count": null,
   "metadata": {
    "collapsed": false
   },
   "outputs": [],
   "source": [
    "# collapes the samples to one per study (using mean value for each sOTU)\n",
    "allfpre=hs.filtersimilarsamples(allf,'origexp',method='mean')"
   ]
  },
  {
   "cell_type": "code",
   "execution_count": null,
   "metadata": {
    "collapsed": true
   },
   "outputs": [],
   "source": [
    "# sort by original experiment\n",
    "allfpre=hs.sortsamples(allfpre,'origexp')"
   ]
  },
  {
   "cell_type": "code",
   "execution_count": null,
   "metadata": {
    "collapsed": false
   },
   "outputs": [],
   "source": [
    "hs.getfieldvals(allfpre,'origexp')"
   ]
  },
  {
   "cell_type": "code",
   "execution_count": null,
   "metadata": {
    "collapsed": true
   },
   "outputs": [],
   "source": [
    "# give nices names to the experiment (for the plot)\n",
    "hs.addfield(allfpre,'expname',['AG-pre','EWF-pre','PGP-pre','UKTwins-pre'])"
   ]
  },
  {
   "cell_type": "code",
   "execution_count": null,
   "metadata": {
    "collapsed": true
   },
   "outputs": [],
   "source": [
    "sn.set_style(\"white\")"
   ]
  },
  {
   "cell_type": "code",
   "execution_count": null,
   "metadata": {
    "collapsed": false
   },
   "outputs": [],
   "source": [
    "# plot the taxonomy bar graph (normalized to 100% per study)\n",
    "taxlist=hs.plottaxonomybar(allfpre,sortfield='expname',showlegend=False,showxlabels=True,rotation=0,sumone=True)"
   ]
  },
  {
   "cell_type": "code",
   "execution_count": null,
   "metadata": {
    "collapsed": false
   },
   "outputs": [],
   "source": [
    "plt.savefig('../results/fig2C_taxonomy-4exp-nofiltering.pdf')"
   ]
  },
  {
   "cell_type": "markdown",
   "metadata": {},
   "source": [
    "## plot the post-filtering taxonomy plot"
   ]
  },
  {
   "cell_type": "code",
   "execution_count": null,
   "metadata": {
    "collapsed": true
   },
   "outputs": [],
   "source": [
    "# filter the 8 blooming bacteria\n",
    "allfpost=hs.filterseqs(allf,newbloom[:8],exclude=True)"
   ]
  },
  {
   "cell_type": "code",
   "execution_count": null,
   "metadata": {
    "collapsed": false
   },
   "outputs": [],
   "source": [
    "# collapes the samples to one per study (using mean value for each sOTU)\n",
    "allfpost=hs.filtersimilarsamples(allfpost,'origexp',method='mean')"
   ]
  },
  {
   "cell_type": "code",
   "execution_count": null,
   "metadata": {
    "collapsed": true
   },
   "outputs": [],
   "source": [
    "# sort by original experiment\n",
    "allfpost=hs.sortsamples(allfpost,'origexp')"
   ]
  },
  {
   "cell_type": "code",
   "execution_count": null,
   "metadata": {
    "collapsed": false
   },
   "outputs": [],
   "source": [
    "hs.getfieldvals(allfpost,'origexp')"
   ]
  },
  {
   "cell_type": "code",
   "execution_count": null,
   "metadata": {
    "collapsed": true
   },
   "outputs": [],
   "source": [
    "# give nices names to the experiment (for the plot)\n",
    "hs.addfield(allfpost,'expname',['AG-post','EWF-post','PGP-post','UKTwins-post'])"
   ]
  },
  {
   "cell_type": "code",
   "execution_count": null,
   "metadata": {
    "collapsed": false
   },
   "outputs": [],
   "source": [
    "sn.set_style(\"white\",{'legend.frameon':True})\n",
    "sn.set_context(\"notebook\")"
   ]
  },
  {
   "cell_type": "code",
   "execution_count": null,
   "metadata": {
    "collapsed": false
   },
   "outputs": [],
   "source": [
    "# plot the taxonomy bar graph (normalized to 100% per study). Use same phylum order as previous taxonomy plot\n",
    "hs.plottaxonomybar(allfpost,sortfield='expname',showlegend=False,showxlabels=True,rotation=0,sumone=True,taxorder=taxlist.tax)"
   ]
  },
  {
   "cell_type": "code",
   "execution_count": null,
   "metadata": {
    "collapsed": true
   },
   "outputs": [],
   "source": [
    "plt.savefig('../results/fig2C_taxonomy-4exp-withfiltering-8.pdf')"
   ]
  },
  {
   "cell_type": "markdown",
   "metadata": {},
   "source": [
    "## and for the legend"
   ]
  },
  {
   "cell_type": "code",
   "execution_count": null,
   "metadata": {
    "collapsed": false
   },
   "outputs": [],
   "source": [
    "# plot with legend (we just cut out the legend in the figure)\n",
    "hs.plottaxonomybar(allfpre,sortfield='expname',showlegend=True,showxlabels=True,rotation=0,sumone=True)"
   ]
  },
  {
   "cell_type": "code",
   "execution_count": null,
   "metadata": {
    "collapsed": true
   },
   "outputs": [],
   "source": [
    "plt.savefig('../results/fig2C_taxonomy-4exp-forlegend.pdf')"
   ]
  },
  {
   "cell_type": "markdown",
   "metadata": {
    "collapsed": true
   },
   "source": [
    "In conclusion, we can take advantage of the microbes identified to be blooming in previous studies, combined with comparison between shipped and fresh frozen samples, to identify candidate taxa that bloom in storage conditions in the American Gut project.\n",
    "\n",
    "An advantage of performing such analysis on a sub-OTU level (i.e. the output of the Deblur algorithm), is that we can identify and remove the exact blooming bacterial sequences, whereas using traditional OTU based methods would require removal of the blooming bacteria and all close sequences, which can lead to much higher numbers of bacteria removed.\n",
    "\n",
    "Note that choosing the number of candidate blooming bacteria to remove is a type-1/type-2 balance. Removal of more bacteria will reduce the effect of shipment, at the cost of losing more bacteria for analysis.\n",
    "\n",
    "While all bacteria may change during shipment, it seems only a small number of them exhibit a drastic growth. By removal of as little as the top 8 blooming bacteria, we can greatly reduce the effect of shipment. This leads to a great reduction in the noise within American Gut samples (since not all samples are undergo the same shipment conditions/duration), as well as enable comparison to other, fresh frozen studies.\n"
   ]
  },
  {
   "cell_type": "markdown",
   "metadata": {
    "collapsed": true
   },
   "source": [
    "# References\n",
    "<ol><li><a id='1'></a>Song, S.J., Amir, A.; Metcalf, J.L.; Amato, K.R.; Xu, Z.Z.; Humphrey, G.; Knight, R. (2016). \"<a href=\"http://msystems.asm.org/content/1/3/e00021-16\">Preservation Methods Differ in Fecal Microbiome Stability, Affecting Suitability for Field Studies</a>. <em>mSystems</em>. 1: e00021-16\n",
    "</li><li><a id=\"2\"></a>Sinha, R.; Chen, J.; Amir, A,; Vogtmann, E.; Shi, J.; Inman, K.S.; Flores, R.; Sampson, J.; Knight, R.; Chia, N. (2016) \"<a href=\"https://www.ncbi.nlm.nih.gov/pubmed/26604270\">Collecting fecal samples for microbiome analyses in epidemiology studies.</a>\" <em>Cancer Epidemiol Biomarkers Prev</em> 25: 407-416.\n",
    "</li><li><a id=\"3\"></a>Goodrich, J.K.; Waters, J.L.; Poole, A.C.; Sutter, J.L.; Blekhman, R.; Beaumont, M.; Van Treuren, W.; Knight, R.; Bell, J.T.; Spector, T.D.; Clark, A.G.; Ley, R.E. (2014). \"<a href=\"https://www.ncbi.nlm.nih.gov/pubmed/25417156\">Human genetics shape the gut microbiome</a>.\" <em>Cell</em>. 159: 789-799.\n",
    "</li><li><a id=\"4\"></a>Vitaglione, P.; Mennella, I.; Ferracane, R.; Rivellese, A.A.; Giacco, R.; Ercolini, D.; Gibbons, S.; La Storia, A.; Gilbert, J.A.; Jonnalagadda, S.; Thielecke, F.; Galo, M.A.; Scalfi, L.; Fogliano, V. (2015). \"<a href=\"https://www.ncbi.nlm.nih.gov/pubmed/25646321\">Whole-grain wheat consumption reduces inflammation in a randomized controlled trial on overweight and obese subjects with unhealthy dietary and lifestyle behaviors: role of polyphenols bound to cereal dietary fiber</a>.\" <em>Am J Clin Nutr</em> 101: 251-261.\n",
    "</li><li><a id=\"5\"></a>Mandal, S.; Van Treuren, W.; White, R.A.; Eggesbo, M.; Knight, R.; Peddada, S.D (2015) \"<a href=\"https://www.ncbi.nlm.nih.gov/pubmed/26028277\">Analysis of composition of microbiomes: a novel method for studying microbial composition</a>.\" <em>Microb Ecol Health Dis</em> 29:27663.\n",
    "</li></ol>"
   ]
  },
  {
   "cell_type": "code",
   "execution_count": null,
   "metadata": {
    "collapsed": true
   },
   "outputs": [],
   "source": []
  }
 ],
 "metadata": {
  "anaconda-cloud": {},
  "kernelspec": {
   "display_name": "Python [conda env:bloom]",
   "language": "python",
   "name": "conda-env-bloom-py"
  },
  "language_info": {
   "codemirror_mode": {
    "name": "ipython",
    "version": 3
   },
   "file_extension": ".py",
   "mimetype": "text/x-python",
   "name": "python",
   "nbconvert_exporter": "python",
   "pygments_lexer": "ipython3",
   "version": "3.5.2"
  }
 },
 "nbformat": 4,
 "nbformat_minor": 0
}
