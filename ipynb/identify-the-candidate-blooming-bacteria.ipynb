{
 "cells": [
  {
   "cell_type": "markdown",
   "metadata": {},
   "source": [
    "# Identify the candidate blooming bacteria\n",
    "\n",
    "The goal of this notebook is to identify candidate bacteria which bloom under shipping conditions. We identified cadnidates in two parts: first, we looked for bacteria which grew at room temperature in storage studies. We also looked at shipped American Gut samples and compared them to fresh frozen fecal samples. We used the combined technique because the storage studies were limited by size, while the comparison between studies is noisy.\n",
    "\n",
    "Briefly, this process will involve the following steps:\n",
    "\n",
    "1. Load the datasets (Mayo and Se-Jin storage studies and AG, PGP, UK-Twins and Whole grain feces)\n",
    "2. Calculate the fold change per sOTU in the storage studies\n",
    "3. Calculate the fold change in AG compared to fresh frozen studies (PGP, UK-Twins and Whole grain feces)\n",
    "4. Identify candidate blooming bacteria by combining the fold changes in 2,3\n",
    "5. Plot the scatter of the fold change per sOTU with highlighting the candidate blooming bacteria\n",
    "6. Plot taxonomy plots before and after bloom filtering\n",
    "\n",
    "Let's start by loading the necessary python functions. "
   ]
  },
  {
   "cell_type": "code",
   "execution_count": 1,
   "metadata": {
    "collapsed": false,
    "scrolled": false
   },
   "outputs": [],
   "source": [
    "import hashlib\n",
    "\n",
    "import matplotlib as mpl\n",
    "mpl.use('Agg')\n",
    "\n",
    "# load modules used in the analysis\n",
    "import biom\n",
    "import matplotlib.pyplot as plt\n",
    "import numpy as np\n",
    "import pandas as pd\n",
    "import seaborn as sn\n",
    "import skbio\n",
    "from skbio.stats.composition import ancom, closure\n",
    "\n",
    "# plots inside the notebook\n",
    "%matplotlib notebook\n",
    "\n",
    "# set the random seed\n",
    "np.random.seed(2016)"
   ]
  },
  {
   "cell_type": "code",
   "execution_count": 63,
   "metadata": {
    "collapsed": true
   },
   "outputs": [],
   "source": [
    "import pandas as pd\n",
    "import numpy as np\n",
    "\n",
    "def exploding_panda(_bt):\n",
    "    \"\"\"BIOM->Pandas dataframe converter\n",
    "\n",
    "    Parameters\n",
    "    ----------\n",
    "    _bt : biom.Table\n",
    "        BIOM table\n",
    "\n",
    "    Returns\n",
    "    -------\n",
    "    pandas.DataFrame\n",
    "        The BIOM table converted into a DataFrame\n",
    "        object.\n",
    "\n",
    "    References\n",
    "    ----------\n",
    "    Based on this answer on SO:\n",
    "    http://stackoverflow.com/a/17819427/379593\n",
    "    \"\"\"\n",
    "    m = _bt.matrix_data\n",
    "    data = [pd.SparseSeries(m[i].toarray().ravel()) for i in np.arange(m.shape[0])]\n",
    "    out = pd.SparseDataFrame(data, index=_bt.ids('observation'),\n",
    "                             columns=_bt.ids('sample'))\n",
    "\n",
    "    return out"
   ]
  },
  {
   "cell_type": "markdown",
   "metadata": {},
   "source": [
    "# Loading all experimental data"
   ]
  },
  {
   "cell_type": "markdown",
   "metadata": {},
   "source": [
    "We'll write a quick function to load the data. We'll load the biom table (`biom_fp`). We'll load the specified metadata columns (`meta_fp` and `keep_columns`). Then, we'll filter the data to include only samples with at least 1000 counts/sample (`depth`) and that fit the filtering criteria (`filters`). Finally, we'll add information about the study and preservation method to make later analysis easier."
   ]
  },
  {
   "cell_type": "code",
   "execution_count": 2,
   "metadata": {
    "collapsed": true
   },
   "outputs": [],
   "source": [
    "def load_studies(biom_fp, meta_fp, name, preservation, keep_columns=None, \n",
    "                 filters={}, depth=1000):\n",
    "    \"\"\"Loads the studies more easily\"\"\"\n",
    "    # Loads the mapping file\n",
    "    if keep_columns == None:\n",
    "        meta = pd.read_csv(meta_fp, sep='\\t', dtype=str)\n",
    "    else:\n",
    "        meta = pd.read_csv(meta_fp, sep='\\t', dtype=str, usecols=keep_columns)\n",
    "    meta.set_index('#SampleID', inplace=True)\n",
    "    \n",
    "    # Loads the biom table\n",
    "    sotu = biom.load_table(biom_fp)\n",
    "\n",
    "    # We'll first filter the table by sequencing depth\n",
    "    sotu = sotu.filter(lambda val, id_, md: val.sum() > depth, axis='sample')\n",
    "    meta = meta.loc[sotu.ids(axis='sample')]\n",
    "    \n",
    "    # Filters the samples\n",
    "    def filter_meta(x):\n",
    "        return np.all([x[k] == v for k, v in filters.items()])\n",
    "    \n",
    "    meta_f = meta.loc[meta.apply(filter_meta, axis=1)].copy()\n",
    "    meta_f['STUDY'] = name\n",
    "    meta_f['PRESERVATION'] = preservation\n",
    "    sotu_f = sotu.filter(meta_f.index)\n",
    "    \n",
    "    return meta_f, sotu_f"
   ]
  },
  {
   "cell_type": "markdown",
   "metadata": {},
   "source": [
    "## Song fecal stability study\n",
    "\n",
    "The Song fecal stability study [[1](#1)] compares the stability of human and dog fecal samples under a variety of storage conditions.\n",
    "\n",
    "We will only use samples with no preservative stored at ambient temperature for 7, 14 and 28 days (compared to samples sequenced at day 0)."
   ]
  },
  {
   "cell_type": "code",
   "execution_count": 3,
   "metadata": {
    "collapsed": false
   },
   "outputs": [],
   "source": [
    "song_meta, song_sotu = load_studies(\n",
    "    biom_fp = '../data/storage.sejin.clean.withtax.biom',\n",
    "    meta_fp = '../data/map.storage.sejin.txt',\n",
    "    name='SONG',\n",
    "    preservation='STORAGE',\n",
    "    keep_columns=['#SampleID', 'preservative', 'temperature', 'temp2', 'species', \n",
    "                  'time_numeric', 'subject'],\n",
    "    filters={'preservative': 'None',\n",
    "             'temperature': 'amb',\n",
    "             'species': 'human'},\n",
    "    )"
   ]
  },
  {
   "cell_type": "markdown",
   "metadata": {},
   "source": [
    "The sample is filtered to only include perservative-free samples stored at room temperature. These include samples collected at day 0 and immediately sequenced, which we use as a reference. We will only use samples with at least 1000 sequences."
   ]
  },
  {
   "cell_type": "markdown",
   "metadata": {},
   "source": [
    "## Mayo fecal stability study"
   ]
  },
  {
   "cell_type": "markdown",
   "metadata": {},
   "source": [
    "The Mayo fecal stability study [[2](#2)] compares the effect of different storage conditions on human fecal samples. Samples were stored at room temperature with or without perservatives. We'll only look at samples without perservative."
   ]
  },
  {
   "cell_type": "code",
   "execution_count": 4,
   "metadata": {
    "collapsed": false
   },
   "outputs": [],
   "source": [
    "mayo_meta, mayo_sotu = load_studies(\n",
    "    biom_fp = '../data/mayo.new.min10.clean.withtax.biom',\n",
    "    meta_fp = '../data/map.mayo1.txt',\n",
    "    name='MAYO_STORAGE',\n",
    "    preservation='STORAGE',\n",
    "    filters={'TREATMENT': 'No Additive'},\n",
    "    )"
   ]
  },
  {
   "cell_type": "markdown",
   "metadata": {},
   "source": [
    "## American Gut\n",
    "\n",
    "The [American Gut Project](<http://www.americangut.org>) is a cross sectional study. Samples were shipped through local post without perservatives. We will use only fecal samples with at least 1000 sequences per sample."
   ]
  },
  {
   "cell_type": "code",
   "execution_count": 8,
   "metadata": {
    "collapsed": false
   },
   "outputs": [],
   "source": [
    "agp_meta, agp_sotu = load_studies(biom_fp='../data/ag.qiita-10317.biom',\n",
    "                                  meta_fp='../data/ag.qiita-10317.txt',\n",
    "                                  name='AGP',\n",
    "                                  preservation='NONE',\n",
    "                                  keep_columns=['BODY_HABITAT', '#SampleID'],\n",
    "                                  filters={'BODY_HABITAT': 'UBERON:feces'}\n",
    "                                  )"
   ]
  },
  {
   "cell_type": "markdown",
   "metadata": {},
   "source": [
    "## UK twins study\n",
    "\n",
    "We'll use data from Goodrich et al [[3](#3)], a fresh frozen study comparing the heritability of the microbiome in monozygotic and dizygotic twins."
   ]
  },
  {
   "cell_type": "code",
   "execution_count": 9,
   "metadata": {
    "collapsed": false
   },
   "outputs": [],
   "source": [
    "twin_meta, twin_sotu = load_studies(biom_fp='../data/twins.qiita-2014.biom',\n",
    "                                meta_fp='../data/twins.qiita-2014.txt',\n",
    "                                name='UK_TWINS',\n",
    "                                preservation='FRESH_FROZEN',\n",
    "                                keep_columns=['env_matter', '#SampleID'],\n",
    "                                filters={'env_matter': 'ENVO:feces'}\n",
    "                                )"
   ]
  },
  {
   "cell_type": "markdown",
   "metadata": {},
   "source": [
    "## PGP\n",
    "\n",
    "(unpublished), Qiita study ID [1189](<https://qiita.ucsd.edu/study/description/1189>)\n",
    "\n",
    "Samples were collected from participants in the Personal Genome Project and fresh frozen. The study has not yet been published, but data is avaliable in [Qiita study 1189](<https://qiita.ucsd.edu/study/description/1189>). The study contains fecal, oral and skin samples. We'll use only the fecal samples.\n"
   ]
  },
  {
   "cell_type": "code",
   "execution_count": 12,
   "metadata": {
    "collapsed": false
   },
   "outputs": [],
   "source": [
    "pgp_meta, pgp_sotu = load_studies(biom_fp='../data/pgp.qiita-1189.biom',\n",
    "                                  meta_fp='../data/pgp.qiita-1189.txt',\n",
    "                                  name='PGP',\n",
    "                                  preservation='FRESH_FROZEN',\n",
    "                                  keep_columns=['#SampleID', 'body_product'],\n",
    "                                  filters={'body_product': 'UBERON:feces'}\n",
    "                                  )"
   ]
  },
  {
   "cell_type": "markdown",
   "metadata": {},
   "source": [
    "## Ercolini whole grain feces\n",
    "\n",
    "This study [[4](#4)] contains fecal samples from 80 healthy overweight/obese subjects, part of which undergoing whole grain wheat dietery intervention."
   ]
  },
  {
   "cell_type": "code",
   "execution_count": 13,
   "metadata": {
    "collapsed": false
   },
   "outputs": [],
   "source": [
    "erc_meta, erc_sotu = load_studies(biom_fp='../data/erc.qiita-1481.biom',\n",
    "                                  meta_fp='../data/erc.qiita-1481.txt',\n",
    "                                  name='ERC',\n",
    "                                  preservation='FRESH_FROZEN',\n",
    "                                  keep_columns=['env_matter', '#SampleID'],\n",
    "                                  filters={'env_matter': 'ENVO:feces'}\n",
    "                                  )"
   ]
  },
  {
   "cell_type": "markdown",
   "metadata": {},
   "source": [
    "# Sequence Lookup\n",
    "\n",
    "To better faciliate analysis and combination, we're going to create a sequence hash that can be used for comparison later. The Song fecal stability study "
   ]
  },
  {
   "cell_type": "markdown",
   "metadata": {},
   "source": [
    "# Analysis"
   ]
  },
  {
   "cell_type": "markdown",
   "metadata": {},
   "source": [
    "## Calculate growth for bacteria in storage studies\n",
    "For each sOTU, calculate the mean fold change over all individuals, using a minimal read cutoff of 5 reads/sample to reduce effect of discretization and multinomial sampling of low frequency sOTUs.\n",
    "\n",
    "Let's start by defining the function we'll use to calculate these fold differences. We'll take a map and subOTU table for a storage study. We assume that this study includes multiple samples from the same individual (designated by the `subject` column). We can compare the difference between timepoints (identied as the values of `time0` and `time1` and found in the `time_col`). Additional filters to select the sames, such as the perservative or storage temperature can be specified as well, using `filters`. The minimum sequencing depth for a sample to be considered is set as `seq_depth`, while the minimum number of counts for an OTU to be compared is `min_count`.\n",
    "\n",
    "The function will calculate the mean fold change in sOTUs of interest between the two time points for all OTUs which have at least hte minimum number of counts either before or after storage."
   ]
  },
  {
   "cell_type": "code",
   "execution_count": 14,
   "metadata": {
    "collapsed": true
   },
   "outputs": [],
   "source": [
    "def test_stability(map_, otu_, time_col='time_numeric', time0='1', time1='2', \n",
    "                   subject_col='subject', mincount=5, seq_depth=2500, filters={}):\n",
    "    \"\"\"Calculates the fold change in a sub OTU between timepoints\n",
    "    \n",
    "    Parameters\n",
    "    ----------\n",
    "    map_ : DataFrame\n",
    "        The mapping file for the study. Must contain the columns\n",
    "    \"\"\"\n",
    "    # Filters out samples without at least the minimum number of sequences\n",
    "    \n",
    "    \n",
    "    # Filters out sOTUs without at least 0 sequences/sample\n",
    "    \n",
    "    # Sets up a filter for the mapping file to get the appropriate data.\n",
    "    def stability_filter(x):\n",
    "        return ((x[time_col] in {time0, time1}) &\n",
    "                (np.all([x[c] == v for c, v in filters.items()]))\n",
    "                )\n",
    "    \n",
    "    # Filters the mapping file and otu table\n",
    "    map_ = map_.loc[map_.apply(stability_filter, axis=1)].copy()\n",
    "    otu_ = otu_.filter(map_.index, inplace=False)\n",
    "    otu_ = otu_.filter(lambda val, id_, md: (val.sum() > 0), axis='observation')\n",
    "    \n",
    "    otu_ids = otu_.ids('observation')\n",
    "    ratios = []\n",
    "    subjects = []\n",
    "    # Groups by subject and iterates through the comparison\n",
    "    for hsi, sub_map in map_.groupby(subject_col):\n",
    "        # Gets the list of samples at each time point\n",
    "        id0 = set(sub_map.index[sub_map[time_col] == time0])\n",
    "        id1 = set(sub_map.index[sub_map[time_col] == time1])\n",
    "        \n",
    "        # If there aren't samples for each timepoint, continue\n",
    "        if ((len(id0) == 0) or (len(id1) == 0)):\n",
    "            continue\n",
    "        \n",
    "        # Gets the OTU data\n",
    "        sotus0 = otu_.filter(id0, inplace=False).sum(axis='observation') / len(id0)\n",
    "        sotus1 = otu_.filter(id1, inplace=False).sum(axis='observation') / len(id1)\n",
    "\n",
    "        low = (sotus0 < mincount) & (sotus1 < mincount)\n",
    "\n",
    "        sotus0[sotus0 < mincount] = mincount\n",
    "        sotus1[sotus1 < mincount] = mincount\n",
    "\n",
    "        ratio = sotus1 / sotus0\n",
    "        ratio[low] = np.nan\n",
    "        ratios.append(ratio)\n",
    "        subjects.append(hsi)\n",
    "    \n",
    "    # Gets the list of ratios exlcuding any otu which doesnt meet the filtering criteria\n",
    "    ratios = pd.DataFrame(np.vstack(ratios), index=subjects, columns=otu_ids)\n",
    "    ratios.dropna(1, inplace=True, how='all')\n",
    "\n",
    "    # Calculate the mean fold change and the log fold change\n",
    "    fc = pd.Series(np.nanmean(ratios, 0), index=ratios.columns)\n",
    "    \n",
    "    return fc"
   ]
  },
  {
   "cell_type": "markdown",
   "metadata": {},
   "source": [
    "We'll also generate a pretty histogram plot showing the comparison. This will take the fold change values and return a maplotlib axis with a plot. "
   ]
  },
  {
   "cell_type": "code",
   "execution_count": 15,
   "metadata": {
    "collapsed": true
   },
   "outputs": [],
   "source": [
    "def plot_logfoldchange_histogram(foldchange, fig=None, ax=None):\n",
    "    \"\"\"Makes a pretty histogram of the fold change\"\"\"\n",
    "    if fig is None:\n",
    "        fig = plt.figure()\n",
    "    if ax is None:\n",
    "        ax = plt.axes()\n",
    "    # Constant limits and bins facilitate comparisons\n",
    "    sn.distplot(np.log2(foldchange.dropna()), ax=ax, bins=np.linspace(-12, 12, 120))\n",
    "    ax.set_xlim([-12, 12])\n",
    "    ax.set_ylim([0, 1])\n",
    "    # Sets up axis labels\n",
    "    ax.set_ylabel('Number of OTUs', size=24)\n",
    "    ax.set_xlabel('log$_{2}$(fold change)', size=24)\n",
    "    ax.tick_params(axis='both', which='major', labelsize=24)\n",
    "    plt.tight_layout()\n",
    "    \n",
    "    return fig"
   ]
  },
  {
   "cell_type": "markdown",
   "metadata": {},
   "source": [
    "We'll look at the fold change in the mayo stability study. We'll compare the samples from day 0 to day 1 and day 4."
   ]
  },
  {
   "cell_type": "code",
   "execution_count": 257,
   "metadata": {
    "collapsed": false
   },
   "outputs": [],
   "source": [
    "mayo_fc  = pd.DataFrame(\n",
    "    data=[test_stability(mayo_meta, mayo_sotu, \n",
    "                         time_col='SAMPLE_VISIT', \n",
    "                         subject_col='HOST_SUBJECT_ID',\n",
    "                         time0='Day 0', \n",
    "                         time1 = 'Day %i' % day) for day in [1, 4]],\n",
    "    index=['Day 1', 'Day 4']\n",
    "    ).T"
   ]
  },
  {
   "cell_type": "markdown",
   "metadata": {},
   "source": [
    "Let's also look at the change between day 0 and day 1 in the same study."
   ]
  },
  {
   "cell_type": "raw",
   "metadata": {
    "collapsed": false
   },
   "source": [
    "# mayo 1 days\n",
    "mayo1_fig = plot_logfoldchange_histogram(mayo_fc['Day 1'])\n",
    "mayo1_fig.savefig('../results/fig1-hist-mayo-1-0.pdf')\n",
    "\n",
    "# Let's look at the difference between day 0 and day 4 in samples from the Mayo Stability study.\n",
    "\n",
    "# mayo 4 days\n",
    "mayo4_fig = plot_logfoldchange_histogram(mayo_fc['Day 4'])\n",
    "\n",
    "mayo4_fig.savefig('../results/fig1-hist-mayo-4-0.pdf')"
   ]
  },
  {
   "cell_type": "markdown",
   "metadata": {},
   "source": [
    "We'll also look at the Song stability study, comparing fresh samples to those stored for one, two, and seven weeks."
   ]
  },
  {
   "cell_type": "code",
   "execution_count": 258,
   "metadata": {
    "collapsed": true
   },
   "outputs": [],
   "source": [
    "song_fc  = pd.DataFrame(\n",
    "    data=[test_stability(song_meta, song_sotu, \n",
    "                         time0='1', \n",
    "                         time1 = '%i' % day) for day in [2, 3, 4]],\n",
    "    index=['Week 1', 'Week 2', 'Week 7']\n",
    "    ).T"
   ]
  },
  {
   "cell_type": "raw",
   "metadata": {
    "collapsed": false,
    "scrolled": false
   },
   "source": [
    "sj7fc_fig = plot_logfoldchange_histogram(song_fc['Week 1'])\n",
    "sj7fc_fig.savefig('../results/fig1-hist-sejin-7-0.pdf')\n",
    "\n",
    "sj14fc_fig = plot_logfoldchange_histogram(song_fc['Week 2'])\n",
    "sj14fc_fig.savefig('../results/fig1-hist-sejin-14-0.pdf')\n",
    "\n",
    "# se jin 4 weeks\n",
    "sj28fc_fig = plot_logfoldchange_histogram(song_fc['Week 7'])\n",
    "sj28fc_fig.savefig('../results/fig1-hist-sejin-28-0.pdf')"
   ]
  },
  {
   "cell_type": "markdown",
   "metadata": {},
   "source": [
    "## Differential Expression\n",
    "We'll next look at how American Gut, the shipped study, looks in comparison to the fresh frozen studies.\n",
    "\n",
    "So, we'll join all the cross sectional studies together and find sOTUs which differ significantly.\n",
    "Join all studies together and find sOTUs sginificantly higher/lower in AG"
   ]
  },
  {
   "cell_type": "code",
   "execution_count": 259,
   "metadata": {
    "collapsed": true
   },
   "outputs": [],
   "source": [
    "# Combines the metadata\n",
    "fec_meta = pd.concat([pgp_meta[['STUDY', 'PRESERVATION']], \n",
    "                      twin_meta[['STUDY', 'PRESERVATION']], \n",
    "                      agp_meta[['STUDY', 'PRESERVATION']], \n",
    "                      erc_meta[['STUDY', 'PRESERVATION']]])"
   ]
  },
  {
   "cell_type": "code",
   "execution_count": 260,
   "metadata": {
    "collapsed": false
   },
   "outputs": [],
   "source": [
    "# Combines the sOTU tables\n",
    "fec_sotu = pgp_sotu.merge(twin_sotu).merge(agp_sotu).merge(erc_sotu)"
   ]
  },
  {
   "cell_type": "markdown",
   "metadata": {},
   "source": [
    "# ------- REMOVE THESE CELLS --------"
   ]
  },
  {
   "cell_type": "code",
   "execution_count": 144,
   "metadata": {
    "collapsed": false
   },
   "outputs": [],
   "source": [
    "keep_ids = np.hstack(\n",
    "    [np.random.choice(fec_meta.loc[fec_meta['STUDY'] == study].index, 25, replace=False)\n",
    "     for study in fec_meta['STUDY'].unique()]\n",
    "    )\n",
    "fec_meta = fec_meta.loc[keep_ids].copy()\n",
    "fec_sotu = fec_sotu.filter(keep_ids, axis='sample')"
   ]
  },
  {
   "cell_type": "markdown",
   "metadata": {},
   "source": [
    "# -------------------------------------------"
   ]
  },
  {
   "cell_type": "markdown",
   "metadata": {},
   "source": [
    "Once we combine the studies, we'll filter out any OTU present in less than "
   ]
  },
  {
   "cell_type": "code",
   "execution_count": 145,
   "metadata": {
    "collapsed": true
   },
   "outputs": [],
   "source": [
    "fec_sotu = fec_sotu.filter(lambda val, id_, md: val.sum() > 50, axis='observation', inplace=False)"
   ]
  },
  {
   "cell_type": "markdown",
   "metadata": {},
   "source": [
    "We'll use ANCOM [[5](#5)] to analyze the differential abundance between the fresh frozen and unpreserved studies, and then use this to calculate a fold change. We'll start by casting our sOTU tables to a dataframe, which will give us some more flexibility for the operations we need to do."
   ]
  },
  {
   "cell_type": "code",
   "execution_count": 185,
   "metadata": {
    "collapsed": true
   },
   "outputs": [],
   "source": [
    "fec_sotu = exploding_panda(fec_sotu).to_dense()"
   ]
  },
  {
   "cell_type": "code",
   "execution_count": 186,
   "metadata": {
    "collapsed": false
   },
   "outputs": [],
   "source": [
    "fec_sotu.reset_index(inplace=True)"
   ]
  },
  {
   "cell_type": "markdown",
   "metadata": {},
   "source": [
    "To make handling the data easier, we'll build an MD5 look up for the sequences, and then adjust the index to account for this."
   ]
  },
  {
   "cell_type": "code",
   "execution_count": 282,
   "metadata": {
    "collapsed": true
   },
   "outputs": [],
   "source": [
    "def hash_sequence_ids(sequences):\n",
    "    sequences['md5'] = sequences['sequence'].apply(\n",
    "        lambda x: hashlib.md5(x.encode('utf-8')).hexdigest()\n",
    "    )\n",
    "    assert len(sequences['md5'].unique()) == len(sequences['md5'])\n",
    "    \n",
    "    return sequences"
   ]
  },
  {
   "cell_type": "code",
   "execution_count": 272,
   "metadata": {
    "collapsed": false
   },
   "outputs": [
    {
     "ename": "KeyError",
     "evalue": "\"['index'] not in index\"",
     "output_type": "error",
     "traceback": [
      "\u001b[0;31m---------------------------------------------------------------------------\u001b[0m",
      "\u001b[0;31mKeyError\u001b[0m                                  Traceback (most recent call last)",
      "\u001b[0;32m<ipython-input-272-1176420be395>\u001b[0m in \u001b[0;36m<module>\u001b[0;34m()\u001b[0m\n\u001b[0;32m----> 1\u001b[0;31m \u001b[0msequences\u001b[0m \u001b[0;34m=\u001b[0m \u001b[0mfec_sotu_t\u001b[0m\u001b[0;34m[\u001b[0m\u001b[0;34m[\u001b[0m\u001b[0;34m'index'\u001b[0m\u001b[0;34m]\u001b[0m\u001b[0;34m]\u001b[0m\u001b[0;34m.\u001b[0m\u001b[0mcopy\u001b[0m\u001b[0;34m(\u001b[0m\u001b[0;34m)\u001b[0m\u001b[0;34m\u001b[0m\u001b[0m\n\u001b[0m\u001b[1;32m      2\u001b[0m \u001b[0msequences\u001b[0m\u001b[0;34m.\u001b[0m\u001b[0mrename\u001b[0m\u001b[0;34m(\u001b[0m\u001b[0mcolumns\u001b[0m\u001b[0;34m=\u001b[0m\u001b[0;34m{\u001b[0m\u001b[0;34m'index'\u001b[0m\u001b[0;34m:\u001b[0m \u001b[0;34m'sequence'\u001b[0m\u001b[0;34m}\u001b[0m\u001b[0;34m,\u001b[0m \u001b[0minplace\u001b[0m\u001b[0;34m=\u001b[0m\u001b[0;32mTrue\u001b[0m\u001b[0;34m)\u001b[0m\u001b[0;34m\u001b[0m\u001b[0m\n\u001b[1;32m      3\u001b[0m \u001b[0mhash_sequence_ids\u001b[0m\u001b[0;34m(\u001b[0m\u001b[0msequences\u001b[0m\u001b[0;34m)\u001b[0m\u001b[0;34m\u001b[0m\u001b[0m\n",
      "\u001b[0;32m/Users/jdebelius/miniconda2/envs/bloom/lib/python3.5/site-packages/pandas/core/frame.py\u001b[0m in \u001b[0;36m__getitem__\u001b[0;34m(self, key)\u001b[0m\n\u001b[1;32m   2049\u001b[0m         \u001b[0;32mif\u001b[0m \u001b[0misinstance\u001b[0m\u001b[0;34m(\u001b[0m\u001b[0mkey\u001b[0m\u001b[0;34m,\u001b[0m \u001b[0;34m(\u001b[0m\u001b[0mSeries\u001b[0m\u001b[0;34m,\u001b[0m \u001b[0mnp\u001b[0m\u001b[0;34m.\u001b[0m\u001b[0mndarray\u001b[0m\u001b[0;34m,\u001b[0m \u001b[0mIndex\u001b[0m\u001b[0;34m,\u001b[0m \u001b[0mlist\u001b[0m\u001b[0;34m)\u001b[0m\u001b[0;34m)\u001b[0m\u001b[0;34m:\u001b[0m\u001b[0;34m\u001b[0m\u001b[0m\n\u001b[1;32m   2050\u001b[0m             \u001b[0;31m# either boolean or fancy integer index\u001b[0m\u001b[0;34m\u001b[0m\u001b[0;34m\u001b[0m\u001b[0m\n\u001b[0;32m-> 2051\u001b[0;31m             \u001b[0;32mreturn\u001b[0m \u001b[0mself\u001b[0m\u001b[0;34m.\u001b[0m\u001b[0m_getitem_array\u001b[0m\u001b[0;34m(\u001b[0m\u001b[0mkey\u001b[0m\u001b[0;34m)\u001b[0m\u001b[0;34m\u001b[0m\u001b[0m\n\u001b[0m\u001b[1;32m   2052\u001b[0m         \u001b[0;32melif\u001b[0m \u001b[0misinstance\u001b[0m\u001b[0;34m(\u001b[0m\u001b[0mkey\u001b[0m\u001b[0;34m,\u001b[0m \u001b[0mDataFrame\u001b[0m\u001b[0;34m)\u001b[0m\u001b[0;34m:\u001b[0m\u001b[0;34m\u001b[0m\u001b[0m\n\u001b[1;32m   2053\u001b[0m             \u001b[0;32mreturn\u001b[0m \u001b[0mself\u001b[0m\u001b[0;34m.\u001b[0m\u001b[0m_getitem_frame\u001b[0m\u001b[0;34m(\u001b[0m\u001b[0mkey\u001b[0m\u001b[0;34m)\u001b[0m\u001b[0;34m\u001b[0m\u001b[0m\n",
      "\u001b[0;32m/Users/jdebelius/miniconda2/envs/bloom/lib/python3.5/site-packages/pandas/core/frame.py\u001b[0m in \u001b[0;36m_getitem_array\u001b[0;34m(self, key)\u001b[0m\n\u001b[1;32m   2093\u001b[0m             \u001b[0;32mreturn\u001b[0m \u001b[0mself\u001b[0m\u001b[0;34m.\u001b[0m\u001b[0mtake\u001b[0m\u001b[0;34m(\u001b[0m\u001b[0mindexer\u001b[0m\u001b[0;34m,\u001b[0m \u001b[0maxis\u001b[0m\u001b[0;34m=\u001b[0m\u001b[0;36m0\u001b[0m\u001b[0;34m,\u001b[0m \u001b[0mconvert\u001b[0m\u001b[0;34m=\u001b[0m\u001b[0;32mFalse\u001b[0m\u001b[0;34m)\u001b[0m\u001b[0;34m\u001b[0m\u001b[0m\n\u001b[1;32m   2094\u001b[0m         \u001b[0;32melse\u001b[0m\u001b[0;34m:\u001b[0m\u001b[0;34m\u001b[0m\u001b[0m\n\u001b[0;32m-> 2095\u001b[0;31m             \u001b[0mindexer\u001b[0m \u001b[0;34m=\u001b[0m \u001b[0mself\u001b[0m\u001b[0;34m.\u001b[0m\u001b[0mix\u001b[0m\u001b[0;34m.\u001b[0m\u001b[0m_convert_to_indexer\u001b[0m\u001b[0;34m(\u001b[0m\u001b[0mkey\u001b[0m\u001b[0;34m,\u001b[0m \u001b[0maxis\u001b[0m\u001b[0;34m=\u001b[0m\u001b[0;36m1\u001b[0m\u001b[0;34m)\u001b[0m\u001b[0;34m\u001b[0m\u001b[0m\n\u001b[0m\u001b[1;32m   2096\u001b[0m             \u001b[0;32mreturn\u001b[0m \u001b[0mself\u001b[0m\u001b[0;34m.\u001b[0m\u001b[0mtake\u001b[0m\u001b[0;34m(\u001b[0m\u001b[0mindexer\u001b[0m\u001b[0;34m,\u001b[0m \u001b[0maxis\u001b[0m\u001b[0;34m=\u001b[0m\u001b[0;36m1\u001b[0m\u001b[0;34m,\u001b[0m \u001b[0mconvert\u001b[0m\u001b[0;34m=\u001b[0m\u001b[0;32mTrue\u001b[0m\u001b[0;34m)\u001b[0m\u001b[0;34m\u001b[0m\u001b[0m\n\u001b[1;32m   2097\u001b[0m \u001b[0;34m\u001b[0m\u001b[0m\n",
      "\u001b[0;32m/Users/jdebelius/miniconda2/envs/bloom/lib/python3.5/site-packages/pandas/core/indexing.py\u001b[0m in \u001b[0;36m_convert_to_indexer\u001b[0;34m(self, obj, axis, is_setter)\u001b[0m\n\u001b[1;32m   1227\u001b[0m                 \u001b[0mmask\u001b[0m \u001b[0;34m=\u001b[0m \u001b[0mcheck\u001b[0m \u001b[0;34m==\u001b[0m \u001b[0;34m-\u001b[0m\u001b[0;36m1\u001b[0m\u001b[0;34m\u001b[0m\u001b[0m\n\u001b[1;32m   1228\u001b[0m                 \u001b[0;32mif\u001b[0m \u001b[0mmask\u001b[0m\u001b[0;34m.\u001b[0m\u001b[0many\u001b[0m\u001b[0;34m(\u001b[0m\u001b[0;34m)\u001b[0m\u001b[0;34m:\u001b[0m\u001b[0;34m\u001b[0m\u001b[0m\n\u001b[0;32m-> 1229\u001b[0;31m                     \u001b[0;32mraise\u001b[0m \u001b[0mKeyError\u001b[0m\u001b[0;34m(\u001b[0m\u001b[0;34m'%s not in index'\u001b[0m \u001b[0;34m%\u001b[0m \u001b[0mobjarr\u001b[0m\u001b[0;34m[\u001b[0m\u001b[0mmask\u001b[0m\u001b[0;34m]\u001b[0m\u001b[0;34m)\u001b[0m\u001b[0;34m\u001b[0m\u001b[0m\n\u001b[0m\u001b[1;32m   1230\u001b[0m \u001b[0;34m\u001b[0m\u001b[0m\n\u001b[1;32m   1231\u001b[0m                 \u001b[0;32mreturn\u001b[0m \u001b[0m_values_from_object\u001b[0m\u001b[0;34m(\u001b[0m\u001b[0mindexer\u001b[0m\u001b[0;34m)\u001b[0m\u001b[0;34m\u001b[0m\u001b[0m\n",
      "\u001b[0;31mKeyError\u001b[0m: \"['index'] not in index\""
     ]
    }
   ],
   "source": [
    "sequences = fec_sotu_t[['index']].copy()\n",
    "sequences.rename(columns={'index': 'sequence'}, inplace=True)\n",
    "hash_sequence_ids(sequences)"
   ]
  },
  {
   "cell_type": "markdown",
   "metadata": {},
   "source": [
    "Finally, we'll replace the keyname."
   ]
  },
  {
   "cell_type": "code",
   "execution_count": 149,
   "metadata": {
    "collapsed": false
   },
   "outputs": [],
   "source": [
    "md_key = sequences.set_index('sequence').to_dict()\n",
    "fec_sotu_t['index'] = fec_sotu_t['index'].apply(lambda x: md_key['md5'][x])\n",
    "fec_sotu_t.set_index('index', inplace=True)"
   ]
  },
  {
   "cell_type": "code",
   "execution_count": 150,
   "metadata": {
    "collapsed": true
   },
   "outputs": [],
   "source": [
    "fec_sotu_t = fec_sotu_t.T"
   ]
  },
  {
   "cell_type": "markdown",
   "metadata": {},
   "source": [
    "ANCOM calcuates a significant difference in the ratio abundance between sOTUs, which accounts for compositionality in the data using log ratios. The method does not accept zeros, so we're going to add a constant value of 1 to all our counts before we normalize the data."
   ]
  },
  {
   "cell_type": "code",
   "execution_count": 154,
   "metadata": {
    "collapsed": false
   },
   "outputs": [],
   "source": [
    "fec_close = pd.DataFrame(closure(fec_sotu_t.values + 1),\n",
    "                         index=fec_sotu_t.index,\n",
    "                         columns=fec_sotu_t.columns)"
   ]
  },
  {
   "cell_type": "markdown",
   "metadata": {},
   "source": [
    "Finally, let's run ANCOM and calculate the fold change."
   ]
  },
  {
   "cell_type": "code",
   "execution_count": 155,
   "metadata": {
    "collapsed": false
   },
   "outputs": [
    {
     "name": "stderr",
     "output_type": "stream",
     "text": [
      "/Users/jdebelius/miniconda2/envs/bloom/lib/python3.5/site-packages/scipy/stats/stats.py:2976: RuntimeWarning: invalid value encountered in double_scalars\n",
      "  f = msb / msw\n"
     ]
    },
    {
     "name": "stdout",
     "output_type": "stream",
     "text": [
      "CPU times: user 1min 56s, sys: 382 ms, total: 1min 57s\n",
      "Wall time: 1min 57s\n"
     ]
    }
   ],
   "source": [
    "%%time\n",
    "ancom_stats, features = ancom(fec_close, fec_meta['PRESERVATION'], \n",
    "                              multiple_comparisons_correction='holm-bonferroni')"
   ]
  },
  {
   "cell_type": "markdown",
   "metadata": {},
   "source": [
    "## Calculate the fold change of american gut compared to all other experiments\n",
    "For each sOTU, comapre the mean in all AG samples to the mean of all samples in a fresh-frozen experiment. The samples are unpaired, so we can't just compare the means. We'll perform this calculation seperately between each pair of studies.\n",
    "\n",
    "We'll start by getting the pandas dataframes for each study to make the comparisons."
   ]
  },
  {
   "cell_type": "code",
   "execution_count": 157,
   "metadata": {
    "collapsed": false
   },
   "outputs": [],
   "source": [
    "pgp_meta_f = fec_meta.loc[fec_meta['STUDY'] == 'PGP']\n",
    "pgp_sotu_f = fec_sotu_t.loc[pgp_meta_f.index]"
   ]
  },
  {
   "cell_type": "code",
   "execution_count": 158,
   "metadata": {
    "collapsed": true
   },
   "outputs": [],
   "source": [
    "agp_meta_f = fec_meta.loc[fec_meta['STUDY'] == 'AGP']\n",
    "agp_sotu_f = fec_sotu_t.loc[agp_meta_f.index]"
   ]
  },
  {
   "cell_type": "code",
   "execution_count": 159,
   "metadata": {
    "collapsed": false
   },
   "outputs": [],
   "source": [
    "twin_meta_f = fec_meta.loc[fec_meta['STUDY'] == 'UK_TWINS']\n",
    "twin_sotu_f = fec_sotu_t.loc[twin_meta_f.index]"
   ]
  },
  {
   "cell_type": "code",
   "execution_count": 160,
   "metadata": {
    "collapsed": true
   },
   "outputs": [],
   "source": [
    "erc_meta_f = fec_meta.loc[fec_meta['STUDY'] == 'ERC']\n",
    "erc_sotu_f = fec_sotu_t.loc[erc_meta_f.index]"
   ]
  },
  {
   "cell_type": "markdown",
   "metadata": {},
   "source": [
    "Next, let's write a function to calculate the fold change between studies.\n",
    "\n",
    "**Check the mask**"
   ]
  },
  {
   "cell_type": "code",
   "execution_count": 171,
   "metadata": {
    "collapsed": true
   },
   "outputs": [],
   "source": [
    "def calculate_fold_change(sotu1, sotu2, minreads=1):\n",
    "    \"\"\"Calculates the fold change between two datasets\"\"\"\n",
    "    \n",
    "    # The fold change\n",
    "    fc = {}\n",
    "    not_compared = []\n",
    "    \n",
    "    # Replaces values below the threshhold\n",
    "    mask = (sotu1 < minreads) && (sotu2 < minreads)\n",
    "    sotu1[sotu1 < minreads] = minreads\n",
    "    sotu2[sotu2 < minreads] = minreads\n",
    "    \n",
    "    # Calculates the mean ratio\n",
    "    ratio = sotu1.mean(0) / sotu2.mean(0)\n",
    "    ratio[mask] = np.nan\n",
    "    return ratio"
   ]
  },
  {
   "cell_type": "markdown",
   "metadata": {},
   "source": [
    "And, let's calculate the fold change ratio for all combinations."
   ]
  },
  {
   "cell_type": "code",
   "execution_count": 193,
   "metadata": {
    "collapsed": false
   },
   "outputs": [],
   "source": [
    "fold_change = pd.DataFrame([calculate_fold_change(agp_sotu_f, study)\n",
    "                            for study in [pgp_sotu_f, erc_sotu_f, twin_sotu_f]],\n",
    "              index=['agp_pgp', 'agp_erc', 'agp_twins']).T"
   ]
  },
  {
   "cell_type": "code",
   "execution_count": 196,
   "metadata": {
    "collapsed": false
   },
   "outputs": [],
   "source": [
    "min_ag_fc = np.nanmin(fold_change, axis=1)"
   ]
  },
  {
   "cell_type": "markdown",
   "metadata": {},
   "source": [
    "# find the blooming bacteria list\n",
    "intersect the ag-vs-others and the storage studies fold changes:\n",
    "\n",
    "Iterate over all sOTUs which are significantly different between AG and all fresh-frozen samples.\n",
    "\n",
    "For each such sOTU, we calculate two values:\n",
    "1. The maximal growth potential (maximum over all storage studies and days)\n",
    "2. The minimal ratio between AG to each fresh-frozen sample. The minimum is taken in order to reduce the effect of study-study differences (since a blooming bacteria is expected to be higher in AG compared to all fresh-frozen studies)\n",
    "\n",
    "Candidate blooming bacteria are defined as sOTUs that have either:\n",
    "- At least two fold difference in both (1) and (2), or that are not\n",
    "\n",
    "OR\n",
    "- At least two fold difference in (2) and are not present in (1) (since storage studies have a small set of individuals, there may be blooming bacteria that by chance were not present in the storage study samples)\n",
    "\n",
    "OR\n",
    "- At least 50 fold change in (1), so we know they can grow drastically in room temp.\n"
   ]
  },
  {
   "cell_type": "markdown",
   "metadata": {},
   "source": [
    "## Combining the stability studies\n",
    "\n",
    "We're going to find the maximum fold difference for all comparisons based on storage studies.\n",
    "\n",
    "However, since the song study was run on a ***Check the sequencing platform***, it has 125 nucleotide reads instead of the 150 nucelotides found in other studies. To address this, we're going to compare the first 125 nucleotides of each of the sequences in the Mayo fecal stability study to value in the song study, whther the first 125 sequences are unique or not.\n",
    "\n",
    "We'll then build a hash based on the full 150 nucleotides, which will be the id we combine with the other study."
   ]
  },
  {
   "cell_type": "code",
   "execution_count": 297,
   "metadata": {
    "collapsed": false
   },
   "outputs": [],
   "source": [
    "song_fc.reset_index(inplace=True)\n",
    "song_fc.rename(columns={'index': 'sequence'}, inplace=True)\n",
    "song_fc['sequence125'] = song_fc['sequence'].copy()\n",
    "song_fc.set_index('sequence125', inplace=True)"
   ]
  },
  {
   "cell_type": "code",
   "execution_count": 298,
   "metadata": {
    "collapsed": false
   },
   "outputs": [],
   "source": [
    "mayo_fc.reset_index(inplace=True)\n",
    "mayo_fc.rename(columns={'index': 'sequence'}, inplace=True)\n",
    "mayo_fc['sequence125'] = mayo_fc['sequence'].apply(lambda x: x[:124])\n",
    "mayo_fc.set_index('sequence125', inplace=True)"
   ]
  },
  {
   "cell_type": "markdown",
   "metadata": {},
   "source": [
    "Now, we can combine the studies."
   ]
  },
  {
   "cell_type": "code",
   "execution_count": 300,
   "metadata": {
    "collapsed": false
   },
   "outputs": [],
   "source": [
    "storage_fc = pd.concat([song_fc, mayo_fc])"
   ]
  },
  {
   "cell_type": "code",
   "execution_count": 314,
   "metadata": {
    "collapsed": false
   },
   "outputs": [
    {
     "data": {
      "text/html": [
       "<div>\n",
       "<table border=\"1\" class=\"dataframe\">\n",
       "  <thead>\n",
       "    <tr style=\"text-align: right;\">\n",
       "      <th></th>\n",
       "      <th>Day 1</th>\n",
       "      <th>Day 4</th>\n",
       "      <th>Week 1</th>\n",
       "      <th>Week 2</th>\n",
       "      <th>Week 7</th>\n",
       "      <th>level_0</th>\n",
       "      <th>sequence</th>\n",
       "    </tr>\n",
       "    <tr>\n",
       "      <th>sequence125</th>\n",
       "      <th></th>\n",
       "      <th></th>\n",
       "      <th></th>\n",
       "      <th></th>\n",
       "      <th></th>\n",
       "      <th></th>\n",
       "      <th></th>\n",
       "    </tr>\n",
       "  </thead>\n",
       "  <tbody>\n",
       "    <tr>\n",
       "      <th>AACATAGGGGGCAAGCGTTGTCCGGAATCACTGGGCGTAAAGGGCGCGTAGGCGGTCTGTTAAGTCGGATGTGAAATGTAAGGGCTCAACCCTTAACGTGCATCTGATACTGGCAGACTTGAGT</th>\n",
       "      <td>NaN</td>\n",
       "      <td>NaN</td>\n",
       "      <td>0.833333</td>\n",
       "      <td>4.666667</td>\n",
       "      <td>3.916667</td>\n",
       "      <td>0.0</td>\n",
       "      <td>AACATAGGGGGCAAGCGTTGTCCGGAATCACTGGGCGTAAAGGGCG...</td>\n",
       "    </tr>\n",
       "    <tr>\n",
       "      <th>AACATAGGGGGCAAGCGTTGTCCGGAATCACTGGGCGTAAAGGGCGCGTAGGCGGTTTGTTAAGTCGGATGTGAAATGTAAGGGCTCAACCCTTAACGTGCATCTGATACTGGCAGACTTGAGT</th>\n",
       "      <td>NaN</td>\n",
       "      <td>NaN</td>\n",
       "      <td>1.666667</td>\n",
       "      <td>6.444444</td>\n",
       "      <td>6.222222</td>\n",
       "      <td>1.0</td>\n",
       "      <td>AACATAGGGGGCAAGCGTTGTCCGGAATCACTGGGCGTAAAGGGCG...</td>\n",
       "    </tr>\n",
       "    <tr>\n",
       "      <th>AACGTAGGGTCCGAGCGTTAATCGGAATTACTGGGCGTAAAGCGTACGTAGGCGGTTGCTTAAGTCAGATGTGAAATCCCCGGGCTCAACCCGGGAACTGCGTTTGATACTGGGCAACTCGAGA</th>\n",
       "      <td>NaN</td>\n",
       "      <td>NaN</td>\n",
       "      <td>5.000000</td>\n",
       "      <td>NaN</td>\n",
       "      <td>NaN</td>\n",
       "      <td>2.0</td>\n",
       "      <td>AACGTAGGGTCCGAGCGTTAATCGGAATTACTGGGCGTAAAGCGTA...</td>\n",
       "    </tr>\n",
       "    <tr>\n",
       "      <th>AACGTAGGGTCCGAGCGTTAATCGGAATTACTGGGCGTAAGGCGTACGTAGGCGGTTGCTTAAGTCAGATGTGAAATCCCCGGGCTCAACCCGGGAACTGCGTTTGATACTGGGCAACTCGAGA</th>\n",
       "      <td>NaN</td>\n",
       "      <td>NaN</td>\n",
       "      <td>1.600000</td>\n",
       "      <td>NaN</td>\n",
       "      <td>NaN</td>\n",
       "      <td>3.0</td>\n",
       "      <td>AACGTAGGGTCCGAGCGTTAATCGGAATTACTGGGCGTAAGGCGTA...</td>\n",
       "    </tr>\n",
       "    <tr>\n",
       "      <th>AACGTAGGGTGCAAGCGTTGTCCGGAATTACTGGGCGTAAAGGGTGCGCAGGCGGTTGAGTAAGACAGATGTGAAATCCCCGAGCTTAACTCGGGAATGGCATATGTGACTGCTCGACTAGAGT</th>\n",
       "      <td>NaN</td>\n",
       "      <td>NaN</td>\n",
       "      <td>NaN</td>\n",
       "      <td>1.000000</td>\n",
       "      <td>NaN</td>\n",
       "      <td>4.0</td>\n",
       "      <td>AACGTAGGGTGCAAGCGTTGTCCGGAATTACTGGGCGTAAAGGGTG...</td>\n",
       "    </tr>\n",
       "    <tr>\n",
       "      <th>AACGTAGGGTGCAAGCGTTGTCCGGAATTACTGGGTGTAAAGGGAGCGCAGGCGGACCGGCAAGTTGGAAGTGAAAACCATGGGCTCAACCCGTGAATTGCTTTCAAAACTGCTGGCCTTGAGT</th>\n",
       "      <td>NaN</td>\n",
       "      <td>NaN</td>\n",
       "      <td>5.000000</td>\n",
       "      <td>12.550000</td>\n",
       "      <td>33.766667</td>\n",
       "      <td>5.0</td>\n",
       "      <td>AACGTAGGGTGCAAGCGTTGTCCGGAATTACTGGGTGTAAAGGGAG...</td>\n",
       "    </tr>\n",
       "    <tr>\n",
       "      <th>AACGTAGGGTGCAAGCGTTGTCCGGAATTACTGGGTGTAAAGGGAGCGCAGGCGGACCGGCAAGTTGGAAGTGAAAACTATGGGCTCAACCCATAAACTGCTTTCAAAACTGTTTTTCTTGAGT</th>\n",
       "      <td>NaN</td>\n",
       "      <td>NaN</td>\n",
       "      <td>NaN</td>\n",
       "      <td>2.000000</td>\n",
       "      <td>3.400000</td>\n",
       "      <td>6.0</td>\n",
       "      <td>AACGTAGGGTGCAAGCGTTGTCCGGAATTACTGGGTGTAAAGGGAG...</td>\n",
       "    </tr>\n",
       "    <tr>\n",
       "      <th>AACGTAGGGTGCAAGCGTTGTCCGGAATTACTGGGTGTAAAGGGAGCGCAGGCGGACCGGCAAGTTGGAAGTGAAAACTATGGGCTCAACCCATAAATTGCTTTCAAAACTGCTGGCCTTGAGT</th>\n",
       "      <td>NaN</td>\n",
       "      <td>NaN</td>\n",
       "      <td>1.989585</td>\n",
       "      <td>4.387943</td>\n",
       "      <td>3.802204</td>\n",
       "      <td>7.0</td>\n",
       "      <td>AACGTAGGGTGCAAGCGTTGTCCGGAATTACTGGGTGTAAAGGGAG...</td>\n",
       "    </tr>\n",
       "    <tr>\n",
       "      <th>AACGTAGGGTGCAAGCGTTGTCCGGAATTACTGGGTGTAAAGGGAGCGCAGGCGGACCGGCAAGTTGGAAGTGAAAACTATGGGCTCAACTCATAAATTGCTTTCAAAACTGCTGGCCTTGAGT</th>\n",
       "      <td>NaN</td>\n",
       "      <td>NaN</td>\n",
       "      <td>2.153846</td>\n",
       "      <td>2.538462</td>\n",
       "      <td>1.461538</td>\n",
       "      <td>8.0</td>\n",
       "      <td>AACGTAGGGTGCAAGCGTTGTCCGGAATTACTGGGTGTAAAGGGAG...</td>\n",
       "    </tr>\n",
       "    <tr>\n",
       "      <th>AACGTAGGGTGCAAGCGTTGTCCGGAATTACTGGGTGTAAAGGGAGCGCAGGCGGACCGGCAAGTTGGAAGTGAAATCCATGGGCTCAACCCGTGAATTGCTTTCAAAACTGCTGGCCTTGAGT</th>\n",
       "      <td>NaN</td>\n",
       "      <td>NaN</td>\n",
       "      <td>1.455083</td>\n",
       "      <td>4.609735</td>\n",
       "      <td>9.006311</td>\n",
       "      <td>9.0</td>\n",
       "      <td>AACGTAGGGTGCAAGCGTTGTCCGGAATTACTGGGTGTAAAGGGAG...</td>\n",
       "    </tr>\n",
       "    <tr>\n",
       "      <th>AACGTAGGGTGCAAGCGTTGTCCGGAATTACTGGGTGTAAAGGGAGCGCAGGCGGACCGGCAAGTTGGGAGTGAAATCCATGGGCTCAACCCGTGAATTGCTTTCAAAACTGCTGGCCTTGAGT</th>\n",
       "      <td>NaN</td>\n",
       "      <td>NaN</td>\n",
       "      <td>2.193590</td>\n",
       "      <td>3.490598</td>\n",
       "      <td>3.636752</td>\n",
       "      <td>10.0</td>\n",
       "      <td>AACGTAGGGTGCAAGCGTTGTCCGGAATTACTGGGTGTAAAGGGAG...</td>\n",
       "    </tr>\n",
       "    <tr>\n",
       "      <th>AACGTAGGGTGCAAGCGTTGTCCGGAATTACTGGGTGTAAAGGGAGCGCAGGCGGAGAAGCAAGTCAGTGGTGAAAACGATGGGCTTAACTCATCGACTGCCATTGAAACTGTTTCCCTTGAGT</th>\n",
       "      <td>NaN</td>\n",
       "      <td>NaN</td>\n",
       "      <td>NaN</td>\n",
       "      <td>1.400000</td>\n",
       "      <td>NaN</td>\n",
       "      <td>11.0</td>\n",
       "      <td>AACGTAGGGTGCAAGCGTTGTCCGGAATTACTGGGTGTAAAGGGAG...</td>\n",
       "    </tr>\n",
       "    <tr>\n",
       "      <th>AACGTAGGGTGCAAGCGTTGTCCGGAATTACTGGGTGTAAAGGGAGCGCAGGCGGATTGGCAAGTTGGGAGTGAAATCTATGGGCTCAACCCATAAATTGCTTTCAAAACTGTCAGTCTTGAGT</th>\n",
       "      <td>NaN</td>\n",
       "      <td>NaN</td>\n",
       "      <td>2.330688</td>\n",
       "      <td>2.892366</td>\n",
       "      <td>5.640438</td>\n",
       "      <td>12.0</td>\n",
       "      <td>AACGTAGGGTGCAAGCGTTGTCCGGAATTACTGGGTGTAAAGGGAG...</td>\n",
       "    </tr>\n",
       "    <tr>\n",
       "      <th>AACGTAGGGTGCAAGCGTTGTCCGGAATTACTGGGTGTAAAGGGAGCGCAGGCGGGAAGACAAGTTGGAAGTGAAAACCATGGGCTCAACCCATGAATTGCTTTCAAAACTGTTTTTCTTGAGT</th>\n",
       "      <td>NaN</td>\n",
       "      <td>NaN</td>\n",
       "      <td>2.031572</td>\n",
       "      <td>7.038017</td>\n",
       "      <td>5.424801</td>\n",
       "      <td>13.0</td>\n",
       "      <td>AACGTAGGGTGCAAGCGTTGTCCGGAATTACTGGGTGTAAAGGGAG...</td>\n",
       "    </tr>\n",
       "    <tr>\n",
       "      <th>AACGTAGGGTGCAAGCGTTGTCCGGAATTACTGGGTGTAAAGGGAGCGCAGGCGGGAAGACAAGTTGGAAGTGAAATCTATGGGCTCAACCCATAAACTGCTTTCAAAACTGTTTTTCTTGAGT</th>\n",
       "      <td>NaN</td>\n",
       "      <td>NaN</td>\n",
       "      <td>2.700000</td>\n",
       "      <td>5.250000</td>\n",
       "      <td>6.725000</td>\n",
       "      <td>14.0</td>\n",
       "      <td>AACGTAGGGTGCAAGCGTTGTCCGGAATTACTGGGTGTAAAGGGAG...</td>\n",
       "    </tr>\n",
       "    <tr>\n",
       "      <th>AACGTAGGTCACAAGCGTTGTCCGGAATTACTGGGCGTAAAGCGCACGCAGGCGGTCTGTCAAGTCGGATGTGAAATCCCCGGGCTCAACCTGGGAACTGCATTCGAAACTGGCAGGCTGGAGT</th>\n",
       "      <td>NaN</td>\n",
       "      <td>NaN</td>\n",
       "      <td>NaN</td>\n",
       "      <td>NaN</td>\n",
       "      <td>1.100000</td>\n",
       "      <td>15.0</td>\n",
       "      <td>AACGTAGGTCACAAGCGTTGTCCGGAATTACTGGGCGTAAAGCGCA...</td>\n",
       "    </tr>\n",
       "    <tr>\n",
       "      <th>AACGTAGGTCACAAGCGTTGTCCGGAATTACTGGGCGTAAAGCGCACGCAGGCGGTTTGTTAAGTCAGATGTGAAATCCCCGGGCTCAACCTGGGAACTGCATCTGATACTGGCAAGCTTGAGT</th>\n",
       "      <td>NaN</td>\n",
       "      <td>NaN</td>\n",
       "      <td>1.800000</td>\n",
       "      <td>2.800000</td>\n",
       "      <td>1.300000</td>\n",
       "      <td>16.0</td>\n",
       "      <td>AACGTAGGTCACAAGCGTTGTCCGGAATTACTGGGCGTAAAGCGCA...</td>\n",
       "    </tr>\n",
       "    <tr>\n",
       "      <th>AACGTAGGTCACAAGCGTTGTCCGGAATTACTGGGCGTAAAGCGTGCGCAGGCGGTTCTGTAAGATAGATGTGAAATCCCCGGGCTCAACCTGGGAATTGCATATATGACTGCAGGACTTGAGT</th>\n",
       "      <td>NaN</td>\n",
       "      <td>NaN</td>\n",
       "      <td>0.700000</td>\n",
       "      <td>0.600000</td>\n",
       "      <td>0.600000</td>\n",
       "      <td>17.0</td>\n",
       "      <td>AACGTAGGTCACAAGCGTTGTCCGGAATTACTGGGCGTAAAGCGTG...</td>\n",
       "    </tr>\n",
       "    <tr>\n",
       "      <th>AACGTAGGTCACAAGCGTTGTCCGGAATTACTGGGCGTAAAGGGTGCGCAGGCGGTTGAGTAAGACAGATGTGAAATCCCCGAGCTTAACTCGGGAATGGCATATGTGACTGCTCGACTAGAGT</th>\n",
       "      <td>NaN</td>\n",
       "      <td>NaN</td>\n",
       "      <td>0.954167</td>\n",
       "      <td>0.354167</td>\n",
       "      <td>0.354167</td>\n",
       "      <td>18.0</td>\n",
       "      <td>AACGTAGGTCACAAGCGTTGTCCGGAATTACTGGGCGTAAAGGGTG...</td>\n",
       "    </tr>\n",
       "    <tr>\n",
       "      <th>AACGTAGGTCACAAGCGTTGTCCGGAATTACTGGGTGTAAAGGGAGCGCAGGCGGACCGGCAAGTTGGAAGTGAAAACTATGGGCTCAACCCATAAATTGCTTTCAAAACTGCTGGCCTTGAGT</th>\n",
       "      <td>NaN</td>\n",
       "      <td>NaN</td>\n",
       "      <td>2.157619</td>\n",
       "      <td>4.254167</td>\n",
       "      <td>3.039048</td>\n",
       "      <td>19.0</td>\n",
       "      <td>AACGTAGGTCACAAGCGTTGTCCGGAATTACTGGGTGTAAAGGGAG...</td>\n",
       "    </tr>\n",
       "    <tr>\n",
       "      <th>AACGTAGGTCACAAGCGTTGTCCGGAATTACTGGGTGTAAAGGGAGCGCAGGCGGACCGGCAAGTTGGGAGTGAAATCCATGGGCTCAACCCGTGAATTGCTTTCAAAACTGCTGGCCTTGAGT</th>\n",
       "      <td>NaN</td>\n",
       "      <td>NaN</td>\n",
       "      <td>NaN</td>\n",
       "      <td>1.600000</td>\n",
       "      <td>NaN</td>\n",
       "      <td>20.0</td>\n",
       "      <td>AACGTAGGTCACAAGCGTTGTCCGGAATTACTGGGTGTAAAGGGAG...</td>\n",
       "    </tr>\n",
       "    <tr>\n",
       "      <th>AACGTAGGTCACAAGCGTTGTCCGGAATTACTGGGTGTAAAGGGAGCGCAGGCGGGAAAGCAAGTCAGCTGTGAAATCCATGGGCTTAACCCATGAACTGCAGTTGAAACTGTTTTTCTTGAGT</th>\n",
       "      <td>NaN</td>\n",
       "      <td>NaN</td>\n",
       "      <td>0.833333</td>\n",
       "      <td>0.833333</td>\n",
       "      <td>2.166667</td>\n",
       "      <td>21.0</td>\n",
       "      <td>AACGTAGGTCACAAGCGTTGTCCGGAATTACTGGGTGTAAAGGGAG...</td>\n",
       "    </tr>\n",
       "    <tr>\n",
       "      <th>AACGTAGGTCACAAGCGTTGTCCGGAATTACTGGGTGTAAAGGGAGCGCAGGCGGGAAGACAAGTTGGAAGTGAAAACCATGGGCTCAACCCATGAATTGCTTTCAAAACTGTTTTTCTTGAGT</th>\n",
       "      <td>NaN</td>\n",
       "      <td>NaN</td>\n",
       "      <td>3.000000</td>\n",
       "      <td>2.375000</td>\n",
       "      <td>2.078125</td>\n",
       "      <td>22.0</td>\n",
       "      <td>AACGTAGGTCACAAGCGTTGTCCGGAATTACTGGGTGTAAAGGGAG...</td>\n",
       "    </tr>\n",
       "    <tr>\n",
       "      <th>AACGTAGGTCACAAGCGTTGTCCGGAATTACTGGGTGTAAAGGGAGCGCAGGCGGGAAGACAAGTTGGAAGTGAAATCCATGGGCTCAACCCATGAACTGCTTTCAAAACTGTTTTTCTTGAGT</th>\n",
       "      <td>NaN</td>\n",
       "      <td>NaN</td>\n",
       "      <td>1.687790</td>\n",
       "      <td>4.501733</td>\n",
       "      <td>3.319414</td>\n",
       "      <td>23.0</td>\n",
       "      <td>AACGTAGGTCACAAGCGTTGTCCGGAATTACTGGGTGTAAAGGGAG...</td>\n",
       "    </tr>\n",
       "    <tr>\n",
       "      <th>AACGTAGGTCACAAGCGTTGTCCGGAATTACTGGGTGTAAAGGGAGCGCAGGCGGGAAGACAAGTTGGAAGTGAAATCTATGGGCTCAACCCATAAACTGCTTTCAAAACTGTTTTTCTTGAGT</th>\n",
       "      <td>NaN</td>\n",
       "      <td>NaN</td>\n",
       "      <td>1.401903</td>\n",
       "      <td>2.612152</td>\n",
       "      <td>2.597573</td>\n",
       "      <td>24.0</td>\n",
       "      <td>AACGTAGGTCACAAGCGTTGTCCGGAATTACTGGGTGTAAAGGGAG...</td>\n",
       "    </tr>\n",
       "    <tr>\n",
       "      <th>AACGTAGGTCACAAGCGTTGTCCGGAATTACTGGGTGTAAAGGGAGCGCAGGCGGGAAGGCAAGTTGGAAGTGAAATCCATGGGCTCAACCCATGAACTGCTTTCAAAACTGTTTTTCTTGAGT</th>\n",
       "      <td>NaN</td>\n",
       "      <td>NaN</td>\n",
       "      <td>2.031695</td>\n",
       "      <td>9.145655</td>\n",
       "      <td>8.524573</td>\n",
       "      <td>25.0</td>\n",
       "      <td>AACGTAGGTCACAAGCGTTGTCCGGAATTACTGGGTGTAAAGGGAG...</td>\n",
       "    </tr>\n",
       "    <tr>\n",
       "      <th>AACGTAGGTCACAAGCGTTGTCCGGAATTACTGGGTGTAAAGGGAGCGCAGGCGGGAGAACAAGTTGGAAGTGAAATCCATGGGCTCAACCCATGAACTGCTTTCAAAACTGTTTTTCTTGAGT</th>\n",
       "      <td>NaN</td>\n",
       "      <td>NaN</td>\n",
       "      <td>0.668337</td>\n",
       "      <td>0.462262</td>\n",
       "      <td>0.302845</td>\n",
       "      <td>26.0</td>\n",
       "      <td>AACGTAGGTCACAAGCGTTGTCCGGAATTACTGGGTGTAAAGGGAG...</td>\n",
       "    </tr>\n",
       "    <tr>\n",
       "      <th>AACGTAGGTCACAAGCGTTGTCCGGAATTACTGGGTGTAAAGGGAGCGCAGGCGGGCGATCAAGTTGGAAGTGAAATCCATGGGCTCAACCCATGAACTGCTTTCAAAACTGATCGTCTTGAGT</th>\n",
       "      <td>NaN</td>\n",
       "      <td>NaN</td>\n",
       "      <td>0.584575</td>\n",
       "      <td>1.113389</td>\n",
       "      <td>1.135423</td>\n",
       "      <td>27.0</td>\n",
       "      <td>AACGTAGGTCACAAGCGTTGTCCGGAATTACTGGGTGTAAAGGGAG...</td>\n",
       "    </tr>\n",
       "    <tr>\n",
       "      <th>AACGTAGGTCACAAGCGTTGTCCGGAATTACTGGGTGTAAAGGGAGCGCAGGCGGGCGATCAAGTTGGAAGTGAAATCCATGGGCTCAACCCATGAACTGCTTTCAAAACTGATTGTCTTGAGT</th>\n",
       "      <td>NaN</td>\n",
       "      <td>NaN</td>\n",
       "      <td>0.808278</td>\n",
       "      <td>1.309664</td>\n",
       "      <td>1.332993</td>\n",
       "      <td>28.0</td>\n",
       "      <td>AACGTAGGTCACAAGCGTTGTCCGGAATTACTGGGTGTAAAGGGAG...</td>\n",
       "    </tr>\n",
       "    <tr>\n",
       "      <th>AACGTAGGTCACAAGCGTTGTCCGGAATTACTGGGTGTAAAGGGAGCGCAGGCGGGCGATCAAGTTGGAAGTGAAATCCATGGGCTCAACCCATGAACTGCTTTCAAAACTGGTCGTCTTGAGT</th>\n",
       "      <td>NaN</td>\n",
       "      <td>NaN</td>\n",
       "      <td>2.250803</td>\n",
       "      <td>2.942965</td>\n",
       "      <td>1.838374</td>\n",
       "      <td>29.0</td>\n",
       "      <td>AACGTAGGTCACAAGCGTTGTCCGGAATTACTGGGTGTAAAGGGAG...</td>\n",
       "    </tr>\n",
       "    <tr>\n",
       "      <th>...</th>\n",
       "      <td>...</td>\n",
       "      <td>...</td>\n",
       "      <td>...</td>\n",
       "      <td>...</td>\n",
       "      <td>...</td>\n",
       "      <td>...</td>\n",
       "      <td>...</td>\n",
       "    </tr>\n",
       "    <tr>\n",
       "      <th>TACGTATGGTGCAAGCGTTATCCGGATTTACTGGGTGTAAAGGGAGCGTAGACGGAGTGGCAAGTCTGATGTGAAAACCCGGGGCTCAACCCCGGGACTGCATTGGAAACTGTCAATCTGGAGT</th>\n",
       "      <td>0.857122</td>\n",
       "      <td>0.660256</td>\n",
       "      <td>NaN</td>\n",
       "      <td>NaN</td>\n",
       "      <td>NaN</td>\n",
       "      <td>NaN</td>\n",
       "      <td>TACGTATGGTGCAAGCGTTATCCGGATTTACTGGGTGTAAAGGGAG...</td>\n",
       "    </tr>\n",
       "    <tr>\n",
       "      <th>TACGTATGGTGCAAGCGTTATCCGGATTTACTGGGTGTAAAGGGAGCGTAGACGGAGTGGTAAGTCTGATGTGAAAACCCGGGGCTCAACCCCGGGACTGCATTGGAAACTGTCAATCTGGAGT</th>\n",
       "      <td>0.438596</td>\n",
       "      <td>0.438596</td>\n",
       "      <td>NaN</td>\n",
       "      <td>NaN</td>\n",
       "      <td>NaN</td>\n",
       "      <td>NaN</td>\n",
       "      <td>TACGTATGGTGCAAGCGTTATCCGGATTTACTGGGTGTAAAGGGAG...</td>\n",
       "    </tr>\n",
       "    <tr>\n",
       "      <th>TACGTATGGTGCAAGCGTTATCCGGATTTACTGGGTGTAAAGGGAGCGTAGACGGATAAGCAAGTCTGGAGTGAAAGCCCGGGGCTCAACCCCGGGACTGCTTTGGAAACTGTTAATCTAGAGT</th>\n",
       "      <td>NaN</td>\n",
       "      <td>1.150000</td>\n",
       "      <td>NaN</td>\n",
       "      <td>NaN</td>\n",
       "      <td>NaN</td>\n",
       "      <td>NaN</td>\n",
       "      <td>TACGTATGGTGCAAGCGTTATCCGGATTTACTGGGTGTAAAGGGAG...</td>\n",
       "    </tr>\n",
       "    <tr>\n",
       "      <th>TACGTATGGTGCAAGCGTTATCCGGATTTACTGGGTGTAAAGGGAGCGTAGACGGATAGGCAAGTCTGGAGTGAAAACCCAGGGCTCAACCCTGGGACTGCTTTGGAAACTGCAGATCTGGAGT</th>\n",
       "      <td>0.881996</td>\n",
       "      <td>0.922286</td>\n",
       "      <td>NaN</td>\n",
       "      <td>NaN</td>\n",
       "      <td>NaN</td>\n",
       "      <td>NaN</td>\n",
       "      <td>TACGTATGGTGCAAGCGTTATCCGGATTTACTGGGTGTAAAGGGAG...</td>\n",
       "    </tr>\n",
       "    <tr>\n",
       "      <th>TACGTATGGTGCAAGCGTTATCCGGATTTACTGGGTGTAAAGGGAGCGTAGACGGATAGGCAAGTCTGGAGTGAAAACCCAGGGCTCAACCCTGGGACTGCTTTGGAAACTGTAGATCTGGAGT</th>\n",
       "      <td>0.781250</td>\n",
       "      <td>0.820312</td>\n",
       "      <td>NaN</td>\n",
       "      <td>NaN</td>\n",
       "      <td>NaN</td>\n",
       "      <td>NaN</td>\n",
       "      <td>TACGTATGGTGCAAGCGTTATCCGGATTTACTGGGTGTAAAGGGAG...</td>\n",
       "    </tr>\n",
       "    <tr>\n",
       "      <th>TACGTATGGTGCAAGCGTTATCCGGATTTACTGGGTGTAAAGGGAGCGTAGACGGATAGGCAAGTCTGGAGTGAAAACCCAGGGCTCAACCTTGGGACTGCTTTGGAAACTGCAGATCTGGAGT</th>\n",
       "      <td>1.260027</td>\n",
       "      <td>0.853659</td>\n",
       "      <td>NaN</td>\n",
       "      <td>NaN</td>\n",
       "      <td>NaN</td>\n",
       "      <td>NaN</td>\n",
       "      <td>TACGTATGGTGCAAGCGTTATCCGGATTTACTGGGTGTAAAGGGAG...</td>\n",
       "    </tr>\n",
       "    <tr>\n",
       "      <th>TACGTATGGTGCAAGCGTTATCCGGATTTACTGGGTGTAAAGGGAGCGTAGACGGATAGGCAAGTCTGGAGTGAAAACCCAGGGCTCAACTCTGGGACTGCTTTGGAAACTGCAGATCTGGAGT</th>\n",
       "      <td>0.937500</td>\n",
       "      <td>0.937500</td>\n",
       "      <td>NaN</td>\n",
       "      <td>NaN</td>\n",
       "      <td>NaN</td>\n",
       "      <td>NaN</td>\n",
       "      <td>TACGTATGGTGCAAGCGTTATCCGGATTTACTGGGTGTAAAGGGAG...</td>\n",
       "    </tr>\n",
       "    <tr>\n",
       "      <th>TACGTATGGTGCAAGCGTTATCCGGATTTACTGGGTGTAAAGGGAGCGTAGACGGATGGGCAAGTCTGAAGTGAAAGCCCGGGGCTCAACCCCGGGACTGCTTTGGAAACTGTTCATCTGGAGT</th>\n",
       "      <td>0.732759</td>\n",
       "      <td>1.111207</td>\n",
       "      <td>NaN</td>\n",
       "      <td>NaN</td>\n",
       "      <td>NaN</td>\n",
       "      <td>NaN</td>\n",
       "      <td>TACGTATGGTGCAAGCGTTATCCGGATTTACTGGGTGTAAAGGGAG...</td>\n",
       "    </tr>\n",
       "    <tr>\n",
       "      <th>TACGTATGGTGCAAGCGTTATCCGGATTTACTGGGTGTAAAGGGAGCGTAGACGGATGGGCAAGTCTGATGTGAAAACCCGGGGCTCAACCCCGGGACTGCATTGGAAACTGTTCATCTAGAGT</th>\n",
       "      <td>1.192303</td>\n",
       "      <td>0.915295</td>\n",
       "      <td>NaN</td>\n",
       "      <td>NaN</td>\n",
       "      <td>NaN</td>\n",
       "      <td>NaN</td>\n",
       "      <td>TACGTATGGTGCAAGCGTTATCCGGATTTACTGGGTGTAAAGGGAG...</td>\n",
       "    </tr>\n",
       "    <tr>\n",
       "      <th>TACGTATGGTGCAAGCGTTATCCGGATTTACTGGGTGTAAAGGGAGCGTAGACGGATGGGCAAGTCTGATGTGAAAACCCGGGGCTCAACCTCGGGACTGCATTGGAAACTGTTCATCTAGAGT</th>\n",
       "      <td>1.081081</td>\n",
       "      <td>0.912162</td>\n",
       "      <td>NaN</td>\n",
       "      <td>NaN</td>\n",
       "      <td>NaN</td>\n",
       "      <td>NaN</td>\n",
       "      <td>TACGTATGGTGCAAGCGTTATCCGGATTTACTGGGTGTAAAGGGAG...</td>\n",
       "    </tr>\n",
       "    <tr>\n",
       "      <th>TACGTATGGTGCAAGCGTTATCCGGATTTACTGGGTGTAAAGGGAGCGTAGACGGCACGGCAAGCCAGATGTGAAAGCCCGGGGCTCAACCCCGGGACTGCATTTGGAACTGCTGAGCTAGAGT</th>\n",
       "      <td>0.875947</td>\n",
       "      <td>0.875947</td>\n",
       "      <td>NaN</td>\n",
       "      <td>NaN</td>\n",
       "      <td>NaN</td>\n",
       "      <td>NaN</td>\n",
       "      <td>TACGTATGGTGCAAGCGTTATCCGGATTTACTGGGTGTAAAGGGAG...</td>\n",
       "    </tr>\n",
       "    <tr>\n",
       "      <th>TACGTATGGTGCAAGCGTTATCCGGATTTACTGGGTGTAAAGGGAGCGTAGACGGCTGTGTAAGTCTGAAGTGAAAGCCCGGGGCTCAACCCCGGGACTGCTTTGGAAACTATGCAGCTAGAGT</th>\n",
       "      <td>0.829607</td>\n",
       "      <td>0.753344</td>\n",
       "      <td>NaN</td>\n",
       "      <td>NaN</td>\n",
       "      <td>NaN</td>\n",
       "      <td>NaN</td>\n",
       "      <td>TACGTATGGTGCAAGCGTTATCCGGATTTACTGGGTGTAAAGGGAG...</td>\n",
       "    </tr>\n",
       "    <tr>\n",
       "      <th>TACGTATGGTGCAAGCGTTATCCGGATTTACTGGGTGTAAAGGGAGCGTAGACGGTGTGGCAAGTCTGATGTGAAAGGCATGGGCTCAACCTGTGGACTGCATTGGAAACTGTCATACTTGAGT</th>\n",
       "      <td>0.835031</td>\n",
       "      <td>0.769332</td>\n",
       "      <td>NaN</td>\n",
       "      <td>NaN</td>\n",
       "      <td>NaN</td>\n",
       "      <td>NaN</td>\n",
       "      <td>TACGTATGGTGCAAGCGTTATCCGGATTTACTGGGTGTAAAGGGAG...</td>\n",
       "    </tr>\n",
       "    <tr>\n",
       "      <th>TACGTATGGTGCAAGCGTTATCCGGATTTACTGGGTGTAAAGGGAGCGTAGACGGTTGTGTAAGTCTGATGTGAAAGCCCGGGGCTCAACCCCGGGACTGCATTGGAAACTATGTAACTAGAGT</th>\n",
       "      <td>0.825121</td>\n",
       "      <td>0.687624</td>\n",
       "      <td>NaN</td>\n",
       "      <td>NaN</td>\n",
       "      <td>NaN</td>\n",
       "      <td>NaN</td>\n",
       "      <td>TACGTATGGTGCAAGCGTTATCCGGATTTACTGGGTGTAAAGGGAG...</td>\n",
       "    </tr>\n",
       "    <tr>\n",
       "      <th>TACGTATGGTGCAAGCGTTATCCGGATTTACTGGGTGTAAAGGGAGCGTAGGCGGAGTGGCAAGTCTGATGTGAAAACCCGGGGCTCAACCCCGGGACTGCATTGGAAACTGTCAATCTAGAGT</th>\n",
       "      <td>0.961538</td>\n",
       "      <td>0.961538</td>\n",
       "      <td>NaN</td>\n",
       "      <td>NaN</td>\n",
       "      <td>NaN</td>\n",
       "      <td>NaN</td>\n",
       "      <td>TACGTATGGTGCAAGCGTTATCCGGATTTACTGGGTGTAAAGGGAG...</td>\n",
       "    </tr>\n",
       "    <tr>\n",
       "      <th>TACGTATGGTGCAAGCGTTATCCGGATTTACTGGGTGTAAAGGGAGCGTAGGCGGTGCGGCAAGTCTGATGTGAAAGCCCGGGGCTCAACCCCGGTACTGCATTGGAAACTGTCGTACTAGAGT</th>\n",
       "      <td>3.200000</td>\n",
       "      <td>2.150000</td>\n",
       "      <td>NaN</td>\n",
       "      <td>NaN</td>\n",
       "      <td>NaN</td>\n",
       "      <td>NaN</td>\n",
       "      <td>TACGTATGGTGCAAGCGTTATCCGGATTTACTGGGTGTAAAGGGAG...</td>\n",
       "    </tr>\n",
       "    <tr>\n",
       "      <th>TACGTATGGTGCAAGCGTTATCCGGATTTACTGGGTGTAAAGGGAGCGTAGGTGGCAAGGCAAGCCAGAAGTGAAAACCCGGGGCTCAACCGCGGGATTGCTTTTGGAACTGTCATGCTAGAGT</th>\n",
       "      <td>0.871707</td>\n",
       "      <td>0.724117</td>\n",
       "      <td>NaN</td>\n",
       "      <td>NaN</td>\n",
       "      <td>NaN</td>\n",
       "      <td>NaN</td>\n",
       "      <td>TACGTATGGTGCAAGCGTTATCCGGATTTACTGGGTGTAAAGGGAG...</td>\n",
       "    </tr>\n",
       "    <tr>\n",
       "      <th>TACGTATGGTGCAAGCGTTATCCGGATTTACTGGGTGTAAAGGGCGTGCAGCCGGGTCTGCAAGTCAGATGTGAAATCCATGGGCTCAACCCATGAACTGCATTTGAAACTGTAGATCTTGAGT</th>\n",
       "      <td>0.978454</td>\n",
       "      <td>0.714031</td>\n",
       "      <td>NaN</td>\n",
       "      <td>NaN</td>\n",
       "      <td>NaN</td>\n",
       "      <td>NaN</td>\n",
       "      <td>TACGTATGGTGCAAGCGTTATCCGGATTTACTGGGTGTAAAGGGCG...</td>\n",
       "    </tr>\n",
       "    <tr>\n",
       "      <th>TACGTATGGTGCAAGCGTTATCCGGATTTACTGGGTGTAAAGGGTGAGTAGGCGGTCATGCAAGTCATATGTGAAATGTCAGGGCTTAACCTTGGCGCTGCATAAGAAACTGTATGACTAGAGT</th>\n",
       "      <td>0.761905</td>\n",
       "      <td>1.190476</td>\n",
       "      <td>NaN</td>\n",
       "      <td>NaN</td>\n",
       "      <td>NaN</td>\n",
       "      <td>NaN</td>\n",
       "      <td>TACGTATGGTGCAAGCGTTATCCGGATTTACTGGGTGTAAAGGGTG...</td>\n",
       "    </tr>\n",
       "    <tr>\n",
       "      <th>TACGTATGGTGCAAGCGTTATCCGGATTTACTGGGTGTAAAGGGTGCGTAGGTGGCAAGGCAAGTCTGAAGTGAAAATCCGGGGCTCAACCCCGGAACTGCTTTGGAAACTGTTTAGCTAGAGT</th>\n",
       "      <td>1.084753</td>\n",
       "      <td>0.971690</td>\n",
       "      <td>NaN</td>\n",
       "      <td>NaN</td>\n",
       "      <td>NaN</td>\n",
       "      <td>NaN</td>\n",
       "      <td>TACGTATGGTGCAAGCGTTATCCGGATTTACTGGGTGTAAAGGGTG...</td>\n",
       "    </tr>\n",
       "    <tr>\n",
       "      <th>TACGTATGGTGCAAGCGTTATCCGGATTTACTGGGTGTAAAGGGTGCGTAGGTGGCAAGGCAAGTCTGAAGTGAAAATCCGGGGCTCAACCCCGGAACTGCTTTGGAAACTGTTTAGCTGGAGT</th>\n",
       "      <td>1.096713</td>\n",
       "      <td>0.830663</td>\n",
       "      <td>NaN</td>\n",
       "      <td>NaN</td>\n",
       "      <td>NaN</td>\n",
       "      <td>NaN</td>\n",
       "      <td>TACGTATGGTGCAAGCGTTATCCGGATTTACTGGGTGTAAAGGGTG...</td>\n",
       "    </tr>\n",
       "    <tr>\n",
       "      <th>TACGTATGGTGCAAGCGTTATCCGGATTTACTGGGTGTAAAGGGTGCGTAGGTGGTATGGCAAGTCAGAAGTGAAAGGCTGGGGCTCAACCCCGGGACTGCTTTTGAAACTGTCAAACTAGAGT</th>\n",
       "      <td>1.310422</td>\n",
       "      <td>0.663840</td>\n",
       "      <td>NaN</td>\n",
       "      <td>NaN</td>\n",
       "      <td>NaN</td>\n",
       "      <td>NaN</td>\n",
       "      <td>TACGTATGGTGCAAGCGTTATCCGGATTTACTGGGTGTAAAGGGTG...</td>\n",
       "    </tr>\n",
       "    <tr>\n",
       "      <th>TACGTATGGTGCAAGCGTTATCCGGATTTACTGGGTGTAAAGGGTGCGTAGGTGGTGAGACAAGTCTGAAGTGAAAATCCGGGGCTTAACCCCGGAACTGCTTTGGAAACTGCCTGACTAGAGT</th>\n",
       "      <td>0.417430</td>\n",
       "      <td>0.499346</td>\n",
       "      <td>NaN</td>\n",
       "      <td>NaN</td>\n",
       "      <td>NaN</td>\n",
       "      <td>NaN</td>\n",
       "      <td>TACGTATGGTGCAAGCGTTATCCGGATTTACTGGGTGTAAAGGGTG...</td>\n",
       "    </tr>\n",
       "    <tr>\n",
       "      <th>TACGTATGTCACGAGCGTTATCCGGATTTATTGGGCGTAAAGCGCGTCTAGGTGGTTATGTAAGTCTGATGTGAAAATGCAGGGCTCAACTCTGTATTGCGTTGGAAACTGTATAACTAGAGTA</th>\n",
       "      <td>2.300000</td>\n",
       "      <td>NaN</td>\n",
       "      <td>NaN</td>\n",
       "      <td>NaN</td>\n",
       "      <td>NaN</td>\n",
       "      <td>NaN</td>\n",
       "      <td>TACGTATGTCACGAGCGTTATCCGGATTTATTGGGCGTAAAGCGCG...</td>\n",
       "    </tr>\n",
       "    <tr>\n",
       "      <th>TACGTATGTCGCAAGCGTTATCCGGATTTATTGGGCGTAAAGCGCGTCTAGGCGGCAAGGAAAGTCTGATGTGAAAATGCGGGGCTCAACTCCGTATTGCGTTGGAAACTGCCTTACTAGAGTA</th>\n",
       "      <td>1.138889</td>\n",
       "      <td>0.555556</td>\n",
       "      <td>NaN</td>\n",
       "      <td>NaN</td>\n",
       "      <td>NaN</td>\n",
       "      <td>NaN</td>\n",
       "      <td>TACGTATGTCGCAAGCGTTATCCGGATTTATTGGGCGTAAAGCGCG...</td>\n",
       "    </tr>\n",
       "    <tr>\n",
       "      <th>TACGTATGTCGCAAGCGTTATCCGGATTTATTGGGCGTAAAGCGCGTCTAGGCGGTTTAGTAAGTCTGATGTGAAAATGCGGGGCTCAACCCCGTATTGCGTTGGAAACTGCTAAACTAGAGTA</th>\n",
       "      <td>NaN</td>\n",
       "      <td>4.700000</td>\n",
       "      <td>NaN</td>\n",
       "      <td>NaN</td>\n",
       "      <td>NaN</td>\n",
       "      <td>NaN</td>\n",
       "      <td>TACGTATGTCGCAAGCGTTATCCGGATTTATTGGGCGTAAAGCGCG...</td>\n",
       "    </tr>\n",
       "    <tr>\n",
       "      <th>TACGTATGTCGCAAGCGTTATCCGGATTTATTGGGCGTAAAGCGCGTCTAGGCGGTTTGGTAAGTCTGATGTGAAAATGCGGGGCTCAACTCCGTATTGCGTTGGAAACTGCCAAACTAGAGTA</th>\n",
       "      <td>2.150000</td>\n",
       "      <td>1.250000</td>\n",
       "      <td>NaN</td>\n",
       "      <td>NaN</td>\n",
       "      <td>NaN</td>\n",
       "      <td>NaN</td>\n",
       "      <td>TACGTATGTCGCAAGCGTTATCCGGATTTATTGGGCGTAAAGCGCG...</td>\n",
       "    </tr>\n",
       "    <tr>\n",
       "      <th>TACGTATGTCGCAAGCGTTATCCGGATTTATTGGGCGTAAAGCGCGTCTAGGCGGTTTTGTAAGTCTGATGTGAAAATGCGGGGCTCAACCCCGTATTGCGTTGGAAACTGCTTAACTAGAGTA</th>\n",
       "      <td>0.735294</td>\n",
       "      <td>0.735294</td>\n",
       "      <td>NaN</td>\n",
       "      <td>NaN</td>\n",
       "      <td>NaN</td>\n",
       "      <td>NaN</td>\n",
       "      <td>TACGTATGTCGCAAGCGTTATCCGGATTTATTGGGCGTAAAGCGCG...</td>\n",
       "    </tr>\n",
       "    <tr>\n",
       "      <th>TACGTATGTCGCGAGCGTTATCCGGAATTATTGGGCTTAAAGGGCATCTAGGCGGTTAAACAAGTTGAAGGTGAAAACCTGTGGCTCAACCATAGGCTTGCCTACAAAACTGTATAACTAGAGT</th>\n",
       "      <td>0.925926</td>\n",
       "      <td>0.925926</td>\n",
       "      <td>NaN</td>\n",
       "      <td>NaN</td>\n",
       "      <td>NaN</td>\n",
       "      <td>NaN</td>\n",
       "      <td>TACGTATGTCGCGAGCGTTATCCGGAATTATTGGGCTTAAAGGGCA...</td>\n",
       "    </tr>\n",
       "    <tr>\n",
       "      <th>TACGTATGTTCCAAGCGTTATCCGGATTTATTGGGCGTAAAGCGAGCGCAGACGGTTATTTAAGTCTGAAGTGAAAGCCCTCAGCTCAACTGAGGAATTGCTTTGGAAACTGGATGACTTGAGT</th>\n",
       "      <td>NaN</td>\n",
       "      <td>3.200000</td>\n",
       "      <td>NaN</td>\n",
       "      <td>NaN</td>\n",
       "      <td>NaN</td>\n",
       "      <td>NaN</td>\n",
       "      <td>TACGTATGTTCCAAGCGTTATCCGGATTTATTGGGCGTAAAGCGAG...</td>\n",
       "    </tr>\n",
       "  </tbody>\n",
       "</table>\n",
       "<p>2177 rows × 7 columns</p>\n",
       "</div>"
      ],
      "text/plain": [
       "                                                       Day 1     Day 4  \\\n",
       "sequence125                                                              \n",
       "AACATAGGGGGCAAGCGTTGTCCGGAATCACTGGGCGTAAAGGGCGC...       NaN       NaN   \n",
       "AACATAGGGGGCAAGCGTTGTCCGGAATCACTGGGCGTAAAGGGCGC...       NaN       NaN   \n",
       "AACGTAGGGTCCGAGCGTTAATCGGAATTACTGGGCGTAAAGCGTAC...       NaN       NaN   \n",
       "AACGTAGGGTCCGAGCGTTAATCGGAATTACTGGGCGTAAGGCGTAC...       NaN       NaN   \n",
       "AACGTAGGGTGCAAGCGTTGTCCGGAATTACTGGGCGTAAAGGGTGC...       NaN       NaN   \n",
       "AACGTAGGGTGCAAGCGTTGTCCGGAATTACTGGGTGTAAAGGGAGC...       NaN       NaN   \n",
       "AACGTAGGGTGCAAGCGTTGTCCGGAATTACTGGGTGTAAAGGGAGC...       NaN       NaN   \n",
       "AACGTAGGGTGCAAGCGTTGTCCGGAATTACTGGGTGTAAAGGGAGC...       NaN       NaN   \n",
       "AACGTAGGGTGCAAGCGTTGTCCGGAATTACTGGGTGTAAAGGGAGC...       NaN       NaN   \n",
       "AACGTAGGGTGCAAGCGTTGTCCGGAATTACTGGGTGTAAAGGGAGC...       NaN       NaN   \n",
       "AACGTAGGGTGCAAGCGTTGTCCGGAATTACTGGGTGTAAAGGGAGC...       NaN       NaN   \n",
       "AACGTAGGGTGCAAGCGTTGTCCGGAATTACTGGGTGTAAAGGGAGC...       NaN       NaN   \n",
       "AACGTAGGGTGCAAGCGTTGTCCGGAATTACTGGGTGTAAAGGGAGC...       NaN       NaN   \n",
       "AACGTAGGGTGCAAGCGTTGTCCGGAATTACTGGGTGTAAAGGGAGC...       NaN       NaN   \n",
       "AACGTAGGGTGCAAGCGTTGTCCGGAATTACTGGGTGTAAAGGGAGC...       NaN       NaN   \n",
       "AACGTAGGTCACAAGCGTTGTCCGGAATTACTGGGCGTAAAGCGCAC...       NaN       NaN   \n",
       "AACGTAGGTCACAAGCGTTGTCCGGAATTACTGGGCGTAAAGCGCAC...       NaN       NaN   \n",
       "AACGTAGGTCACAAGCGTTGTCCGGAATTACTGGGCGTAAAGCGTGC...       NaN       NaN   \n",
       "AACGTAGGTCACAAGCGTTGTCCGGAATTACTGGGCGTAAAGGGTGC...       NaN       NaN   \n",
       "AACGTAGGTCACAAGCGTTGTCCGGAATTACTGGGTGTAAAGGGAGC...       NaN       NaN   \n",
       "AACGTAGGTCACAAGCGTTGTCCGGAATTACTGGGTGTAAAGGGAGC...       NaN       NaN   \n",
       "AACGTAGGTCACAAGCGTTGTCCGGAATTACTGGGTGTAAAGGGAGC...       NaN       NaN   \n",
       "AACGTAGGTCACAAGCGTTGTCCGGAATTACTGGGTGTAAAGGGAGC...       NaN       NaN   \n",
       "AACGTAGGTCACAAGCGTTGTCCGGAATTACTGGGTGTAAAGGGAGC...       NaN       NaN   \n",
       "AACGTAGGTCACAAGCGTTGTCCGGAATTACTGGGTGTAAAGGGAGC...       NaN       NaN   \n",
       "AACGTAGGTCACAAGCGTTGTCCGGAATTACTGGGTGTAAAGGGAGC...       NaN       NaN   \n",
       "AACGTAGGTCACAAGCGTTGTCCGGAATTACTGGGTGTAAAGGGAGC...       NaN       NaN   \n",
       "AACGTAGGTCACAAGCGTTGTCCGGAATTACTGGGTGTAAAGGGAGC...       NaN       NaN   \n",
       "AACGTAGGTCACAAGCGTTGTCCGGAATTACTGGGTGTAAAGGGAGC...       NaN       NaN   \n",
       "AACGTAGGTCACAAGCGTTGTCCGGAATTACTGGGTGTAAAGGGAGC...       NaN       NaN   \n",
       "...                                                      ...       ...   \n",
       "TACGTATGGTGCAAGCGTTATCCGGATTTACTGGGTGTAAAGGGAGC...  0.857122  0.660256   \n",
       "TACGTATGGTGCAAGCGTTATCCGGATTTACTGGGTGTAAAGGGAGC...  0.438596  0.438596   \n",
       "TACGTATGGTGCAAGCGTTATCCGGATTTACTGGGTGTAAAGGGAGC...       NaN  1.150000   \n",
       "TACGTATGGTGCAAGCGTTATCCGGATTTACTGGGTGTAAAGGGAGC...  0.881996  0.922286   \n",
       "TACGTATGGTGCAAGCGTTATCCGGATTTACTGGGTGTAAAGGGAGC...  0.781250  0.820312   \n",
       "TACGTATGGTGCAAGCGTTATCCGGATTTACTGGGTGTAAAGGGAGC...  1.260027  0.853659   \n",
       "TACGTATGGTGCAAGCGTTATCCGGATTTACTGGGTGTAAAGGGAGC...  0.937500  0.937500   \n",
       "TACGTATGGTGCAAGCGTTATCCGGATTTACTGGGTGTAAAGGGAGC...  0.732759  1.111207   \n",
       "TACGTATGGTGCAAGCGTTATCCGGATTTACTGGGTGTAAAGGGAGC...  1.192303  0.915295   \n",
       "TACGTATGGTGCAAGCGTTATCCGGATTTACTGGGTGTAAAGGGAGC...  1.081081  0.912162   \n",
       "TACGTATGGTGCAAGCGTTATCCGGATTTACTGGGTGTAAAGGGAGC...  0.875947  0.875947   \n",
       "TACGTATGGTGCAAGCGTTATCCGGATTTACTGGGTGTAAAGGGAGC...  0.829607  0.753344   \n",
       "TACGTATGGTGCAAGCGTTATCCGGATTTACTGGGTGTAAAGGGAGC...  0.835031  0.769332   \n",
       "TACGTATGGTGCAAGCGTTATCCGGATTTACTGGGTGTAAAGGGAGC...  0.825121  0.687624   \n",
       "TACGTATGGTGCAAGCGTTATCCGGATTTACTGGGTGTAAAGGGAGC...  0.961538  0.961538   \n",
       "TACGTATGGTGCAAGCGTTATCCGGATTTACTGGGTGTAAAGGGAGC...  3.200000  2.150000   \n",
       "TACGTATGGTGCAAGCGTTATCCGGATTTACTGGGTGTAAAGGGAGC...  0.871707  0.724117   \n",
       "TACGTATGGTGCAAGCGTTATCCGGATTTACTGGGTGTAAAGGGCGT...  0.978454  0.714031   \n",
       "TACGTATGGTGCAAGCGTTATCCGGATTTACTGGGTGTAAAGGGTGA...  0.761905  1.190476   \n",
       "TACGTATGGTGCAAGCGTTATCCGGATTTACTGGGTGTAAAGGGTGC...  1.084753  0.971690   \n",
       "TACGTATGGTGCAAGCGTTATCCGGATTTACTGGGTGTAAAGGGTGC...  1.096713  0.830663   \n",
       "TACGTATGGTGCAAGCGTTATCCGGATTTACTGGGTGTAAAGGGTGC...  1.310422  0.663840   \n",
       "TACGTATGGTGCAAGCGTTATCCGGATTTACTGGGTGTAAAGGGTGC...  0.417430  0.499346   \n",
       "TACGTATGTCACGAGCGTTATCCGGATTTATTGGGCGTAAAGCGCGT...  2.300000       NaN   \n",
       "TACGTATGTCGCAAGCGTTATCCGGATTTATTGGGCGTAAAGCGCGT...  1.138889  0.555556   \n",
       "TACGTATGTCGCAAGCGTTATCCGGATTTATTGGGCGTAAAGCGCGT...       NaN  4.700000   \n",
       "TACGTATGTCGCAAGCGTTATCCGGATTTATTGGGCGTAAAGCGCGT...  2.150000  1.250000   \n",
       "TACGTATGTCGCAAGCGTTATCCGGATTTATTGGGCGTAAAGCGCGT...  0.735294  0.735294   \n",
       "TACGTATGTCGCGAGCGTTATCCGGAATTATTGGGCTTAAAGGGCAT...  0.925926  0.925926   \n",
       "TACGTATGTTCCAAGCGTTATCCGGATTTATTGGGCGTAAAGCGAGC...       NaN  3.200000   \n",
       "\n",
       "                                                      Week 1     Week 2  \\\n",
       "sequence125                                                               \n",
       "AACATAGGGGGCAAGCGTTGTCCGGAATCACTGGGCGTAAAGGGCGC...  0.833333   4.666667   \n",
       "AACATAGGGGGCAAGCGTTGTCCGGAATCACTGGGCGTAAAGGGCGC...  1.666667   6.444444   \n",
       "AACGTAGGGTCCGAGCGTTAATCGGAATTACTGGGCGTAAAGCGTAC...  5.000000        NaN   \n",
       "AACGTAGGGTCCGAGCGTTAATCGGAATTACTGGGCGTAAGGCGTAC...  1.600000        NaN   \n",
       "AACGTAGGGTGCAAGCGTTGTCCGGAATTACTGGGCGTAAAGGGTGC...       NaN   1.000000   \n",
       "AACGTAGGGTGCAAGCGTTGTCCGGAATTACTGGGTGTAAAGGGAGC...  5.000000  12.550000   \n",
       "AACGTAGGGTGCAAGCGTTGTCCGGAATTACTGGGTGTAAAGGGAGC...       NaN   2.000000   \n",
       "AACGTAGGGTGCAAGCGTTGTCCGGAATTACTGGGTGTAAAGGGAGC...  1.989585   4.387943   \n",
       "AACGTAGGGTGCAAGCGTTGTCCGGAATTACTGGGTGTAAAGGGAGC...  2.153846   2.538462   \n",
       "AACGTAGGGTGCAAGCGTTGTCCGGAATTACTGGGTGTAAAGGGAGC...  1.455083   4.609735   \n",
       "AACGTAGGGTGCAAGCGTTGTCCGGAATTACTGGGTGTAAAGGGAGC...  2.193590   3.490598   \n",
       "AACGTAGGGTGCAAGCGTTGTCCGGAATTACTGGGTGTAAAGGGAGC...       NaN   1.400000   \n",
       "AACGTAGGGTGCAAGCGTTGTCCGGAATTACTGGGTGTAAAGGGAGC...  2.330688   2.892366   \n",
       "AACGTAGGGTGCAAGCGTTGTCCGGAATTACTGGGTGTAAAGGGAGC...  2.031572   7.038017   \n",
       "AACGTAGGGTGCAAGCGTTGTCCGGAATTACTGGGTGTAAAGGGAGC...  2.700000   5.250000   \n",
       "AACGTAGGTCACAAGCGTTGTCCGGAATTACTGGGCGTAAAGCGCAC...       NaN        NaN   \n",
       "AACGTAGGTCACAAGCGTTGTCCGGAATTACTGGGCGTAAAGCGCAC...  1.800000   2.800000   \n",
       "AACGTAGGTCACAAGCGTTGTCCGGAATTACTGGGCGTAAAGCGTGC...  0.700000   0.600000   \n",
       "AACGTAGGTCACAAGCGTTGTCCGGAATTACTGGGCGTAAAGGGTGC...  0.954167   0.354167   \n",
       "AACGTAGGTCACAAGCGTTGTCCGGAATTACTGGGTGTAAAGGGAGC...  2.157619   4.254167   \n",
       "AACGTAGGTCACAAGCGTTGTCCGGAATTACTGGGTGTAAAGGGAGC...       NaN   1.600000   \n",
       "AACGTAGGTCACAAGCGTTGTCCGGAATTACTGGGTGTAAAGGGAGC...  0.833333   0.833333   \n",
       "AACGTAGGTCACAAGCGTTGTCCGGAATTACTGGGTGTAAAGGGAGC...  3.000000   2.375000   \n",
       "AACGTAGGTCACAAGCGTTGTCCGGAATTACTGGGTGTAAAGGGAGC...  1.687790   4.501733   \n",
       "AACGTAGGTCACAAGCGTTGTCCGGAATTACTGGGTGTAAAGGGAGC...  1.401903   2.612152   \n",
       "AACGTAGGTCACAAGCGTTGTCCGGAATTACTGGGTGTAAAGGGAGC...  2.031695   9.145655   \n",
       "AACGTAGGTCACAAGCGTTGTCCGGAATTACTGGGTGTAAAGGGAGC...  0.668337   0.462262   \n",
       "AACGTAGGTCACAAGCGTTGTCCGGAATTACTGGGTGTAAAGGGAGC...  0.584575   1.113389   \n",
       "AACGTAGGTCACAAGCGTTGTCCGGAATTACTGGGTGTAAAGGGAGC...  0.808278   1.309664   \n",
       "AACGTAGGTCACAAGCGTTGTCCGGAATTACTGGGTGTAAAGGGAGC...  2.250803   2.942965   \n",
       "...                                                      ...        ...   \n",
       "TACGTATGGTGCAAGCGTTATCCGGATTTACTGGGTGTAAAGGGAGC...       NaN        NaN   \n",
       "TACGTATGGTGCAAGCGTTATCCGGATTTACTGGGTGTAAAGGGAGC...       NaN        NaN   \n",
       "TACGTATGGTGCAAGCGTTATCCGGATTTACTGGGTGTAAAGGGAGC...       NaN        NaN   \n",
       "TACGTATGGTGCAAGCGTTATCCGGATTTACTGGGTGTAAAGGGAGC...       NaN        NaN   \n",
       "TACGTATGGTGCAAGCGTTATCCGGATTTACTGGGTGTAAAGGGAGC...       NaN        NaN   \n",
       "TACGTATGGTGCAAGCGTTATCCGGATTTACTGGGTGTAAAGGGAGC...       NaN        NaN   \n",
       "TACGTATGGTGCAAGCGTTATCCGGATTTACTGGGTGTAAAGGGAGC...       NaN        NaN   \n",
       "TACGTATGGTGCAAGCGTTATCCGGATTTACTGGGTGTAAAGGGAGC...       NaN        NaN   \n",
       "TACGTATGGTGCAAGCGTTATCCGGATTTACTGGGTGTAAAGGGAGC...       NaN        NaN   \n",
       "TACGTATGGTGCAAGCGTTATCCGGATTTACTGGGTGTAAAGGGAGC...       NaN        NaN   \n",
       "TACGTATGGTGCAAGCGTTATCCGGATTTACTGGGTGTAAAGGGAGC...       NaN        NaN   \n",
       "TACGTATGGTGCAAGCGTTATCCGGATTTACTGGGTGTAAAGGGAGC...       NaN        NaN   \n",
       "TACGTATGGTGCAAGCGTTATCCGGATTTACTGGGTGTAAAGGGAGC...       NaN        NaN   \n",
       "TACGTATGGTGCAAGCGTTATCCGGATTTACTGGGTGTAAAGGGAGC...       NaN        NaN   \n",
       "TACGTATGGTGCAAGCGTTATCCGGATTTACTGGGTGTAAAGGGAGC...       NaN        NaN   \n",
       "TACGTATGGTGCAAGCGTTATCCGGATTTACTGGGTGTAAAGGGAGC...       NaN        NaN   \n",
       "TACGTATGGTGCAAGCGTTATCCGGATTTACTGGGTGTAAAGGGAGC...       NaN        NaN   \n",
       "TACGTATGGTGCAAGCGTTATCCGGATTTACTGGGTGTAAAGGGCGT...       NaN        NaN   \n",
       "TACGTATGGTGCAAGCGTTATCCGGATTTACTGGGTGTAAAGGGTGA...       NaN        NaN   \n",
       "TACGTATGGTGCAAGCGTTATCCGGATTTACTGGGTGTAAAGGGTGC...       NaN        NaN   \n",
       "TACGTATGGTGCAAGCGTTATCCGGATTTACTGGGTGTAAAGGGTGC...       NaN        NaN   \n",
       "TACGTATGGTGCAAGCGTTATCCGGATTTACTGGGTGTAAAGGGTGC...       NaN        NaN   \n",
       "TACGTATGGTGCAAGCGTTATCCGGATTTACTGGGTGTAAAGGGTGC...       NaN        NaN   \n",
       "TACGTATGTCACGAGCGTTATCCGGATTTATTGGGCGTAAAGCGCGT...       NaN        NaN   \n",
       "TACGTATGTCGCAAGCGTTATCCGGATTTATTGGGCGTAAAGCGCGT...       NaN        NaN   \n",
       "TACGTATGTCGCAAGCGTTATCCGGATTTATTGGGCGTAAAGCGCGT...       NaN        NaN   \n",
       "TACGTATGTCGCAAGCGTTATCCGGATTTATTGGGCGTAAAGCGCGT...       NaN        NaN   \n",
       "TACGTATGTCGCAAGCGTTATCCGGATTTATTGGGCGTAAAGCGCGT...       NaN        NaN   \n",
       "TACGTATGTCGCGAGCGTTATCCGGAATTATTGGGCTTAAAGGGCAT...       NaN        NaN   \n",
       "TACGTATGTTCCAAGCGTTATCCGGATTTATTGGGCGTAAAGCGAGC...       NaN        NaN   \n",
       "\n",
       "                                                       Week 7  level_0  \\\n",
       "sequence125                                                              \n",
       "AACATAGGGGGCAAGCGTTGTCCGGAATCACTGGGCGTAAAGGGCGC...   3.916667      0.0   \n",
       "AACATAGGGGGCAAGCGTTGTCCGGAATCACTGGGCGTAAAGGGCGC...   6.222222      1.0   \n",
       "AACGTAGGGTCCGAGCGTTAATCGGAATTACTGGGCGTAAAGCGTAC...        NaN      2.0   \n",
       "AACGTAGGGTCCGAGCGTTAATCGGAATTACTGGGCGTAAGGCGTAC...        NaN      3.0   \n",
       "AACGTAGGGTGCAAGCGTTGTCCGGAATTACTGGGCGTAAAGGGTGC...        NaN      4.0   \n",
       "AACGTAGGGTGCAAGCGTTGTCCGGAATTACTGGGTGTAAAGGGAGC...  33.766667      5.0   \n",
       "AACGTAGGGTGCAAGCGTTGTCCGGAATTACTGGGTGTAAAGGGAGC...   3.400000      6.0   \n",
       "AACGTAGGGTGCAAGCGTTGTCCGGAATTACTGGGTGTAAAGGGAGC...   3.802204      7.0   \n",
       "AACGTAGGGTGCAAGCGTTGTCCGGAATTACTGGGTGTAAAGGGAGC...   1.461538      8.0   \n",
       "AACGTAGGGTGCAAGCGTTGTCCGGAATTACTGGGTGTAAAGGGAGC...   9.006311      9.0   \n",
       "AACGTAGGGTGCAAGCGTTGTCCGGAATTACTGGGTGTAAAGGGAGC...   3.636752     10.0   \n",
       "AACGTAGGGTGCAAGCGTTGTCCGGAATTACTGGGTGTAAAGGGAGC...        NaN     11.0   \n",
       "AACGTAGGGTGCAAGCGTTGTCCGGAATTACTGGGTGTAAAGGGAGC...   5.640438     12.0   \n",
       "AACGTAGGGTGCAAGCGTTGTCCGGAATTACTGGGTGTAAAGGGAGC...   5.424801     13.0   \n",
       "AACGTAGGGTGCAAGCGTTGTCCGGAATTACTGGGTGTAAAGGGAGC...   6.725000     14.0   \n",
       "AACGTAGGTCACAAGCGTTGTCCGGAATTACTGGGCGTAAAGCGCAC...   1.100000     15.0   \n",
       "AACGTAGGTCACAAGCGTTGTCCGGAATTACTGGGCGTAAAGCGCAC...   1.300000     16.0   \n",
       "AACGTAGGTCACAAGCGTTGTCCGGAATTACTGGGCGTAAAGCGTGC...   0.600000     17.0   \n",
       "AACGTAGGTCACAAGCGTTGTCCGGAATTACTGGGCGTAAAGGGTGC...   0.354167     18.0   \n",
       "AACGTAGGTCACAAGCGTTGTCCGGAATTACTGGGTGTAAAGGGAGC...   3.039048     19.0   \n",
       "AACGTAGGTCACAAGCGTTGTCCGGAATTACTGGGTGTAAAGGGAGC...        NaN     20.0   \n",
       "AACGTAGGTCACAAGCGTTGTCCGGAATTACTGGGTGTAAAGGGAGC...   2.166667     21.0   \n",
       "AACGTAGGTCACAAGCGTTGTCCGGAATTACTGGGTGTAAAGGGAGC...   2.078125     22.0   \n",
       "AACGTAGGTCACAAGCGTTGTCCGGAATTACTGGGTGTAAAGGGAGC...   3.319414     23.0   \n",
       "AACGTAGGTCACAAGCGTTGTCCGGAATTACTGGGTGTAAAGGGAGC...   2.597573     24.0   \n",
       "AACGTAGGTCACAAGCGTTGTCCGGAATTACTGGGTGTAAAGGGAGC...   8.524573     25.0   \n",
       "AACGTAGGTCACAAGCGTTGTCCGGAATTACTGGGTGTAAAGGGAGC...   0.302845     26.0   \n",
       "AACGTAGGTCACAAGCGTTGTCCGGAATTACTGGGTGTAAAGGGAGC...   1.135423     27.0   \n",
       "AACGTAGGTCACAAGCGTTGTCCGGAATTACTGGGTGTAAAGGGAGC...   1.332993     28.0   \n",
       "AACGTAGGTCACAAGCGTTGTCCGGAATTACTGGGTGTAAAGGGAGC...   1.838374     29.0   \n",
       "...                                                       ...      ...   \n",
       "TACGTATGGTGCAAGCGTTATCCGGATTTACTGGGTGTAAAGGGAGC...        NaN      NaN   \n",
       "TACGTATGGTGCAAGCGTTATCCGGATTTACTGGGTGTAAAGGGAGC...        NaN      NaN   \n",
       "TACGTATGGTGCAAGCGTTATCCGGATTTACTGGGTGTAAAGGGAGC...        NaN      NaN   \n",
       "TACGTATGGTGCAAGCGTTATCCGGATTTACTGGGTGTAAAGGGAGC...        NaN      NaN   \n",
       "TACGTATGGTGCAAGCGTTATCCGGATTTACTGGGTGTAAAGGGAGC...        NaN      NaN   \n",
       "TACGTATGGTGCAAGCGTTATCCGGATTTACTGGGTGTAAAGGGAGC...        NaN      NaN   \n",
       "TACGTATGGTGCAAGCGTTATCCGGATTTACTGGGTGTAAAGGGAGC...        NaN      NaN   \n",
       "TACGTATGGTGCAAGCGTTATCCGGATTTACTGGGTGTAAAGGGAGC...        NaN      NaN   \n",
       "TACGTATGGTGCAAGCGTTATCCGGATTTACTGGGTGTAAAGGGAGC...        NaN      NaN   \n",
       "TACGTATGGTGCAAGCGTTATCCGGATTTACTGGGTGTAAAGGGAGC...        NaN      NaN   \n",
       "TACGTATGGTGCAAGCGTTATCCGGATTTACTGGGTGTAAAGGGAGC...        NaN      NaN   \n",
       "TACGTATGGTGCAAGCGTTATCCGGATTTACTGGGTGTAAAGGGAGC...        NaN      NaN   \n",
       "TACGTATGGTGCAAGCGTTATCCGGATTTACTGGGTGTAAAGGGAGC...        NaN      NaN   \n",
       "TACGTATGGTGCAAGCGTTATCCGGATTTACTGGGTGTAAAGGGAGC...        NaN      NaN   \n",
       "TACGTATGGTGCAAGCGTTATCCGGATTTACTGGGTGTAAAGGGAGC...        NaN      NaN   \n",
       "TACGTATGGTGCAAGCGTTATCCGGATTTACTGGGTGTAAAGGGAGC...        NaN      NaN   \n",
       "TACGTATGGTGCAAGCGTTATCCGGATTTACTGGGTGTAAAGGGAGC...        NaN      NaN   \n",
       "TACGTATGGTGCAAGCGTTATCCGGATTTACTGGGTGTAAAGGGCGT...        NaN      NaN   \n",
       "TACGTATGGTGCAAGCGTTATCCGGATTTACTGGGTGTAAAGGGTGA...        NaN      NaN   \n",
       "TACGTATGGTGCAAGCGTTATCCGGATTTACTGGGTGTAAAGGGTGC...        NaN      NaN   \n",
       "TACGTATGGTGCAAGCGTTATCCGGATTTACTGGGTGTAAAGGGTGC...        NaN      NaN   \n",
       "TACGTATGGTGCAAGCGTTATCCGGATTTACTGGGTGTAAAGGGTGC...        NaN      NaN   \n",
       "TACGTATGGTGCAAGCGTTATCCGGATTTACTGGGTGTAAAGGGTGC...        NaN      NaN   \n",
       "TACGTATGTCACGAGCGTTATCCGGATTTATTGGGCGTAAAGCGCGT...        NaN      NaN   \n",
       "TACGTATGTCGCAAGCGTTATCCGGATTTATTGGGCGTAAAGCGCGT...        NaN      NaN   \n",
       "TACGTATGTCGCAAGCGTTATCCGGATTTATTGGGCGTAAAGCGCGT...        NaN      NaN   \n",
       "TACGTATGTCGCAAGCGTTATCCGGATTTATTGGGCGTAAAGCGCGT...        NaN      NaN   \n",
       "TACGTATGTCGCAAGCGTTATCCGGATTTATTGGGCGTAAAGCGCGT...        NaN      NaN   \n",
       "TACGTATGTCGCGAGCGTTATCCGGAATTATTGGGCTTAAAGGGCAT...        NaN      NaN   \n",
       "TACGTATGTTCCAAGCGTTATCCGGATTTATTGGGCGTAAAGCGAGC...        NaN      NaN   \n",
       "\n",
       "                                                                                             sequence  \n",
       "sequence125                                                                                            \n",
       "AACATAGGGGGCAAGCGTTGTCCGGAATCACTGGGCGTAAAGGGCGC...  AACATAGGGGGCAAGCGTTGTCCGGAATCACTGGGCGTAAAGGGCG...  \n",
       "AACATAGGGGGCAAGCGTTGTCCGGAATCACTGGGCGTAAAGGGCGC...  AACATAGGGGGCAAGCGTTGTCCGGAATCACTGGGCGTAAAGGGCG...  \n",
       "AACGTAGGGTCCGAGCGTTAATCGGAATTACTGGGCGTAAAGCGTAC...  AACGTAGGGTCCGAGCGTTAATCGGAATTACTGGGCGTAAAGCGTA...  \n",
       "AACGTAGGGTCCGAGCGTTAATCGGAATTACTGGGCGTAAGGCGTAC...  AACGTAGGGTCCGAGCGTTAATCGGAATTACTGGGCGTAAGGCGTA...  \n",
       "AACGTAGGGTGCAAGCGTTGTCCGGAATTACTGGGCGTAAAGGGTGC...  AACGTAGGGTGCAAGCGTTGTCCGGAATTACTGGGCGTAAAGGGTG...  \n",
       "AACGTAGGGTGCAAGCGTTGTCCGGAATTACTGGGTGTAAAGGGAGC...  AACGTAGGGTGCAAGCGTTGTCCGGAATTACTGGGTGTAAAGGGAG...  \n",
       "AACGTAGGGTGCAAGCGTTGTCCGGAATTACTGGGTGTAAAGGGAGC...  AACGTAGGGTGCAAGCGTTGTCCGGAATTACTGGGTGTAAAGGGAG...  \n",
       "AACGTAGGGTGCAAGCGTTGTCCGGAATTACTGGGTGTAAAGGGAGC...  AACGTAGGGTGCAAGCGTTGTCCGGAATTACTGGGTGTAAAGGGAG...  \n",
       "AACGTAGGGTGCAAGCGTTGTCCGGAATTACTGGGTGTAAAGGGAGC...  AACGTAGGGTGCAAGCGTTGTCCGGAATTACTGGGTGTAAAGGGAG...  \n",
       "AACGTAGGGTGCAAGCGTTGTCCGGAATTACTGGGTGTAAAGGGAGC...  AACGTAGGGTGCAAGCGTTGTCCGGAATTACTGGGTGTAAAGGGAG...  \n",
       "AACGTAGGGTGCAAGCGTTGTCCGGAATTACTGGGTGTAAAGGGAGC...  AACGTAGGGTGCAAGCGTTGTCCGGAATTACTGGGTGTAAAGGGAG...  \n",
       "AACGTAGGGTGCAAGCGTTGTCCGGAATTACTGGGTGTAAAGGGAGC...  AACGTAGGGTGCAAGCGTTGTCCGGAATTACTGGGTGTAAAGGGAG...  \n",
       "AACGTAGGGTGCAAGCGTTGTCCGGAATTACTGGGTGTAAAGGGAGC...  AACGTAGGGTGCAAGCGTTGTCCGGAATTACTGGGTGTAAAGGGAG...  \n",
       "AACGTAGGGTGCAAGCGTTGTCCGGAATTACTGGGTGTAAAGGGAGC...  AACGTAGGGTGCAAGCGTTGTCCGGAATTACTGGGTGTAAAGGGAG...  \n",
       "AACGTAGGGTGCAAGCGTTGTCCGGAATTACTGGGTGTAAAGGGAGC...  AACGTAGGGTGCAAGCGTTGTCCGGAATTACTGGGTGTAAAGGGAG...  \n",
       "AACGTAGGTCACAAGCGTTGTCCGGAATTACTGGGCGTAAAGCGCAC...  AACGTAGGTCACAAGCGTTGTCCGGAATTACTGGGCGTAAAGCGCA...  \n",
       "AACGTAGGTCACAAGCGTTGTCCGGAATTACTGGGCGTAAAGCGCAC...  AACGTAGGTCACAAGCGTTGTCCGGAATTACTGGGCGTAAAGCGCA...  \n",
       "AACGTAGGTCACAAGCGTTGTCCGGAATTACTGGGCGTAAAGCGTGC...  AACGTAGGTCACAAGCGTTGTCCGGAATTACTGGGCGTAAAGCGTG...  \n",
       "AACGTAGGTCACAAGCGTTGTCCGGAATTACTGGGCGTAAAGGGTGC...  AACGTAGGTCACAAGCGTTGTCCGGAATTACTGGGCGTAAAGGGTG...  \n",
       "AACGTAGGTCACAAGCGTTGTCCGGAATTACTGGGTGTAAAGGGAGC...  AACGTAGGTCACAAGCGTTGTCCGGAATTACTGGGTGTAAAGGGAG...  \n",
       "AACGTAGGTCACAAGCGTTGTCCGGAATTACTGGGTGTAAAGGGAGC...  AACGTAGGTCACAAGCGTTGTCCGGAATTACTGGGTGTAAAGGGAG...  \n",
       "AACGTAGGTCACAAGCGTTGTCCGGAATTACTGGGTGTAAAGGGAGC...  AACGTAGGTCACAAGCGTTGTCCGGAATTACTGGGTGTAAAGGGAG...  \n",
       "AACGTAGGTCACAAGCGTTGTCCGGAATTACTGGGTGTAAAGGGAGC...  AACGTAGGTCACAAGCGTTGTCCGGAATTACTGGGTGTAAAGGGAG...  \n",
       "AACGTAGGTCACAAGCGTTGTCCGGAATTACTGGGTGTAAAGGGAGC...  AACGTAGGTCACAAGCGTTGTCCGGAATTACTGGGTGTAAAGGGAG...  \n",
       "AACGTAGGTCACAAGCGTTGTCCGGAATTACTGGGTGTAAAGGGAGC...  AACGTAGGTCACAAGCGTTGTCCGGAATTACTGGGTGTAAAGGGAG...  \n",
       "AACGTAGGTCACAAGCGTTGTCCGGAATTACTGGGTGTAAAGGGAGC...  AACGTAGGTCACAAGCGTTGTCCGGAATTACTGGGTGTAAAGGGAG...  \n",
       "AACGTAGGTCACAAGCGTTGTCCGGAATTACTGGGTGTAAAGGGAGC...  AACGTAGGTCACAAGCGTTGTCCGGAATTACTGGGTGTAAAGGGAG...  \n",
       "AACGTAGGTCACAAGCGTTGTCCGGAATTACTGGGTGTAAAGGGAGC...  AACGTAGGTCACAAGCGTTGTCCGGAATTACTGGGTGTAAAGGGAG...  \n",
       "AACGTAGGTCACAAGCGTTGTCCGGAATTACTGGGTGTAAAGGGAGC...  AACGTAGGTCACAAGCGTTGTCCGGAATTACTGGGTGTAAAGGGAG...  \n",
       "AACGTAGGTCACAAGCGTTGTCCGGAATTACTGGGTGTAAAGGGAGC...  AACGTAGGTCACAAGCGTTGTCCGGAATTACTGGGTGTAAAGGGAG...  \n",
       "...                                                                                               ...  \n",
       "TACGTATGGTGCAAGCGTTATCCGGATTTACTGGGTGTAAAGGGAGC...  TACGTATGGTGCAAGCGTTATCCGGATTTACTGGGTGTAAAGGGAG...  \n",
       "TACGTATGGTGCAAGCGTTATCCGGATTTACTGGGTGTAAAGGGAGC...  TACGTATGGTGCAAGCGTTATCCGGATTTACTGGGTGTAAAGGGAG...  \n",
       "TACGTATGGTGCAAGCGTTATCCGGATTTACTGGGTGTAAAGGGAGC...  TACGTATGGTGCAAGCGTTATCCGGATTTACTGGGTGTAAAGGGAG...  \n",
       "TACGTATGGTGCAAGCGTTATCCGGATTTACTGGGTGTAAAGGGAGC...  TACGTATGGTGCAAGCGTTATCCGGATTTACTGGGTGTAAAGGGAG...  \n",
       "TACGTATGGTGCAAGCGTTATCCGGATTTACTGGGTGTAAAGGGAGC...  TACGTATGGTGCAAGCGTTATCCGGATTTACTGGGTGTAAAGGGAG...  \n",
       "TACGTATGGTGCAAGCGTTATCCGGATTTACTGGGTGTAAAGGGAGC...  TACGTATGGTGCAAGCGTTATCCGGATTTACTGGGTGTAAAGGGAG...  \n",
       "TACGTATGGTGCAAGCGTTATCCGGATTTACTGGGTGTAAAGGGAGC...  TACGTATGGTGCAAGCGTTATCCGGATTTACTGGGTGTAAAGGGAG...  \n",
       "TACGTATGGTGCAAGCGTTATCCGGATTTACTGGGTGTAAAGGGAGC...  TACGTATGGTGCAAGCGTTATCCGGATTTACTGGGTGTAAAGGGAG...  \n",
       "TACGTATGGTGCAAGCGTTATCCGGATTTACTGGGTGTAAAGGGAGC...  TACGTATGGTGCAAGCGTTATCCGGATTTACTGGGTGTAAAGGGAG...  \n",
       "TACGTATGGTGCAAGCGTTATCCGGATTTACTGGGTGTAAAGGGAGC...  TACGTATGGTGCAAGCGTTATCCGGATTTACTGGGTGTAAAGGGAG...  \n",
       "TACGTATGGTGCAAGCGTTATCCGGATTTACTGGGTGTAAAGGGAGC...  TACGTATGGTGCAAGCGTTATCCGGATTTACTGGGTGTAAAGGGAG...  \n",
       "TACGTATGGTGCAAGCGTTATCCGGATTTACTGGGTGTAAAGGGAGC...  TACGTATGGTGCAAGCGTTATCCGGATTTACTGGGTGTAAAGGGAG...  \n",
       "TACGTATGGTGCAAGCGTTATCCGGATTTACTGGGTGTAAAGGGAGC...  TACGTATGGTGCAAGCGTTATCCGGATTTACTGGGTGTAAAGGGAG...  \n",
       "TACGTATGGTGCAAGCGTTATCCGGATTTACTGGGTGTAAAGGGAGC...  TACGTATGGTGCAAGCGTTATCCGGATTTACTGGGTGTAAAGGGAG...  \n",
       "TACGTATGGTGCAAGCGTTATCCGGATTTACTGGGTGTAAAGGGAGC...  TACGTATGGTGCAAGCGTTATCCGGATTTACTGGGTGTAAAGGGAG...  \n",
       "TACGTATGGTGCAAGCGTTATCCGGATTTACTGGGTGTAAAGGGAGC...  TACGTATGGTGCAAGCGTTATCCGGATTTACTGGGTGTAAAGGGAG...  \n",
       "TACGTATGGTGCAAGCGTTATCCGGATTTACTGGGTGTAAAGGGAGC...  TACGTATGGTGCAAGCGTTATCCGGATTTACTGGGTGTAAAGGGAG...  \n",
       "TACGTATGGTGCAAGCGTTATCCGGATTTACTGGGTGTAAAGGGCGT...  TACGTATGGTGCAAGCGTTATCCGGATTTACTGGGTGTAAAGGGCG...  \n",
       "TACGTATGGTGCAAGCGTTATCCGGATTTACTGGGTGTAAAGGGTGA...  TACGTATGGTGCAAGCGTTATCCGGATTTACTGGGTGTAAAGGGTG...  \n",
       "TACGTATGGTGCAAGCGTTATCCGGATTTACTGGGTGTAAAGGGTGC...  TACGTATGGTGCAAGCGTTATCCGGATTTACTGGGTGTAAAGGGTG...  \n",
       "TACGTATGGTGCAAGCGTTATCCGGATTTACTGGGTGTAAAGGGTGC...  TACGTATGGTGCAAGCGTTATCCGGATTTACTGGGTGTAAAGGGTG...  \n",
       "TACGTATGGTGCAAGCGTTATCCGGATTTACTGGGTGTAAAGGGTGC...  TACGTATGGTGCAAGCGTTATCCGGATTTACTGGGTGTAAAGGGTG...  \n",
       "TACGTATGGTGCAAGCGTTATCCGGATTTACTGGGTGTAAAGGGTGC...  TACGTATGGTGCAAGCGTTATCCGGATTTACTGGGTGTAAAGGGTG...  \n",
       "TACGTATGTCACGAGCGTTATCCGGATTTATTGGGCGTAAAGCGCGT...  TACGTATGTCACGAGCGTTATCCGGATTTATTGGGCGTAAAGCGCG...  \n",
       "TACGTATGTCGCAAGCGTTATCCGGATTTATTGGGCGTAAAGCGCGT...  TACGTATGTCGCAAGCGTTATCCGGATTTATTGGGCGTAAAGCGCG...  \n",
       "TACGTATGTCGCAAGCGTTATCCGGATTTATTGGGCGTAAAGCGCGT...  TACGTATGTCGCAAGCGTTATCCGGATTTATTGGGCGTAAAGCGCG...  \n",
       "TACGTATGTCGCAAGCGTTATCCGGATTTATTGGGCGTAAAGCGCGT...  TACGTATGTCGCAAGCGTTATCCGGATTTATTGGGCGTAAAGCGCG...  \n",
       "TACGTATGTCGCAAGCGTTATCCGGATTTATTGGGCGTAAAGCGCGT...  TACGTATGTCGCAAGCGTTATCCGGATTTATTGGGCGTAAAGCGCG...  \n",
       "TACGTATGTCGCGAGCGTTATCCGGAATTATTGGGCTTAAAGGGCAT...  TACGTATGTCGCGAGCGTTATCCGGAATTATTGGGCTTAAAGGGCA...  \n",
       "TACGTATGTTCCAAGCGTTATCCGGATTTATTGGGCGTAAAGCGAGC...  TACGTATGTTCCAAGCGTTATCCGGATTTATTGGGCGTAAAGCGAG...  \n",
       "\n",
       "[2177 rows x 7 columns]"
      ]
     },
     "execution_count": 314,
     "metadata": {},
     "output_type": "execute_result"
    }
   ],
   "source": [
    "storage_fc"
   ]
  },
  {
   "cell_type": "markdown",
   "metadata": {},
   "source": [
    "Let's assign the md5 hash, and rename the storage sequences."
   ]
  },
  {
   "cell_type": "code",
   "execution_count": 302,
   "metadata": {
    "collapsed": false
   },
   "outputs": [],
   "source": [
    "storage_sequences = hash_sequence_ids(storage_fc[['sequence']].copy())\n",
    "storage_sequences = storage_sequences.reset_index()[['sequence', 'md5']]"
   ]
  },
  {
   "cell_type": "code",
   "execution_count": null,
   "metadata": {
    "collapsed": false
   },
   "outputs": [],
   "source": [
    "# auxillary function to get minimal fold change for ag-fresh study comparison:\n",
    "def GetAGFreshMin(cagfc,fresh_fc,cseq):\n",
    "    \"\"\"\n",
    "    fold change to minimum(current fold change, ratio to fresh study)\n",
    "    if was not present in fresh study, cap fold change to minimum(current fold change,50)\n",
    "\n",
    "    input:\n",
    "    cagfc : float\n",
    "        the current minimal fold change of AG compared to all fresh frozen studies\n",
    "    fresh_fc : dict of {sequence : foldchange}\n",
    "        dict of fold change per sequence in the study (compared to AG)\n",
    "    cseq : str ('ACGT' sequence)\n",
    "        the sequence being analyzed\n",
    "        \n",
    "    output:\n",
    "    cagfc : float\n",
    "        the modified minimal fold change of AG compared to all fresh-frozen studies\n",
    "    \"\"\"\n",
    "    if cseq in fresh_fc:\n",
    "        cagfc=min(cagfc,fresh_fc[cseq])\n",
    "    else:\n",
    "        cagfc=min(cagfc,50)\n",
    "    return cagfc\n",
    "\n",
    "\n",
    "# auxillary function to get maximal fold change for storage studies day 0 comparison:\n",
    "def GetStorageMax(maxfc,store_fc,cseq,readlen=0):\n",
    "    \"\"\"\n",
    "    if we saw the sOTU in supplied storage study, fold change to maximum(current fold change,supplied storage study compared to day 0)\n",
    "    \n",
    "    input:\n",
    "    maxfc : float\n",
    "        the maximal fold change in all storage study/day compared to corresponding day 0\n",
    "    store_fc : dict of {sequence : fold-change}\n",
    "        dict of fold change per sequence in the storage study (compared to day 0)\n",
    "    cseq : str ('ACGT' sequence)\n",
    "        the sequence being analyzed\n",
    "    readlen : int (optional)\n",
    "        0 (default) to use full sequence length, otherwise use only readlen first bases\n",
    "        used in Se-Jin storage study as reads were 124bp long\n",
    "    \n",
    "    output:\n",
    "    maxfc : float\n",
    "        the new maximal fold change in all storage study/day compared to corresponding day 0\n",
    "    \"\"\"\n",
    "    # get the dict sequences read len (since one storage study is only 124bp)\n",
    "#     readlen=len(next(iter(store_fc.keys())))\n",
    "    if readlen>0:\n",
    "        cseq=cseq[:readlen]\n",
    "    if cseq in store_fc:\n",
    "        maxfc=max(maxfc,store_fc[cseq])\n",
    "    return maxfc"
   ]
  },
  {
   "cell_type": "code",
   "execution_count": null,
   "metadata": {
    "collapsed": false,
    "scrolled": false
   },
   "outputs": [],
   "source": [
    "# find the new blooming bacteria list\n",
    "# test the min of the ag vs other experiments (y axis) and the max growth (in storage studies) (x axis)\n",
    "newbloom=[]\n",
    "bloomscores=[]\n",
    "bloomtax=[]\n",
    "\n",
    "# x and y points for all and candidate blooming bacteria for the scatter plot\n",
    "allx=[]\n",
    "ally=[]\n",
    "intx=[]\n",
    "inty=[]\n",
    "intsym=[]\n",
    "\n",
    "# iterate over all sOTUs significantly different between AG to the other experiments\n",
    "for idx,cseq in enumerate(diff_ag_other.seqs):\n",
    "    # if didn't see it at all in AG sequences - skip it\n",
    "    if cseq in agf.seqdict:\n",
    "        # set the minimal fold change to very high number, so will go down with any fold change\n",
    "        cagfc=1000000\n",
    "    else:\n",
    "        continue\n",
    "\n",
    "    # calculate minimal fold change in AG compared to fresh frozen studies\n",
    "    # PGP\n",
    "    cagfc=GetAGFreshMin(cagfc,fcpgp,cseq)\n",
    "    # UK-Twins\n",
    "    cagfc=GetAGFreshMin(cagfc,fctwins,cseq)\n",
    "    # Whole grain feces\n",
    "    cagfc=GetAGFreshMin(cagfc,fcerc,cseq)\n",
    "\n",
    "    # calculate maximal fold change (over days/studies) in storage studies (compare to time 0)\n",
    "    \n",
    "    # init maximal fold change to 0 (so any fold change is bigger)\n",
    "    maxfc=0\n",
    "    # if we saw the sOTU in mayo day 4, fold change to maximum(current fold change,mayo day 4 compared to 0)\n",
    "    maxfc=GetStorageMax(maxfc,mayo1fc,cseq)\n",
    "    maxfc=GetStorageMax(maxfc,mayo4fc,cseq)\n",
    "    maxfc=GetStorageMax(maxfc,sj7fc,cseq,124)\n",
    "    maxfc=GetStorageMax(maxfc,sj14fc,cseq,124)\n",
    "    maxfc=GetStorageMax(maxfc,sj28fc,cseq,124)\n",
    "    \n",
    "    # if we have both fold changes for this sOTU, store it\n",
    "    if maxfc>0 and cagfc>0:\n",
    "        allx.append(maxfc)\n",
    "        ally.append(cagfc)\n",
    "\n",
    "    # test if this bacteria is a candidate blooming bacteria\n",
    "    # the criteria when to call it a bloom is:\n",
    "    # storage fold change>2 and AG fold change>2 or storage fold change>50 or AG fold change>2 and not observed in storage studies\n",
    "    if (maxfc>2 and cagfc>2) or (maxfc>50) or (cagfc>2 and maxfc==0):\n",
    "        print(diff_ag_other.tax[idx])\n",
    "        print('agfc:%f, maxfc:%f' % (cagfc, maxfc))\n",
    "        # add to candidate blooming list\n",
    "        newbloom.append(cseq)\n",
    "        bloomscores.append(maxfc + 0.01*cagfc)\n",
    "        bloomtax.append(diff_ag_other.tax[idx])\n",
    "        intx.append(maxfc)\n",
    "        inty.append(cagfc)\n",
    "\n",
    "print('total %d blooming bacteria' % len(newbloom))"
   ]
  },
  {
   "cell_type": "markdown",
   "metadata": {},
   "source": [
    "# Plot the fold change scatter plot KDE with highlighting the candidate blooming sOTUs\n",
    "since we have a lot of sOTUs, each with max(storage fc) and min(ag-fresh fc), we plot the average densities of all sOTUs.\n",
    "\n",
    "Red circles denote the sOTUs (15) passing the criteria for candidate blooming bacteria. Note that an additional set of 6 candidate blooming bacteria are not shown as they do not appear in the storage studies, and therefore do not have an x coordinate on the plot."
   ]
  },
  {
   "cell_type": "code",
   "execution_count": null,
   "metadata": {
    "collapsed": false
   },
   "outputs": [],
   "source": [
    "plt.figure()\n",
    "ax = plt.axes()\n",
    "sn.kdeplot(np.log2(np.array(allx)),np.log2(np.array(ally)),shade=True, cmap='Greys', ax=ax)\n",
    "plt.scatter(np.log2(np.array(intx)), np.log2(np.array(inty)), s=80, color=sn.color_palette()[2])\n",
    "ax.set_xlim([-2, 10])\n",
    "ax.set_ylim([-5, 6])\n",
    "ax.set_xlabel('max. storage study foldchange (log2)',fontsize=16)\n",
    "ax.set_ylabel('min. AG foldchange (log2)',fontsize=16)\n",
    "ax.tick_params(axis='both', which='major', labelsize=14)\n",
    "plt.tight_layout()"
   ]
  },
  {
   "cell_type": "code",
   "execution_count": null,
   "metadata": {
    "collapsed": true
   },
   "outputs": [],
   "source": [
    "plt.savefig('../results/fig1-blooming-identification-kde.pdf')"
   ]
  },
  {
   "cell_type": "markdown",
   "metadata": {},
   "source": [
    "## Sort the candidate blooming sOTUs by their storage study fold change\n",
    "We want to order the candidate blooming sOTUs so the more likely/larger effect size bloomers are first.\n",
    "\n",
    "We base the sort order on the storage study maximal fold change, as this approximates the potential for blooming, and the max over different storage times shows the growth in the more optimal conditions for each candidate bloomer (whereas the AG-fresh frozen fold change shows the mean blooming). This way, we give higher priority to sOTUs that can distort the most the frequencies (even if in a small number of samples)."
   ]
  },
  {
   "cell_type": "code",
   "execution_count": null,
   "metadata": {
    "collapsed": false
   },
   "outputs": [],
   "source": [
    "# sort the blooming bacteria according to the maximal storage study fold change\n",
    "sv,si=hs.isort(bloomscores,reverse=True)\n",
    "newbloom=hs.reorder(newbloom,si)\n",
    "bloomtax=hs.reorder(bloomtax,si)\n",
    "bloomscores=hs.reorder(bloomscores,si)"
   ]
  },
  {
   "cell_type": "code",
   "execution_count": null,
   "metadata": {
    "collapsed": false
   },
   "outputs": [],
   "source": [
    "# the sorted list of blooming bacteria\n",
    "for idx,ctax in enumerate(bloomtax):\n",
    "    print('%d : %f %s' % (idx,bloomscores[idx],ctax))"
   ]
  },
  {
   "cell_type": "markdown",
   "metadata": {},
   "source": [
    "## save the bloom sequences"
   ]
  },
  {
   "cell_type": "code",
   "execution_count": null,
   "metadata": {
    "collapsed": false
   },
   "outputs": [],
   "source": [
    "hs.saveseqsfasta(agf,newbloom,'../data/newbloom.all.fa')"
   ]
  },
  {
   "cell_type": "code",
   "execution_count": null,
   "metadata": {
    "collapsed": true
   },
   "outputs": [],
   "source": [
    "hs.saveseqsfasta(agf,newbloom[:8],'../data/newbloom.8.fa')"
   ]
  },
  {
   "cell_type": "markdown",
   "metadata": {},
   "source": [
    "# Plot the taxonomy comparison before and after bloom filtering"
   ]
  },
  {
   "cell_type": "markdown",
   "metadata": {},
   "source": [
    "## prepare the joined experiment"
   ]
  },
  {
   "cell_type": "code",
   "execution_count": null,
   "metadata": {
    "collapsed": true
   },
   "outputs": [],
   "source": [
    "# join AG and PGP\n",
    "allf=hs.joinexperiments(agf,pgpf)"
   ]
  },
  {
   "cell_type": "code",
   "execution_count": null,
   "metadata": {
    "collapsed": false
   },
   "outputs": [],
   "source": [
    "# remove the AG mapping fields (to make it faster)\n",
    "hs.filtermapfields(allf,['origexp'],inplace=True)"
   ]
  },
  {
   "cell_type": "code",
   "execution_count": null,
   "metadata": {
    "collapsed": true
   },
   "outputs": [],
   "source": [
    "# join the UK-Twins\n",
    "allf=hs.joinexperiments(allf,twinsf)"
   ]
  },
  {
   "cell_type": "code",
   "execution_count": null,
   "metadata": {
    "collapsed": true
   },
   "outputs": [],
   "source": [
    "# and join the Whole grain feces\n",
    "allf=hs.joinexperiments(allf,ercf)"
   ]
  },
  {
   "cell_type": "code",
   "execution_count": null,
   "metadata": {
    "collapsed": false
   },
   "outputs": [],
   "source": [
    "# remove all mapping fields except 'origexp' (the original study) (to make it faster)\n",
    "hs.filtermapfields(allf,['origexp'],inplace=True)"
   ]
  },
  {
   "cell_type": "markdown",
   "metadata": {},
   "source": [
    "## Plot the pre-filtered taxonomy plot"
   ]
  },
  {
   "cell_type": "code",
   "execution_count": null,
   "metadata": {
    "collapsed": false
   },
   "outputs": [],
   "source": [
    "# collapes the samples to one per study (using mean value for each sOTU)\n",
    "allfpre=hs.filtersimilarsamples(allf,'origexp',method='mean')"
   ]
  },
  {
   "cell_type": "code",
   "execution_count": null,
   "metadata": {
    "collapsed": true
   },
   "outputs": [],
   "source": [
    "# sort by original experiment\n",
    "allfpre=hs.sortsamples(allfpre,'origexp')"
   ]
  },
  {
   "cell_type": "code",
   "execution_count": null,
   "metadata": {
    "collapsed": false
   },
   "outputs": [],
   "source": [
    "hs.getfieldvals(allfpre,'origexp')"
   ]
  },
  {
   "cell_type": "code",
   "execution_count": null,
   "metadata": {
    "collapsed": true
   },
   "outputs": [],
   "source": [
    "# give nices names to the experiment (for the plot)\n",
    "hs.addfield(allfpre,'expname',['AG-pre','EWF-pre','PGP-pre','UKTwins-pre'])"
   ]
  },
  {
   "cell_type": "code",
   "execution_count": null,
   "metadata": {
    "collapsed": true
   },
   "outputs": [],
   "source": [
    "sn.set_style(\"white\")"
   ]
  },
  {
   "cell_type": "code",
   "execution_count": null,
   "metadata": {
    "collapsed": false
   },
   "outputs": [],
   "source": [
    "# plot the taxonomy bar graph (normalized to 100% per study)\n",
    "taxlist=hs.plottaxonomybar(allfpre,sortfield='expname',showlegend=False,showxlabels=True,rotation=0,sumone=True)"
   ]
  },
  {
   "cell_type": "code",
   "execution_count": null,
   "metadata": {
    "collapsed": false
   },
   "outputs": [],
   "source": [
    "plt.savefig('../results/fig2C_taxonomy-4exp-nofiltering.pdf')"
   ]
  },
  {
   "cell_type": "markdown",
   "metadata": {},
   "source": [
    "## plot the post-filtering taxonomy plot"
   ]
  },
  {
   "cell_type": "code",
   "execution_count": null,
   "metadata": {
    "collapsed": true
   },
   "outputs": [],
   "source": [
    "# filter the 8 blooming bacteria\n",
    "allfpost=hs.filterseqs(allf,newbloom[:8],exclude=True)"
   ]
  },
  {
   "cell_type": "code",
   "execution_count": null,
   "metadata": {
    "collapsed": false
   },
   "outputs": [],
   "source": [
    "# collapes the samples to one per study (using mean value for each sOTU)\n",
    "allfpost=hs.filtersimilarsamples(allfpost,'origexp',method='mean')"
   ]
  },
  {
   "cell_type": "code",
   "execution_count": null,
   "metadata": {
    "collapsed": true
   },
   "outputs": [],
   "source": [
    "# sort by original experiment\n",
    "allfpost=hs.sortsamples(allfpost,'origexp')"
   ]
  },
  {
   "cell_type": "code",
   "execution_count": null,
   "metadata": {
    "collapsed": false
   },
   "outputs": [],
   "source": [
    "hs.getfieldvals(allfpost,'origexp')"
   ]
  },
  {
   "cell_type": "code",
   "execution_count": null,
   "metadata": {
    "collapsed": true
   },
   "outputs": [],
   "source": [
    "# give nices names to the experiment (for the plot)\n",
    "hs.addfield(allfpost,'expname',['AG-post','EWF-post','PGP-post','UKTwins-post'])"
   ]
  },
  {
   "cell_type": "code",
   "execution_count": null,
   "metadata": {
    "collapsed": false
   },
   "outputs": [],
   "source": [
    "sn.set_style(\"white\",{'legend.frameon':True})\n",
    "sn.set_context(\"notebook\")"
   ]
  },
  {
   "cell_type": "code",
   "execution_count": null,
   "metadata": {
    "collapsed": false
   },
   "outputs": [],
   "source": [
    "# plot the taxonomy bar graph (normalized to 100% per study). Use same phylum order as previous taxonomy plot\n",
    "hs.plottaxonomybar(allfpost,sortfield='expname',showlegend=False,showxlabels=True,rotation=0,sumone=True,taxorder=taxlist.tax)"
   ]
  },
  {
   "cell_type": "code",
   "execution_count": null,
   "metadata": {
    "collapsed": true
   },
   "outputs": [],
   "source": [
    "plt.savefig('../results/fig2C_taxonomy-4exp-withfiltering-8.pdf')"
   ]
  },
  {
   "cell_type": "markdown",
   "metadata": {},
   "source": [
    "## and for the legend"
   ]
  },
  {
   "cell_type": "code",
   "execution_count": null,
   "metadata": {
    "collapsed": false
   },
   "outputs": [],
   "source": [
    "# plot with legend (we just cut out the legend in the figure)\n",
    "hs.plottaxonomybar(allfpre,sortfield='expname',showlegend=True,showxlabels=True,rotation=0,sumone=True)"
   ]
  },
  {
   "cell_type": "code",
   "execution_count": null,
   "metadata": {
    "collapsed": true
   },
   "outputs": [],
   "source": [
    "plt.savefig('../results/fig2C_taxonomy-4exp-forlegend.pdf')"
   ]
  },
  {
   "cell_type": "markdown",
   "metadata": {
    "collapsed": true
   },
   "source": [
    "In conclusion, we can take advantage of the microbes identified to be blooming in previous studies, combined with comparison between shipped and fresh frozen samples, to identify candidate taxa that bloom in storage conditions in the American Gut project.\n",
    "\n",
    "An advantage of performing such analysis on a sub-OTU level (i.e. the output of the Deblur algorithm), is that we can identify and remove the exact blooming bacterial sequences, whereas using traditional OTU based methods would require removal of the blooming bacteria and all close sequences, which can lead to much higher numbers of bacteria removed.\n",
    "\n",
    "Note that choosing the number of candidate blooming bacteria to remove is a type-1/type-2 balance. Removal of more bacteria will reduce the effect of shipment, at the cost of losing more bacteria for analysis.\n",
    "\n",
    "While all bacteria may change during shipment, it seems only a small number of them exhibit a drastic growth. By removal of as little as the top 8 blooming bacteria, we can greatly reduce the effect of shipment. This leads to a great reduction in the noise within American Gut samples (since not all samples are undergo the same shipment conditions/duration), as well as enable comparison to other, fresh frozen studies.\n"
   ]
  },
  {
   "cell_type": "markdown",
   "metadata": {
    "collapsed": true
   },
   "source": [
    "# References\n",
    "<ol><li><a id='1'></a>Song, S.J., Amir, A.; Metcalf, J.L.; Amato, K.R.; Xu, Z.Z.; Humphrey, G.; Knight, R. (2016). \"<a href=\"http://msystems.asm.org/content/1/3/e00021-16\">Preservation Methods Differ in Fecal Microbiome Stability, Affecting Suitability for Field Studies</a>. <em>mSystems</em>. 1: e00021-16\n",
    "</li><li><a id=\"2\"></a>Sinha, R.; Chen, J.; Amir, A,; Vogtmann, E.; Shi, J.; Inman, K.S.; Flores, R.; Sampson, J.; Knight, R.; Chia, N. (2016) \"<a href=\"https://www.ncbi.nlm.nih.gov/pubmed/26604270\">Collecting fecal samples for microbiome analyses in epidemiology studies.</a>\" <em>Cancer Epidemiol Biomarkers Prev</em> 25: 407-416.\n",
    "</li><li><a id=\"3\"></a>Goodrich, J.K.; Waters, J.L.; Poole, A.C.; Sutter, J.L.; Blekhman, R.; Beaumont, M.; Van Treuren, W.; Knight, R.; Bell, J.T.; Spector, T.D.; Clark, A.G.; Ley, R.E. (2014). \"<a href=\"https://www.ncbi.nlm.nih.gov/pubmed/25417156\">Human genetics shape the gut microbiome</a>.\" <em>Cell</em>. 159: 789-799.\n",
    "</li><li><a id=\"4\"></a>Vitaglione, P.; Mennella, I.; Ferracane, R.; Rivellese, A.A.; Giacco, R.; Ercolini, D.; Gibbons, S.; La Storia, A.; Gilbert, J.A.; Jonnalagadda, S.; Thielecke, F.; Galo, M.A.; Scalfi, L.; Fogliano, V. (2015). \"<a href=\"https://www.ncbi.nlm.nih.gov/pubmed/25646321\">Whole-grain wheat consumption reduces inflammation in a randomized controlled trial on overweight and obese subjects with unhealthy dietary and lifestyle behaviors: role of polyphenols bound to cereal dietary fiber</a>.\" <em>Am J Clin Nutr</em> 101: 251-261.\n",
    "</li><li><a id=\"5\"></a>Mandal, S.; Van Treuren, W.; White, R.A.; Eggesbo, M.; Knight, R.; Peddada, S.D (2015) \"<a href=\"https://www.ncbi.nlm.nih.gov/pubmed/26028277\">Analysis of composition of microbiomes: a novel method for studying microbial composition</a>.\" <em>Microb Ecol Health Dis</em> 29:27663.\n",
    "</li></ol>"
   ]
  },
  {
   "cell_type": "code",
   "execution_count": null,
   "metadata": {
    "collapsed": true
   },
   "outputs": [],
   "source": []
  }
 ],
 "metadata": {
  "anaconda-cloud": {},
  "kernelspec": {
   "display_name": "Python [conda env:bloom]",
   "language": "python",
   "name": "conda-env-bloom-py"
  },
  "language_info": {
   "codemirror_mode": {
    "name": "ipython",
    "version": 3
   },
   "file_extension": ".py",
   "mimetype": "text/x-python",
   "name": "python",
   "nbconvert_exporter": "python",
   "pygments_lexer": "ipython3",
   "version": "3.5.2"
  }
 },
 "nbformat": 4,
 "nbformat_minor": 0
}
