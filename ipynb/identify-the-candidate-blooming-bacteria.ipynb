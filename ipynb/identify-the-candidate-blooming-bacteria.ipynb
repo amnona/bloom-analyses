{
 "cells": [
  {
   "cell_type": "markdown",
   "metadata": {},
   "source": [
    "# Identify the candidate blooming bacteria\n",
    "\n",
    "The goal of this notebook is to identify candidate bacteria which bloom under shipping conditions. We identified cadnidates in two parts: first, we looked for bacteria which grew at room temperature in storage studies. We also looked at shipped American Gut samples and compared them to fresh frozen fecal samples. We used the combined technique because the storage studies were limited by size, while the comparison between studies is noisy.\n",
    "\n",
    "Briefly, this process will involve the following steps:\n",
    "\n",
    "1. Load the datasets (Mayo and Se-Jin storage studies and AG, PGP, UK-Twins and Whole grain feces)\n",
    "2. Calculate the fold change per sOTU in the storage studies\n",
    "3. Calculate the fold change in AG compared to fresh frozen studies (PGP, UK-Twins and Whole grain feces)\n",
    "4. Identify candidate blooming bacteria by combining the fold changes in 2,3\n",
    "5. Plot the scatter of the fold change per sOTU with highlighting the candidate blooming bacteria\n",
    "6. Plot taxonomy plots before and after bloom filtering\n",
    "\n",
    "Let's start by loading the necessary python functions. "
   ]
  },
  {
   "cell_type": "code",
   "execution_count": 1,
   "metadata": {
    "collapsed": false,
    "scrolled": false
   },
   "outputs": [],
   "source": [
    "import hashlib\n",
    "\n",
    "import matplotlib as mpl\n",
    "mpl.use('Agg')\n",
    "\n",
    "# load modules used in the analysis\n",
    "import biom\n",
    "import matplotlib.pyplot as plt\n",
    "import numpy as np\n",
    "import pandas as pd\n",
    "import seaborn as sn\n",
    "import skbio\n",
    "from skbio.stats.composition import ancom, closure\n",
    "\n",
    "# plots inside the notebook\n",
    "%matplotlib notebook\n",
    "\n",
    "# set the random seed\n",
    "np.random.seed(2016)"
   ]
  },
  {
   "cell_type": "code",
   "execution_count": 2,
   "metadata": {
    "collapsed": true
   },
   "outputs": [],
   "source": [
    "import pandas as pd\n",
    "import numpy as np\n",
    "\n",
    "def exploding_panda(_bt):\n",
    "    \"\"\"BIOM->Pandas dataframe converter\n",
    "\n",
    "    Parameters\n",
    "    ----------\n",
    "    _bt : biom.Table\n",
    "        BIOM table\n",
    "\n",
    "    Returns\n",
    "    -------\n",
    "    pandas.DataFrame\n",
    "        The BIOM table converted into a DataFrame\n",
    "        object.\n",
    "\n",
    "    References\n",
    "    ----------\n",
    "    Based on this answer on SO:\n",
    "    http://stackoverflow.com/a/17819427/379593\n",
    "    \"\"\"\n",
    "    m = _bt.matrix_data\n",
    "    data = [pd.SparseSeries(m[i].toarray().ravel()) for i in np.arange(m.shape[0])]\n",
    "    out = pd.SparseDataFrame(data, index=_bt.ids('observation'),\n",
    "                             columns=_bt.ids('sample'))\n",
    "\n",
    "    return out"
   ]
  },
  {
   "cell_type": "markdown",
   "metadata": {},
   "source": [
    "# Loading all experimental data"
   ]
  },
  {
   "cell_type": "markdown",
   "metadata": {},
   "source": [
    "We'll write a quick function to load the data. We'll load the biom table (`biom_fp`). We'll load the specified metadata columns (`meta_fp` and `keep_columns`). Then, we'll filter the data to include only samples with at least 1000 counts/sample (`depth`) and that fit the filtering criteria (`filters`). Finally, we'll add information about the study and preservation method to make later analysis easier."
   ]
  },
  {
   "cell_type": "code",
   "execution_count": 3,
   "metadata": {
    "collapsed": true
   },
   "outputs": [],
   "source": [
    "def load_studies(biom_fp, meta_fp, name, preservation, keep_columns=None, \n",
    "                 filters={}, depth=1000):\n",
    "    \"\"\"Loads the studies more easily\"\"\"\n",
    "    # Loads the mapping file\n",
    "    if keep_columns == None:\n",
    "        meta = pd.read_csv(meta_fp, sep='\\t', dtype=str)\n",
    "    else:\n",
    "        meta = pd.read_csv(meta_fp, sep='\\t', dtype=str, usecols=keep_columns)\n",
    "    meta.set_index('#SampleID', inplace=True)\n",
    "    \n",
    "    # Loads the biom table\n",
    "    sotu = biom.load_table(biom_fp)\n",
    "\n",
    "    # We'll first filter the table by sequencing depth\n",
    "    sotu = sotu.filter(lambda val, id_, md: val.sum() > depth, axis='sample')\n",
    "    meta = meta.loc[sotu.ids(axis='sample')]\n",
    "    \n",
    "    # Filters the samples\n",
    "    def filter_meta(x):\n",
    "        return np.all([x[k] == v for k, v in filters.items()])\n",
    "    \n",
    "    meta_f = meta.loc[meta.apply(filter_meta, axis=1)].copy()\n",
    "    meta_f['STUDY'] = name\n",
    "    meta_f['PRESERVATION'] = preservation\n",
    "    sotu_f = sotu.filter(meta_f.index)\n",
    "    \n",
    "    return meta_f, sotu_f"
   ]
  },
  {
   "cell_type": "markdown",
   "metadata": {},
   "source": [
    "## Song fecal stability study\n",
    "\n",
    "The Song fecal stability study [[1](#1)] compares the stability of human and dog fecal samples under a variety of storage conditions.\n",
    "\n",
    "We will only use samples with no preservative stored at ambient temperature for 7, 14 and 28 days (compared to samples sequenced at day 0)."
   ]
  },
  {
   "cell_type": "code",
   "execution_count": 4,
   "metadata": {
    "collapsed": false
   },
   "outputs": [],
   "source": [
    "song_meta, song_sotu = load_studies(\n",
    "    biom_fp = '../data/storage.sejin.clean.withtax.biom',\n",
    "    meta_fp = '../data/map.storage.sejin.txt',\n",
    "    name='SONG',\n",
    "    preservation='STORAGE',\n",
    "    keep_columns=['#SampleID', 'preservative', 'temperature', 'temp2', 'species', \n",
    "                  'time_numeric', 'subject'],\n",
    "    filters={'preservative': 'None',\n",
    "             'temperature': 'amb',\n",
    "             'species': 'human'},\n",
    "    )"
   ]
  },
  {
   "cell_type": "markdown",
   "metadata": {},
   "source": [
    "The sample is filtered to only include perservative-free samples stored at room temperature. These include samples collected at day 0 and immediately sequenced, which we use as a reference. We will only use samples with at least 1000 sequences."
   ]
  },
  {
   "cell_type": "markdown",
   "metadata": {},
   "source": [
    "## Mayo fecal stability study"
   ]
  },
  {
   "cell_type": "markdown",
   "metadata": {},
   "source": [
    "The Mayo fecal stability study [[2](#2)] compares the effect of different storage conditions on human fecal samples. Samples were stored at room temperature with or without perservatives. We'll only look at samples without perservative."
   ]
  },
  {
   "cell_type": "code",
   "execution_count": 5,
   "metadata": {
    "collapsed": false
   },
   "outputs": [],
   "source": [
    "mayo_meta, mayo_sotu = load_studies(\n",
    "    biom_fp = '../data/mayo.new.min10.clean.withtax.biom',\n",
    "    meta_fp = '../data/map.mayo1.txt',\n",
    "    name='MAYO_STORAGE',\n",
    "    preservation='STORAGE',\n",
    "    filters={'TREATMENT': 'No Additive'},\n",
    "    )"
   ]
  },
  {
   "cell_type": "markdown",
   "metadata": {},
   "source": [
    "## American Gut\n",
    "\n",
    "The [American Gut Project](<http://www.americangut.org>) is a cross sectional study. Samples were shipped through local post without perservatives. We will use only fecal samples with at least 1000 sequences per sample."
   ]
  },
  {
   "cell_type": "code",
   "execution_count": 6,
   "metadata": {
    "collapsed": false
   },
   "outputs": [],
   "source": [
    "agp_meta, agp_sotu = load_studies(biom_fp='../data/ag.qiita-10317.biom',\n",
    "                                  meta_fp='../data/ag.qiita-10317.txt',\n",
    "                                  name='AGP',\n",
    "                                  preservation='NONE',\n",
    "                                  keep_columns=['BODY_HABITAT', '#SampleID'],\n",
    "                                  filters={'BODY_HABITAT': 'UBERON:feces'}\n",
    "                                  )"
   ]
  },
  {
   "cell_type": "markdown",
   "metadata": {},
   "source": [
    "## UK twins study\n",
    "\n",
    "We'll use data from Goodrich et al [[3](#3)], a fresh frozen study comparing the heritability of the microbiome in monozygotic and dizygotic twins."
   ]
  },
  {
   "cell_type": "code",
   "execution_count": 7,
   "metadata": {
    "collapsed": false
   },
   "outputs": [],
   "source": [
    "twin_meta, twin_sotu = load_studies(biom_fp='../data/twins.qiita-2014.biom',\n",
    "                                meta_fp='../data/twins.qiita-2014.txt',\n",
    "                                name='UK_TWINS',\n",
    "                                preservation='FRESH_FROZEN',\n",
    "                                keep_columns=['env_matter', '#SampleID'],\n",
    "                                filters={'env_matter': 'ENVO:feces'}\n",
    "                                )"
   ]
  },
  {
   "cell_type": "markdown",
   "metadata": {},
   "source": [
    "## PGP\n",
    "\n",
    "(unpublished), Qiita study ID [1189](<https://qiita.ucsd.edu/study/description/1189>)\n",
    "\n",
    "Samples were collected from participants in the Personal Genome Project and fresh frozen. The study has not yet been published, but data is avaliable in [Qiita study 1189](<https://qiita.ucsd.edu/study/description/1189>). The study contains fecal, oral and skin samples. We'll use only the fecal samples.\n"
   ]
  },
  {
   "cell_type": "code",
   "execution_count": 8,
   "metadata": {
    "collapsed": false
   },
   "outputs": [],
   "source": [
    "pgp_meta, pgp_sotu = load_studies(biom_fp='../data/pgp.qiita-1189.biom',\n",
    "                                  meta_fp='../data/pgp.qiita-1189.txt',\n",
    "                                  name='PGP',\n",
    "                                  preservation='FRESH_FROZEN',\n",
    "                                  keep_columns=['#SampleID', 'body_product'],\n",
    "                                  filters={'body_product': 'UBERON:feces'}\n",
    "                                  )"
   ]
  },
  {
   "cell_type": "markdown",
   "metadata": {},
   "source": [
    "## Ercolini whole grain feces\n",
    "\n",
    "This study [[4](#4)] contains fecal samples from 80 healthy overweight/obese subjects, part of which undergoing whole grain wheat dietery intervention."
   ]
  },
  {
   "cell_type": "code",
   "execution_count": 9,
   "metadata": {
    "collapsed": false
   },
   "outputs": [],
   "source": [
    "erc_meta, erc_sotu = load_studies(biom_fp='../data/erc.qiita-1481.biom',\n",
    "                                  meta_fp='../data/erc.qiita-1481.txt',\n",
    "                                  name='ERC',\n",
    "                                  preservation='FRESH_FROZEN',\n",
    "                                  keep_columns=['env_matter', '#SampleID'],\n",
    "                                  filters={'env_matter': 'ENVO:feces'}\n",
    "                                  )"
   ]
  },
  {
   "cell_type": "markdown",
   "metadata": {},
   "source": [
    "# Analysis"
   ]
  },
  {
   "cell_type": "markdown",
   "metadata": {},
   "source": [
    "## Calculate growth for bacteria in storage studies\n",
    "For each sOTU, calculate the mean fold change over all individuals, using a minimal read cutoff of 5 reads/sample to reduce effect of discretization and multinomial sampling of low frequency sOTUs.\n",
    "\n",
    "Let's start by defining the function we'll use to calculate these fold differences. We'll take a map and subOTU table for a storage study. We assume that this study includes multiple samples from the same individual (designated by the `subject` column). We can compare the difference between timepoints (identied as the values of `time0` and `time1` and found in the `time_col`). Additional filters to select the sames, such as the perservative or storage temperature can be specified as well, using `filters`. The minimum sequencing depth for a sample to be considered is set as `seq_depth`, while the minimum number of counts for an OTU to be compared is `min_count`.\n",
    "\n",
    "The function will calculate the mean fold change in sOTUs of interest between the two time points for all OTUs which have at least hte minimum number of counts either before or after storage."
   ]
  },
  {
   "cell_type": "code",
   "execution_count": 10,
   "metadata": {
    "collapsed": true
   },
   "outputs": [],
   "source": [
    "def test_stability(map_, otu_, time_col='time_numeric', time0='1', time1='2', \n",
    "                   subject_col='subject', mincount=5, seq_depth=2500, filters={}):\n",
    "    \"\"\"Calculates the fold change in a sub OTU between timepoints\n",
    "    \n",
    "    Parameters\n",
    "    ----------\n",
    "    map_ : DataFrame\n",
    "        The mapping file for the study. Must contain the columns\n",
    "    \"\"\"\n",
    "    # Filters out samples without at least the minimum number of sequences\n",
    "    \n",
    "    \n",
    "    # Filters out sOTUs without at least 0 sequences/sample\n",
    "    \n",
    "    # Sets up a filter for the mapping file to get the appropriate data.\n",
    "    def stability_filter(x):\n",
    "        return ((x[time_col] in {time0, time1}) &\n",
    "                (np.all([x[c] == v for c, v in filters.items()]))\n",
    "                )\n",
    "    \n",
    "    # Filters the mapping file and otu table\n",
    "    map_ = map_.loc[map_.apply(stability_filter, axis=1)].copy()\n",
    "    otu_ = otu_.filter(map_.index, inplace=False)\n",
    "    otu_ = otu_.filter(lambda val, id_, md: (val.sum() > 0), axis='observation')\n",
    "    \n",
    "    otu_ids = otu_.ids('observation')\n",
    "    ratios = []\n",
    "    subjects = []\n",
    "    # Groups by subject and iterates through the comparison\n",
    "    for hsi, sub_map in map_.groupby(subject_col):\n",
    "        # Gets the list of samples at each time point\n",
    "        id0 = set(sub_map.index[sub_map[time_col] == time0])\n",
    "        id1 = set(sub_map.index[sub_map[time_col] == time1])\n",
    "        \n",
    "        # If there aren't samples for each timepoint, continue\n",
    "        if ((len(id0) == 0) or (len(id1) == 0)):\n",
    "            continue\n",
    "        \n",
    "        # Gets the OTU data\n",
    "        sotus0 = otu_.filter(id0, inplace=False).sum(axis='observation') / len(id0)\n",
    "        sotus1 = otu_.filter(id1, inplace=False).sum(axis='observation') / len(id1)\n",
    "\n",
    "        low = (sotus0 < mincount) & (sotus1 < mincount)\n",
    "\n",
    "        sotus0[sotus0 < mincount] = mincount\n",
    "        sotus1[sotus1 < mincount] = mincount\n",
    "\n",
    "        ratio = sotus1 / sotus0\n",
    "        ratio[low] = np.nan\n",
    "        ratios.append(ratio)\n",
    "        subjects.append(hsi)\n",
    "    \n",
    "    # Gets the list of ratios exlcuding any otu which doesnt meet the filtering criteria\n",
    "    ratios = pd.DataFrame(np.vstack(ratios), index=subjects, columns=otu_ids)\n",
    "    ratios.dropna(1, inplace=True, how='all')\n",
    "\n",
    "    # Calculate the mean fold change and the log fold change\n",
    "    fc = pd.Series(np.nanmean(ratios, 0), index=ratios.columns)\n",
    "    \n",
    "    return fc"
   ]
  },
  {
   "cell_type": "markdown",
   "metadata": {},
   "source": [
    "We'll also generate a pretty histogram plot showing the comparison. This will take the fold change values and return a maplotlib axis with a plot. "
   ]
  },
  {
   "cell_type": "code",
   "execution_count": 11,
   "metadata": {
    "collapsed": true
   },
   "outputs": [],
   "source": [
    "def plot_logfoldchange_histogram(foldchange, fig=None, ax=None):\n",
    "    \"\"\"Makes a pretty histogram of the fold change\"\"\"\n",
    "    if fig is None:\n",
    "        fig = plt.figure()\n",
    "    if ax is None:\n",
    "        ax = plt.axes()\n",
    "    # Constant limits and bins facilitate comparisons\n",
    "    sn.distplot(np.log2(foldchange.dropna()), ax=ax, bins=np.linspace(-12, 12, 120))\n",
    "    ax.set_xlim([-12, 12])\n",
    "    ax.set_ylim([0, 1])\n",
    "    # Sets up axis labels\n",
    "    ax.set_ylabel('Number of OTUs', size=24)\n",
    "    ax.set_xlabel('log$_{2}$(fold change)', size=24)\n",
    "    ax.tick_params(axis='both', which='major', labelsize=24)\n",
    "    plt.tight_layout()\n",
    "    \n",
    "    return fig"
   ]
  },
  {
   "cell_type": "markdown",
   "metadata": {},
   "source": [
    "We'll look at the fold change in the mayo stability study. We'll compare the samples from day 0 to day 1 and day 4."
   ]
  },
  {
   "cell_type": "code",
   "execution_count": 12,
   "metadata": {
    "collapsed": false
   },
   "outputs": [],
   "source": [
    "mayo_fc  = pd.DataFrame(\n",
    "    data=[test_stability(mayo_meta, mayo_sotu, \n",
    "                         time_col='SAMPLE_VISIT', \n",
    "                         subject_col='HOST_SUBJECT_ID',\n",
    "                         time0='Day 0', \n",
    "                         time1 = 'Day %i' % day) for day in [1, 4]],\n",
    "    index=['Day 1', 'Day 4']\n",
    "    ).T"
   ]
  },
  {
   "cell_type": "markdown",
   "metadata": {},
   "source": [
    "Let's also look at the change between day 0 and day 1 in the same study."
   ]
  },
  {
   "cell_type": "raw",
   "metadata": {
    "collapsed": false
   },
   "source": [
    "# mayo 1 days\n",
    "mayo1_fig = plot_logfoldchange_histogram(mayo_fc['Day 1'])\n",
    "mayo1_fig.savefig('../results/fig1-hist-mayo-1-0.pdf')\n",
    "\n",
    "# Let's look at the difference between day 0 and day 4 in samples from the Mayo Stability study.\n",
    "\n",
    "# mayo 4 days\n",
    "mayo4_fig = plot_logfoldchange_histogram(mayo_fc['Day 4'])\n",
    "\n",
    "mayo4_fig.savefig('../results/fig1-hist-mayo-4-0.pdf')"
   ]
  },
  {
   "cell_type": "markdown",
   "metadata": {},
   "source": [
    "We'll also look at the Song stability study, comparing fresh samples to those stored for one, two, and seven weeks."
   ]
  },
  {
   "cell_type": "code",
   "execution_count": 13,
   "metadata": {
    "collapsed": true
   },
   "outputs": [],
   "source": [
    "song_fc  = pd.DataFrame(\n",
    "    data=[test_stability(song_meta, song_sotu, \n",
    "                         time0='1', \n",
    "                         time1 = '%i' % day) for day in [2, 3, 4]],\n",
    "    index=['Week 1', 'Week 2', 'Week 7']\n",
    "    ).T"
   ]
  },
  {
   "cell_type": "raw",
   "metadata": {
    "collapsed": false,
    "scrolled": false
   },
   "source": [
    "sj7fc_fig = plot_logfoldchange_histogram(song_fc['Week 1'])\n",
    "sj7fc_fig.savefig('../results/fig1-hist-sejin-7-0.pdf')\n",
    "\n",
    "sj14fc_fig = plot_logfoldchange_histogram(song_fc['Week 2'])\n",
    "sj14fc_fig.savefig('../results/fig1-hist-sejin-14-0.pdf')\n",
    "\n",
    "# se jin 4 weeks\n",
    "sj28fc_fig = plot_logfoldchange_histogram(song_fc['Week 7'])\n",
    "sj28fc_fig.savefig('../results/fig1-hist-sejin-28-0.pdf')"
   ]
  },
  {
   "cell_type": "markdown",
   "metadata": {},
   "source": [
    "## Differential Expression\n",
    "We'll next look at how American Gut, the shipped study, looks in comparison to the fresh frozen studies.\n",
    "\n",
    "So, we'll join all the cross sectional studies together and find sOTUs which differ significantly.\n",
    "Join all studies together and find sOTUs sginificantly higher/lower in AG"
   ]
  },
  {
   "cell_type": "code",
   "execution_count": 33,
   "metadata": {
    "collapsed": true
   },
   "outputs": [],
   "source": [
    "# Combines the metadata\n",
    "fec_meta = pd.concat([pgp_meta[['STUDY', 'PRESERVATION']], \n",
    "                      twin_meta[['STUDY', 'PRESERVATION']], \n",
    "                      agp_meta[['STUDY', 'PRESERVATION']], \n",
    "                      erc_meta[['STUDY', 'PRESERVATION']]])"
   ]
  },
  {
   "cell_type": "code",
   "execution_count": 34,
   "metadata": {
    "collapsed": false
   },
   "outputs": [],
   "source": [
    "# Combines the sOTU tables\n",
    "fec_sotu = pgp_sotu.merge(twin_sotu).merge(agp_sotu).merge(erc_sotu)"
   ]
  },
  {
   "cell_type": "markdown",
   "metadata": {},
   "source": [
    "# ------- REMOVE THESE CELLS --------"
   ]
  },
  {
   "cell_type": "code",
   "execution_count": 35,
   "metadata": {
    "collapsed": false
   },
   "outputs": [],
   "source": [
    "keep_ids = np.hstack(\n",
    "    [np.random.choice(fec_meta.loc[fec_meta['STUDY'] == study].index, 25, replace=False)\n",
    "     for study in fec_meta['STUDY'].unique()]\n",
    "    )\n",
    "fec_meta = fec_meta.loc[keep_ids].copy()\n",
    "fec_sotu = fec_sotu.filter(keep_ids, axis='sample')"
   ]
  },
  {
   "cell_type": "markdown",
   "metadata": {},
   "source": [
    "# -------------------------------------------"
   ]
  },
  {
   "cell_type": "markdown",
   "metadata": {},
   "source": [
    "Once we combine the studies, we'll filter out any OTU present in less than "
   ]
  },
  {
   "cell_type": "code",
   "execution_count": 36,
   "metadata": {
    "collapsed": false
   },
   "outputs": [],
   "source": [
    "fec_sotu = fec_sotu.filter(lambda val, id_, md: val.sum() > 50, axis='observation', inplace=False)"
   ]
  },
  {
   "cell_type": "markdown",
   "metadata": {},
   "source": [
    "We'll use ANCOM [[5](#5)] to analyze the differential abundance between the fresh frozen and unpreserved studies, and then use this to calculate a fold change. We'll start by casting our sOTU tables to a dataframe, which will give us some more flexibility for the operations we need to do."
   ]
  },
  {
   "cell_type": "code",
   "execution_count": 37,
   "metadata": {
    "collapsed": false
   },
   "outputs": [],
   "source": [
    "fec_sotu = exploding_panda(fec_sotu).to_dense()"
   ]
  },
  {
   "cell_type": "markdown",
   "metadata": {},
   "source": [
    "To make handling the data easier, we'll build an MD5 look up for the sequences, and then adjust the index to account for this."
   ]
  },
  {
   "cell_type": "code",
   "execution_count": 38,
   "metadata": {
    "collapsed": true
   },
   "outputs": [],
   "source": [
    "def hash_sequence_ids(sequences):\n",
    "    sequences['md5'] = sequences['sequence'].apply(\n",
    "        lambda x: hashlib.md5(x.encode('utf-8')).hexdigest()\n",
    "    )\n",
    "    assert len(sequences['md5'].unique()) == len(sequences['md5'])\n",
    "    \n",
    "    return sequences"
   ]
  },
  {
   "cell_type": "code",
   "execution_count": 39,
   "metadata": {
    "collapsed": false
   },
   "outputs": [],
   "source": [
    "fec_sotu.reset_index(inplace=True)\n",
    "sequences = fec_sotu[['index']].copy()\n",
    "sequences.rename(columns={'index': 'sequence'}, inplace=True)\n",
    "freeze_thaw = hash_sequence_ids(sequences)"
   ]
  },
  {
   "cell_type": "markdown",
   "metadata": {},
   "source": [
    "Finally, we'll replace the keyname."
   ]
  },
  {
   "cell_type": "code",
   "execution_count": 40,
   "metadata": {
    "collapsed": false
   },
   "outputs": [],
   "source": [
    "md_key = freeze_thaw.set_index('sequence').to_dict()"
   ]
  },
  {
   "cell_type": "code",
   "execution_count": 46,
   "metadata": {
    "collapsed": false
   },
   "outputs": [],
   "source": [
    "# fec_sotu['index'] = fec_sotu['index'].apply(lambda x: md_key['md5'][x])\n",
    "fec_sotu.set_index('index', inplace=True)"
   ]
  },
  {
   "cell_type": "code",
   "execution_count": 51,
   "metadata": {
    "collapsed": true
   },
   "outputs": [],
   "source": [
    "fec_sotu = fec_sotu.T"
   ]
  },
  {
   "cell_type": "markdown",
   "metadata": {},
   "source": [
    "ANCOM calcuates a significant difference in the ratio abundance between sOTUs, which accounts for compositionality in the data using log ratios. The method does not accept zeros, so we're going to add a constant value of 1 to all our counts before we normalize the data."
   ]
  },
  {
   "cell_type": "code",
   "execution_count": 181,
   "metadata": {
    "collapsed": false
   },
   "outputs": [],
   "source": [
    "fec_close = pd.DataFrame(closure(fec_sotu.values + 1),\n",
    "                         index=fec_sotu.index,\n",
    "                         columns=fec_sotu.columns)"
   ]
  },
  {
   "cell_type": "markdown",
   "metadata": {},
   "source": [
    "Finally, let's run ANCOM and calculate the fold change."
   ]
  },
  {
   "cell_type": "code",
   "execution_count": 182,
   "metadata": {
    "collapsed": false
   },
   "outputs": [
    {
     "name": "stderr",
     "output_type": "stream",
     "text": [
      "/Users/jdebelius/miniconda2/envs/bloom/lib/python3.5/site-packages/scipy/stats/stats.py:2976: RuntimeWarning: invalid value encountered in double_scalars\n",
      "  f = msb / msw\n"
     ]
    },
    {
     "name": "stdout",
     "output_type": "stream",
     "text": [
      "CPU times: user 1min 56s, sys: 474 ms, total: 1min 56s\n",
      "Wall time: 1min 57s\n"
     ]
    }
   ],
   "source": [
    "%%time\n",
    "ancom_stats, features = ancom(fec_close, \n",
    "                              fec_meta['PRESERVATION'], \n",
    "                              multiple_comparisons_correction='holm-bonferroni')"
   ]
  },
  {
   "cell_type": "markdown",
   "metadata": {},
   "source": [
    "## Calculate the fold change of american gut compared to all other experiments\n",
    "For each sOTU, comapre the mean in all AG samples to the mean of all samples in a fresh-frozen experiment. The samples are unpaired, so we can't just compare the means. We'll perform this calculation seperately between each pair of studies.\n",
    "\n",
    "We'll start by getting the pandas dataframes for each study to make the comparisons."
   ]
  },
  {
   "cell_type": "code",
   "execution_count": 52,
   "metadata": {
    "collapsed": false
   },
   "outputs": [],
   "source": [
    "pgp_meta_f = fec_meta.loc[fec_meta['STUDY'] == 'PGP']\n",
    "pgp_sotu_f = fec_sotu.loc[pgp_meta_f.index]"
   ]
  },
  {
   "cell_type": "code",
   "execution_count": 55,
   "metadata": {
    "collapsed": false
   },
   "outputs": [],
   "source": [
    "agp_meta_f = fec_meta.loc[fec_meta['STUDY'] == 'AGP']\n",
    "agp_sotu_f = fec_sotu.loc[agp_meta_f.index]"
   ]
  },
  {
   "cell_type": "code",
   "execution_count": 56,
   "metadata": {
    "collapsed": false
   },
   "outputs": [],
   "source": [
    "twin_meta_f = fec_meta.loc[fec_meta['STUDY'] == 'UK_TWINS']\n",
    "twin_sotu_f = fec_sotu.loc[twin_meta_f.index]"
   ]
  },
  {
   "cell_type": "code",
   "execution_count": 57,
   "metadata": {
    "collapsed": true
   },
   "outputs": [],
   "source": [
    "erc_meta_f = fec_meta.loc[fec_meta['STUDY'] == 'ERC']\n",
    "erc_sotu_f = fec_sotu.loc[erc_meta_f.index]"
   ]
  },
  {
   "cell_type": "markdown",
   "metadata": {},
   "source": [
    "Next, let's write a function to calculate the fold change between studies.\n",
    "\n",
    "**Check the mask**"
   ]
  },
  {
   "cell_type": "code",
   "execution_count": 64,
   "metadata": {
    "collapsed": false
   },
   "outputs": [],
   "source": [
    "def calculate_fold_change(sotu1, sotu2, minreads=1):\n",
    "    \"\"\"Calculates the fold change between two datasets\"\"\"\n",
    "    \n",
    "    # The fold change\n",
    "    fc = {}\n",
    "    not_compared = []\n",
    "    \n",
    "    # Replaces values below the threshhold\n",
    "    sotu1[sotu1 < minreads] = minreads\n",
    "    sotu2[sotu2 < minreads] = minreads\n",
    "    \n",
    "    # Calculates the mean ratio\n",
    "    ratio = sotu1.mean(0) / sotu2.mean(0)\n",
    "    return ratio"
   ]
  },
  {
   "cell_type": "markdown",
   "metadata": {},
   "source": [
    "And, let's calculate the fold change ratio for all combinations."
   ]
  },
  {
   "cell_type": "code",
   "execution_count": 65,
   "metadata": {
    "collapsed": false
   },
   "outputs": [],
   "source": [
    "fold_change = pd.DataFrame([calculate_fold_change(agp_sotu_f, study)\n",
    "                            for study in [pgp_sotu_f, erc_sotu_f, twin_sotu_f]],\n",
    "              index=['agp_pgp', 'agp_erc', 'agp_twins']).T"
   ]
  },
  {
   "cell_type": "code",
   "execution_count": 122,
   "metadata": {
    "collapsed": false
   },
   "outputs": [],
   "source": [
    "min_ag_fc = fold_change.min(axis=1)"
   ]
  },
  {
   "cell_type": "markdown",
   "metadata": {},
   "source": [
    "# find the blooming bacteria list\n",
    "intersect the ag-vs-others and the storage studies fold changes:\n",
    "\n",
    "Iterate over all sOTUs which are significantly different between AG and all fresh-frozen samples.\n",
    "\n",
    "For each such sOTU, we calculate two values:\n",
    "1. The maximal growth potential (maximum over all storage studies and days)\n",
    "2. The minimal ratio between AG to each fresh-frozen sample. The minimum is taken in order to reduce the effect of study-study differences (since a blooming bacteria is expected to be higher in AG compared to all fresh-frozen studies)\n",
    "\n",
    "Candidate blooming bacteria are defined as sOTUs that have either:\n",
    "- At least two fold difference in both (1) and (2), or that are not\n",
    "\n",
    "OR\n",
    "- At least two fold difference in (2) and are not present in (1) (since storage studies have a small set of individuals, there may be blooming bacteria that by chance were not present in the storage study samples)\n",
    "\n",
    "OR\n",
    "- At least 50 fold change in (1), so we know they can grow drastically in room temp.\n"
   ]
  },
  {
   "cell_type": "markdown",
   "metadata": {},
   "source": [
    "## Combining the stability studies\n",
    "\n",
    "We're going to find the maximum fold difference for all comparisons based on storage studies.\n",
    "\n",
    "However, since the song study was run on a ***Check the sequencing platform***, it has 125 nucleotide reads instead of the 150 nucelotides found in other studies. To address this, we're going to compare the first 125 nucleotides of each of the sequences in the Mayo fecal stability study to value in the song study, whther the first 125 sequences are unique or not.\n",
    "\n",
    "We'll then build a hash based on the full 150 nucleotides, which will be the id we combine with the other study."
   ]
  },
  {
   "cell_type": "code",
   "execution_count": 68,
   "metadata": {
    "collapsed": false
   },
   "outputs": [],
   "source": [
    "song_fc.reset_index(inplace=True)\n",
    "song_fc.rename(columns={'index': 'sequence'}, inplace=True)\n",
    "song_fc['sequence125'] = song_fc['sequence'].copy()\n",
    "song_fc.set_index('sequence125', inplace=True)\n",
    "song_fc.rename(columns={'sequence': 'song_sequence'}, inplace=True)"
   ]
  },
  {
   "cell_type": "code",
   "execution_count": 69,
   "metadata": {
    "collapsed": false
   },
   "outputs": [],
   "source": [
    "mayo_fc.reset_index(inplace=True)\n",
    "mayo_fc.rename(columns={'index': 'sequence'}, inplace=True)\n",
    "mayo_fc['sequence125'] = mayo_fc['sequence'].apply(lambda x: x[:124])\n",
    "mayo_fc.set_index('sequence125', inplace=True)\n",
    "mayo_fc.rename(columns={'sequence': 'mayo_sequence'}, inplace=True)"
   ]
  },
  {
   "cell_type": "markdown",
   "metadata": {},
   "source": [
    "Now, we can combine the studies, and then combine the sequences."
   ]
  },
  {
   "cell_type": "code",
   "execution_count": 92,
   "metadata": {
    "collapsed": false
   },
   "outputs": [],
   "source": [
    "storage_fc = song_fc.join(mayo_fc)"
   ]
  },
  {
   "cell_type": "code",
   "execution_count": 94,
   "metadata": {
    "collapsed": false
   },
   "outputs": [],
   "source": [
    "def prioritize_sequences(x):\n",
    "    if pd.isnull(x['mayo_sequence']):\n",
    "        return x['song_sequence']\n",
    "    else:\n",
    "        return x['mayo_sequence']"
   ]
  },
  {
   "cell_type": "code",
   "execution_count": 95,
   "metadata": {
    "collapsed": false
   },
   "outputs": [],
   "source": [
    "lookup_map = storage_fc[['song_sequence', 'mayo_sequence']].copy()\n",
    "lookup_map['sequence'] = lookup_map.apply(prioritize_sequences, axis=1)"
   ]
  },
  {
   "cell_type": "code",
   "execution_count": 96,
   "metadata": {
    "collapsed": false
   },
   "outputs": [],
   "source": [
    "storage_lookup = hash_sequence_ids(lookup_map)\n",
    "storage_fc['md5'] = storage_lookup['md5']\n",
    "storage_fc.set_index('md5', inplace=True)\n",
    "storage_lookup.set_index('md5', inplace=True)"
   ]
  },
  {
   "cell_type": "markdown",
   "metadata": {},
   "source": [
    "Now, we can calculate the fold change between the sequences."
   ]
  },
  {
   "cell_type": "code",
   "execution_count": 105,
   "metadata": {
    "collapsed": false
   },
   "outputs": [],
   "source": [
    "storage_max = storage_fc[['Week 1', 'Week 2', 'Week 7', 'Day 1', 'Day 4']].mean(axis=1)"
   ]
  },
  {
   "cell_type": "code",
   "execution_count": 205,
   "metadata": {
    "collapsed": false
   },
   "outputs": [],
   "source": [
    "extremes = pd.DataFrame([storage_max, min_ag_fc], \n",
    "                        index=['storage', 'freeze_thaw']).T\n",
    "# extremes = extremes.loc[ancom_stats.index[ancom_stats['Reject null hypothesis']]]\n",
    "extremes['score'] = extremes['storage'] + 0.01 * extremes['freeze_thaw']"
   ]
  },
  {
   "cell_type": "code",
   "execution_count": 206,
   "metadata": {
    "collapsed": false
   },
   "outputs": [],
   "source": [
    "def identify_blooms(x):\n",
    "    return (((x['storage'] > 2) & (x['freeze_thaw'] > 2)) | \n",
    "            (x['storage'] > 50) |\n",
    "            ((x['freeze_thaw'] > 2) & (np.isnan(x['storage'])))\n",
    "            )"
   ]
  },
  {
   "cell_type": "code",
   "execution_count": 207,
   "metadata": {
    "collapsed": false
   },
   "outputs": [],
   "source": [
    "blooms = extremes.index[extremes.apply(identify_blooms, axis=1)]"
   ]
  },
  {
   "cell_type": "code",
   "execution_count": 208,
   "metadata": {
    "collapsed": false
   },
   "outputs": [
    {
     "data": {
      "text/plain": [
       "Index(['01ad82ebba7693e186af124d083365c4', '04195686f2b70585790ec75320de0d6f',\n",
       "       '0540bf08e9a1eb8691a9b1be2afe577a', '07f3fc2191965d82f9031b119d19cb7f',\n",
       "       '096d93c307d5c15ee20e3d3755abf445', '0a58c594f843f7907aa51ed971294ed5',\n",
       "       '0a760bf1520d59a92be8f51e3f547c58', '0e0dab6598b6bbe0a92bfb64ec1f6ecc',\n",
       "       '0f42bfd00e871207c3e2bc92a79f3456', '13197d8b67bf547afc74e2c9166f8797',\n",
       "       ...\n",
       "       'f237723f6afa89861de9be4cc6fa539c', 'f283cd6d309acf7626b1fbc0079d275d',\n",
       "       'f4dfc85e21650ac92461b146ea6fba2c', 'f51aed2a9d075416f0352a73962831e7',\n",
       "       'f693b6ea6e67ee85f7b6d0a167103ed0', 'f7c26a09ea71c6fb2f4bc654ad7b0205',\n",
       "       'f82d8597b27b481c0d3a5c65900c31cc', 'fac24f827ba7601f59c0de9139160fcd',\n",
       "       'faf9fac57ea5c3ceb2ddf4beb4cf606f', 'fd416dfae1e741640352df3dad09222b'],\n",
       "      dtype='object', length=108)"
      ]
     },
     "execution_count": 208,
     "metadata": {},
     "output_type": "execute_result"
    }
   ],
   "source": [
    "blooms"
   ]
  },
  {
   "cell_type": "markdown",
   "metadata": {},
   "source": [
    "# Plot the fold change scatter plot KDE with highlighting the candidate blooming sOTUs\n",
    "since we have a lot of sOTUs, each with max(storage fc) and min(ag-fresh fc), we plot the average densities of all sOTUs.\n",
    "\n",
    "Red circles denote the sOTUs (15) passing the criteria for candidate blooming bacteria. Note that an additional set of 6 candidate blooming bacteria are not shown as they do not appear in the storage studies, and therefore do not have an x coordinate on the plot."
   ]
  },
  {
   "cell_type": "code",
   "execution_count": 209,
   "metadata": {
    "collapsed": false
   },
   "outputs": [],
   "source": [
    "clean_extremes = np.log2(extremes).dropna()"
   ]
  },
  {
   "cell_type": "code",
   "execution_count": 210,
   "metadata": {
    "collapsed": false,
    "scrolled": false
   },
   "outputs": [
    {
     "data": {
      "application/javascript": [
       "/* Put everything inside the global mpl namespace */\n",
       "window.mpl = {};\n",
       "\n",
       "mpl.get_websocket_type = function() {\n",
       "    if (typeof(WebSocket) !== 'undefined') {\n",
       "        return WebSocket;\n",
       "    } else if (typeof(MozWebSocket) !== 'undefined') {\n",
       "        return MozWebSocket;\n",
       "    } else {\n",
       "        alert('Your browser does not have WebSocket support.' +\n",
       "              'Please try Chrome, Safari or Firefox ≥ 6. ' +\n",
       "              'Firefox 4 and 5 are also supported but you ' +\n",
       "              'have to enable WebSockets in about:config.');\n",
       "    };\n",
       "}\n",
       "\n",
       "mpl.figure = function(figure_id, websocket, ondownload, parent_element) {\n",
       "    this.id = figure_id;\n",
       "\n",
       "    this.ws = websocket;\n",
       "\n",
       "    this.supports_binary = (this.ws.binaryType != undefined);\n",
       "\n",
       "    if (!this.supports_binary) {\n",
       "        var warnings = document.getElementById(\"mpl-warnings\");\n",
       "        if (warnings) {\n",
       "            warnings.style.display = 'block';\n",
       "            warnings.textContent = (\n",
       "                \"This browser does not support binary websocket messages. \" +\n",
       "                    \"Performance may be slow.\");\n",
       "        }\n",
       "    }\n",
       "\n",
       "    this.imageObj = new Image();\n",
       "\n",
       "    this.context = undefined;\n",
       "    this.message = undefined;\n",
       "    this.canvas = undefined;\n",
       "    this.rubberband_canvas = undefined;\n",
       "    this.rubberband_context = undefined;\n",
       "    this.format_dropdown = undefined;\n",
       "\n",
       "    this.image_mode = 'full';\n",
       "\n",
       "    this.root = $('<div/>');\n",
       "    this._root_extra_style(this.root)\n",
       "    this.root.attr('style', 'display: inline-block');\n",
       "\n",
       "    $(parent_element).append(this.root);\n",
       "\n",
       "    this._init_header(this);\n",
       "    this._init_canvas(this);\n",
       "    this._init_toolbar(this);\n",
       "\n",
       "    var fig = this;\n",
       "\n",
       "    this.waiting = false;\n",
       "\n",
       "    this.ws.onopen =  function () {\n",
       "            fig.send_message(\"supports_binary\", {value: fig.supports_binary});\n",
       "            fig.send_message(\"send_image_mode\", {});\n",
       "            fig.send_message(\"refresh\", {});\n",
       "        }\n",
       "\n",
       "    this.imageObj.onload = function() {\n",
       "            if (fig.image_mode == 'full') {\n",
       "                // Full images could contain transparency (where diff images\n",
       "                // almost always do), so we need to clear the canvas so that\n",
       "                // there is no ghosting.\n",
       "                fig.context.clearRect(0, 0, fig.canvas.width, fig.canvas.height);\n",
       "            }\n",
       "            fig.context.drawImage(fig.imageObj, 0, 0);\n",
       "        };\n",
       "\n",
       "    this.imageObj.onunload = function() {\n",
       "        this.ws.close();\n",
       "    }\n",
       "\n",
       "    this.ws.onmessage = this._make_on_message_function(this);\n",
       "\n",
       "    this.ondownload = ondownload;\n",
       "}\n",
       "\n",
       "mpl.figure.prototype._init_header = function() {\n",
       "    var titlebar = $(\n",
       "        '<div class=\"ui-dialog-titlebar ui-widget-header ui-corner-all ' +\n",
       "        'ui-helper-clearfix\"/>');\n",
       "    var titletext = $(\n",
       "        '<div class=\"ui-dialog-title\" style=\"width: 100%; ' +\n",
       "        'text-align: center; padding: 3px;\"/>');\n",
       "    titlebar.append(titletext)\n",
       "    this.root.append(titlebar);\n",
       "    this.header = titletext[0];\n",
       "}\n",
       "\n",
       "\n",
       "\n",
       "mpl.figure.prototype._canvas_extra_style = function(canvas_div) {\n",
       "\n",
       "}\n",
       "\n",
       "\n",
       "mpl.figure.prototype._root_extra_style = function(canvas_div) {\n",
       "\n",
       "}\n",
       "\n",
       "mpl.figure.prototype._init_canvas = function() {\n",
       "    var fig = this;\n",
       "\n",
       "    var canvas_div = $('<div/>');\n",
       "\n",
       "    canvas_div.attr('style', 'position: relative; clear: both; outline: 0');\n",
       "\n",
       "    function canvas_keyboard_event(event) {\n",
       "        return fig.key_event(event, event['data']);\n",
       "    }\n",
       "\n",
       "    canvas_div.keydown('key_press', canvas_keyboard_event);\n",
       "    canvas_div.keyup('key_release', canvas_keyboard_event);\n",
       "    this.canvas_div = canvas_div\n",
       "    this._canvas_extra_style(canvas_div)\n",
       "    this.root.append(canvas_div);\n",
       "\n",
       "    var canvas = $('<canvas/>');\n",
       "    canvas.addClass('mpl-canvas');\n",
       "    canvas.attr('style', \"left: 0; top: 0; z-index: 0; outline: 0\")\n",
       "\n",
       "    this.canvas = canvas[0];\n",
       "    this.context = canvas[0].getContext(\"2d\");\n",
       "\n",
       "    var rubberband = $('<canvas/>');\n",
       "    rubberband.attr('style', \"position: absolute; left: 0; top: 0; z-index: 1;\")\n",
       "\n",
       "    var pass_mouse_events = true;\n",
       "\n",
       "    canvas_div.resizable({\n",
       "        start: function(event, ui) {\n",
       "            pass_mouse_events = false;\n",
       "        },\n",
       "        resize: function(event, ui) {\n",
       "            fig.request_resize(ui.size.width, ui.size.height);\n",
       "        },\n",
       "        stop: function(event, ui) {\n",
       "            pass_mouse_events = true;\n",
       "            fig.request_resize(ui.size.width, ui.size.height);\n",
       "        },\n",
       "    });\n",
       "\n",
       "    function mouse_event_fn(event) {\n",
       "        if (pass_mouse_events)\n",
       "            return fig.mouse_event(event, event['data']);\n",
       "    }\n",
       "\n",
       "    rubberband.mousedown('button_press', mouse_event_fn);\n",
       "    rubberband.mouseup('button_release', mouse_event_fn);\n",
       "    // Throttle sequential mouse events to 1 every 20ms.\n",
       "    rubberband.mousemove('motion_notify', mouse_event_fn);\n",
       "\n",
       "    rubberband.mouseenter('figure_enter', mouse_event_fn);\n",
       "    rubberband.mouseleave('figure_leave', mouse_event_fn);\n",
       "\n",
       "    canvas_div.on(\"wheel\", function (event) {\n",
       "        event = event.originalEvent;\n",
       "        event['data'] = 'scroll'\n",
       "        if (event.deltaY < 0) {\n",
       "            event.step = 1;\n",
       "        } else {\n",
       "            event.step = -1;\n",
       "        }\n",
       "        mouse_event_fn(event);\n",
       "    });\n",
       "\n",
       "    canvas_div.append(canvas);\n",
       "    canvas_div.append(rubberband);\n",
       "\n",
       "    this.rubberband = rubberband;\n",
       "    this.rubberband_canvas = rubberband[0];\n",
       "    this.rubberband_context = rubberband[0].getContext(\"2d\");\n",
       "    this.rubberband_context.strokeStyle = \"#000000\";\n",
       "\n",
       "    this._resize_canvas = function(width, height) {\n",
       "        // Keep the size of the canvas, canvas container, and rubber band\n",
       "        // canvas in synch.\n",
       "        canvas_div.css('width', width)\n",
       "        canvas_div.css('height', height)\n",
       "\n",
       "        canvas.attr('width', width);\n",
       "        canvas.attr('height', height);\n",
       "\n",
       "        rubberband.attr('width', width);\n",
       "        rubberband.attr('height', height);\n",
       "    }\n",
       "\n",
       "    // Set the figure to an initial 600x600px, this will subsequently be updated\n",
       "    // upon first draw.\n",
       "    this._resize_canvas(600, 600);\n",
       "\n",
       "    // Disable right mouse context menu.\n",
       "    $(this.rubberband_canvas).bind(\"contextmenu\",function(e){\n",
       "        return false;\n",
       "    });\n",
       "\n",
       "    function set_focus () {\n",
       "        canvas.focus();\n",
       "        canvas_div.focus();\n",
       "    }\n",
       "\n",
       "    window.setTimeout(set_focus, 100);\n",
       "}\n",
       "\n",
       "mpl.figure.prototype._init_toolbar = function() {\n",
       "    var fig = this;\n",
       "\n",
       "    var nav_element = $('<div/>')\n",
       "    nav_element.attr('style', 'width: 100%');\n",
       "    this.root.append(nav_element);\n",
       "\n",
       "    // Define a callback function for later on.\n",
       "    function toolbar_event(event) {\n",
       "        return fig.toolbar_button_onclick(event['data']);\n",
       "    }\n",
       "    function toolbar_mouse_event(event) {\n",
       "        return fig.toolbar_button_onmouseover(event['data']);\n",
       "    }\n",
       "\n",
       "    for(var toolbar_ind in mpl.toolbar_items) {\n",
       "        var name = mpl.toolbar_items[toolbar_ind][0];\n",
       "        var tooltip = mpl.toolbar_items[toolbar_ind][1];\n",
       "        var image = mpl.toolbar_items[toolbar_ind][2];\n",
       "        var method_name = mpl.toolbar_items[toolbar_ind][3];\n",
       "\n",
       "        if (!name) {\n",
       "            // put a spacer in here.\n",
       "            continue;\n",
       "        }\n",
       "        var button = $('<button/>');\n",
       "        button.addClass('ui-button ui-widget ui-state-default ui-corner-all ' +\n",
       "                        'ui-button-icon-only');\n",
       "        button.attr('role', 'button');\n",
       "        button.attr('aria-disabled', 'false');\n",
       "        button.click(method_name, toolbar_event);\n",
       "        button.mouseover(tooltip, toolbar_mouse_event);\n",
       "\n",
       "        var icon_img = $('<span/>');\n",
       "        icon_img.addClass('ui-button-icon-primary ui-icon');\n",
       "        icon_img.addClass(image);\n",
       "        icon_img.addClass('ui-corner-all');\n",
       "\n",
       "        var tooltip_span = $('<span/>');\n",
       "        tooltip_span.addClass('ui-button-text');\n",
       "        tooltip_span.html(tooltip);\n",
       "\n",
       "        button.append(icon_img);\n",
       "        button.append(tooltip_span);\n",
       "\n",
       "        nav_element.append(button);\n",
       "    }\n",
       "\n",
       "    var fmt_picker_span = $('<span/>');\n",
       "\n",
       "    var fmt_picker = $('<select/>');\n",
       "    fmt_picker.addClass('mpl-toolbar-option ui-widget ui-widget-content');\n",
       "    fmt_picker_span.append(fmt_picker);\n",
       "    nav_element.append(fmt_picker_span);\n",
       "    this.format_dropdown = fmt_picker[0];\n",
       "\n",
       "    for (var ind in mpl.extensions) {\n",
       "        var fmt = mpl.extensions[ind];\n",
       "        var option = $(\n",
       "            '<option/>', {selected: fmt === mpl.default_extension}).html(fmt);\n",
       "        fmt_picker.append(option)\n",
       "    }\n",
       "\n",
       "    // Add hover states to the ui-buttons\n",
       "    $( \".ui-button\" ).hover(\n",
       "        function() { $(this).addClass(\"ui-state-hover\");},\n",
       "        function() { $(this).removeClass(\"ui-state-hover\");}\n",
       "    );\n",
       "\n",
       "    var status_bar = $('<span class=\"mpl-message\"/>');\n",
       "    nav_element.append(status_bar);\n",
       "    this.message = status_bar[0];\n",
       "}\n",
       "\n",
       "mpl.figure.prototype.request_resize = function(x_pixels, y_pixels) {\n",
       "    // Request matplotlib to resize the figure. Matplotlib will then trigger a resize in the client,\n",
       "    // which will in turn request a refresh of the image.\n",
       "    this.send_message('resize', {'width': x_pixels, 'height': y_pixels});\n",
       "}\n",
       "\n",
       "mpl.figure.prototype.send_message = function(type, properties) {\n",
       "    properties['type'] = type;\n",
       "    properties['figure_id'] = this.id;\n",
       "    this.ws.send(JSON.stringify(properties));\n",
       "}\n",
       "\n",
       "mpl.figure.prototype.send_draw_message = function() {\n",
       "    if (!this.waiting) {\n",
       "        this.waiting = true;\n",
       "        this.ws.send(JSON.stringify({type: \"draw\", figure_id: this.id}));\n",
       "    }\n",
       "}\n",
       "\n",
       "\n",
       "mpl.figure.prototype.handle_save = function(fig, msg) {\n",
       "    var format_dropdown = fig.format_dropdown;\n",
       "    var format = format_dropdown.options[format_dropdown.selectedIndex].value;\n",
       "    fig.ondownload(fig, format);\n",
       "}\n",
       "\n",
       "\n",
       "mpl.figure.prototype.handle_resize = function(fig, msg) {\n",
       "    var size = msg['size'];\n",
       "    if (size[0] != fig.canvas.width || size[1] != fig.canvas.height) {\n",
       "        fig._resize_canvas(size[0], size[1]);\n",
       "        fig.send_message(\"refresh\", {});\n",
       "    };\n",
       "}\n",
       "\n",
       "mpl.figure.prototype.handle_rubberband = function(fig, msg) {\n",
       "    var x0 = msg['x0'];\n",
       "    var y0 = fig.canvas.height - msg['y0'];\n",
       "    var x1 = msg['x1'];\n",
       "    var y1 = fig.canvas.height - msg['y1'];\n",
       "    x0 = Math.floor(x0) + 0.5;\n",
       "    y0 = Math.floor(y0) + 0.5;\n",
       "    x1 = Math.floor(x1) + 0.5;\n",
       "    y1 = Math.floor(y1) + 0.5;\n",
       "    var min_x = Math.min(x0, x1);\n",
       "    var min_y = Math.min(y0, y1);\n",
       "    var width = Math.abs(x1 - x0);\n",
       "    var height = Math.abs(y1 - y0);\n",
       "\n",
       "    fig.rubberband_context.clearRect(\n",
       "        0, 0, fig.canvas.width, fig.canvas.height);\n",
       "\n",
       "    fig.rubberband_context.strokeRect(min_x, min_y, width, height);\n",
       "}\n",
       "\n",
       "mpl.figure.prototype.handle_figure_label = function(fig, msg) {\n",
       "    // Updates the figure title.\n",
       "    fig.header.textContent = msg['label'];\n",
       "}\n",
       "\n",
       "mpl.figure.prototype.handle_cursor = function(fig, msg) {\n",
       "    var cursor = msg['cursor'];\n",
       "    switch(cursor)\n",
       "    {\n",
       "    case 0:\n",
       "        cursor = 'pointer';\n",
       "        break;\n",
       "    case 1:\n",
       "        cursor = 'default';\n",
       "        break;\n",
       "    case 2:\n",
       "        cursor = 'crosshair';\n",
       "        break;\n",
       "    case 3:\n",
       "        cursor = 'move';\n",
       "        break;\n",
       "    }\n",
       "    fig.rubberband_canvas.style.cursor = cursor;\n",
       "}\n",
       "\n",
       "mpl.figure.prototype.handle_message = function(fig, msg) {\n",
       "    fig.message.textContent = msg['message'];\n",
       "}\n",
       "\n",
       "mpl.figure.prototype.handle_draw = function(fig, msg) {\n",
       "    // Request the server to send over a new figure.\n",
       "    fig.send_draw_message();\n",
       "}\n",
       "\n",
       "mpl.figure.prototype.handle_image_mode = function(fig, msg) {\n",
       "    fig.image_mode = msg['mode'];\n",
       "}\n",
       "\n",
       "mpl.figure.prototype.updated_canvas_event = function() {\n",
       "    // Called whenever the canvas gets updated.\n",
       "    this.send_message(\"ack\", {});\n",
       "}\n",
       "\n",
       "// A function to construct a web socket function for onmessage handling.\n",
       "// Called in the figure constructor.\n",
       "mpl.figure.prototype._make_on_message_function = function(fig) {\n",
       "    return function socket_on_message(evt) {\n",
       "        if (evt.data instanceof Blob) {\n",
       "            /* FIXME: We get \"Resource interpreted as Image but\n",
       "             * transferred with MIME type text/plain:\" errors on\n",
       "             * Chrome.  But how to set the MIME type?  It doesn't seem\n",
       "             * to be part of the websocket stream */\n",
       "            evt.data.type = \"image/png\";\n",
       "\n",
       "            /* Free the memory for the previous frames */\n",
       "            if (fig.imageObj.src) {\n",
       "                (window.URL || window.webkitURL).revokeObjectURL(\n",
       "                    fig.imageObj.src);\n",
       "            }\n",
       "\n",
       "            fig.imageObj.src = (window.URL || window.webkitURL).createObjectURL(\n",
       "                evt.data);\n",
       "            fig.updated_canvas_event();\n",
       "            fig.waiting = false;\n",
       "            return;\n",
       "        }\n",
       "        else if (typeof evt.data === 'string' && evt.data.slice(0, 21) == \"data:image/png;base64\") {\n",
       "            fig.imageObj.src = evt.data;\n",
       "            fig.updated_canvas_event();\n",
       "            fig.waiting = false;\n",
       "            return;\n",
       "        }\n",
       "\n",
       "        var msg = JSON.parse(evt.data);\n",
       "        var msg_type = msg['type'];\n",
       "\n",
       "        // Call the  \"handle_{type}\" callback, which takes\n",
       "        // the figure and JSON message as its only arguments.\n",
       "        try {\n",
       "            var callback = fig[\"handle_\" + msg_type];\n",
       "        } catch (e) {\n",
       "            console.log(\"No handler for the '\" + msg_type + \"' message type: \", msg);\n",
       "            return;\n",
       "        }\n",
       "\n",
       "        if (callback) {\n",
       "            try {\n",
       "                // console.log(\"Handling '\" + msg_type + \"' message: \", msg);\n",
       "                callback(fig, msg);\n",
       "            } catch (e) {\n",
       "                console.log(\"Exception inside the 'handler_\" + msg_type + \"' callback:\", e, e.stack, msg);\n",
       "            }\n",
       "        }\n",
       "    };\n",
       "}\n",
       "\n",
       "// from http://stackoverflow.com/questions/1114465/getting-mouse-location-in-canvas\n",
       "mpl.findpos = function(e) {\n",
       "    //this section is from http://www.quirksmode.org/js/events_properties.html\n",
       "    var targ;\n",
       "    if (!e)\n",
       "        e = window.event;\n",
       "    if (e.target)\n",
       "        targ = e.target;\n",
       "    else if (e.srcElement)\n",
       "        targ = e.srcElement;\n",
       "    if (targ.nodeType == 3) // defeat Safari bug\n",
       "        targ = targ.parentNode;\n",
       "\n",
       "    // jQuery normalizes the pageX and pageY\n",
       "    // pageX,Y are the mouse positions relative to the document\n",
       "    // offset() returns the position of the element relative to the document\n",
       "    var x = e.pageX - $(targ).offset().left;\n",
       "    var y = e.pageY - $(targ).offset().top;\n",
       "\n",
       "    return {\"x\": x, \"y\": y};\n",
       "};\n",
       "\n",
       "/*\n",
       " * return a copy of an object with only non-object keys\n",
       " * we need this to avoid circular references\n",
       " * http://stackoverflow.com/a/24161582/3208463\n",
       " */\n",
       "function simpleKeys (original) {\n",
       "  return Object.keys(original).reduce(function (obj, key) {\n",
       "    if (typeof original[key] !== 'object')\n",
       "        obj[key] = original[key]\n",
       "    return obj;\n",
       "  }, {});\n",
       "}\n",
       "\n",
       "mpl.figure.prototype.mouse_event = function(event, name) {\n",
       "    var canvas_pos = mpl.findpos(event)\n",
       "\n",
       "    if (name === 'button_press')\n",
       "    {\n",
       "        this.canvas.focus();\n",
       "        this.canvas_div.focus();\n",
       "    }\n",
       "\n",
       "    var x = canvas_pos.x;\n",
       "    var y = canvas_pos.y;\n",
       "\n",
       "    this.send_message(name, {x: x, y: y, button: event.button,\n",
       "                             step: event.step,\n",
       "                             guiEvent: simpleKeys(event)});\n",
       "\n",
       "    /* This prevents the web browser from automatically changing to\n",
       "     * the text insertion cursor when the button is pressed.  We want\n",
       "     * to control all of the cursor setting manually through the\n",
       "     * 'cursor' event from matplotlib */\n",
       "    event.preventDefault();\n",
       "    return false;\n",
       "}\n",
       "\n",
       "mpl.figure.prototype._key_event_extra = function(event, name) {\n",
       "    // Handle any extra behaviour associated with a key event\n",
       "}\n",
       "\n",
       "mpl.figure.prototype.key_event = function(event, name) {\n",
       "\n",
       "    // Prevent repeat events\n",
       "    if (name == 'key_press')\n",
       "    {\n",
       "        if (event.which === this._key)\n",
       "            return;\n",
       "        else\n",
       "            this._key = event.which;\n",
       "    }\n",
       "    if (name == 'key_release')\n",
       "        this._key = null;\n",
       "\n",
       "    var value = '';\n",
       "    if (event.ctrlKey && event.which != 17)\n",
       "        value += \"ctrl+\";\n",
       "    if (event.altKey && event.which != 18)\n",
       "        value += \"alt+\";\n",
       "    if (event.shiftKey && event.which != 16)\n",
       "        value += \"shift+\";\n",
       "\n",
       "    value += 'k';\n",
       "    value += event.which.toString();\n",
       "\n",
       "    this._key_event_extra(event, name);\n",
       "\n",
       "    this.send_message(name, {key: value,\n",
       "                             guiEvent: simpleKeys(event)});\n",
       "    return false;\n",
       "}\n",
       "\n",
       "mpl.figure.prototype.toolbar_button_onclick = function(name) {\n",
       "    if (name == 'download') {\n",
       "        this.handle_save(this, null);\n",
       "    } else {\n",
       "        this.send_message(\"toolbar_button\", {name: name});\n",
       "    }\n",
       "};\n",
       "\n",
       "mpl.figure.prototype.toolbar_button_onmouseover = function(tooltip) {\n",
       "    this.message.textContent = tooltip;\n",
       "};\n",
       "mpl.toolbar_items = [[\"Home\", \"Reset original view\", \"fa fa-home icon-home\", \"home\"], [\"Back\", \"Back to  previous view\", \"fa fa-arrow-left icon-arrow-left\", \"back\"], [\"Forward\", \"Forward to next view\", \"fa fa-arrow-right icon-arrow-right\", \"forward\"], [\"\", \"\", \"\", \"\"], [\"Pan\", \"Pan axes with left mouse, zoom with right\", \"fa fa-arrows icon-move\", \"pan\"], [\"Zoom\", \"Zoom to rectangle\", \"fa fa-square-o icon-check-empty\", \"zoom\"], [\"\", \"\", \"\", \"\"], [\"Download\", \"Download plot\", \"fa fa-floppy-o icon-save\", \"download\"]];\n",
       "\n",
       "mpl.extensions = [\"eps\", \"pdf\", \"png\", \"ps\", \"raw\", \"svg\"];\n",
       "\n",
       "mpl.default_extension = \"png\";var comm_websocket_adapter = function(comm) {\n",
       "    // Create a \"websocket\"-like object which calls the given IPython comm\n",
       "    // object with the appropriate methods. Currently this is a non binary\n",
       "    // socket, so there is still some room for performance tuning.\n",
       "    var ws = {};\n",
       "\n",
       "    ws.close = function() {\n",
       "        comm.close()\n",
       "    };\n",
       "    ws.send = function(m) {\n",
       "        //console.log('sending', m);\n",
       "        comm.send(m);\n",
       "    };\n",
       "    // Register the callback with on_msg.\n",
       "    comm.on_msg(function(msg) {\n",
       "        //console.log('receiving', msg['content']['data'], msg);\n",
       "        // Pass the mpl event to the overriden (by mpl) onmessage function.\n",
       "        ws.onmessage(msg['content']['data'])\n",
       "    });\n",
       "    return ws;\n",
       "}\n",
       "\n",
       "mpl.mpl_figure_comm = function(comm, msg) {\n",
       "    // This is the function which gets called when the mpl process\n",
       "    // starts-up an IPython Comm through the \"matplotlib\" channel.\n",
       "\n",
       "    var id = msg.content.data.id;\n",
       "    // Get hold of the div created by the display call when the Comm\n",
       "    // socket was opened in Python.\n",
       "    var element = $(\"#\" + id);\n",
       "    var ws_proxy = comm_websocket_adapter(comm)\n",
       "\n",
       "    function ondownload(figure, format) {\n",
       "        window.open(figure.imageObj.src);\n",
       "    }\n",
       "\n",
       "    var fig = new mpl.figure(id, ws_proxy,\n",
       "                           ondownload,\n",
       "                           element.get(0));\n",
       "\n",
       "    // Call onopen now - mpl needs it, as it is assuming we've passed it a real\n",
       "    // web socket which is closed, not our websocket->open comm proxy.\n",
       "    ws_proxy.onopen();\n",
       "\n",
       "    fig.parent_element = element.get(0);\n",
       "    fig.cell_info = mpl.find_output_cell(\"<div id='\" + id + \"'></div>\");\n",
       "    if (!fig.cell_info) {\n",
       "        console.error(\"Failed to find cell for figure\", id, fig);\n",
       "        return;\n",
       "    }\n",
       "\n",
       "    var output_index = fig.cell_info[2]\n",
       "    var cell = fig.cell_info[0];\n",
       "\n",
       "};\n",
       "\n",
       "mpl.figure.prototype.handle_close = function(fig, msg) {\n",
       "    fig.root.unbind('remove')\n",
       "\n",
       "    // Update the output cell to use the data from the current canvas.\n",
       "    fig.push_to_output();\n",
       "    var dataURL = fig.canvas.toDataURL();\n",
       "    // Re-enable the keyboard manager in IPython - without this line, in FF,\n",
       "    // the notebook keyboard shortcuts fail.\n",
       "    IPython.keyboard_manager.enable()\n",
       "    $(fig.parent_element).html('<img src=\"' + dataURL + '\">');\n",
       "    fig.close_ws(fig, msg);\n",
       "}\n",
       "\n",
       "mpl.figure.prototype.close_ws = function(fig, msg){\n",
       "    fig.send_message('closing', msg);\n",
       "    // fig.ws.close()\n",
       "}\n",
       "\n",
       "mpl.figure.prototype.push_to_output = function(remove_interactive) {\n",
       "    // Turn the data on the canvas into data in the output cell.\n",
       "    var dataURL = this.canvas.toDataURL();\n",
       "    this.cell_info[1]['text/html'] = '<img src=\"' + dataURL + '\">';\n",
       "}\n",
       "\n",
       "mpl.figure.prototype.updated_canvas_event = function() {\n",
       "    // Tell IPython that the notebook contents must change.\n",
       "    IPython.notebook.set_dirty(true);\n",
       "    this.send_message(\"ack\", {});\n",
       "    var fig = this;\n",
       "    // Wait a second, then push the new image to the DOM so\n",
       "    // that it is saved nicely (might be nice to debounce this).\n",
       "    setTimeout(function () { fig.push_to_output() }, 1000);\n",
       "}\n",
       "\n",
       "mpl.figure.prototype._init_toolbar = function() {\n",
       "    var fig = this;\n",
       "\n",
       "    var nav_element = $('<div/>')\n",
       "    nav_element.attr('style', 'width: 100%');\n",
       "    this.root.append(nav_element);\n",
       "\n",
       "    // Define a callback function for later on.\n",
       "    function toolbar_event(event) {\n",
       "        return fig.toolbar_button_onclick(event['data']);\n",
       "    }\n",
       "    function toolbar_mouse_event(event) {\n",
       "        return fig.toolbar_button_onmouseover(event['data']);\n",
       "    }\n",
       "\n",
       "    for(var toolbar_ind in mpl.toolbar_items){\n",
       "        var name = mpl.toolbar_items[toolbar_ind][0];\n",
       "        var tooltip = mpl.toolbar_items[toolbar_ind][1];\n",
       "        var image = mpl.toolbar_items[toolbar_ind][2];\n",
       "        var method_name = mpl.toolbar_items[toolbar_ind][3];\n",
       "\n",
       "        if (!name) { continue; };\n",
       "\n",
       "        var button = $('<button class=\"btn btn-default\" href=\"#\" title=\"' + name + '\"><i class=\"fa ' + image + ' fa-lg\"></i></button>');\n",
       "        button.click(method_name, toolbar_event);\n",
       "        button.mouseover(tooltip, toolbar_mouse_event);\n",
       "        nav_element.append(button);\n",
       "    }\n",
       "\n",
       "    // Add the status bar.\n",
       "    var status_bar = $('<span class=\"mpl-message\" style=\"text-align:right; float: right;\"/>');\n",
       "    nav_element.append(status_bar);\n",
       "    this.message = status_bar[0];\n",
       "\n",
       "    // Add the close button to the window.\n",
       "    var buttongrp = $('<div class=\"btn-group inline pull-right\"></div>');\n",
       "    var button = $('<button class=\"btn btn-mini btn-primary\" href=\"#\" title=\"Stop Interaction\"><i class=\"fa fa-power-off icon-remove icon-large\"></i></button>');\n",
       "    button.click(function (evt) { fig.handle_close(fig, {}); } );\n",
       "    button.mouseover('Stop Interaction', toolbar_mouse_event);\n",
       "    buttongrp.append(button);\n",
       "    var titlebar = this.root.find($('.ui-dialog-titlebar'));\n",
       "    titlebar.prepend(buttongrp);\n",
       "}\n",
       "\n",
       "mpl.figure.prototype._root_extra_style = function(el){\n",
       "    var fig = this\n",
       "    el.on(\"remove\", function(){\n",
       "\tfig.close_ws(fig, {});\n",
       "    });\n",
       "}\n",
       "\n",
       "mpl.figure.prototype._canvas_extra_style = function(el){\n",
       "    // this is important to make the div 'focusable\n",
       "    el.attr('tabindex', 0)\n",
       "    // reach out to IPython and tell the keyboard manager to turn it's self\n",
       "    // off when our div gets focus\n",
       "\n",
       "    // location in version 3\n",
       "    if (IPython.notebook.keyboard_manager) {\n",
       "        IPython.notebook.keyboard_manager.register_events(el);\n",
       "    }\n",
       "    else {\n",
       "        // location in version 2\n",
       "        IPython.keyboard_manager.register_events(el);\n",
       "    }\n",
       "\n",
       "}\n",
       "\n",
       "mpl.figure.prototype._key_event_extra = function(event, name) {\n",
       "    var manager = IPython.notebook.keyboard_manager;\n",
       "    if (!manager)\n",
       "        manager = IPython.keyboard_manager;\n",
       "\n",
       "    // Check for shift+enter\n",
       "    if (event.shiftKey && event.which == 13) {\n",
       "        this.canvas_div.blur();\n",
       "        event.shiftKey = false;\n",
       "        // Send a \"J\" for go to next cell\n",
       "        event.which = 74;\n",
       "        event.keyCode = 74;\n",
       "        manager.command_mode();\n",
       "        manager.handle_keydown(event);\n",
       "    }\n",
       "}\n",
       "\n",
       "mpl.figure.prototype.handle_save = function(fig, msg) {\n",
       "    fig.ondownload(fig, null);\n",
       "}\n",
       "\n",
       "\n",
       "mpl.find_output_cell = function(html_output) {\n",
       "    // Return the cell and output element which can be found *uniquely* in the notebook.\n",
       "    // Note - this is a bit hacky, but it is done because the \"notebook_saving.Notebook\"\n",
       "    // IPython event is triggered only after the cells have been serialised, which for\n",
       "    // our purposes (turning an active figure into a static one), is too late.\n",
       "    var cells = IPython.notebook.get_cells();\n",
       "    var ncells = cells.length;\n",
       "    for (var i=0; i<ncells; i++) {\n",
       "        var cell = cells[i];\n",
       "        if (cell.cell_type === 'code'){\n",
       "            for (var j=0; j<cell.output_area.outputs.length; j++) {\n",
       "                var data = cell.output_area.outputs[j];\n",
       "                if (data.data) {\n",
       "                    // IPython >= 3 moved mimebundle to data attribute of output\n",
       "                    data = data.data;\n",
       "                }\n",
       "                if (data['text/html'] == html_output) {\n",
       "                    return [cell, data, j];\n",
       "                }\n",
       "            }\n",
       "        }\n",
       "    }\n",
       "}\n",
       "\n",
       "// Register the function which deals with the matplotlib target/channel.\n",
       "// The kernel may be null if the page has been refreshed.\n",
       "if (IPython.notebook.kernel != null) {\n",
       "    IPython.notebook.kernel.comm_manager.register_target('matplotlib', mpl.mpl_figure_comm);\n",
       "}\n"
      ],
      "text/plain": [
       "<IPython.core.display.Javascript object>"
      ]
     },
     "metadata": {},
     "output_type": "display_data"
    },
    {
     "data": {
      "text/html": [
       "<img src=\"data:image/png;base64,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\">"
      ],
      "text/plain": [
       "<IPython.core.display.HTML object>"
      ]
     },
     "metadata": {},
     "output_type": "display_data"
    }
   ],
   "source": [
    "ax = plt.axes()\n",
    "fig = ax.figure\n",
    "sn.kdeplot(clean_extremes['storage'],\n",
    "           clean_extremes['freeze_thaw'],\n",
    "           shade=True,\n",
    "           cmap='Greys',\n",
    "           ax=ax)\n",
    "ax.scatter(clean_extremes.loc[blooms, 'storage'],\n",
    "           clean_extremes.loc[blooms, 'freeze_thaw'],\n",
    "           s=80, color=sn.color_palette()[2])\n",
    "# ax.set_xlim([-2, 10])\n",
    "# ax.set_ylim([-5, 6])\n",
    "ax.set_xlabel('max. storage study foldchange (log2)',fontsize=16)\n",
    "ax.set_ylabel('min. AG foldchange (log2)',fontsize=16)\n",
    "ax.tick_params(axis='both', which='major', labelsize=14)\n",
    "plt.tight_layout()"
   ]
  },
  {
   "cell_type": "code",
   "execution_count": 178,
   "metadata": {
    "collapsed": true
   },
   "outputs": [],
   "source": [
    "plt.savefig('../results/fig1-blooming-identification-kde.pdf')"
   ]
  },
  {
   "cell_type": "markdown",
   "metadata": {},
   "source": [
    "## Sort the candidate blooming sOTUs by their storage study fold change\n",
    "We want to order the candidate blooming sOTUs so the more likely/larger effect size bloomers are first.\n",
    "\n",
    "We base the sort order on the storage study maximal fold change, as this approximates the potential for blooming, and the max over different storage times shows the growth in the more optimal conditions for each candidate bloomer (whereas the AG-fresh frozen fold change shows the mean blooming). This way, we give higher priority to sOTUs that can distort the most the frequencies (even if in a small number of samples)."
   ]
  },
  {
   "cell_type": "code",
   "execution_count": null,
   "metadata": {
    "collapsed": false
   },
   "outputs": [],
   "source": [
    "# sort the blooming bacteria according to the maximal storage study fold change\n",
    "sv,si=hs.isort(bloomscores,reverse=True)\n",
    "newbloom=hs.reorder(newbloom,si)\n",
    "bloomtax=hs.reorder(bloomtax,si)\n",
    "bloomscores=hs.reorder(bloomscores,si)"
   ]
  },
  {
   "cell_type": "code",
   "execution_count": null,
   "metadata": {
    "collapsed": false
   },
   "outputs": [],
   "source": [
    "# the sorted list of blooming bacteria\n",
    "for idx,ctax in enumerate(bloomtax):\n",
    "    print('%d : %f %s' % (idx,bloomscores[idx],ctax))"
   ]
  },
  {
   "cell_type": "markdown",
   "metadata": {},
   "source": [
    "## save the bloom sequences"
   ]
  },
  {
   "cell_type": "code",
   "execution_count": null,
   "metadata": {
    "collapsed": false
   },
   "outputs": [],
   "source": [
    "hs.saveseqsfasta(agf,newbloom,'../data/newbloom.all.fa')"
   ]
  },
  {
   "cell_type": "code",
   "execution_count": null,
   "metadata": {
    "collapsed": true
   },
   "outputs": [],
   "source": [
    "hs.saveseqsfasta(agf,newbloom[:8],'../data/newbloom.8.fa')"
   ]
  },
  {
   "cell_type": "markdown",
   "metadata": {},
   "source": [
    "# Plot the taxonomy comparison before and after bloom filtering"
   ]
  },
  {
   "cell_type": "markdown",
   "metadata": {},
   "source": [
    "## prepare the joined experiment"
   ]
  },
  {
   "cell_type": "code",
   "execution_count": null,
   "metadata": {
    "collapsed": true
   },
   "outputs": [],
   "source": [
    "# join AG and PGP\n",
    "allf=hs.joinexperiments(agf,pgpf)"
   ]
  },
  {
   "cell_type": "code",
   "execution_count": null,
   "metadata": {
    "collapsed": false
   },
   "outputs": [],
   "source": [
    "# remove the AG mapping fields (to make it faster)\n",
    "hs.filtermapfields(allf,['origexp'],inplace=True)"
   ]
  },
  {
   "cell_type": "code",
   "execution_count": null,
   "metadata": {
    "collapsed": true
   },
   "outputs": [],
   "source": [
    "# join the UK-Twins\n",
    "allf=hs.joinexperiments(allf,twinsf)"
   ]
  },
  {
   "cell_type": "code",
   "execution_count": null,
   "metadata": {
    "collapsed": true
   },
   "outputs": [],
   "source": [
    "# and join the Whole grain feces\n",
    "allf=hs.joinexperiments(allf,ercf)"
   ]
  },
  {
   "cell_type": "code",
   "execution_count": null,
   "metadata": {
    "collapsed": false
   },
   "outputs": [],
   "source": [
    "# remove all mapping fields except 'origexp' (the original study) (to make it faster)\n",
    "hs.filtermapfields(allf,['origexp'],inplace=True)"
   ]
  },
  {
   "cell_type": "markdown",
   "metadata": {},
   "source": [
    "## Plot the pre-filtered taxonomy plot"
   ]
  },
  {
   "cell_type": "code",
   "execution_count": null,
   "metadata": {
    "collapsed": false
   },
   "outputs": [],
   "source": [
    "# collapes the samples to one per study (using mean value for each sOTU)\n",
    "allfpre=hs.filtersimilarsamples(allf,'origexp',method='mean')"
   ]
  },
  {
   "cell_type": "code",
   "execution_count": null,
   "metadata": {
    "collapsed": true
   },
   "outputs": [],
   "source": [
    "# sort by original experiment\n",
    "allfpre=hs.sortsamples(allfpre,'origexp')"
   ]
  },
  {
   "cell_type": "code",
   "execution_count": null,
   "metadata": {
    "collapsed": false
   },
   "outputs": [],
   "source": [
    "hs.getfieldvals(allfpre,'origexp')"
   ]
  },
  {
   "cell_type": "code",
   "execution_count": null,
   "metadata": {
    "collapsed": true
   },
   "outputs": [],
   "source": [
    "# give nices names to the experiment (for the plot)\n",
    "hs.addfield(allfpre,'expname',['AG-pre','EWF-pre','PGP-pre','UKTwins-pre'])"
   ]
  },
  {
   "cell_type": "code",
   "execution_count": null,
   "metadata": {
    "collapsed": true
   },
   "outputs": [],
   "source": [
    "sn.set_style(\"white\")"
   ]
  },
  {
   "cell_type": "code",
   "execution_count": null,
   "metadata": {
    "collapsed": false
   },
   "outputs": [],
   "source": [
    "# plot the taxonomy bar graph (normalized to 100% per study)\n",
    "taxlist=hs.plottaxonomybar(allfpre,sortfield='expname',showlegend=False,showxlabels=True,rotation=0,sumone=True)"
   ]
  },
  {
   "cell_type": "code",
   "execution_count": null,
   "metadata": {
    "collapsed": false
   },
   "outputs": [],
   "source": [
    "plt.savefig('../results/fig2C_taxonomy-4exp-nofiltering.pdf')"
   ]
  },
  {
   "cell_type": "markdown",
   "metadata": {},
   "source": [
    "## plot the post-filtering taxonomy plot"
   ]
  },
  {
   "cell_type": "code",
   "execution_count": null,
   "metadata": {
    "collapsed": true
   },
   "outputs": [],
   "source": [
    "# filter the 8 blooming bacteria\n",
    "allfpost=hs.filterseqs(allf,newbloom[:8],exclude=True)"
   ]
  },
  {
   "cell_type": "code",
   "execution_count": null,
   "metadata": {
    "collapsed": false
   },
   "outputs": [],
   "source": [
    "# collapes the samples to one per study (using mean value for each sOTU)\n",
    "allfpost=hs.filtersimilarsamples(allfpost,'origexp',method='mean')"
   ]
  },
  {
   "cell_type": "code",
   "execution_count": null,
   "metadata": {
    "collapsed": true
   },
   "outputs": [],
   "source": [
    "# sort by original experiment\n",
    "allfpost=hs.sortsamples(allfpost,'origexp')"
   ]
  },
  {
   "cell_type": "code",
   "execution_count": null,
   "metadata": {
    "collapsed": false
   },
   "outputs": [],
   "source": [
    "hs.getfieldvals(allfpost,'origexp')"
   ]
  },
  {
   "cell_type": "code",
   "execution_count": null,
   "metadata": {
    "collapsed": true
   },
   "outputs": [],
   "source": [
    "# give nices names to the experiment (for the plot)\n",
    "hs.addfield(allfpost,'expname',['AG-post','EWF-post','PGP-post','UKTwins-post'])"
   ]
  },
  {
   "cell_type": "code",
   "execution_count": null,
   "metadata": {
    "collapsed": false
   },
   "outputs": [],
   "source": [
    "sn.set_style(\"white\",{'legend.frameon':True})\n",
    "sn.set_context(\"notebook\")"
   ]
  },
  {
   "cell_type": "code",
   "execution_count": null,
   "metadata": {
    "collapsed": false
   },
   "outputs": [],
   "source": [
    "# plot the taxonomy bar graph (normalized to 100% per study). Use same phylum order as previous taxonomy plot\n",
    "hs.plottaxonomybar(allfpost,sortfield='expname',showlegend=False,showxlabels=True,rotation=0,sumone=True,taxorder=taxlist.tax)"
   ]
  },
  {
   "cell_type": "code",
   "execution_count": null,
   "metadata": {
    "collapsed": true
   },
   "outputs": [],
   "source": [
    "plt.savefig('../results/fig2C_taxonomy-4exp-withfiltering-8.pdf')"
   ]
  },
  {
   "cell_type": "markdown",
   "metadata": {},
   "source": [
    "## and for the legend"
   ]
  },
  {
   "cell_type": "code",
   "execution_count": null,
   "metadata": {
    "collapsed": false
   },
   "outputs": [],
   "source": [
    "# plot with legend (we just cut out the legend in the figure)\n",
    "hs.plottaxonomybar(allfpre,sortfield='expname',showlegend=True,showxlabels=True,rotation=0,sumone=True)"
   ]
  },
  {
   "cell_type": "code",
   "execution_count": null,
   "metadata": {
    "collapsed": true
   },
   "outputs": [],
   "source": [
    "plt.savefig('../results/fig2C_taxonomy-4exp-forlegend.pdf')"
   ]
  },
  {
   "cell_type": "markdown",
   "metadata": {
    "collapsed": true
   },
   "source": [
    "In conclusion, we can take advantage of the microbes identified to be blooming in previous studies, combined with comparison between shipped and fresh frozen samples, to identify candidate taxa that bloom in storage conditions in the American Gut project.\n",
    "\n",
    "An advantage of performing such analysis on a sub-OTU level (i.e. the output of the Deblur algorithm), is that we can identify and remove the exact blooming bacterial sequences, whereas using traditional OTU based methods would require removal of the blooming bacteria and all close sequences, which can lead to much higher numbers of bacteria removed.\n",
    "\n",
    "Note that choosing the number of candidate blooming bacteria to remove is a type-1/type-2 balance. Removal of more bacteria will reduce the effect of shipment, at the cost of losing more bacteria for analysis.\n",
    "\n",
    "While all bacteria may change during shipment, it seems only a small number of them exhibit a drastic growth. By removal of as little as the top 8 blooming bacteria, we can greatly reduce the effect of shipment. This leads to a great reduction in the noise within American Gut samples (since not all samples are undergo the same shipment conditions/duration), as well as enable comparison to other, fresh frozen studies.\n"
   ]
  },
  {
   "cell_type": "markdown",
   "metadata": {
    "collapsed": true
   },
   "source": [
    "# References\n",
    "<ol><li><a id='1'></a>Song, S.J., Amir, A.; Metcalf, J.L.; Amato, K.R.; Xu, Z.Z.; Humphrey, G.; Knight, R. (2016). \"<a href=\"http://msystems.asm.org/content/1/3/e00021-16\">Preservation Methods Differ in Fecal Microbiome Stability, Affecting Suitability for Field Studies</a>. <em>mSystems</em>. 1: e00021-16\n",
    "</li><li><a id=\"2\"></a>Sinha, R.; Chen, J.; Amir, A,; Vogtmann, E.; Shi, J.; Inman, K.S.; Flores, R.; Sampson, J.; Knight, R.; Chia, N. (2016) \"<a href=\"https://www.ncbi.nlm.nih.gov/pubmed/26604270\">Collecting fecal samples for microbiome analyses in epidemiology studies.</a>\" <em>Cancer Epidemiol Biomarkers Prev</em> 25: 407-416.\n",
    "</li><li><a id=\"3\"></a>Goodrich, J.K.; Waters, J.L.; Poole, A.C.; Sutter, J.L.; Blekhman, R.; Beaumont, M.; Van Treuren, W.; Knight, R.; Bell, J.T.; Spector, T.D.; Clark, A.G.; Ley, R.E. (2014). \"<a href=\"https://www.ncbi.nlm.nih.gov/pubmed/25417156\">Human genetics shape the gut microbiome</a>.\" <em>Cell</em>. 159: 789-799.\n",
    "</li><li><a id=\"4\"></a>Vitaglione, P.; Mennella, I.; Ferracane, R.; Rivellese, A.A.; Giacco, R.; Ercolini, D.; Gibbons, S.; La Storia, A.; Gilbert, J.A.; Jonnalagadda, S.; Thielecke, F.; Galo, M.A.; Scalfi, L.; Fogliano, V. (2015). \"<a href=\"https://www.ncbi.nlm.nih.gov/pubmed/25646321\">Whole-grain wheat consumption reduces inflammation in a randomized controlled trial on overweight and obese subjects with unhealthy dietary and lifestyle behaviors: role of polyphenols bound to cereal dietary fiber</a>.\" <em>Am J Clin Nutr</em> 101: 251-261.\n",
    "</li><li><a id=\"5\"></a>Mandal, S.; Van Treuren, W.; White, R.A.; Eggesbo, M.; Knight, R.; Peddada, S.D (2015) \"<a href=\"https://www.ncbi.nlm.nih.gov/pubmed/26028277\">Analysis of composition of microbiomes: a novel method for studying microbial composition</a>.\" <em>Microb Ecol Health Dis</em> 29:27663.\n",
    "</li></ol>"
   ]
  },
  {
   "cell_type": "code",
   "execution_count": null,
   "metadata": {
    "collapsed": true
   },
   "outputs": [],
   "source": []
  }
 ],
 "metadata": {
  "anaconda-cloud": {},
  "kernelspec": {
   "display_name": "Python [conda env:bloom]",
   "language": "python",
   "name": "conda-env-bloom-py"
  },
  "language_info": {
   "codemirror_mode": {
    "name": "ipython",
    "version": 3
   },
   "file_extension": ".py",
   "mimetype": "text/x-python",
   "name": "python",
   "nbconvert_exporter": "python",
   "pygments_lexer": "ipython3",
   "version": "3.5.2"
  }
 },
 "nbformat": 4,
 "nbformat_minor": 0
}
